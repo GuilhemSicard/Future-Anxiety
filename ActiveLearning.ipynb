{
 "cells": [
  {
   "cell_type": "code",
   "execution_count": 4,
   "id": "3d2a3a4f",
   "metadata": {},
   "outputs": [],
   "source": [
    "import pandas as pd \n",
    "from sklearn.feature_extraction.text import CountVectorizer\n",
    "from transformers import AutoTokenizer, AutoModel\n",
    "from sklearn.neighbors import KNeighborsClassifier\n",
    "from sklearn.ensemble import RandomForestClassifier\n",
    "from sklearn.svm import SVC, LinearSVC\n",
    "from sklearn.dummy import DummyClassifier\n",
    "from sklearn.neural_network import MLPClassifier\n",
    "from sklearn.model_selection import StratifiedShuffleSplit, train_test_split\n",
    "from sklearn.metrics import balanced_accuracy_score, f1_score\n",
    "from sklearn.base import clone\n",
    "import plotly.graph_objects as go\n",
    "import plotly.express as px\n",
    "from plotly.subplots import make_subplots\n",
    "import numpy as np\n",
    "import torch\n",
    "import gc\n",
    "import tensorflow as tf\n",
    "from tensorflow import keras\n",
    "from tensorflow.keras.losses import BinaryCrossentropy\n",
    "from tensorflow.keras.optimizers import Adam\n",
    "from tensorflow.keras.optimizers.schedules import ExponentialDecay\n",
    "from tensorflow.keras.optimizers.experimental import AdamW\n",
    "from tensorflow.keras.layers import Dense,GRU, Dropout, LayerNormalization, Concatenate, Conv1D, Flatten,Reshape\n",
    "from tensorflow.keras.callbacks import EarlyStopping\n",
    "from tensorflow.keras.models import clone_model\n",
    "from keras_nlp.layers import TransformerEncoder\n",
    "\n",
    "from tqdm import tqdm"
   ]
  },
  {
   "cell_type": "code",
   "execution_count": 3,
   "id": "b02b44f1",
   "metadata": {},
   "outputs": [
    {
     "name": "stdout",
     "output_type": "stream",
     "text": [
      "Model: \"model_1\"\n",
      "__________________________________________________________________________________________________\n",
      " Layer (type)                   Output Shape         Param #     Connected to                     \n",
      "==================================================================================================\n",
      " input_3 (InputLayer)           [(None, 256, 768)]   0           []                               \n",
      "                                                                                                  \n",
      " transformer_encoder_3 (Transfo  (None, 256, 768)    3153152     ['input_3[0][0]']                \n",
      " rmerEncoder)                                                                                     \n",
      "                                                                                                  \n",
      " transformer_encoder_4 (Transfo  (None, 256, 768)    3153152     ['transformer_encoder_3[0][0]']  \n",
      " rmerEncoder)                                                                                     \n",
      "                                                                                                  \n",
      " input_4 (InputLayer)           [(None, 768)]        0           []                               \n",
      "                                                                                                  \n",
      " transformer_encoder_5 (Transfo  (None, 256, 768)    3153152     ['transformer_encoder_4[0][0]']  \n",
      " rmerEncoder)                                                                                     \n",
      "                                                                                                  \n",
      " dense_12 (Dense)               (None, 512)          393728      ['input_4[0][0]']                \n",
      "                                                                                                  \n",
      " gru_1 (GRU)                    (None, 512)          1969152     ['transformer_encoder_5[0][0]']  \n",
      "                                                                                                  \n",
      " layer_normalization_3 (LayerNo  (None, 512)         1024        ['dense_12[0][0]']               \n",
      " rmalization)                                                                                     \n",
      "                                                                                                  \n",
      " layer_normalization_2 (LayerNo  (None, 512)         1024        ['gru_1[0][0]']                  \n",
      " rmalization)                                                                                     \n",
      "                                                                                                  \n",
      " dense_13 (Dense)               (None, 256)          131328      ['layer_normalization_3[0][0]']  \n",
      "                                                                                                  \n",
      " dense_9 (Dense)                (None, 256)          131328      ['layer_normalization_2[0][0]']  \n",
      "                                                                                                  \n",
      " dropout_4 (Dropout)            (None, 256)          0           ['dense_13[0][0]']               \n",
      "                                                                                                  \n",
      " dropout_3 (Dropout)            (None, 256)          0           ['dense_9[0][0]']                \n",
      "                                                                                                  \n",
      " dense_14 (Dense)               (None, 256)          65792       ['dropout_4[0][0]']              \n",
      "                                                                                                  \n",
      " dense_10 (Dense)               (None, 256)          65792       ['dropout_3[0][0]']              \n",
      "                                                                                                  \n",
      " reshape_3 (Reshape)            (None, 1, 256)       0           ['dense_14[0][0]']               \n",
      "                                                                                                  \n",
      " reshape_2 (Reshape)            (None, 1, 256)       0           ['dense_10[0][0]']               \n",
      "                                                                                                  \n",
      " concatenate_1 (Concatenate)    (None, 2, 256)       0           ['reshape_3[0][0]',              \n",
      "                                                                  'reshape_2[0][0]']              \n",
      "                                                                                                  \n",
      " conv1d_1 (Conv1D)              (None, 1, 128)       65664       ['concatenate_1[0][0]']          \n",
      "                                                                                                  \n",
      " flatten_1 (Flatten)            (None, 128)          0           ['conv1d_1[0][0]']               \n",
      "                                                                                                  \n",
      " dense_15 (Dense)               (None, 128)          16512       ['flatten_1[0][0]']              \n",
      "                                                                                                  \n",
      " dropout_5 (Dropout)            (None, 128)          0           ['dense_15[0][0]']               \n",
      "                                                                                                  \n",
      " dense_16 (Dense)               (None, 64)           8256        ['dropout_5[0][0]']              \n",
      "                                                                                                  \n",
      " dense_17 (Dense)               (None, 1)            65          ['dense_16[0][0]']               \n",
      "                                                                                                  \n",
      "==================================================================================================\n",
      "Total params: 12,309,121\n",
      "Trainable params: 12,309,121\n",
      "Non-trainable params: 0\n",
      "__________________________________________________________________________________________________\n"
     ]
    }
   ],
   "source": [
    "tokEmbs = tf.keras.Input(shape=(256,768))\n",
    "docEmbs = tf.keras.Input(shape=(768,))\n",
    "\n",
    "x = TransformerEncoder(intermediate_dim=512, num_heads=8, dropout=0.2)(tokEmbs)\n",
    "x = TransformerEncoder(intermediate_dim=512, num_heads=8, dropout=0.2)(x)\n",
    "x = TransformerEncoder(intermediate_dim=512, num_heads=8, dropout=0.2)(x)\n",
    "x = GRU(units=512)(x)\n",
    "x = LayerNormalization()(x)\n",
    "x = Dense(256,activation='relu')(x)\n",
    "x = Dropout(0.2)(x)\n",
    "x = Dense(256,activation='relu')(x)\n",
    "x = Reshape((1,-1))(x)\n",
    "\n",
    "y = Dense(768,activation='relu')(docEmbs)\n",
    "y = Dense(512,activation='relu')(docEmbs)\n",
    "y = LayerNormalization()(y)\n",
    "y = Dense(256,activation='relu')(y)\n",
    "y = Dropout(0.2)(y)\n",
    "y = Dense(256,activation='relu')(y)\n",
    "y = Reshape((1,-1))(y)\n",
    "\n",
    "z = Concatenate(axis=1)([y,x])\n",
    "z = Conv1D(filters=128,kernel_size = 2)(z)\n",
    "z = Flatten()(z)\n",
    "\n",
    "z = Dense(128,activation='relu')(z)\n",
    "z = Dropout(0.2)(z)\n",
    "z = Dense(64,activation='relu')(z)\n",
    "z = Dense(1,activation='sigmoid')(z)\n",
    "\n",
    "MixModel = tf.keras.Model(inputs=[tokEmbs,docEmbs], outputs=z)\n",
    "\n",
    "MixModel.summary()"
   ]
  },
  {
   "cell_type": "code",
   "execution_count": 5,
   "id": "ec2877c0",
   "metadata": {},
   "outputs": [
    {
     "name": "stdout",
     "output_type": "stream",
     "text": [
      "Model: \"model_2\"\n",
      "__________________________________________________________________________________________________\n",
      " Layer (type)                   Output Shape         Param #     Connected to                     \n",
      "==================================================================================================\n",
      " input_5 (InputLayer)           [(None, 256, 768)]   0           []                               \n",
      "                                                                                                  \n",
      " transformer_encoder_6 (Transfo  (None, 256, 768)    3153152     ['input_5[0][0]']                \n",
      " rmerEncoder)                                                                                     \n",
      "                                                                                                  \n",
      " transformer_encoder_7 (Transfo  (None, 256, 768)    3153152     ['transformer_encoder_6[0][0]']  \n",
      " rmerEncoder)                                                                                     \n",
      "                                                                                                  \n",
      " transformer_encoder_8 (Transfo  (None, 256, 768)    3153152     ['transformer_encoder_7[0][0]']  \n",
      " rmerEncoder)                                                                                     \n",
      "                                                                                                  \n",
      " gru_2 (GRU)                    (None, 512)          1969152     ['transformer_encoder_8[0][0]']  \n",
      "                                                                                                  \n",
      " layer_normalization_4 (LayerNo  (None, 512)         1024        ['gru_2[0][0]']                  \n",
      " rmalization)                                                                                     \n",
      "                                                                                                  \n",
      " dense_18 (Dense)               (None, 256)          131328      ['layer_normalization_4[0][0]']  \n",
      "                                                                                                  \n",
      " dropout_6 (Dropout)            (None, 256)          0           ['dense_18[0][0]']               \n",
      "                                                                                                  \n",
      " dense_19 (Dense)               (None, 256)          65792       ['dropout_6[0][0]']              \n",
      "                                                                                                  \n",
      " dense_20 (Dense)               (None, 128)          32896       ['dense_19[0][0]']               \n",
      "                                                                                                  \n",
      " dropout_7 (Dropout)            (None, 128)          0           ['dense_20[0][0]']               \n",
      "                                                                                                  \n",
      " dense_21 (Dense)               (None, 64)           8256        ['dropout_7[0][0]']              \n",
      "                                                                                                  \n",
      " input_6 (InputLayer)           [(None, 768)]        0           []                               \n",
      "                                                                                                  \n",
      " dense_22 (Dense)               (None, 1)            65          ['dense_21[0][0]']               \n",
      "                                                                                                  \n",
      "==================================================================================================\n",
      "Total params: 11,667,969\n",
      "Trainable params: 11,667,969\n",
      "Non-trainable params: 0\n",
      "__________________________________________________________________________________________________\n"
     ]
    }
   ],
   "source": [
    "tokEmbs = tf.keras.Input(shape=(256,768))\n",
    "docEmbs = tf.keras.Input(shape=(768,))\n",
    "\n",
    "x = TransformerEncoder(intermediate_dim=512, num_heads=8, dropout=0.2)(tokEmbs)\n",
    "x = TransformerEncoder(intermediate_dim=512, num_heads=8, dropout=0.2)(x)\n",
    "x = TransformerEncoder(intermediate_dim=512, num_heads=8, dropout=0.2)(x)\n",
    "x = GRU(units=512)(x)\n",
    "x = LayerNormalization()(x)\n",
    "x = Dense(256,activation='relu')(x)\n",
    "x = Dropout(0.2)(x)\n",
    "x = Dense(256,activation='relu')(x)\n",
    "\n",
    "x = Dense(128,activation='relu')(x)\n",
    "x = Dropout(0.2)(x)\n",
    "x = Dense(64,activation='relu')(x)\n",
    "x = Dense(1,activation='sigmoid')(x)\n",
    "\n",
    "TokModel = tf.keras.Model(inputs=[tokEmbs,docEmbs], outputs=x)\n",
    "\n",
    "TokModel.summary()"
   ]
  },
  {
   "cell_type": "code",
   "execution_count": 6,
   "id": "186b4db9",
   "metadata": {},
   "outputs": [
    {
     "name": "stdout",
     "output_type": "stream",
     "text": [
      "Model: \"model_3\"\n",
      "__________________________________________________________________________________________________\n",
      " Layer (type)                   Output Shape         Param #     Connected to                     \n",
      "==================================================================================================\n",
      " input_8 (InputLayer)           [(None, 768)]        0           []                               \n",
      "                                                                                                  \n",
      " dense_23 (Dense)               (None, 768)          590592      ['input_8[0][0]']                \n",
      "                                                                                                  \n",
      " dense_24 (Dense)               (None, 512)          393728      ['dense_23[0][0]']               \n",
      "                                                                                                  \n",
      " layer_normalization_5 (LayerNo  (None, 512)         1024        ['dense_24[0][0]']               \n",
      " rmalization)                                                                                     \n",
      "                                                                                                  \n",
      " dense_25 (Dense)               (None, 256)          131328      ['layer_normalization_5[0][0]']  \n",
      "                                                                                                  \n",
      " dropout_8 (Dropout)            (None, 256)          0           ['dense_25[0][0]']               \n",
      "                                                                                                  \n",
      " dense_26 (Dense)               (None, 256)          65792       ['dropout_8[0][0]']              \n",
      "                                                                                                  \n",
      " dense_27 (Dense)               (None, 128)          32896       ['dense_26[0][0]']               \n",
      "                                                                                                  \n",
      " dropout_9 (Dropout)            (None, 128)          0           ['dense_27[0][0]']               \n",
      "                                                                                                  \n",
      " dense_28 (Dense)               (None, 64)           8256        ['dropout_9[0][0]']              \n",
      "                                                                                                  \n",
      " input_7 (InputLayer)           [(None, 256, 768)]   0           []                               \n",
      "                                                                                                  \n",
      " dense_29 (Dense)               (None, 1)            65          ['dense_28[0][0]']               \n",
      "                                                                                                  \n",
      "==================================================================================================\n",
      "Total params: 1,223,681\n",
      "Trainable params: 1,223,681\n",
      "Non-trainable params: 0\n",
      "__________________________________________________________________________________________________\n"
     ]
    }
   ],
   "source": [
    "tokEmbs = tf.keras.Input(shape=(256,768))\n",
    "docEmbs = tf.keras.Input(shape=(768,))\n",
    "\n",
    "y = Dense(768,activation='relu')(docEmbs)\n",
    "y = Dense(512,activation='relu')(y)\n",
    "y = LayerNormalization()(y)\n",
    "y = Dense(256,activation='relu')(y)\n",
    "y = Dropout(0.2)(y)\n",
    "y = Dense(256,activation='relu')(y)\n",
    "\n",
    "y = Dense(128,activation='relu')(y)\n",
    "y = Dropout(0.2)(y)\n",
    "y = Dense(64,activation='relu')(y)\n",
    "y = Dense(1,activation='sigmoid')(y)\n",
    "\n",
    "DocModel = tf.keras.Model(inputs=[tokEmbs,docEmbs], outputs=y)\n",
    "\n",
    "DocModel.summary()"
   ]
  },
  {
   "cell_type": "code",
   "execution_count": 7,
   "id": "f16af1ec",
   "metadata": {},
   "outputs": [],
   "source": [
    "labelled  =pd.read_csv('data/labels(1).csv')\n",
    "labelled = labelled.sort_values('label').drop_duplicates('blockID')"
   ]
  },
  {
   "cell_type": "code",
   "execution_count": 8,
   "id": "b391a4b0",
   "metadata": {},
   "outputs": [
    {
     "name": "stderr",
     "output_type": "stream",
     "text": [
      "Some weights of the model checkpoint at dbmdz/bert-base-french-europeana-cased were not used when initializing BertModel: ['cls.predictions.bias', 'cls.predictions.transform.dense.bias', 'cls.seq_relationship.bias', 'cls.seq_relationship.weight', 'cls.predictions.decoder.bias', 'cls.predictions.transform.LayerNorm.bias', 'cls.predictions.decoder.weight', 'cls.predictions.transform.dense.weight', 'cls.predictions.transform.LayerNorm.weight']\n",
      "- This IS expected if you are initializing BertModel from the checkpoint of a model trained on another task or with another architecture (e.g. initializing a BertForSequenceClassification model from a BertForPreTraining model).\n",
      "- This IS NOT expected if you are initializing BertModel from the checkpoint of a model that you expect to be exactly identical (initializing a BertForSequenceClassification model from a BertForSequenceClassification model).\n"
     ]
    },
    {
     "data": {
      "text/plain": [
       "''"
      ]
     },
     "execution_count": 8,
     "metadata": {},
     "output_type": "execute_result"
    }
   ],
   "source": [
    "tokenizer = AutoTokenizer.from_pretrained(\"dbmdz/bert-base-french-europeana-cased\")\n",
    "model =  AutoModel.from_pretrained('dbmdz/bert-base-french-europeana-cased')\n",
    "model.to('cuda:1')\n",
    "''"
   ]
  },
  {
   "cell_type": "code",
   "execution_count": 9,
   "id": "d95dedfe",
   "metadata": {},
   "outputs": [],
   "source": [
    "def getTokens(text):\n",
    "    tokens = tokenizer.encode(text, add_special_tokens=False)\n",
    "    if len(tokens)>256:\n",
    "        while tokens[-1] !=3 and len(tokens)>256:\n",
    "            tokens = tokens[:-1]\n",
    "        while len(tokens)>256:\n",
    "            tokens = tokens[:-2]\n",
    "            tokens.append(3)\n",
    "    elif len(tokens)<256:\n",
    "        tokens+=[0]*(256-len(tokens))\n",
    "    return tokens\n",
    "\n",
    "def getEmbeds(tokens):\n",
    "    tokEmbs = []\n",
    "    docEmbs = []\n",
    "    batchSize = 32\n",
    "    attention_mask = torch.tensor([[1 if tok>0 else 0 for tok in toks] for toks in tokens]).type('torch.ShortTensor').to('cuda:1')\n",
    "    tokens = torch.tensor(tokens).type('torch.IntTensor').to('cuda:1')\n",
    "    with torch.no_grad():\n",
    "        for batch in range(0,len(tokens),batchSize):\n",
    "\n",
    "            output = model(input_ids=tokens[batch:batch+batchSize],\n",
    "                            attention_mask=attention_mask[batch:batch+batchSize],\n",
    "                            output_hidden_states=False,#True,\n",
    "                            output_attentions=False)\n",
    "\n",
    "            tEmbs = output.last_hidden_state#(sum(output.hidden_states[-4:])/4)\n",
    "            tokEmbs.extend([tEmbs[ind,:,:].cpu().numpy().astype('float16')\n",
    "                            for ind in range(len(tEmbs))])\n",
    "            docEmbs.extend(list(output.pooler_output.cpu().numpy().astype('float16')))\n",
    "            del output, tEmbs\n",
    "            torch.cuda.empty_cache()\n",
    "    return (docEmbs, tokEmbs,[mask for mask in attention_mask.cpu().numpy()])\n",
    "\n",
    "def setBinaryLabel(label):\n",
    "    if label.isnumeric():\n",
    "        topic = int(label[1:-1]) if len(label) > 1 else 0\n",
    "    else : \n",
    "        return label\n",
    "    relevants = [1,2,4,6,8]\n",
    "    return 1 if topic in relevants else 0"
   ]
  },
  {
   "cell_type": "code",
   "execution_count": 10,
   "id": "9547c3e6",
   "metadata": {},
   "outputs": [],
   "source": [
    "labelled['tokens'] = labelled['text'].apply(getTokens)"
   ]
  },
  {
   "cell_type": "code",
   "execution_count": 21,
   "id": "75c50c70",
   "metadata": {},
   "outputs": [],
   "source": [
    "#model.to\n",
    "labelled['docEmbs'], labelled['tokEmbs'],  labelled['mask'] = getEmbeds(np.array(labelled['tokens'].tolist()))"
   ]
  },
  {
   "cell_type": "code",
   "execution_count": 22,
   "id": "271ac949",
   "metadata": {},
   "outputs": [],
   "source": [
    "labelled.to_pickle('data/labelled.bz')"
   ]
  },
  {
   "cell_type": "code",
   "execution_count": 11,
   "id": "4e17aea6",
   "metadata": {},
   "outputs": [],
   "source": [
    "labelled = pd.read_pickle('data/labelled.bz')"
   ]
  },
  {
   "cell_type": "code",
   "execution_count": 12,
   "id": "6a5bc1e4",
   "metadata": {},
   "outputs": [],
   "source": [
    "labelled['label'] = labelled['label'].apply(setBinaryLabel)"
   ]
  },
  {
   "cell_type": "code",
   "execution_count": 13,
   "id": "2848a831",
   "metadata": {},
   "outputs": [
    {
     "data": {
      "text/plain": [
       "0          116\n",
       "1           45\n",
       "ABSTAIN      3\n",
       "Name: label, dtype: int64"
      ]
     },
     "execution_count": 13,
     "metadata": {},
     "output_type": "execute_result"
    }
   ],
   "source": [
    "labelled[labelled.SUBSET == 'raw']['label'].value_counts()"
   ]
  },
  {
   "cell_type": "code",
   "execution_count": 27,
   "id": "fbab279f",
   "metadata": {},
   "outputs": [
    {
     "data": {
      "text/plain": [
       "array([0, 1, 1])"
      ]
     },
     "execution_count": 27,
     "metadata": {},
     "output_type": "execute_result"
    }
   ],
   "source": [
    "((tf.convert_to_tensor([1,2,3],dtype='float32')>1)).numpy()*1"
   ]
  },
  {
   "cell_type": "code",
   "execution_count": 57,
   "id": "83ff4870",
   "metadata": {},
   "outputs": [],
   "source": [
    "\n",
    "class ModelComparator:\n",
    "    def __init__(self):\n",
    "        \n",
    "        self.class_weight = {0:1,1:3}\n",
    "        self.sklearnModel = {'random':DummyClassifier(strategy ='stratified'),\n",
    "                             'knn':KNeighborsClassifier(),\n",
    "                             'baseMLP':MLPClassifier(512,max_iter=300),\n",
    "                             'RF':RandomForestClassifier(class_weight = 'balanced',max_features=None),\n",
    "                             'linSVC' : LinearSVC(class_weight=self.class_weight)}\n",
    "        self.kerasModel = {'DocModel': DocModel,\n",
    "                           'TokModel': TokModel,\n",
    "                           'MixModel': MixModel}\n",
    "        #self.kerasModel = {'MixModel1': (MixModel, 1e-4,0.995),\n",
    "        #                   'MixModel2': (MixModel,5e-5, 0.995),\n",
    "        #                   'MixModel3': (MixModel,5e-5, 0.99)}\n",
    "        \n",
    "    def setScorer(self,fracs=[]):\n",
    "        self.score = {model:{'f1':{f:[] for f in fracs},'bal_acc':{f:[] for f in fracs}} \n",
    "                      for model in list(self.sklearnModel.keys()) + list(self.kerasModel.keys())}\n",
    "        \n",
    "        \n",
    "        \n",
    "    def findBestEpochs(self, df,epochs = [5,10,15], testSize = 30,nSplit = 5):\n",
    "        self.epochScore = {model:{'f1':{f:[] for f in epochs},\n",
    "                                  'bal_acc':{f:[] for f in epochs}} \n",
    "                           for model in  list(self.kerasModel.keys())}\n",
    "        df = pd.concat([df[df.label == 1],df[df.label == 0]])\n",
    "        lenDf = len(df)\n",
    "\n",
    "        docEmbs,tokEmbs,label = (np.array(df[x].tolist()) for x in ['docEmbs','tokEmbs','label'])\n",
    "        nTrain = lenDf-testSize\n",
    "        sss = StratifiedShuffleSplit(n_splits = nSplit, \n",
    "                                     train_size = nTrain)\n",
    "        \n",
    "        for trainInd, testInd in  tqdm(sss.split(X = np.zeros(lenDf), y=df.label.tolist())):\n",
    "\n",
    "            #test set for model evaluation\n",
    "            docTest = tf.convert_to_tensor(docEmbs[testInd],dtype='float32')\n",
    "            tokTest = tf.convert_to_tensor(tokEmbs[testInd],dtype='float32')\n",
    "            labelTest = tf.convert_to_tensor(label[testInd],dtype='float32')\n",
    "            \n",
    "            #train set \n",
    "            docTrain = tf.convert_to_tensor(docEmbs[trainInd],dtype='float32')\n",
    "            tokTrain = tf.convert_to_tensor(tokEmbs[trainInd],dtype='float32')\n",
    "            labelTrain = tf.convert_to_tensor(label[trainInd],dtype='float32')\n",
    "            \n",
    "            for modelName in self.kerasModel:\n",
    "                batch_size=8\n",
    "                model = clone_model(self.kerasModel[modelName])\n",
    "                last_epoch=0\n",
    "                opt = Adam(learning_rate = self.kerasModel[modelName][1],epsilon=1e-9,beta_2 =self.kerasModel[modelName][2])\n",
    "                model.compile(optimizer=opt,\n",
    "                              loss =BinaryCrossentropy(),\n",
    "                              weighted_metrics =[BinaryCrossentropy()])\n",
    "                \n",
    "                for epoch in epochs:\n",
    "                    model.fit([tokTrain,docTrain],labelTrain,\n",
    "                              batch_size=batch_size,\n",
    "                              epochs=epoch,\n",
    "                              initial_epoch = last_epoch,\n",
    "                              class_weight=self.class_weight,\n",
    "                              verbose = 2)\n",
    "\n",
    "                    prediction = model.predict_on_batch([tokTest,docTest])\n",
    "                    prediction = (prediction>0.5)*1\n",
    "\n",
    "                    self.epochScore[modelName]['f1'][epoch].append(f1_score(labelTest,prediction))\n",
    "                    self.epochScore[modelName]['bal_acc'][epoch].append(balanced_accuracy_score(labelTest,prediction))\n",
    "                    last_epoch=epoch\n",
    "        \n",
    "    def trainAll(self,df,fracs=[],valSize = 0, testSize =30, nSplit = 10):\n",
    "        if len(fracs)==0:\n",
    "            fracs=[1]\n",
    "        self.fracs = fracs\n",
    "        self.setScorer(fracs)\n",
    "        df = pd.concat([df[df.label == 1],df[df.label == 0]])\n",
    "        lenDf = len(df)\n",
    "        \n",
    "        docEmbs = np.array(df.docEmbs.tolist())\n",
    "        tokEmbs = np.array(df.tokEmbs.tolist())\n",
    "        label = np.array(df.label.tolist())\n",
    "            \n",
    "        sss = StratifiedShuffleSplit(n_splits = nSplit, \n",
    "                                     test_size = testSize)\n",
    "        \n",
    "        for trainInd, testInd in  sss.split(X = np.zeros(lenDf), y=df.label.tolist()):\n",
    "\n",
    "            #test set for model evaluation\n",
    "            docTest = tf.convert_to_tensor(docEmbs[testInd],dtype='float32')\n",
    "            tokTest = tf.convert_to_tensor(tokEmbs[testInd],dtype='float32')\n",
    "            labelTest = label[testInd]\n",
    "            \n",
    "            # get validation set to monitor training\n",
    "            if (valSize>0):\n",
    "                valSplit = train_test_split(docEmbs[trainInd],tokEmbs[trainInd],\n",
    "                                            label[trainInd],\n",
    "                                            test_size = valSize,\n",
    "                                            stratify = label[trainInd])\n",
    "                (docTrainFull, docVal, \n",
    "                 tokTrainFull, tokVal,  \n",
    "                 labelTrainFull, labelVal) = (tf.convert_to_tensor(vecs,dtype='float32') for vecs in valSplit)\n",
    "\n",
    "                valSampleWeights = labelVal*self.class_weight[1] + (1-labelVal)*self.class_weight[0]\n",
    "            else : \n",
    "                docTrainFull=docEmbs[trainInd]\n",
    "                tokTrainFull=tokEmbs[trainInd]\n",
    "                labelTrainFull=label[trainInd]\n",
    "            \n",
    "            for frac in fracs:\n",
    "                # train given frac ratio\n",
    "                if frac<1:\n",
    "                    trainSplit = train_test_split(np.array(docTrainFull),np.array(tokTrainFull),\n",
    "                                                  np.array(labelTrainFull),\n",
    "                                                  train_size = int(frac*len(labelTrainFull)),\n",
    "                                                  stratify = labelTrainFull)\n",
    "\n",
    "                    (docTrain, _, \n",
    "                     tokTrain, _, \n",
    "                     labelTrain, _) = (tf.convert_to_tensor(vecs,dtype='float32') for vecs in trainSplit)\n",
    "                else: \n",
    "                    (docTrain, tokTrain, labelTrain) = (docTrainFull,tokTrainFull,labelTrainFull)\n",
    "                \n",
    "                for modelName in self.sklearnModel:\n",
    "                    model = clone(self.sklearnModel[modelName]).fit(docTrain,labelTrain)\n",
    "                    prediction = model.predict(docTest)\n",
    "                    \n",
    "                    self.score[modelName]['f1'][frac].append(f1_score(labelTest,prediction))\n",
    "                    self.score[modelName]['bal_acc'][frac].append(balanced_accuracy_score(labelTest,prediction))\n",
    "                    del model\n",
    "                for modelName in self.kerasModel:\n",
    "                    model = clone_model(self.kerasModel[modelName])\n",
    "                    epochs = 25\n",
    "                    batch_size = 8\n",
    "                    if modelName=='MixModelVal':\n",
    "                        model.compile(optimizer=Adam(learning_rate = 1e-4,epsilon=1e-9,beta_2=0.995),\n",
    "                                      loss =BinaryCrossentropy(),\n",
    "                                      weighted_metrics =[BinaryCrossentropy()])\n",
    "                        model.fit([tokTrain,docTrain],labelTrain,\n",
    "                                  validation_data = ([tokVal,docVal],labelVal,valSampleWeights),\n",
    "                                  batch_size=batch_size,\n",
    "                                  validation_batch_size = valSize,\n",
    "                                  epochs=epochs,\n",
    "                                  class_weight=self.class_weight,\n",
    "                                  verbose = 0,\n",
    "                                  callbacks = [EarlyStopping(monitor = 'val_binary_crossentropy', \n",
    "                                                             mode = 'min',\n",
    "                                                             patience=10, \n",
    "                                                             restore_best_weights=True,\n",
    "                                                             start_from_epoch = 5,\n",
    "                                                             verbose = 0)])\n",
    "                    else:\n",
    "                        model.compile(optimizer=Adam(learning_rate = 1e-4,epsilon=1e-9,beta_2=0.995),\n",
    "                                      loss =BinaryCrossentropy(),\n",
    "                                      weighted_metrics =[BinaryCrossentropy()])\n",
    "                        model.fit([tokTrain,docTrain],labelTrain,\n",
    "                                  batch_size=batch_size,\n",
    "                                  epochs=epochs,\n",
    "                                  initial_epoch = 10,\n",
    "                                  class_weight=self.class_weight,\n",
    "                                  verbose = 0)\n",
    "                        \n",
    "                    prediction = model.predict_on_batch([tokTest,docTest])\n",
    "                    prediction = np.hstack((prediction>0.5)*1)\n",
    "                    self.score[modelName]['f1'][frac].append(f1_score(labelTest,prediction))\n",
    "                    self.score[modelName]['bal_acc'][frac].append(balanced_accuracy_score(labelTest,prediction))\n",
    "                    del model\n",
    "                    \n",
    "\n",
    "    \n",
    "    def plotScores(self):\n",
    "        fig = make_subplots(rows=2, cols=1)\n",
    "        for ind, scoreMetric in enumerate(['f1','bal_acc']): \n",
    "            for frac in self.fracs:\n",
    "                fig.add_trace(go.Bar(\n",
    "                    name=frac,\n",
    "                    x=[model for model in self.score], \n",
    "                    y=[np.mean(self.score[model][scoreMetric][frac]) for model in self.score],\n",
    "                    error_y=dict(type='data', \n",
    "                                 array =[np.std(self.score[model][scoreMetric][frac]) \n",
    "                                         for model in self.score])), row=ind+1, col=1)\n",
    "            \n",
    "        fig.update_layout(barmode='group')\n",
    "        fig.show()\n",
    "        \n",
    "mc = ModelComparator()"
   ]
  },
  {
   "cell_type": "code",
   "execution_count": 62,
   "id": "0ee7b7be",
   "metadata": {},
   "outputs": [],
   "source": [
    "# predict tout à 0 si trop d'unbalanced\n",
    "score = mc.score\n",
    "#mc.score = score"
   ]
  },
  {
   "cell_type": "code",
   "execution_count": 198,
   "id": "af78b7fb",
   "metadata": {},
   "outputs": [],
   "source": [
    "mc = ModelComparator()"
   ]
  },
  {
   "cell_type": "code",
   "execution_count": 60,
   "id": "753a4295",
   "metadata": {},
   "outputs": [
    {
     "name": "stderr",
     "output_type": "stream",
     "text": [
      "/opt/anaconda/lib/python3.9/site-packages/sklearn/neighbors/_classification.py:228: FutureWarning:\n",
      "\n",
      "Unlike other reduction functions (e.g. `skew`, `kurtosis`), the default behavior of `mode` typically preserves the axis it acts along. In SciPy 1.11.0, this behavior will change: the default value of `keepdims` will become False, the `axis` over which the statistic is taken will be eliminated, and the value None will no longer be accepted. Set `keepdims` to True or False to avoid this warning.\n",
      "\n",
      "/opt/anaconda/lib/python3.9/site-packages/sklearn/neighbors/_classification.py:228: FutureWarning:\n",
      "\n",
      "Unlike other reduction functions (e.g. `skew`, `kurtosis`), the default behavior of `mode` typically preserves the axis it acts along. In SciPy 1.11.0, this behavior will change: the default value of `keepdims` will become False, the `axis` over which the statistic is taken will be eliminated, and the value None will no longer be accepted. Set `keepdims` to True or False to avoid this warning.\n",
      "\n",
      "/opt/anaconda/lib/python3.9/site-packages/sklearn/neighbors/_classification.py:228: FutureWarning:\n",
      "\n",
      "Unlike other reduction functions (e.g. `skew`, `kurtosis`), the default behavior of `mode` typically preserves the axis it acts along. In SciPy 1.11.0, this behavior will change: the default value of `keepdims` will become False, the `axis` over which the statistic is taken will be eliminated, and the value None will no longer be accepted. Set `keepdims` to True or False to avoid this warning.\n",
      "\n",
      "/opt/anaconda/lib/python3.9/site-packages/sklearn/neighbors/_classification.py:228: FutureWarning:\n",
      "\n",
      "Unlike other reduction functions (e.g. `skew`, `kurtosis`), the default behavior of `mode` typically preserves the axis it acts along. In SciPy 1.11.0, this behavior will change: the default value of `keepdims` will become False, the `axis` over which the statistic is taken will be eliminated, and the value None will no longer be accepted. Set `keepdims` to True or False to avoid this warning.\n",
      "\n",
      "/opt/anaconda/lib/python3.9/site-packages/sklearn/neighbors/_classification.py:228: FutureWarning:\n",
      "\n",
      "Unlike other reduction functions (e.g. `skew`, `kurtosis`), the default behavior of `mode` typically preserves the axis it acts along. In SciPy 1.11.0, this behavior will change: the default value of `keepdims` will become False, the `axis` over which the statistic is taken will be eliminated, and the value None will no longer be accepted. Set `keepdims` to True or False to avoid this warning.\n",
      "\n",
      "/opt/anaconda/lib/python3.9/site-packages/sklearn/neighbors/_classification.py:228: FutureWarning:\n",
      "\n",
      "Unlike other reduction functions (e.g. `skew`, `kurtosis`), the default behavior of `mode` typically preserves the axis it acts along. In SciPy 1.11.0, this behavior will change: the default value of `keepdims` will become False, the `axis` over which the statistic is taken will be eliminated, and the value None will no longer be accepted. Set `keepdims` to True or False to avoid this warning.\n",
      "\n",
      "/opt/anaconda/lib/python3.9/site-packages/sklearn/neighbors/_classification.py:228: FutureWarning:\n",
      "\n",
      "Unlike other reduction functions (e.g. `skew`, `kurtosis`), the default behavior of `mode` typically preserves the axis it acts along. In SciPy 1.11.0, this behavior will change: the default value of `keepdims` will become False, the `axis` over which the statistic is taken will be eliminated, and the value None will no longer be accepted. Set `keepdims` to True or False to avoid this warning.\n",
      "\n",
      "/opt/anaconda/lib/python3.9/site-packages/sklearn/neighbors/_classification.py:228: FutureWarning:\n",
      "\n",
      "Unlike other reduction functions (e.g. `skew`, `kurtosis`), the default behavior of `mode` typically preserves the axis it acts along. In SciPy 1.11.0, this behavior will change: the default value of `keepdims` will become False, the `axis` over which the statistic is taken will be eliminated, and the value None will no longer be accepted. Set `keepdims` to True or False to avoid this warning.\n",
      "\n",
      "/opt/anaconda/lib/python3.9/site-packages/sklearn/neighbors/_classification.py:228: FutureWarning:\n",
      "\n",
      "Unlike other reduction functions (e.g. `skew`, `kurtosis`), the default behavior of `mode` typically preserves the axis it acts along. In SciPy 1.11.0, this behavior will change: the default value of `keepdims` will become False, the `axis` over which the statistic is taken will be eliminated, and the value None will no longer be accepted. Set `keepdims` to True or False to avoid this warning.\n",
      "\n",
      "/opt/anaconda/lib/python3.9/site-packages/sklearn/neighbors/_classification.py:228: FutureWarning:\n",
      "\n",
      "Unlike other reduction functions (e.g. `skew`, `kurtosis`), the default behavior of `mode` typically preserves the axis it acts along. In SciPy 1.11.0, this behavior will change: the default value of `keepdims` will become False, the `axis` over which the statistic is taken will be eliminated, and the value None will no longer be accepted. Set `keepdims` to True or False to avoid this warning.\n",
      "\n",
      "/opt/anaconda/lib/python3.9/site-packages/sklearn/neighbors/_classification.py:228: FutureWarning:\n",
      "\n",
      "Unlike other reduction functions (e.g. `skew`, `kurtosis`), the default behavior of `mode` typically preserves the axis it acts along. In SciPy 1.11.0, this behavior will change: the default value of `keepdims` will become False, the `axis` over which the statistic is taken will be eliminated, and the value None will no longer be accepted. Set `keepdims` to True or False to avoid this warning.\n",
      "\n",
      "/opt/anaconda/lib/python3.9/site-packages/sklearn/neighbors/_classification.py:228: FutureWarning:\n",
      "\n",
      "Unlike other reduction functions (e.g. `skew`, `kurtosis`), the default behavior of `mode` typically preserves the axis it acts along. In SciPy 1.11.0, this behavior will change: the default value of `keepdims` will become False, the `axis` over which the statistic is taken will be eliminated, and the value None will no longer be accepted. Set `keepdims` to True or False to avoid this warning.\n",
      "\n",
      "/opt/anaconda/lib/python3.9/site-packages/sklearn/neighbors/_classification.py:228: FutureWarning:\n",
      "\n",
      "Unlike other reduction functions (e.g. `skew`, `kurtosis`), the default behavior of `mode` typically preserves the axis it acts along. In SciPy 1.11.0, this behavior will change: the default value of `keepdims` will become False, the `axis` over which the statistic is taken will be eliminated, and the value None will no longer be accepted. Set `keepdims` to True or False to avoid this warning.\n",
      "\n",
      "/opt/anaconda/lib/python3.9/site-packages/sklearn/neighbors/_classification.py:228: FutureWarning:\n",
      "\n",
      "Unlike other reduction functions (e.g. `skew`, `kurtosis`), the default behavior of `mode` typically preserves the axis it acts along. In SciPy 1.11.0, this behavior will change: the default value of `keepdims` will become False, the `axis` over which the statistic is taken will be eliminated, and the value None will no longer be accepted. Set `keepdims` to True or False to avoid this warning.\n",
      "\n",
      "/opt/anaconda/lib/python3.9/site-packages/sklearn/neighbors/_classification.py:228: FutureWarning:\n",
      "\n",
      "Unlike other reduction functions (e.g. `skew`, `kurtosis`), the default behavior of `mode` typically preserves the axis it acts along. In SciPy 1.11.0, this behavior will change: the default value of `keepdims` will become False, the `axis` over which the statistic is taken will be eliminated, and the value None will no longer be accepted. Set `keepdims` to True or False to avoid this warning.\n",
      "\n",
      "/opt/anaconda/lib/python3.9/site-packages/sklearn/neighbors/_classification.py:228: FutureWarning:\n",
      "\n",
      "Unlike other reduction functions (e.g. `skew`, `kurtosis`), the default behavior of `mode` typically preserves the axis it acts along. In SciPy 1.11.0, this behavior will change: the default value of `keepdims` will become False, the `axis` over which the statistic is taken will be eliminated, and the value None will no longer be accepted. Set `keepdims` to True or False to avoid this warning.\n",
      "\n",
      "/opt/anaconda/lib/python3.9/site-packages/sklearn/neighbors/_classification.py:228: FutureWarning:\n",
      "\n",
      "Unlike other reduction functions (e.g. `skew`, `kurtosis`), the default behavior of `mode` typically preserves the axis it acts along. In SciPy 1.11.0, this behavior will change: the default value of `keepdims` will become False, the `axis` over which the statistic is taken will be eliminated, and the value None will no longer be accepted. Set `keepdims` to True or False to avoid this warning.\n",
      "\n"
     ]
    },
    {
     "name": "stderr",
     "output_type": "stream",
     "text": [
      "/opt/anaconda/lib/python3.9/site-packages/sklearn/neighbors/_classification.py:228: FutureWarning:\n",
      "\n",
      "Unlike other reduction functions (e.g. `skew`, `kurtosis`), the default behavior of `mode` typically preserves the axis it acts along. In SciPy 1.11.0, this behavior will change: the default value of `keepdims` will become False, the `axis` over which the statistic is taken will be eliminated, and the value None will no longer be accepted. Set `keepdims` to True or False to avoid this warning.\n",
      "\n"
     ]
    }
   ],
   "source": [
    "mc.trainAll(labelled[labelled.SUBSET=='raw'],nSplit=6,fracs=[0.5,0.75,1])#[0.5,0.75,1])"
   ]
  },
  {
   "cell_type": "code",
   "execution_count": 61,
   "id": "94f703ce",
   "metadata": {},
   "outputs": [
    {
     "data": {
      "application/vnd.plotly.v1+json": {
       "config": {
        "plotlyServerURL": "https://plot.ly"
       },
       "data": [
        {
         "error_y": {
          "array": [
           0.14172112243137885,
           0.11171213871947701,
           0.16957531337330084,
           0.09715890631443273,
           0.20016900876900856,
           0.16782913624877838,
           0.22248669337984675,
           0.22524494278844034
          ],
          "type": "data"
         },
         "name": "0.5",
         "type": "bar",
         "x": [
          "random",
          "knn",
          "baseMLP",
          "RF",
          "linSVC",
          "DocModel",
          "TokModel",
          "MixModel"
         ],
         "xaxis": "x",
         "y": [
          0.1722222222222222,
          0.1913073038073038,
          0.2193133663721899,
          0.09696969696969697,
          0.27885891198584695,
          0.22306640727693358,
          0.32051282051282054,
          0.2673992673992674
         ],
         "yaxis": "y"
        },
        {
         "error_y": {
          "array": [
           0.13615598277743998,
           0.10216446357253971,
           0.08892252343276791,
           0.10396791738976444,
           0.17517279978072745,
           0.11931964752926663,
           0.20039534918113078,
           0.20755351769400718
          ],
          "type": "data"
         },
         "name": "0.75",
         "type": "bar",
         "x": [
          "random",
          "knn",
          "baseMLP",
          "RF",
          "linSVC",
          "DocModel",
          "TokModel",
          "MixModel"
         ],
         "xaxis": "x",
         "y": [
          0.30416666666666664,
          0.3316239316239316,
          0.2725490196078431,
          0.1037037037037037,
          0.34118957524530275,
          0.19899446958270492,
          0.3164292497625831,
          0.4186106291369449
         ],
         "yaxis": "y"
        },
        {
         "error_y": {
          "array": [
           0.13320953891828438,
           0.16928222903639578,
           0.053744455079367384,
           0.09972527420619452,
           0.11830495805478417,
           0.0959430893722932,
           0.13531393290299096,
           0.16696478128422573
          ],
          "type": "data"
         },
         "name": "1",
         "type": "bar",
         "x": [
          "random",
          "knn",
          "baseMLP",
          "RF",
          "linSVC",
          "DocModel",
          "TokModel",
          "MixModel"
         ],
         "xaxis": "x",
         "y": [
          0.27712308045125383,
          0.32385531135531137,
          0.31655844155844154,
          0.07037037037037037,
          0.40410561660561667,
          0.35241147741147744,
          0.5306521093285799,
          0.5370794782559488
         ],
         "yaxis": "y"
        },
        {
         "error_y": {
          "array": [
           0.08602321931193761,
           0.0610850508442051,
           0.09124877353038177,
           0.03644295720623837,
           0.11498567603530713,
           0.09504198512814353,
           0.1104022094074975,
           0.11252614225388596
          ],
          "type": "data"
         },
         "name": "0.5",
         "type": "bar",
         "x": [
          "random",
          "knn",
          "baseMLP",
          "RF",
          "linSVC",
          "DocModel",
          "TokModel",
          "MixModel"
         ],
         "xaxis": "x2",
         "y": [
          0.4507575757575757,
          0.5085227272727274,
          0.5028409090909091,
          0.5047348484848485,
          0.5208333333333333,
          0.49526515151515155,
          0.6041666666666666,
          0.5416666666666666
         ],
         "yaxis": "y2"
        },
        {
         "error_y": {
          "array": [
           0.101820161698373,
           0.06079073426403044,
           0.05139001345157252,
           0.029477997000517765,
           0.12036949660922305,
           0.05234952636774718,
           0.09274986881795787,
           0.13156064292294775
          ],
          "type": "data"
         },
         "name": "0.75",
         "type": "bar",
         "x": [
          "random",
          "knn",
          "baseMLP",
          "RF",
          "linSVC",
          "DocModel",
          "TokModel",
          "MixModel"
         ],
         "xaxis": "x2",
         "y": [
          0.5236742424242423,
          0.5672348484848485,
          0.5350378787878788,
          0.5198863636363636,
          0.5558712121212123,
          0.5075757575757577,
          0.584280303030303,
          0.6240530303030304
         ],
         "yaxis": "y2"
        },
        {
         "error_y": {
          "array": [
           0.0853324267126425,
           0.0933858092960039,
           0.04332321679431014,
           0.028723013045649812,
           0.07859278000472135,
           0.04705400851820018,
           0.10273202841633391,
           0.09224573702140705
          ],
          "type": "data"
         },
         "name": "1",
         "type": "bar",
         "x": [
          "random",
          "knn",
          "baseMLP",
          "RF",
          "linSVC",
          "DocModel",
          "TokModel",
          "MixModel"
         ],
         "xaxis": "x2",
         "y": [
          0.509469696969697,
          0.5672348484848485,
          0.5520833333333334,
          0.5132575757575758,
          0.5965909090909091,
          0.5767045454545454,
          0.6846590909090908,
          0.7017045454545454
         ],
         "yaxis": "y2"
        }
       ],
       "layout": {
        "barmode": "group",
        "template": {
         "data": {
          "bar": [
           {
            "error_x": {
             "color": "#2a3f5f"
            },
            "error_y": {
             "color": "#2a3f5f"
            },
            "marker": {
             "line": {
              "color": "#E5ECF6",
              "width": 0.5
             },
             "pattern": {
              "fillmode": "overlay",
              "size": 10,
              "solidity": 0.2
             }
            },
            "type": "bar"
           }
          ],
          "barpolar": [
           {
            "marker": {
             "line": {
              "color": "#E5ECF6",
              "width": 0.5
             },
             "pattern": {
              "fillmode": "overlay",
              "size": 10,
              "solidity": 0.2
             }
            },
            "type": "barpolar"
           }
          ],
          "carpet": [
           {
            "aaxis": {
             "endlinecolor": "#2a3f5f",
             "gridcolor": "white",
             "linecolor": "white",
             "minorgridcolor": "white",
             "startlinecolor": "#2a3f5f"
            },
            "baxis": {
             "endlinecolor": "#2a3f5f",
             "gridcolor": "white",
             "linecolor": "white",
             "minorgridcolor": "white",
             "startlinecolor": "#2a3f5f"
            },
            "type": "carpet"
           }
          ],
          "choropleth": [
           {
            "colorbar": {
             "outlinewidth": 0,
             "ticks": ""
            },
            "type": "choropleth"
           }
          ],
          "contour": [
           {
            "colorbar": {
             "outlinewidth": 0,
             "ticks": ""
            },
            "colorscale": [
             [
              0,
              "#0d0887"
             ],
             [
              0.1111111111111111,
              "#46039f"
             ],
             [
              0.2222222222222222,
              "#7201a8"
             ],
             [
              0.3333333333333333,
              "#9c179e"
             ],
             [
              0.4444444444444444,
              "#bd3786"
             ],
             [
              0.5555555555555556,
              "#d8576b"
             ],
             [
              0.6666666666666666,
              "#ed7953"
             ],
             [
              0.7777777777777778,
              "#fb9f3a"
             ],
             [
              0.8888888888888888,
              "#fdca26"
             ],
             [
              1,
              "#f0f921"
             ]
            ],
            "type": "contour"
           }
          ],
          "contourcarpet": [
           {
            "colorbar": {
             "outlinewidth": 0,
             "ticks": ""
            },
            "type": "contourcarpet"
           }
          ],
          "heatmap": [
           {
            "colorbar": {
             "outlinewidth": 0,
             "ticks": ""
            },
            "colorscale": [
             [
              0,
              "#0d0887"
             ],
             [
              0.1111111111111111,
              "#46039f"
             ],
             [
              0.2222222222222222,
              "#7201a8"
             ],
             [
              0.3333333333333333,
              "#9c179e"
             ],
             [
              0.4444444444444444,
              "#bd3786"
             ],
             [
              0.5555555555555556,
              "#d8576b"
             ],
             [
              0.6666666666666666,
              "#ed7953"
             ],
             [
              0.7777777777777778,
              "#fb9f3a"
             ],
             [
              0.8888888888888888,
              "#fdca26"
             ],
             [
              1,
              "#f0f921"
             ]
            ],
            "type": "heatmap"
           }
          ],
          "heatmapgl": [
           {
            "colorbar": {
             "outlinewidth": 0,
             "ticks": ""
            },
            "colorscale": [
             [
              0,
              "#0d0887"
             ],
             [
              0.1111111111111111,
              "#46039f"
             ],
             [
              0.2222222222222222,
              "#7201a8"
             ],
             [
              0.3333333333333333,
              "#9c179e"
             ],
             [
              0.4444444444444444,
              "#bd3786"
             ],
             [
              0.5555555555555556,
              "#d8576b"
             ],
             [
              0.6666666666666666,
              "#ed7953"
             ],
             [
              0.7777777777777778,
              "#fb9f3a"
             ],
             [
              0.8888888888888888,
              "#fdca26"
             ],
             [
              1,
              "#f0f921"
             ]
            ],
            "type": "heatmapgl"
           }
          ],
          "histogram": [
           {
            "marker": {
             "pattern": {
              "fillmode": "overlay",
              "size": 10,
              "solidity": 0.2
             }
            },
            "type": "histogram"
           }
          ],
          "histogram2d": [
           {
            "colorbar": {
             "outlinewidth": 0,
             "ticks": ""
            },
            "colorscale": [
             [
              0,
              "#0d0887"
             ],
             [
              0.1111111111111111,
              "#46039f"
             ],
             [
              0.2222222222222222,
              "#7201a8"
             ],
             [
              0.3333333333333333,
              "#9c179e"
             ],
             [
              0.4444444444444444,
              "#bd3786"
             ],
             [
              0.5555555555555556,
              "#d8576b"
             ],
             [
              0.6666666666666666,
              "#ed7953"
             ],
             [
              0.7777777777777778,
              "#fb9f3a"
             ],
             [
              0.8888888888888888,
              "#fdca26"
             ],
             [
              1,
              "#f0f921"
             ]
            ],
            "type": "histogram2d"
           }
          ],
          "histogram2dcontour": [
           {
            "colorbar": {
             "outlinewidth": 0,
             "ticks": ""
            },
            "colorscale": [
             [
              0,
              "#0d0887"
             ],
             [
              0.1111111111111111,
              "#46039f"
             ],
             [
              0.2222222222222222,
              "#7201a8"
             ],
             [
              0.3333333333333333,
              "#9c179e"
             ],
             [
              0.4444444444444444,
              "#bd3786"
             ],
             [
              0.5555555555555556,
              "#d8576b"
             ],
             [
              0.6666666666666666,
              "#ed7953"
             ],
             [
              0.7777777777777778,
              "#fb9f3a"
             ],
             [
              0.8888888888888888,
              "#fdca26"
             ],
             [
              1,
              "#f0f921"
             ]
            ],
            "type": "histogram2dcontour"
           }
          ],
          "mesh3d": [
           {
            "colorbar": {
             "outlinewidth": 0,
             "ticks": ""
            },
            "type": "mesh3d"
           }
          ],
          "parcoords": [
           {
            "line": {
             "colorbar": {
              "outlinewidth": 0,
              "ticks": ""
             }
            },
            "type": "parcoords"
           }
          ],
          "pie": [
           {
            "automargin": true,
            "type": "pie"
           }
          ],
          "scatter": [
           {
            "fillpattern": {
             "fillmode": "overlay",
             "size": 10,
             "solidity": 0.2
            },
            "type": "scatter"
           }
          ],
          "scatter3d": [
           {
            "line": {
             "colorbar": {
              "outlinewidth": 0,
              "ticks": ""
             }
            },
            "marker": {
             "colorbar": {
              "outlinewidth": 0,
              "ticks": ""
             }
            },
            "type": "scatter3d"
           }
          ],
          "scattercarpet": [
           {
            "marker": {
             "colorbar": {
              "outlinewidth": 0,
              "ticks": ""
             }
            },
            "type": "scattercarpet"
           }
          ],
          "scattergeo": [
           {
            "marker": {
             "colorbar": {
              "outlinewidth": 0,
              "ticks": ""
             }
            },
            "type": "scattergeo"
           }
          ],
          "scattergl": [
           {
            "marker": {
             "colorbar": {
              "outlinewidth": 0,
              "ticks": ""
             }
            },
            "type": "scattergl"
           }
          ],
          "scattermapbox": [
           {
            "marker": {
             "colorbar": {
              "outlinewidth": 0,
              "ticks": ""
             }
            },
            "type": "scattermapbox"
           }
          ],
          "scatterpolar": [
           {
            "marker": {
             "colorbar": {
              "outlinewidth": 0,
              "ticks": ""
             }
            },
            "type": "scatterpolar"
           }
          ],
          "scatterpolargl": [
           {
            "marker": {
             "colorbar": {
              "outlinewidth": 0,
              "ticks": ""
             }
            },
            "type": "scatterpolargl"
           }
          ],
          "scatterternary": [
           {
            "marker": {
             "colorbar": {
              "outlinewidth": 0,
              "ticks": ""
             }
            },
            "type": "scatterternary"
           }
          ],
          "surface": [
           {
            "colorbar": {
             "outlinewidth": 0,
             "ticks": ""
            },
            "colorscale": [
             [
              0,
              "#0d0887"
             ],
             [
              0.1111111111111111,
              "#46039f"
             ],
             [
              0.2222222222222222,
              "#7201a8"
             ],
             [
              0.3333333333333333,
              "#9c179e"
             ],
             [
              0.4444444444444444,
              "#bd3786"
             ],
             [
              0.5555555555555556,
              "#d8576b"
             ],
             [
              0.6666666666666666,
              "#ed7953"
             ],
             [
              0.7777777777777778,
              "#fb9f3a"
             ],
             [
              0.8888888888888888,
              "#fdca26"
             ],
             [
              1,
              "#f0f921"
             ]
            ],
            "type": "surface"
           }
          ],
          "table": [
           {
            "cells": {
             "fill": {
              "color": "#EBF0F8"
             },
             "line": {
              "color": "white"
             }
            },
            "header": {
             "fill": {
              "color": "#C8D4E3"
             },
             "line": {
              "color": "white"
             }
            },
            "type": "table"
           }
          ]
         },
         "layout": {
          "annotationdefaults": {
           "arrowcolor": "#2a3f5f",
           "arrowhead": 0,
           "arrowwidth": 1
          },
          "autotypenumbers": "strict",
          "coloraxis": {
           "colorbar": {
            "outlinewidth": 0,
            "ticks": ""
           }
          },
          "colorscale": {
           "diverging": [
            [
             0,
             "#8e0152"
            ],
            [
             0.1,
             "#c51b7d"
            ],
            [
             0.2,
             "#de77ae"
            ],
            [
             0.3,
             "#f1b6da"
            ],
            [
             0.4,
             "#fde0ef"
            ],
            [
             0.5,
             "#f7f7f7"
            ],
            [
             0.6,
             "#e6f5d0"
            ],
            [
             0.7,
             "#b8e186"
            ],
            [
             0.8,
             "#7fbc41"
            ],
            [
             0.9,
             "#4d9221"
            ],
            [
             1,
             "#276419"
            ]
           ],
           "sequential": [
            [
             0,
             "#0d0887"
            ],
            [
             0.1111111111111111,
             "#46039f"
            ],
            [
             0.2222222222222222,
             "#7201a8"
            ],
            [
             0.3333333333333333,
             "#9c179e"
            ],
            [
             0.4444444444444444,
             "#bd3786"
            ],
            [
             0.5555555555555556,
             "#d8576b"
            ],
            [
             0.6666666666666666,
             "#ed7953"
            ],
            [
             0.7777777777777778,
             "#fb9f3a"
            ],
            [
             0.8888888888888888,
             "#fdca26"
            ],
            [
             1,
             "#f0f921"
            ]
           ],
           "sequentialminus": [
            [
             0,
             "#0d0887"
            ],
            [
             0.1111111111111111,
             "#46039f"
            ],
            [
             0.2222222222222222,
             "#7201a8"
            ],
            [
             0.3333333333333333,
             "#9c179e"
            ],
            [
             0.4444444444444444,
             "#bd3786"
            ],
            [
             0.5555555555555556,
             "#d8576b"
            ],
            [
             0.6666666666666666,
             "#ed7953"
            ],
            [
             0.7777777777777778,
             "#fb9f3a"
            ],
            [
             0.8888888888888888,
             "#fdca26"
            ],
            [
             1,
             "#f0f921"
            ]
           ]
          },
          "colorway": [
           "#636efa",
           "#EF553B",
           "#00cc96",
           "#ab63fa",
           "#FFA15A",
           "#19d3f3",
           "#FF6692",
           "#B6E880",
           "#FF97FF",
           "#FECB52"
          ],
          "font": {
           "color": "#2a3f5f"
          },
          "geo": {
           "bgcolor": "white",
           "lakecolor": "white",
           "landcolor": "#E5ECF6",
           "showlakes": true,
           "showland": true,
           "subunitcolor": "white"
          },
          "hoverlabel": {
           "align": "left"
          },
          "hovermode": "closest",
          "mapbox": {
           "style": "light"
          },
          "paper_bgcolor": "white",
          "plot_bgcolor": "#E5ECF6",
          "polar": {
           "angularaxis": {
            "gridcolor": "white",
            "linecolor": "white",
            "ticks": ""
           },
           "bgcolor": "#E5ECF6",
           "radialaxis": {
            "gridcolor": "white",
            "linecolor": "white",
            "ticks": ""
           }
          },
          "scene": {
           "xaxis": {
            "backgroundcolor": "#E5ECF6",
            "gridcolor": "white",
            "gridwidth": 2,
            "linecolor": "white",
            "showbackground": true,
            "ticks": "",
            "zerolinecolor": "white"
           },
           "yaxis": {
            "backgroundcolor": "#E5ECF6",
            "gridcolor": "white",
            "gridwidth": 2,
            "linecolor": "white",
            "showbackground": true,
            "ticks": "",
            "zerolinecolor": "white"
           },
           "zaxis": {
            "backgroundcolor": "#E5ECF6",
            "gridcolor": "white",
            "gridwidth": 2,
            "linecolor": "white",
            "showbackground": true,
            "ticks": "",
            "zerolinecolor": "white"
           }
          },
          "shapedefaults": {
           "line": {
            "color": "#2a3f5f"
           }
          },
          "ternary": {
           "aaxis": {
            "gridcolor": "white",
            "linecolor": "white",
            "ticks": ""
           },
           "baxis": {
            "gridcolor": "white",
            "linecolor": "white",
            "ticks": ""
           },
           "bgcolor": "#E5ECF6",
           "caxis": {
            "gridcolor": "white",
            "linecolor": "white",
            "ticks": ""
           }
          },
          "title": {
           "x": 0.05
          },
          "xaxis": {
           "automargin": true,
           "gridcolor": "white",
           "linecolor": "white",
           "ticks": "",
           "title": {
            "standoff": 15
           },
           "zerolinecolor": "white",
           "zerolinewidth": 2
          },
          "yaxis": {
           "automargin": true,
           "gridcolor": "white",
           "linecolor": "white",
           "ticks": "",
           "title": {
            "standoff": 15
           },
           "zerolinecolor": "white",
           "zerolinewidth": 2
          }
         }
        },
        "xaxis": {
         "anchor": "y",
         "domain": [
          0,
          1
         ]
        },
        "xaxis2": {
         "anchor": "y2",
         "domain": [
          0,
          1
         ]
        },
        "yaxis": {
         "anchor": "x",
         "domain": [
          0.575,
          1
         ]
        },
        "yaxis2": {
         "anchor": "x2",
         "domain": [
          0,
          0.425
         ]
        }
       }
      },
      "text/html": [
       "<div>                            <div id=\"daccde44-0bf3-4a02-8449-1023940406da\" class=\"plotly-graph-div\" style=\"height:525px; width:100%;\"></div>            <script type=\"text/javascript\">                require([\"plotly\"], function(Plotly) {                    window.PLOTLYENV=window.PLOTLYENV || {};                                    if (document.getElementById(\"daccde44-0bf3-4a02-8449-1023940406da\")) {                    Plotly.newPlot(                        \"daccde44-0bf3-4a02-8449-1023940406da\",                        [{\"error_y\":{\"array\":[0.14172112243137885,0.11171213871947701,0.16957531337330084,0.09715890631443273,0.20016900876900856,0.16782913624877838,0.22248669337984675,0.22524494278844034],\"type\":\"data\"},\"name\":\"0.5\",\"x\":[\"random\",\"knn\",\"baseMLP\",\"RF\",\"linSVC\",\"DocModel\",\"TokModel\",\"MixModel\"],\"y\":[0.1722222222222222,0.1913073038073038,0.2193133663721899,0.09696969696969697,0.27885891198584695,0.22306640727693358,0.32051282051282054,0.2673992673992674],\"type\":\"bar\",\"xaxis\":\"x\",\"yaxis\":\"y\"},{\"error_y\":{\"array\":[0.13615598277743998,0.10216446357253971,0.08892252343276791,0.10396791738976444,0.17517279978072745,0.11931964752926663,0.20039534918113078,0.20755351769400718],\"type\":\"data\"},\"name\":\"0.75\",\"x\":[\"random\",\"knn\",\"baseMLP\",\"RF\",\"linSVC\",\"DocModel\",\"TokModel\",\"MixModel\"],\"y\":[0.30416666666666664,0.3316239316239316,0.2725490196078431,0.1037037037037037,0.34118957524530275,0.19899446958270492,0.3164292497625831,0.4186106291369449],\"type\":\"bar\",\"xaxis\":\"x\",\"yaxis\":\"y\"},{\"error_y\":{\"array\":[0.13320953891828438,0.16928222903639578,0.053744455079367384,0.09972527420619452,0.11830495805478417,0.0959430893722932,0.13531393290299096,0.16696478128422573],\"type\":\"data\"},\"name\":\"1\",\"x\":[\"random\",\"knn\",\"baseMLP\",\"RF\",\"linSVC\",\"DocModel\",\"TokModel\",\"MixModel\"],\"y\":[0.27712308045125383,0.32385531135531137,0.31655844155844154,0.07037037037037037,0.40410561660561667,0.35241147741147744,0.5306521093285799,0.5370794782559488],\"type\":\"bar\",\"xaxis\":\"x\",\"yaxis\":\"y\"},{\"error_y\":{\"array\":[0.08602321931193761,0.0610850508442051,0.09124877353038177,0.03644295720623837,0.11498567603530713,0.09504198512814353,0.1104022094074975,0.11252614225388596],\"type\":\"data\"},\"name\":\"0.5\",\"x\":[\"random\",\"knn\",\"baseMLP\",\"RF\",\"linSVC\",\"DocModel\",\"TokModel\",\"MixModel\"],\"y\":[0.4507575757575757,0.5085227272727274,0.5028409090909091,0.5047348484848485,0.5208333333333333,0.49526515151515155,0.6041666666666666,0.5416666666666666],\"type\":\"bar\",\"xaxis\":\"x2\",\"yaxis\":\"y2\"},{\"error_y\":{\"array\":[0.101820161698373,0.06079073426403044,0.05139001345157252,0.029477997000517765,0.12036949660922305,0.05234952636774718,0.09274986881795787,0.13156064292294775],\"type\":\"data\"},\"name\":\"0.75\",\"x\":[\"random\",\"knn\",\"baseMLP\",\"RF\",\"linSVC\",\"DocModel\",\"TokModel\",\"MixModel\"],\"y\":[0.5236742424242423,0.5672348484848485,0.5350378787878788,0.5198863636363636,0.5558712121212123,0.5075757575757577,0.584280303030303,0.6240530303030304],\"type\":\"bar\",\"xaxis\":\"x2\",\"yaxis\":\"y2\"},{\"error_y\":{\"array\":[0.0853324267126425,0.0933858092960039,0.04332321679431014,0.028723013045649812,0.07859278000472135,0.04705400851820018,0.10273202841633391,0.09224573702140705],\"type\":\"data\"},\"name\":\"1\",\"x\":[\"random\",\"knn\",\"baseMLP\",\"RF\",\"linSVC\",\"DocModel\",\"TokModel\",\"MixModel\"],\"y\":[0.509469696969697,0.5672348484848485,0.5520833333333334,0.5132575757575758,0.5965909090909091,0.5767045454545454,0.6846590909090908,0.7017045454545454],\"type\":\"bar\",\"xaxis\":\"x2\",\"yaxis\":\"y2\"}],                        {\"template\":{\"data\":{\"histogram2dcontour\":[{\"type\":\"histogram2dcontour\",\"colorbar\":{\"outlinewidth\":0,\"ticks\":\"\"},\"colorscale\":[[0.0,\"#0d0887\"],[0.1111111111111111,\"#46039f\"],[0.2222222222222222,\"#7201a8\"],[0.3333333333333333,\"#9c179e\"],[0.4444444444444444,\"#bd3786\"],[0.5555555555555556,\"#d8576b\"],[0.6666666666666666,\"#ed7953\"],[0.7777777777777778,\"#fb9f3a\"],[0.8888888888888888,\"#fdca26\"],[1.0,\"#f0f921\"]]}],\"choropleth\":[{\"type\":\"choropleth\",\"colorbar\":{\"outlinewidth\":0,\"ticks\":\"\"}}],\"histogram2d\":[{\"type\":\"histogram2d\",\"colorbar\":{\"outlinewidth\":0,\"ticks\":\"\"},\"colorscale\":[[0.0,\"#0d0887\"],[0.1111111111111111,\"#46039f\"],[0.2222222222222222,\"#7201a8\"],[0.3333333333333333,\"#9c179e\"],[0.4444444444444444,\"#bd3786\"],[0.5555555555555556,\"#d8576b\"],[0.6666666666666666,\"#ed7953\"],[0.7777777777777778,\"#fb9f3a\"],[0.8888888888888888,\"#fdca26\"],[1.0,\"#f0f921\"]]}],\"heatmap\":[{\"type\":\"heatmap\",\"colorbar\":{\"outlinewidth\":0,\"ticks\":\"\"},\"colorscale\":[[0.0,\"#0d0887\"],[0.1111111111111111,\"#46039f\"],[0.2222222222222222,\"#7201a8\"],[0.3333333333333333,\"#9c179e\"],[0.4444444444444444,\"#bd3786\"],[0.5555555555555556,\"#d8576b\"],[0.6666666666666666,\"#ed7953\"],[0.7777777777777778,\"#fb9f3a\"],[0.8888888888888888,\"#fdca26\"],[1.0,\"#f0f921\"]]}],\"heatmapgl\":[{\"type\":\"heatmapgl\",\"colorbar\":{\"outlinewidth\":0,\"ticks\":\"\"},\"colorscale\":[[0.0,\"#0d0887\"],[0.1111111111111111,\"#46039f\"],[0.2222222222222222,\"#7201a8\"],[0.3333333333333333,\"#9c179e\"],[0.4444444444444444,\"#bd3786\"],[0.5555555555555556,\"#d8576b\"],[0.6666666666666666,\"#ed7953\"],[0.7777777777777778,\"#fb9f3a\"],[0.8888888888888888,\"#fdca26\"],[1.0,\"#f0f921\"]]}],\"contourcarpet\":[{\"type\":\"contourcarpet\",\"colorbar\":{\"outlinewidth\":0,\"ticks\":\"\"}}],\"contour\":[{\"type\":\"contour\",\"colorbar\":{\"outlinewidth\":0,\"ticks\":\"\"},\"colorscale\":[[0.0,\"#0d0887\"],[0.1111111111111111,\"#46039f\"],[0.2222222222222222,\"#7201a8\"],[0.3333333333333333,\"#9c179e\"],[0.4444444444444444,\"#bd3786\"],[0.5555555555555556,\"#d8576b\"],[0.6666666666666666,\"#ed7953\"],[0.7777777777777778,\"#fb9f3a\"],[0.8888888888888888,\"#fdca26\"],[1.0,\"#f0f921\"]]}],\"surface\":[{\"type\":\"surface\",\"colorbar\":{\"outlinewidth\":0,\"ticks\":\"\"},\"colorscale\":[[0.0,\"#0d0887\"],[0.1111111111111111,\"#46039f\"],[0.2222222222222222,\"#7201a8\"],[0.3333333333333333,\"#9c179e\"],[0.4444444444444444,\"#bd3786\"],[0.5555555555555556,\"#d8576b\"],[0.6666666666666666,\"#ed7953\"],[0.7777777777777778,\"#fb9f3a\"],[0.8888888888888888,\"#fdca26\"],[1.0,\"#f0f921\"]]}],\"mesh3d\":[{\"type\":\"mesh3d\",\"colorbar\":{\"outlinewidth\":0,\"ticks\":\"\"}}],\"scatter\":[{\"fillpattern\":{\"fillmode\":\"overlay\",\"size\":10,\"solidity\":0.2},\"type\":\"scatter\"}],\"parcoords\":[{\"type\":\"parcoords\",\"line\":{\"colorbar\":{\"outlinewidth\":0,\"ticks\":\"\"}}}],\"scatterpolargl\":[{\"type\":\"scatterpolargl\",\"marker\":{\"colorbar\":{\"outlinewidth\":0,\"ticks\":\"\"}}}],\"bar\":[{\"error_x\":{\"color\":\"#2a3f5f\"},\"error_y\":{\"color\":\"#2a3f5f\"},\"marker\":{\"line\":{\"color\":\"#E5ECF6\",\"width\":0.5},\"pattern\":{\"fillmode\":\"overlay\",\"size\":10,\"solidity\":0.2}},\"type\":\"bar\"}],\"scattergeo\":[{\"type\":\"scattergeo\",\"marker\":{\"colorbar\":{\"outlinewidth\":0,\"ticks\":\"\"}}}],\"scatterpolar\":[{\"type\":\"scatterpolar\",\"marker\":{\"colorbar\":{\"outlinewidth\":0,\"ticks\":\"\"}}}],\"histogram\":[{\"marker\":{\"pattern\":{\"fillmode\":\"overlay\",\"size\":10,\"solidity\":0.2}},\"type\":\"histogram\"}],\"scattergl\":[{\"type\":\"scattergl\",\"marker\":{\"colorbar\":{\"outlinewidth\":0,\"ticks\":\"\"}}}],\"scatter3d\":[{\"type\":\"scatter3d\",\"line\":{\"colorbar\":{\"outlinewidth\":0,\"ticks\":\"\"}},\"marker\":{\"colorbar\":{\"outlinewidth\":0,\"ticks\":\"\"}}}],\"scattermapbox\":[{\"type\":\"scattermapbox\",\"marker\":{\"colorbar\":{\"outlinewidth\":0,\"ticks\":\"\"}}}],\"scatterternary\":[{\"type\":\"scatterternary\",\"marker\":{\"colorbar\":{\"outlinewidth\":0,\"ticks\":\"\"}}}],\"scattercarpet\":[{\"type\":\"scattercarpet\",\"marker\":{\"colorbar\":{\"outlinewidth\":0,\"ticks\":\"\"}}}],\"carpet\":[{\"aaxis\":{\"endlinecolor\":\"#2a3f5f\",\"gridcolor\":\"white\",\"linecolor\":\"white\",\"minorgridcolor\":\"white\",\"startlinecolor\":\"#2a3f5f\"},\"baxis\":{\"endlinecolor\":\"#2a3f5f\",\"gridcolor\":\"white\",\"linecolor\":\"white\",\"minorgridcolor\":\"white\",\"startlinecolor\":\"#2a3f5f\"},\"type\":\"carpet\"}],\"table\":[{\"cells\":{\"fill\":{\"color\":\"#EBF0F8\"},\"line\":{\"color\":\"white\"}},\"header\":{\"fill\":{\"color\":\"#C8D4E3\"},\"line\":{\"color\":\"white\"}},\"type\":\"table\"}],\"barpolar\":[{\"marker\":{\"line\":{\"color\":\"#E5ECF6\",\"width\":0.5},\"pattern\":{\"fillmode\":\"overlay\",\"size\":10,\"solidity\":0.2}},\"type\":\"barpolar\"}],\"pie\":[{\"automargin\":true,\"type\":\"pie\"}]},\"layout\":{\"autotypenumbers\":\"strict\",\"colorway\":[\"#636efa\",\"#EF553B\",\"#00cc96\",\"#ab63fa\",\"#FFA15A\",\"#19d3f3\",\"#FF6692\",\"#B6E880\",\"#FF97FF\",\"#FECB52\"],\"font\":{\"color\":\"#2a3f5f\"},\"hovermode\":\"closest\",\"hoverlabel\":{\"align\":\"left\"},\"paper_bgcolor\":\"white\",\"plot_bgcolor\":\"#E5ECF6\",\"polar\":{\"bgcolor\":\"#E5ECF6\",\"angularaxis\":{\"gridcolor\":\"white\",\"linecolor\":\"white\",\"ticks\":\"\"},\"radialaxis\":{\"gridcolor\":\"white\",\"linecolor\":\"white\",\"ticks\":\"\"}},\"ternary\":{\"bgcolor\":\"#E5ECF6\",\"aaxis\":{\"gridcolor\":\"white\",\"linecolor\":\"white\",\"ticks\":\"\"},\"baxis\":{\"gridcolor\":\"white\",\"linecolor\":\"white\",\"ticks\":\"\"},\"caxis\":{\"gridcolor\":\"white\",\"linecolor\":\"white\",\"ticks\":\"\"}},\"coloraxis\":{\"colorbar\":{\"outlinewidth\":0,\"ticks\":\"\"}},\"colorscale\":{\"sequential\":[[0.0,\"#0d0887\"],[0.1111111111111111,\"#46039f\"],[0.2222222222222222,\"#7201a8\"],[0.3333333333333333,\"#9c179e\"],[0.4444444444444444,\"#bd3786\"],[0.5555555555555556,\"#d8576b\"],[0.6666666666666666,\"#ed7953\"],[0.7777777777777778,\"#fb9f3a\"],[0.8888888888888888,\"#fdca26\"],[1.0,\"#f0f921\"]],\"sequentialminus\":[[0.0,\"#0d0887\"],[0.1111111111111111,\"#46039f\"],[0.2222222222222222,\"#7201a8\"],[0.3333333333333333,\"#9c179e\"],[0.4444444444444444,\"#bd3786\"],[0.5555555555555556,\"#d8576b\"],[0.6666666666666666,\"#ed7953\"],[0.7777777777777778,\"#fb9f3a\"],[0.8888888888888888,\"#fdca26\"],[1.0,\"#f0f921\"]],\"diverging\":[[0,\"#8e0152\"],[0.1,\"#c51b7d\"],[0.2,\"#de77ae\"],[0.3,\"#f1b6da\"],[0.4,\"#fde0ef\"],[0.5,\"#f7f7f7\"],[0.6,\"#e6f5d0\"],[0.7,\"#b8e186\"],[0.8,\"#7fbc41\"],[0.9,\"#4d9221\"],[1,\"#276419\"]]},\"xaxis\":{\"gridcolor\":\"white\",\"linecolor\":\"white\",\"ticks\":\"\",\"title\":{\"standoff\":15},\"zerolinecolor\":\"white\",\"automargin\":true,\"zerolinewidth\":2},\"yaxis\":{\"gridcolor\":\"white\",\"linecolor\":\"white\",\"ticks\":\"\",\"title\":{\"standoff\":15},\"zerolinecolor\":\"white\",\"automargin\":true,\"zerolinewidth\":2},\"scene\":{\"xaxis\":{\"backgroundcolor\":\"#E5ECF6\",\"gridcolor\":\"white\",\"linecolor\":\"white\",\"showbackground\":true,\"ticks\":\"\",\"zerolinecolor\":\"white\",\"gridwidth\":2},\"yaxis\":{\"backgroundcolor\":\"#E5ECF6\",\"gridcolor\":\"white\",\"linecolor\":\"white\",\"showbackground\":true,\"ticks\":\"\",\"zerolinecolor\":\"white\",\"gridwidth\":2},\"zaxis\":{\"backgroundcolor\":\"#E5ECF6\",\"gridcolor\":\"white\",\"linecolor\":\"white\",\"showbackground\":true,\"ticks\":\"\",\"zerolinecolor\":\"white\",\"gridwidth\":2}},\"shapedefaults\":{\"line\":{\"color\":\"#2a3f5f\"}},\"annotationdefaults\":{\"arrowcolor\":\"#2a3f5f\",\"arrowhead\":0,\"arrowwidth\":1},\"geo\":{\"bgcolor\":\"white\",\"landcolor\":\"#E5ECF6\",\"subunitcolor\":\"white\",\"showland\":true,\"showlakes\":true,\"lakecolor\":\"white\"},\"title\":{\"x\":0.05},\"mapbox\":{\"style\":\"light\"}}},\"xaxis\":{\"anchor\":\"y\",\"domain\":[0.0,1.0]},\"yaxis\":{\"anchor\":\"x\",\"domain\":[0.575,1.0]},\"xaxis2\":{\"anchor\":\"y2\",\"domain\":[0.0,1.0]},\"yaxis2\":{\"anchor\":\"x2\",\"domain\":[0.0,0.425]},\"barmode\":\"group\"},                        {\"responsive\": true}                    ).then(function(){\n",
       "                            \n",
       "var gd = document.getElementById('daccde44-0bf3-4a02-8449-1023940406da');\n",
       "var x = new MutationObserver(function (mutations, observer) {{\n",
       "        var display = window.getComputedStyle(gd).display;\n",
       "        if (!display || display === 'none') {{\n",
       "            console.log([gd, 'removed!']);\n",
       "            Plotly.purge(gd);\n",
       "            observer.disconnect();\n",
       "        }}\n",
       "}});\n",
       "\n",
       "// Listen for the removal of the full notebook cells\n",
       "var notebookContainer = gd.closest('#notebook-container');\n",
       "if (notebookContainer) {{\n",
       "    x.observe(notebookContainer, {childList: true});\n",
       "}}\n",
       "\n",
       "// Listen for the clearing of the current output cell\n",
       "var outputEl = gd.closest('.output');\n",
       "if (outputEl) {{\n",
       "    x.observe(outputEl, {childList: true});\n",
       "}}\n",
       "\n",
       "                        })                };                });            </script>        </div>"
      ]
     },
     "metadata": {},
     "output_type": "display_data"
    }
   ],
   "source": [
    "#import plotly.io as pio\n",
    "#pio.renderers.default = 'iframe'\n",
    "\n",
    "\n",
    "mc.plotScores()\n"
   ]
  },
  {
   "cell_type": "code",
   "execution_count": 189,
   "id": "c94044ff",
   "metadata": {},
   "outputs": [
    {
     "name": "stderr",
     "output_type": "stream",
     "text": [
      "\r",
      "0it [00:00, ?it/s]"
     ]
    },
    {
     "name": "stdout",
     "output_type": "stream",
     "text": [
      "Epoch 1/5\n",
      "17/17 - 15s - loss: 1.1524 - binary_crossentropy: 0.7519 - 15s/epoch - 902ms/step\n",
      "Epoch 2/5\n",
      "17/17 - 9s - loss: 1.0164 - binary_crossentropy: 0.7046 - 9s/epoch - 511ms/step\n",
      "Epoch 3/5\n",
      "17/17 - 9s - loss: 0.9585 - binary_crossentropy: 0.6121 - 9s/epoch - 508ms/step\n",
      "Epoch 4/5\n",
      "17/17 - 9s - loss: 0.8369 - binary_crossentropy: 0.5871 - 9s/epoch - 507ms/step\n",
      "Epoch 5/5\n",
      "17/17 - 9s - loss: 0.7447 - binary_crossentropy: 0.5061 - 9s/epoch - 509ms/step\n",
      "Epoch 6/10\n",
      "17/17 - 9s - loss: 0.5432 - binary_crossentropy: 0.3686 - 9s/epoch - 513ms/step\n",
      "Epoch 7/10\n",
      "17/17 - 9s - loss: 0.4049 - binary_crossentropy: 0.2578 - 9s/epoch - 510ms/step\n",
      "Epoch 8/10\n",
      "17/17 - 9s - loss: 0.2295 - binary_crossentropy: 0.1467 - 9s/epoch - 508ms/step\n",
      "Epoch 9/10\n",
      "17/17 - 8s - loss: 0.1621 - binary_crossentropy: 0.1085 - 8s/epoch - 473ms/step\n",
      "Epoch 10/10\n",
      "17/17 - 8s - loss: 0.0932 - binary_crossentropy: 0.0693 - 8s/epoch - 468ms/step\n",
      "Epoch 11/15\n",
      "17/17 - 8s - loss: 0.0370 - binary_crossentropy: 0.0245 - 8s/epoch - 483ms/step\n",
      "Epoch 12/15\n",
      "17/17 - 9s - loss: 0.0199 - binary_crossentropy: 0.0135 - 9s/epoch - 506ms/step\n",
      "Epoch 13/15\n",
      "17/17 - 9s - loss: 0.0146 - binary_crossentropy: 0.0108 - 9s/epoch - 509ms/step\n",
      "Epoch 14/15\n",
      "17/17 - 9s - loss: 0.0133 - binary_crossentropy: 0.0064 - 9s/epoch - 512ms/step\n",
      "Epoch 15/15\n",
      "17/17 - 9s - loss: 0.0146 - binary_crossentropy: 0.0118 - 9s/epoch - 511ms/step\n",
      "Epoch 1/5\n",
      "17/17 - 14s - loss: 1.1885 - binary_crossentropy: 0.6793 - 14s/epoch - 819ms/step\n",
      "Epoch 2/5\n",
      "17/17 - 9s - loss: 1.0330 - binary_crossentropy: 0.7183 - 9s/epoch - 509ms/step\n",
      "Epoch 3/5\n",
      "17/17 - 9s - loss: 0.9685 - binary_crossentropy: 0.6801 - 9s/epoch - 510ms/step\n",
      "Epoch 4/5\n",
      "17/17 - 9s - loss: 0.9350 - binary_crossentropy: 0.5876 - 9s/epoch - 508ms/step\n",
      "Epoch 5/5\n",
      "17/17 - 9s - loss: 0.9586 - binary_crossentropy: 0.6187 - 9s/epoch - 506ms/step\n",
      "Epoch 6/10\n",
      "17/17 - 9s - loss: 0.8508 - binary_crossentropy: 0.5589 - 9s/epoch - 511ms/step\n",
      "Epoch 7/10\n",
      "17/17 - 9s - loss: 0.7177 - binary_crossentropy: 0.4814 - 9s/epoch - 505ms/step\n",
      "Epoch 8/10\n",
      "17/17 - 9s - loss: 0.7346 - binary_crossentropy: 0.4373 - 9s/epoch - 511ms/step\n",
      "Epoch 9/10\n",
      "17/17 - 9s - loss: 0.6466 - binary_crossentropy: 0.3975 - 9s/epoch - 507ms/step\n",
      "Epoch 10/10\n",
      "17/17 - 9s - loss: 0.4904 - binary_crossentropy: 0.3251 - 9s/epoch - 509ms/step\n",
      "Epoch 11/15\n",
      "17/17 - 9s - loss: 0.3713 - binary_crossentropy: 0.2237 - 9s/epoch - 509ms/step\n",
      "Epoch 12/15\n",
      "17/17 - 9s - loss: 0.2507 - binary_crossentropy: 0.1637 - 9s/epoch - 511ms/step\n",
      "Epoch 13/15\n",
      "17/17 - 9s - loss: 0.2108 - binary_crossentropy: 0.1258 - 9s/epoch - 510ms/step\n",
      "Epoch 14/15\n",
      "17/17 - 9s - loss: 0.1837 - binary_crossentropy: 0.1109 - 9s/epoch - 511ms/step\n",
      "Epoch 15/15\n",
      "17/17 - 9s - loss: 0.0936 - binary_crossentropy: 0.0602 - 9s/epoch - 508ms/step\n",
      "Epoch 1/5\n",
      "17/17 - 14s - loss: 1.2006 - binary_crossentropy: 0.8854 - 14s/epoch - 815ms/step\n",
      "Epoch 2/5\n",
      "17/17 - 9s - loss: 1.0263 - binary_crossentropy: 0.6567 - 9s/epoch - 508ms/step\n",
      "Epoch 3/5\n",
      "17/17 - 9s - loss: 0.9362 - binary_crossentropy: 0.6420 - 9s/epoch - 512ms/step\n",
      "Epoch 4/5\n",
      "17/17 - 9s - loss: 0.8684 - binary_crossentropy: 0.5947 - 9s/epoch - 509ms/step\n",
      "Epoch 5/5\n",
      "17/17 - 9s - loss: 0.7900 - binary_crossentropy: 0.5538 - 9s/epoch - 515ms/step\n",
      "Epoch 6/10\n",
      "17/17 - 9s - loss: 0.7094 - binary_crossentropy: 0.4870 - 9s/epoch - 522ms/step\n",
      "Epoch 7/10\n",
      "17/17 - 9s - loss: 0.5328 - binary_crossentropy: 0.3576 - 9s/epoch - 519ms/step\n",
      "Epoch 8/10\n",
      "17/17 - 9s - loss: 0.5247 - binary_crossentropy: 0.3460 - 9s/epoch - 510ms/step\n",
      "Epoch 9/10\n",
      "17/17 - 8s - loss: 0.4030 - binary_crossentropy: 0.3160 - 8s/epoch - 487ms/step\n",
      "Epoch 10/10\n",
      "17/17 - 8s - loss: 0.3271 - binary_crossentropy: 0.2121 - 8s/epoch - 481ms/step\n",
      "Epoch 11/15\n",
      "17/17 - 8s - loss: 0.2253 - binary_crossentropy: 0.1471 - 8s/epoch - 489ms/step\n",
      "Epoch 12/15\n",
      "17/17 - 8s - loss: 0.1339 - binary_crossentropy: 0.0904 - 8s/epoch - 489ms/step\n",
      "Epoch 13/15\n",
      "17/17 - 8s - loss: 0.1000 - binary_crossentropy: 0.0672 - 8s/epoch - 480ms/step\n",
      "Epoch 14/15\n",
      "17/17 - 8s - loss: 0.0703 - binary_crossentropy: 0.0505 - 8s/epoch - 479ms/step\n",
      "Epoch 15/15\n",
      "17/17 - 8s - loss: 0.0704 - binary_crossentropy: 0.0536 - 8s/epoch - 487ms/step\n"
     ]
    },
    {
     "name": "stderr",
     "output_type": "stream",
     "text": [
      "\r",
      "1it [06:52, 412.83s/it]"
     ]
    },
    {
     "name": "stdout",
     "output_type": "stream",
     "text": [
      "Epoch 1/5\n",
      "17/17 - 15s - loss: 1.1722 - binary_crossentropy: 0.7160 - 15s/epoch - 886ms/step\n",
      "Epoch 2/5\n",
      "17/17 - 8s - loss: 1.0176 - binary_crossentropy: 0.6743 - 8s/epoch - 498ms/step\n",
      "Epoch 3/5\n",
      "17/17 - 8s - loss: 1.0212 - binary_crossentropy: 0.6968 - 8s/epoch - 487ms/step\n",
      "Epoch 4/5\n",
      "17/17 - 8s - loss: 0.8933 - binary_crossentropy: 0.5859 - 8s/epoch - 487ms/step\n",
      "Epoch 5/5\n",
      "17/17 - 8s - loss: 0.8158 - binary_crossentropy: 0.5181 - 8s/epoch - 496ms/step\n",
      "Epoch 6/10\n",
      "17/17 - 9s - loss: 0.7277 - binary_crossentropy: 0.5289 - 9s/epoch - 505ms/step\n",
      "Epoch 7/10\n",
      "17/17 - 8s - loss: 0.4986 - binary_crossentropy: 0.3180 - 8s/epoch - 493ms/step\n",
      "Epoch 8/10\n",
      "17/17 - 9s - loss: 0.2454 - binary_crossentropy: 0.1804 - 9s/epoch - 501ms/step\n",
      "Epoch 9/10\n",
      "17/17 - 8s - loss: 0.1492 - binary_crossentropy: 0.0915 - 8s/epoch - 496ms/step\n",
      "Epoch 10/10\n",
      "17/17 - 8s - loss: 0.0502 - binary_crossentropy: 0.0324 - 8s/epoch - 496ms/step\n",
      "Epoch 11/15\n",
      "17/17 - 9s - loss: 0.0236 - binary_crossentropy: 0.0162 - 9s/epoch - 509ms/step\n",
      "Epoch 12/15\n",
      "17/17 - 8s - loss: 0.0120 - binary_crossentropy: 0.0067 - 8s/epoch - 495ms/step\n",
      "Epoch 13/15\n",
      "17/17 - 8s - loss: 0.0077 - binary_crossentropy: 0.0054 - 8s/epoch - 484ms/step\n",
      "Epoch 14/15\n",
      "17/17 - 8s - loss: 0.0067 - binary_crossentropy: 0.0035 - 8s/epoch - 456ms/step\n",
      "Epoch 15/15\n",
      "17/17 - 8s - loss: 0.0096 - binary_crossentropy: 0.0056 - 8s/epoch - 449ms/step\n",
      "Epoch 1/5\n",
      "17/17 - 14s - loss: 1.1628 - binary_crossentropy: 0.7224 - 14s/epoch - 815ms/step\n",
      "Epoch 2/5\n",
      "17/17 - 8s - loss: 1.0340 - binary_crossentropy: 0.7066 - 8s/epoch - 499ms/step\n",
      "Epoch 3/5\n",
      "17/17 - 9s - loss: 0.9362 - binary_crossentropy: 0.5955 - 9s/epoch - 503ms/step\n",
      "Epoch 4/5\n",
      "17/17 - 8s - loss: 0.8869 - binary_crossentropy: 0.5799 - 8s/epoch - 486ms/step\n",
      "Epoch 5/5\n",
      "17/17 - 8s - loss: 0.7808 - binary_crossentropy: 0.5186 - 8s/epoch - 493ms/step\n",
      "Epoch 6/10\n",
      "17/17 - 8s - loss: 0.6755 - binary_crossentropy: 0.4352 - 8s/epoch - 499ms/step\n",
      "Epoch 7/10\n",
      "17/17 - 8s - loss: 0.5444 - binary_crossentropy: 0.3502 - 8s/epoch - 495ms/step\n",
      "Epoch 8/10\n",
      "17/17 - 8s - loss: 0.4677 - binary_crossentropy: 0.3251 - 8s/epoch - 475ms/step\n",
      "Epoch 9/10\n",
      "17/17 - 8s - loss: 0.2667 - binary_crossentropy: 0.1943 - 8s/epoch - 473ms/step\n",
      "Epoch 10/10\n",
      "17/17 - 8s - loss: 0.2079 - binary_crossentropy: 0.1363 - 8s/epoch - 488ms/step\n",
      "Epoch 11/15\n",
      "17/17 - 8s - loss: 0.1082 - binary_crossentropy: 0.0672 - 8s/epoch - 462ms/step\n",
      "Epoch 12/15\n",
      "17/17 - 8s - loss: 0.0756 - binary_crossentropy: 0.0451 - 8s/epoch - 450ms/step\n",
      "Epoch 13/15\n",
      "17/17 - 8s - loss: 0.0736 - binary_crossentropy: 0.0502 - 8s/epoch - 461ms/step\n",
      "Epoch 14/15\n",
      "17/17 - 8s - loss: 0.0412 - binary_crossentropy: 0.0293 - 8s/epoch - 487ms/step\n",
      "Epoch 15/15\n",
      "17/17 - 8s - loss: 0.0330 - binary_crossentropy: 0.0202 - 8s/epoch - 484ms/step\n",
      "Epoch 1/5\n",
      "17/17 - 13s - loss: 1.1369 - binary_crossentropy: 0.8024 - 13s/epoch - 786ms/step\n",
      "Epoch 2/5\n",
      "17/17 - 8s - loss: 1.0295 - binary_crossentropy: 0.6322 - 8s/epoch - 450ms/step\n",
      "Epoch 3/5\n",
      "17/17 - 7s - loss: 0.9396 - binary_crossentropy: 0.6672 - 7s/epoch - 441ms/step\n",
      "Epoch 4/5\n",
      "17/17 - 8s - loss: 0.8699 - binary_crossentropy: 0.5652 - 8s/epoch - 442ms/step\n",
      "Epoch 5/5\n",
      "17/17 - 8s - loss: 0.8005 - binary_crossentropy: 0.5595 - 8s/epoch - 468ms/step\n",
      "Epoch 6/10\n",
      "17/17 - 8s - loss: 0.6509 - binary_crossentropy: 0.4219 - 8s/epoch - 463ms/step\n",
      "Epoch 7/10\n",
      "17/17 - 8s - loss: 0.5525 - binary_crossentropy: 0.4063 - 8s/epoch - 479ms/step\n",
      "Epoch 8/10\n",
      "17/17 - 8s - loss: 0.5135 - binary_crossentropy: 0.3392 - 8s/epoch - 467ms/step\n",
      "Epoch 9/10\n",
      "17/17 - 8s - loss: 0.3244 - binary_crossentropy: 0.1916 - 8s/epoch - 468ms/step\n",
      "Epoch 10/10\n",
      "17/17 - 8s - loss: 0.2297 - binary_crossentropy: 0.1645 - 8s/epoch - 468ms/step\n",
      "Epoch 11/15\n",
      "17/17 - 8s - loss: 0.1932 - binary_crossentropy: 0.1342 - 8s/epoch - 465ms/step\n",
      "Epoch 12/15\n",
      "17/17 - 8s - loss: 0.1207 - binary_crossentropy: 0.0719 - 8s/epoch - 488ms/step\n",
      "Epoch 13/15\n",
      "17/17 - 8s - loss: 0.0712 - binary_crossentropy: 0.0511 - 8s/epoch - 478ms/step\n",
      "Epoch 14/15\n",
      "17/17 - 8s - loss: 0.0471 - binary_crossentropy: 0.0318 - 8s/epoch - 469ms/step\n",
      "Epoch 15/15\n",
      "17/17 - 8s - loss: 0.0688 - binary_crossentropy: 0.0407 - 8s/epoch - 453ms/step\n"
     ]
    },
    {
     "name": "stderr",
     "output_type": "stream",
     "text": [
      "\r",
      "2it [13:27, 402.05s/it]"
     ]
    },
    {
     "name": "stdout",
     "output_type": "stream",
     "text": [
      "Epoch 1/5\n",
      "17/17 - 14s - loss: 1.0985 - binary_crossentropy: 0.6983 - 14s/epoch - 803ms/step\n",
      "Epoch 2/5\n",
      "17/17 - 8s - loss: 1.0060 - binary_crossentropy: 0.7069 - 8s/epoch - 443ms/step\n",
      "Epoch 3/5\n",
      "17/17 - 8s - loss: 0.9277 - binary_crossentropy: 0.5515 - 8s/epoch - 453ms/step\n",
      "Epoch 4/5\n",
      "17/17 - 8s - loss: 0.8326 - binary_crossentropy: 0.5823 - 8s/epoch - 462ms/step\n",
      "Epoch 5/5\n",
      "17/17 - 8s - loss: 0.6759 - binary_crossentropy: 0.4666 - 8s/epoch - 462ms/step\n",
      "Epoch 6/10\n",
      "17/17 - 8s - loss: 0.4299 - binary_crossentropy: 0.2681 - 8s/epoch - 477ms/step\n",
      "Epoch 7/10\n",
      "17/17 - 8s - loss: 0.4073 - binary_crossentropy: 0.2824 - 8s/epoch - 472ms/step\n",
      "Epoch 8/10\n",
      "17/17 - 8s - loss: 0.2733 - binary_crossentropy: 0.1932 - 8s/epoch - 455ms/step\n",
      "Epoch 9/10\n",
      "17/17 - 8s - loss: 0.0999 - binary_crossentropy: 0.0694 - 8s/epoch - 464ms/step\n",
      "Epoch 10/10\n",
      "17/17 - 8s - loss: 0.0623 - binary_crossentropy: 0.0361 - 8s/epoch - 457ms/step\n",
      "Epoch 11/15\n",
      "17/17 - 8s - loss: 0.0282 - binary_crossentropy: 0.0170 - 8s/epoch - 465ms/step\n",
      "Epoch 12/15\n",
      "17/17 - 8s - loss: 0.0142 - binary_crossentropy: 0.0085 - 8s/epoch - 467ms/step\n",
      "Epoch 13/15\n",
      "17/17 - 8s - loss: 0.0106 - binary_crossentropy: 0.0066 - 8s/epoch - 461ms/step\n",
      "Epoch 14/15\n",
      "17/17 - 8s - loss: 0.0069 - binary_crossentropy: 0.0047 - 8s/epoch - 462ms/step\n",
      "Epoch 15/15\n",
      "17/17 - 8s - loss: 0.0071 - binary_crossentropy: 0.0036 - 8s/epoch - 458ms/step\n",
      "Epoch 1/5\n",
      "17/17 - 13s - loss: 1.1549 - binary_crossentropy: 0.7118 - 13s/epoch - 775ms/step\n",
      "Epoch 2/5\n",
      "17/17 - 8s - loss: 1.0258 - binary_crossentropy: 0.7229 - 8s/epoch - 459ms/step\n",
      "Epoch 3/5\n",
      "17/17 - 8s - loss: 0.9516 - binary_crossentropy: 0.6201 - 8s/epoch - 455ms/step\n",
      "Epoch 4/5\n",
      "17/17 - 8s - loss: 0.9124 - binary_crossentropy: 0.5708 - 8s/epoch - 460ms/step\n",
      "Epoch 5/5\n",
      "17/17 - 8s - loss: 0.7650 - binary_crossentropy: 0.5149 - 8s/epoch - 459ms/step\n",
      "Epoch 6/10\n",
      "17/17 - 8s - loss: 0.7044 - binary_crossentropy: 0.4474 - 8s/epoch - 465ms/step\n",
      "Epoch 7/10\n",
      "17/17 - 8s - loss: 0.5125 - binary_crossentropy: 0.3174 - 8s/epoch - 461ms/step\n",
      "Epoch 8/10\n",
      "17/17 - 8s - loss: 0.3740 - binary_crossentropy: 0.2534 - 8s/epoch - 461ms/step\n",
      "Epoch 9/10\n",
      "17/17 - 8s - loss: 0.5654 - binary_crossentropy: 0.3455 - 8s/epoch - 452ms/step\n",
      "Epoch 8/10\n",
      "17/17 - 8s - loss: 0.4725 - binary_crossentropy: 0.3054 - 8s/epoch - 457ms/step\n",
      "Epoch 9/10\n",
      "17/17 - 8s - loss: 0.3196 - binary_crossentropy: 0.2240 - 8s/epoch - 455ms/step\n",
      "Epoch 10/10\n",
      "17/17 - 8s - loss: 0.2073 - binary_crossentropy: 0.1353 - 8s/epoch - 458ms/step\n",
      "Epoch 11/15\n",
      "17/17 - 8s - loss: 0.1594 - binary_crossentropy: 0.0936 - 8s/epoch - 473ms/step\n",
      "Epoch 12/15\n",
      "17/17 - 8s - loss: 0.1335 - binary_crossentropy: 0.0825 - 8s/epoch - 456ms/step\n",
      "Epoch 13/15\n",
      "17/17 - 8s - loss: 0.0904 - binary_crossentropy: 0.0632 - 8s/epoch - 462ms/step\n",
      "Epoch 14/15\n",
      "17/17 - 7s - loss: 0.0483 - binary_crossentropy: 0.0304 - 7s/epoch - 439ms/step\n",
      "Epoch 15/15\n",
      "17/17 - 7s - loss: 0.0466 - binary_crossentropy: 0.0265 - 7s/epoch - 437ms/step\n"
     ]
    },
    {
     "name": "stderr",
     "output_type": "stream",
     "text": [
      "3it [19:48, 396.08s/it]\n"
     ]
    }
   ],
   "source": [
    "mc.findBestEpochs(labelled[labelled.SUBSET=='raw'], nSplit= 3)"
   ]
  },
  {
   "cell_type": "code",
   "execution_count": null,
   "id": "8c24e3cb",
   "metadata": {},
   "outputs": [],
   "source": [
    "gc.collect()"
   ]
  },
  {
   "cell_type": "code",
   "execution_count": 191,
   "id": "255c52be",
   "metadata": {},
   "outputs": [
    {
     "data": {
      "application/vnd.plotly.v1+json": {
       "config": {
        "plotlyServerURL": "https://plot.ly"
       },
       "data": [
        {
         "error_y": {
          "array": [
           0.05605425629813284,
           0.13441783318792153,
           0.1066272130360667
          ],
          "type": "data"
         },
         "name": "5",
         "type": "bar",
         "x": [
          "MixModel1",
          "MixModel2",
          "MixModel3"
         ],
         "xaxis": "x",
         "y": [
          0.3467000835421888,
          0.38299595141700404,
          0.3253968253968254
         ],
         "yaxis": "y"
        },
        {
         "error_y": {
          "array": [
           0.12106158296438436,
           0.10158207605119622,
           0.13882775689339447
          ],
          "type": "data"
         },
         "name": "10",
         "type": "bar",
         "x": [
          "MixModel1",
          "MixModel2",
          "MixModel3"
         ],
         "xaxis": "x",
         "y": [
          0.43346828609986504,
          0.3420479302832244,
          0.23335488041370392
         ],
         "yaxis": "y"
        },
        {
         "error_y": {
          "array": [
           0.1498546537375868,
           0.17953776662825763,
           0.1533393361853615
          ],
          "type": "data"
         },
         "name": "15",
         "type": "bar",
         "x": [
          "MixModel1",
          "MixModel2",
          "MixModel3"
         ],
         "xaxis": "x",
         "y": [
          0.31786731786731787,
          0.37630718954248366,
          0.2646125116713352
         ],
         "yaxis": "y"
        },
        {
         "error_y": {
          "array": [
           0.023350053041549183,
           0.11085614111107497,
           0.09801021994648186
          ],
          "type": "data"
         },
         "name": "5",
         "type": "bar",
         "x": [
          "MixModel1",
          "MixModel2",
          "MixModel3"
         ],
         "xaxis": "x2",
         "y": [
          0.5037878787878788,
          0.5397727272727272,
          0.5037878787878788
         ],
         "yaxis": "y2"
        },
        {
         "error_y": {
          "array": [
           0.10723778535524293,
           0.07904786649511063,
           0.09833905292232707
          ],
          "type": "data"
         },
         "name": "10",
         "type": "bar",
         "x": [
          "MixModel1",
          "MixModel2",
          "MixModel3"
         ],
         "xaxis": "x2",
         "y": [
          0.587121212121212,
          0.5359848484848484,
          0.49053030303030304
         ],
         "yaxis": "y2"
        },
        {
         "error_y": {
          "array": [
           0.11794240512833534,
           0.12194969721216099,
           0.1033195583104989
          ],
          "type": "data"
         },
         "name": "15",
         "type": "bar",
         "x": [
          "MixModel1",
          "MixModel2",
          "MixModel3"
         ],
         "xaxis": "x2",
         "y": [
          0.5151515151515151,
          0.5738636363636364,
          0.5170454545454545
         ],
         "yaxis": "y2"
        }
       ],
       "layout": {
        "barmode": "group",
        "template": {
         "data": {
          "bar": [
           {
            "error_x": {
             "color": "#2a3f5f"
            },
            "error_y": {
             "color": "#2a3f5f"
            },
            "marker": {
             "line": {
              "color": "#E5ECF6",
              "width": 0.5
             },
             "pattern": {
              "fillmode": "overlay",
              "size": 10,
              "solidity": 0.2
             }
            },
            "type": "bar"
           }
          ],
          "barpolar": [
           {
            "marker": {
             "line": {
              "color": "#E5ECF6",
              "width": 0.5
             },
             "pattern": {
              "fillmode": "overlay",
              "size": 10,
              "solidity": 0.2
             }
            },
            "type": "barpolar"
           }
          ],
          "carpet": [
           {
            "aaxis": {
             "endlinecolor": "#2a3f5f",
             "gridcolor": "white",
             "linecolor": "white",
             "minorgridcolor": "white",
             "startlinecolor": "#2a3f5f"
            },
            "baxis": {
             "endlinecolor": "#2a3f5f",
             "gridcolor": "white",
             "linecolor": "white",
             "minorgridcolor": "white",
             "startlinecolor": "#2a3f5f"
            },
            "type": "carpet"
           }
          ],
          "choropleth": [
           {
            "colorbar": {
             "outlinewidth": 0,
             "ticks": ""
            },
            "type": "choropleth"
           }
          ],
          "contour": [
           {
            "colorbar": {
             "outlinewidth": 0,
             "ticks": ""
            },
            "colorscale": [
             [
              0,
              "#0d0887"
             ],
             [
              0.1111111111111111,
              "#46039f"
             ],
             [
              0.2222222222222222,
              "#7201a8"
             ],
             [
              0.3333333333333333,
              "#9c179e"
             ],
             [
              0.4444444444444444,
              "#bd3786"
             ],
             [
              0.5555555555555556,
              "#d8576b"
             ],
             [
              0.6666666666666666,
              "#ed7953"
             ],
             [
              0.7777777777777778,
              "#fb9f3a"
             ],
             [
              0.8888888888888888,
              "#fdca26"
             ],
             [
              1,
              "#f0f921"
             ]
            ],
            "type": "contour"
           }
          ],
          "contourcarpet": [
           {
            "colorbar": {
             "outlinewidth": 0,
             "ticks": ""
            },
            "type": "contourcarpet"
           }
          ],
          "heatmap": [
           {
            "colorbar": {
             "outlinewidth": 0,
             "ticks": ""
            },
            "colorscale": [
             [
              0,
              "#0d0887"
             ],
             [
              0.1111111111111111,
              "#46039f"
             ],
             [
              0.2222222222222222,
              "#7201a8"
             ],
             [
              0.3333333333333333,
              "#9c179e"
             ],
             [
              0.4444444444444444,
              "#bd3786"
             ],
             [
              0.5555555555555556,
              "#d8576b"
             ],
             [
              0.6666666666666666,
              "#ed7953"
             ],
             [
              0.7777777777777778,
              "#fb9f3a"
             ],
             [
              0.8888888888888888,
              "#fdca26"
             ],
             [
              1,
              "#f0f921"
             ]
            ],
            "type": "heatmap"
           }
          ],
          "heatmapgl": [
           {
            "colorbar": {
             "outlinewidth": 0,
             "ticks": ""
            },
            "colorscale": [
             [
              0,
              "#0d0887"
             ],
             [
              0.1111111111111111,
              "#46039f"
             ],
             [
              0.2222222222222222,
              "#7201a8"
             ],
             [
              0.3333333333333333,
              "#9c179e"
             ],
             [
              0.4444444444444444,
              "#bd3786"
             ],
             [
              0.5555555555555556,
              "#d8576b"
             ],
             [
              0.6666666666666666,
              "#ed7953"
             ],
             [
              0.7777777777777778,
              "#fb9f3a"
             ],
             [
              0.8888888888888888,
              "#fdca26"
             ],
             [
              1,
              "#f0f921"
             ]
            ],
            "type": "heatmapgl"
           }
          ],
          "histogram": [
           {
            "marker": {
             "pattern": {
              "fillmode": "overlay",
              "size": 10,
              "solidity": 0.2
             }
            },
            "type": "histogram"
           }
          ],
          "histogram2d": [
           {
            "colorbar": {
             "outlinewidth": 0,
             "ticks": ""
            },
            "colorscale": [
             [
              0,
              "#0d0887"
             ],
             [
              0.1111111111111111,
              "#46039f"
             ],
             [
              0.2222222222222222,
              "#7201a8"
             ],
             [
              0.3333333333333333,
              "#9c179e"
             ],
             [
              0.4444444444444444,
              "#bd3786"
             ],
             [
              0.5555555555555556,
              "#d8576b"
             ],
             [
              0.6666666666666666,
              "#ed7953"
             ],
             [
              0.7777777777777778,
              "#fb9f3a"
             ],
             [
              0.8888888888888888,
              "#fdca26"
             ],
             [
              1,
              "#f0f921"
             ]
            ],
            "type": "histogram2d"
           }
          ],
          "histogram2dcontour": [
           {
            "colorbar": {
             "outlinewidth": 0,
             "ticks": ""
            },
            "colorscale": [
             [
              0,
              "#0d0887"
             ],
             [
              0.1111111111111111,
              "#46039f"
             ],
             [
              0.2222222222222222,
              "#7201a8"
             ],
             [
              0.3333333333333333,
              "#9c179e"
             ],
             [
              0.4444444444444444,
              "#bd3786"
             ],
             [
              0.5555555555555556,
              "#d8576b"
             ],
             [
              0.6666666666666666,
              "#ed7953"
             ],
             [
              0.7777777777777778,
              "#fb9f3a"
             ],
             [
              0.8888888888888888,
              "#fdca26"
             ],
             [
              1,
              "#f0f921"
             ]
            ],
            "type": "histogram2dcontour"
           }
          ],
          "mesh3d": [
           {
            "colorbar": {
             "outlinewidth": 0,
             "ticks": ""
            },
            "type": "mesh3d"
           }
          ],
          "parcoords": [
           {
            "line": {
             "colorbar": {
              "outlinewidth": 0,
              "ticks": ""
             }
            },
            "type": "parcoords"
           }
          ],
          "pie": [
           {
            "automargin": true,
            "type": "pie"
           }
          ],
          "scatter": [
           {
            "fillpattern": {
             "fillmode": "overlay",
             "size": 10,
             "solidity": 0.2
            },
            "type": "scatter"
           }
          ],
          "scatter3d": [
           {
            "line": {
             "colorbar": {
              "outlinewidth": 0,
              "ticks": ""
             }
            },
            "marker": {
             "colorbar": {
              "outlinewidth": 0,
              "ticks": ""
             }
            },
            "type": "scatter3d"
           }
          ],
          "scattercarpet": [
           {
            "marker": {
             "colorbar": {
              "outlinewidth": 0,
              "ticks": ""
             }
            },
            "type": "scattercarpet"
           }
          ],
          "scattergeo": [
           {
            "marker": {
             "colorbar": {
              "outlinewidth": 0,
              "ticks": ""
             }
            },
            "type": "scattergeo"
           }
          ],
          "scattergl": [
           {
            "marker": {
             "colorbar": {
              "outlinewidth": 0,
              "ticks": ""
             }
            },
            "type": "scattergl"
           }
          ],
          "scattermapbox": [
           {
            "marker": {
             "colorbar": {
              "outlinewidth": 0,
              "ticks": ""
             }
            },
            "type": "scattermapbox"
           }
          ],
          "scatterpolar": [
           {
            "marker": {
             "colorbar": {
              "outlinewidth": 0,
              "ticks": ""
             }
            },
            "type": "scatterpolar"
           }
          ],
          "scatterpolargl": [
           {
            "marker": {
             "colorbar": {
              "outlinewidth": 0,
              "ticks": ""
             }
            },
            "type": "scatterpolargl"
           }
          ],
          "scatterternary": [
           {
            "marker": {
             "colorbar": {
              "outlinewidth": 0,
              "ticks": ""
             }
            },
            "type": "scatterternary"
           }
          ],
          "surface": [
           {
            "colorbar": {
             "outlinewidth": 0,
             "ticks": ""
            },
            "colorscale": [
             [
              0,
              "#0d0887"
             ],
             [
              0.1111111111111111,
              "#46039f"
             ],
             [
              0.2222222222222222,
              "#7201a8"
             ],
             [
              0.3333333333333333,
              "#9c179e"
             ],
             [
              0.4444444444444444,
              "#bd3786"
             ],
             [
              0.5555555555555556,
              "#d8576b"
             ],
             [
              0.6666666666666666,
              "#ed7953"
             ],
             [
              0.7777777777777778,
              "#fb9f3a"
             ],
             [
              0.8888888888888888,
              "#fdca26"
             ],
             [
              1,
              "#f0f921"
             ]
            ],
            "type": "surface"
           }
          ],
          "table": [
           {
            "cells": {
             "fill": {
              "color": "#EBF0F8"
             },
             "line": {
              "color": "white"
             }
            },
            "header": {
             "fill": {
              "color": "#C8D4E3"
             },
             "line": {
              "color": "white"
             }
            },
            "type": "table"
           }
          ]
         },
         "layout": {
          "annotationdefaults": {
           "arrowcolor": "#2a3f5f",
           "arrowhead": 0,
           "arrowwidth": 1
          },
          "autotypenumbers": "strict",
          "coloraxis": {
           "colorbar": {
            "outlinewidth": 0,
            "ticks": ""
           }
          },
          "colorscale": {
           "diverging": [
            [
             0,
             "#8e0152"
            ],
            [
             0.1,
             "#c51b7d"
            ],
            [
             0.2,
             "#de77ae"
            ],
            [
             0.3,
             "#f1b6da"
            ],
            [
             0.4,
             "#fde0ef"
            ],
            [
             0.5,
             "#f7f7f7"
            ],
            [
             0.6,
             "#e6f5d0"
            ],
            [
             0.7,
             "#b8e186"
            ],
            [
             0.8,
             "#7fbc41"
            ],
            [
             0.9,
             "#4d9221"
            ],
            [
             1,
             "#276419"
            ]
           ],
           "sequential": [
            [
             0,
             "#0d0887"
            ],
            [
             0.1111111111111111,
             "#46039f"
            ],
            [
             0.2222222222222222,
             "#7201a8"
            ],
            [
             0.3333333333333333,
             "#9c179e"
            ],
            [
             0.4444444444444444,
             "#bd3786"
            ],
            [
             0.5555555555555556,
             "#d8576b"
            ],
            [
             0.6666666666666666,
             "#ed7953"
            ],
            [
             0.7777777777777778,
             "#fb9f3a"
            ],
            [
             0.8888888888888888,
             "#fdca26"
            ],
            [
             1,
             "#f0f921"
            ]
           ],
           "sequentialminus": [
            [
             0,
             "#0d0887"
            ],
            [
             0.1111111111111111,
             "#46039f"
            ],
            [
             0.2222222222222222,
             "#7201a8"
            ],
            [
             0.3333333333333333,
             "#9c179e"
            ],
            [
             0.4444444444444444,
             "#bd3786"
            ],
            [
             0.5555555555555556,
             "#d8576b"
            ],
            [
             0.6666666666666666,
             "#ed7953"
            ],
            [
             0.7777777777777778,
             "#fb9f3a"
            ],
            [
             0.8888888888888888,
             "#fdca26"
            ],
            [
             1,
             "#f0f921"
            ]
           ]
          },
          "colorway": [
           "#636efa",
           "#EF553B",
           "#00cc96",
           "#ab63fa",
           "#FFA15A",
           "#19d3f3",
           "#FF6692",
           "#B6E880",
           "#FF97FF",
           "#FECB52"
          ],
          "font": {
           "color": "#2a3f5f"
          },
          "geo": {
           "bgcolor": "white",
           "lakecolor": "white",
           "landcolor": "#E5ECF6",
           "showlakes": true,
           "showland": true,
           "subunitcolor": "white"
          },
          "hoverlabel": {
           "align": "left"
          },
          "hovermode": "closest",
          "mapbox": {
           "style": "light"
          },
          "paper_bgcolor": "white",
          "plot_bgcolor": "#E5ECF6",
          "polar": {
           "angularaxis": {
            "gridcolor": "white",
            "linecolor": "white",
            "ticks": ""
           },
           "bgcolor": "#E5ECF6",
           "radialaxis": {
            "gridcolor": "white",
            "linecolor": "white",
            "ticks": ""
           }
          },
          "scene": {
           "xaxis": {
            "backgroundcolor": "#E5ECF6",
            "gridcolor": "white",
            "gridwidth": 2,
            "linecolor": "white",
            "showbackground": true,
            "ticks": "",
            "zerolinecolor": "white"
           },
           "yaxis": {
            "backgroundcolor": "#E5ECF6",
            "gridcolor": "white",
            "gridwidth": 2,
            "linecolor": "white",
            "showbackground": true,
            "ticks": "",
            "zerolinecolor": "white"
           },
           "zaxis": {
            "backgroundcolor": "#E5ECF6",
            "gridcolor": "white",
            "gridwidth": 2,
            "linecolor": "white",
            "showbackground": true,
            "ticks": "",
            "zerolinecolor": "white"
           }
          },
          "shapedefaults": {
           "line": {
            "color": "#2a3f5f"
           }
          },
          "ternary": {
           "aaxis": {
            "gridcolor": "white",
            "linecolor": "white",
            "ticks": ""
           },
           "baxis": {
            "gridcolor": "white",
            "linecolor": "white",
            "ticks": ""
           },
           "bgcolor": "#E5ECF6",
           "caxis": {
            "gridcolor": "white",
            "linecolor": "white",
            "ticks": ""
           }
          },
          "title": {
           "x": 0.05
          },
          "xaxis": {
           "automargin": true,
           "gridcolor": "white",
           "linecolor": "white",
           "ticks": "",
           "title": {
            "standoff": 15
           },
           "zerolinecolor": "white",
           "zerolinewidth": 2
          },
          "yaxis": {
           "automargin": true,
           "gridcolor": "white",
           "linecolor": "white",
           "ticks": "",
           "title": {
            "standoff": 15
           },
           "zerolinecolor": "white",
           "zerolinewidth": 2
          }
         }
        },
        "xaxis": {
         "anchor": "y",
         "domain": [
          0,
          1
         ]
        },
        "xaxis2": {
         "anchor": "y2",
         "domain": [
          0,
          1
         ]
        },
        "yaxis": {
         "anchor": "x",
         "domain": [
          0.575,
          1
         ]
        },
        "yaxis2": {
         "anchor": "x2",
         "domain": [
          0,
          0.425
         ]
        }
       }
      },
      "text/html": [
       "<div>                            <div id=\"b2c59a0f-3873-4c38-aeea-323c066a9b84\" class=\"plotly-graph-div\" style=\"height:525px; width:100%;\"></div>            <script type=\"text/javascript\">                require([\"plotly\"], function(Plotly) {                    window.PLOTLYENV=window.PLOTLYENV || {};                                    if (document.getElementById(\"b2c59a0f-3873-4c38-aeea-323c066a9b84\")) {                    Plotly.newPlot(                        \"b2c59a0f-3873-4c38-aeea-323c066a9b84\",                        [{\"error_y\":{\"array\":[0.05605425629813284,0.13441783318792153,0.1066272130360667],\"type\":\"data\"},\"name\":\"5\",\"x\":[\"MixModel1\",\"MixModel2\",\"MixModel3\"],\"y\":[0.3467000835421888,0.38299595141700404,0.3253968253968254],\"type\":\"bar\",\"xaxis\":\"x\",\"yaxis\":\"y\"},{\"error_y\":{\"array\":[0.12106158296438436,0.10158207605119622,0.13882775689339447],\"type\":\"data\"},\"name\":\"10\",\"x\":[\"MixModel1\",\"MixModel2\",\"MixModel3\"],\"y\":[0.43346828609986504,0.3420479302832244,0.23335488041370392],\"type\":\"bar\",\"xaxis\":\"x\",\"yaxis\":\"y\"},{\"error_y\":{\"array\":[0.1498546537375868,0.17953776662825763,0.1533393361853615],\"type\":\"data\"},\"name\":\"15\",\"x\":[\"MixModel1\",\"MixModel2\",\"MixModel3\"],\"y\":[0.31786731786731787,0.37630718954248366,0.2646125116713352],\"type\":\"bar\",\"xaxis\":\"x\",\"yaxis\":\"y\"},{\"error_y\":{\"array\":[0.023350053041549183,0.11085614111107497,0.09801021994648186],\"type\":\"data\"},\"name\":\"5\",\"x\":[\"MixModel1\",\"MixModel2\",\"MixModel3\"],\"y\":[0.5037878787878788,0.5397727272727272,0.5037878787878788],\"type\":\"bar\",\"xaxis\":\"x2\",\"yaxis\":\"y2\"},{\"error_y\":{\"array\":[0.10723778535524293,0.07904786649511063,0.09833905292232707],\"type\":\"data\"},\"name\":\"10\",\"x\":[\"MixModel1\",\"MixModel2\",\"MixModel3\"],\"y\":[0.587121212121212,0.5359848484848484,0.49053030303030304],\"type\":\"bar\",\"xaxis\":\"x2\",\"yaxis\":\"y2\"},{\"error_y\":{\"array\":[0.11794240512833534,0.12194969721216099,0.1033195583104989],\"type\":\"data\"},\"name\":\"15\",\"x\":[\"MixModel1\",\"MixModel2\",\"MixModel3\"],\"y\":[0.5151515151515151,0.5738636363636364,0.5170454545454545],\"type\":\"bar\",\"xaxis\":\"x2\",\"yaxis\":\"y2\"}],                        {\"template\":{\"data\":{\"histogram2dcontour\":[{\"type\":\"histogram2dcontour\",\"colorbar\":{\"outlinewidth\":0,\"ticks\":\"\"},\"colorscale\":[[0.0,\"#0d0887\"],[0.1111111111111111,\"#46039f\"],[0.2222222222222222,\"#7201a8\"],[0.3333333333333333,\"#9c179e\"],[0.4444444444444444,\"#bd3786\"],[0.5555555555555556,\"#d8576b\"],[0.6666666666666666,\"#ed7953\"],[0.7777777777777778,\"#fb9f3a\"],[0.8888888888888888,\"#fdca26\"],[1.0,\"#f0f921\"]]}],\"choropleth\":[{\"type\":\"choropleth\",\"colorbar\":{\"outlinewidth\":0,\"ticks\":\"\"}}],\"histogram2d\":[{\"type\":\"histogram2d\",\"colorbar\":{\"outlinewidth\":0,\"ticks\":\"\"},\"colorscale\":[[0.0,\"#0d0887\"],[0.1111111111111111,\"#46039f\"],[0.2222222222222222,\"#7201a8\"],[0.3333333333333333,\"#9c179e\"],[0.4444444444444444,\"#bd3786\"],[0.5555555555555556,\"#d8576b\"],[0.6666666666666666,\"#ed7953\"],[0.7777777777777778,\"#fb9f3a\"],[0.8888888888888888,\"#fdca26\"],[1.0,\"#f0f921\"]]}],\"heatmap\":[{\"type\":\"heatmap\",\"colorbar\":{\"outlinewidth\":0,\"ticks\":\"\"},\"colorscale\":[[0.0,\"#0d0887\"],[0.1111111111111111,\"#46039f\"],[0.2222222222222222,\"#7201a8\"],[0.3333333333333333,\"#9c179e\"],[0.4444444444444444,\"#bd3786\"],[0.5555555555555556,\"#d8576b\"],[0.6666666666666666,\"#ed7953\"],[0.7777777777777778,\"#fb9f3a\"],[0.8888888888888888,\"#fdca26\"],[1.0,\"#f0f921\"]]}],\"heatmapgl\":[{\"type\":\"heatmapgl\",\"colorbar\":{\"outlinewidth\":0,\"ticks\":\"\"},\"colorscale\":[[0.0,\"#0d0887\"],[0.1111111111111111,\"#46039f\"],[0.2222222222222222,\"#7201a8\"],[0.3333333333333333,\"#9c179e\"],[0.4444444444444444,\"#bd3786\"],[0.5555555555555556,\"#d8576b\"],[0.6666666666666666,\"#ed7953\"],[0.7777777777777778,\"#fb9f3a\"],[0.8888888888888888,\"#fdca26\"],[1.0,\"#f0f921\"]]}],\"contourcarpet\":[{\"type\":\"contourcarpet\",\"colorbar\":{\"outlinewidth\":0,\"ticks\":\"\"}}],\"contour\":[{\"type\":\"contour\",\"colorbar\":{\"outlinewidth\":0,\"ticks\":\"\"},\"colorscale\":[[0.0,\"#0d0887\"],[0.1111111111111111,\"#46039f\"],[0.2222222222222222,\"#7201a8\"],[0.3333333333333333,\"#9c179e\"],[0.4444444444444444,\"#bd3786\"],[0.5555555555555556,\"#d8576b\"],[0.6666666666666666,\"#ed7953\"],[0.7777777777777778,\"#fb9f3a\"],[0.8888888888888888,\"#fdca26\"],[1.0,\"#f0f921\"]]}],\"surface\":[{\"type\":\"surface\",\"colorbar\":{\"outlinewidth\":0,\"ticks\":\"\"},\"colorscale\":[[0.0,\"#0d0887\"],[0.1111111111111111,\"#46039f\"],[0.2222222222222222,\"#7201a8\"],[0.3333333333333333,\"#9c179e\"],[0.4444444444444444,\"#bd3786\"],[0.5555555555555556,\"#d8576b\"],[0.6666666666666666,\"#ed7953\"],[0.7777777777777778,\"#fb9f3a\"],[0.8888888888888888,\"#fdca26\"],[1.0,\"#f0f921\"]]}],\"mesh3d\":[{\"type\":\"mesh3d\",\"colorbar\":{\"outlinewidth\":0,\"ticks\":\"\"}}],\"scatter\":[{\"fillpattern\":{\"fillmode\":\"overlay\",\"size\":10,\"solidity\":0.2},\"type\":\"scatter\"}],\"parcoords\":[{\"type\":\"parcoords\",\"line\":{\"colorbar\":{\"outlinewidth\":0,\"ticks\":\"\"}}}],\"scatterpolargl\":[{\"type\":\"scatterpolargl\",\"marker\":{\"colorbar\":{\"outlinewidth\":0,\"ticks\":\"\"}}}],\"bar\":[{\"error_x\":{\"color\":\"#2a3f5f\"},\"error_y\":{\"color\":\"#2a3f5f\"},\"marker\":{\"line\":{\"color\":\"#E5ECF6\",\"width\":0.5},\"pattern\":{\"fillmode\":\"overlay\",\"size\":10,\"solidity\":0.2}},\"type\":\"bar\"}],\"scattergeo\":[{\"type\":\"scattergeo\",\"marker\":{\"colorbar\":{\"outlinewidth\":0,\"ticks\":\"\"}}}],\"scatterpolar\":[{\"type\":\"scatterpolar\",\"marker\":{\"colorbar\":{\"outlinewidth\":0,\"ticks\":\"\"}}}],\"histogram\":[{\"marker\":{\"pattern\":{\"fillmode\":\"overlay\",\"size\":10,\"solidity\":0.2}},\"type\":\"histogram\"}],\"scattergl\":[{\"type\":\"scattergl\",\"marker\":{\"colorbar\":{\"outlinewidth\":0,\"ticks\":\"\"}}}],\"scatter3d\":[{\"type\":\"scatter3d\",\"line\":{\"colorbar\":{\"outlinewidth\":0,\"ticks\":\"\"}},\"marker\":{\"colorbar\":{\"outlinewidth\":0,\"ticks\":\"\"}}}],\"scattermapbox\":[{\"type\":\"scattermapbox\",\"marker\":{\"colorbar\":{\"outlinewidth\":0,\"ticks\":\"\"}}}],\"scatterternary\":[{\"type\":\"scatterternary\",\"marker\":{\"colorbar\":{\"outlinewidth\":0,\"ticks\":\"\"}}}],\"scattercarpet\":[{\"type\":\"scattercarpet\",\"marker\":{\"colorbar\":{\"outlinewidth\":0,\"ticks\":\"\"}}}],\"carpet\":[{\"aaxis\":{\"endlinecolor\":\"#2a3f5f\",\"gridcolor\":\"white\",\"linecolor\":\"white\",\"minorgridcolor\":\"white\",\"startlinecolor\":\"#2a3f5f\"},\"baxis\":{\"endlinecolor\":\"#2a3f5f\",\"gridcolor\":\"white\",\"linecolor\":\"white\",\"minorgridcolor\":\"white\",\"startlinecolor\":\"#2a3f5f\"},\"type\":\"carpet\"}],\"table\":[{\"cells\":{\"fill\":{\"color\":\"#EBF0F8\"},\"line\":{\"color\":\"white\"}},\"header\":{\"fill\":{\"color\":\"#C8D4E3\"},\"line\":{\"color\":\"white\"}},\"type\":\"table\"}],\"barpolar\":[{\"marker\":{\"line\":{\"color\":\"#E5ECF6\",\"width\":0.5},\"pattern\":{\"fillmode\":\"overlay\",\"size\":10,\"solidity\":0.2}},\"type\":\"barpolar\"}],\"pie\":[{\"automargin\":true,\"type\":\"pie\"}]},\"layout\":{\"autotypenumbers\":\"strict\",\"colorway\":[\"#636efa\",\"#EF553B\",\"#00cc96\",\"#ab63fa\",\"#FFA15A\",\"#19d3f3\",\"#FF6692\",\"#B6E880\",\"#FF97FF\",\"#FECB52\"],\"font\":{\"color\":\"#2a3f5f\"},\"hovermode\":\"closest\",\"hoverlabel\":{\"align\":\"left\"},\"paper_bgcolor\":\"white\",\"plot_bgcolor\":\"#E5ECF6\",\"polar\":{\"bgcolor\":\"#E5ECF6\",\"angularaxis\":{\"gridcolor\":\"white\",\"linecolor\":\"white\",\"ticks\":\"\"},\"radialaxis\":{\"gridcolor\":\"white\",\"linecolor\":\"white\",\"ticks\":\"\"}},\"ternary\":{\"bgcolor\":\"#E5ECF6\",\"aaxis\":{\"gridcolor\":\"white\",\"linecolor\":\"white\",\"ticks\":\"\"},\"baxis\":{\"gridcolor\":\"white\",\"linecolor\":\"white\",\"ticks\":\"\"},\"caxis\":{\"gridcolor\":\"white\",\"linecolor\":\"white\",\"ticks\":\"\"}},\"coloraxis\":{\"colorbar\":{\"outlinewidth\":0,\"ticks\":\"\"}},\"colorscale\":{\"sequential\":[[0.0,\"#0d0887\"],[0.1111111111111111,\"#46039f\"],[0.2222222222222222,\"#7201a8\"],[0.3333333333333333,\"#9c179e\"],[0.4444444444444444,\"#bd3786\"],[0.5555555555555556,\"#d8576b\"],[0.6666666666666666,\"#ed7953\"],[0.7777777777777778,\"#fb9f3a\"],[0.8888888888888888,\"#fdca26\"],[1.0,\"#f0f921\"]],\"sequentialminus\":[[0.0,\"#0d0887\"],[0.1111111111111111,\"#46039f\"],[0.2222222222222222,\"#7201a8\"],[0.3333333333333333,\"#9c179e\"],[0.4444444444444444,\"#bd3786\"],[0.5555555555555556,\"#d8576b\"],[0.6666666666666666,\"#ed7953\"],[0.7777777777777778,\"#fb9f3a\"],[0.8888888888888888,\"#fdca26\"],[1.0,\"#f0f921\"]],\"diverging\":[[0,\"#8e0152\"],[0.1,\"#c51b7d\"],[0.2,\"#de77ae\"],[0.3,\"#f1b6da\"],[0.4,\"#fde0ef\"],[0.5,\"#f7f7f7\"],[0.6,\"#e6f5d0\"],[0.7,\"#b8e186\"],[0.8,\"#7fbc41\"],[0.9,\"#4d9221\"],[1,\"#276419\"]]},\"xaxis\":{\"gridcolor\":\"white\",\"linecolor\":\"white\",\"ticks\":\"\",\"title\":{\"standoff\":15},\"zerolinecolor\":\"white\",\"automargin\":true,\"zerolinewidth\":2},\"yaxis\":{\"gridcolor\":\"white\",\"linecolor\":\"white\",\"ticks\":\"\",\"title\":{\"standoff\":15},\"zerolinecolor\":\"white\",\"automargin\":true,\"zerolinewidth\":2},\"scene\":{\"xaxis\":{\"backgroundcolor\":\"#E5ECF6\",\"gridcolor\":\"white\",\"linecolor\":\"white\",\"showbackground\":true,\"ticks\":\"\",\"zerolinecolor\":\"white\",\"gridwidth\":2},\"yaxis\":{\"backgroundcolor\":\"#E5ECF6\",\"gridcolor\":\"white\",\"linecolor\":\"white\",\"showbackground\":true,\"ticks\":\"\",\"zerolinecolor\":\"white\",\"gridwidth\":2},\"zaxis\":{\"backgroundcolor\":\"#E5ECF6\",\"gridcolor\":\"white\",\"linecolor\":\"white\",\"showbackground\":true,\"ticks\":\"\",\"zerolinecolor\":\"white\",\"gridwidth\":2}},\"shapedefaults\":{\"line\":{\"color\":\"#2a3f5f\"}},\"annotationdefaults\":{\"arrowcolor\":\"#2a3f5f\",\"arrowhead\":0,\"arrowwidth\":1},\"geo\":{\"bgcolor\":\"white\",\"landcolor\":\"#E5ECF6\",\"subunitcolor\":\"white\",\"showland\":true,\"showlakes\":true,\"lakecolor\":\"white\"},\"title\":{\"x\":0.05},\"mapbox\":{\"style\":\"light\"}}},\"xaxis\":{\"anchor\":\"y\",\"domain\":[0.0,1.0]},\"yaxis\":{\"anchor\":\"x\",\"domain\":[0.575,1.0]},\"xaxis2\":{\"anchor\":\"y2\",\"domain\":[0.0,1.0]},\"yaxis2\":{\"anchor\":\"x2\",\"domain\":[0.0,0.425]},\"barmode\":\"group\"},                        {\"responsive\": true}                    ).then(function(){\n",
       "                            \n",
       "var gd = document.getElementById('b2c59a0f-3873-4c38-aeea-323c066a9b84');\n",
       "var x = new MutationObserver(function (mutations, observer) {{\n",
       "        var display = window.getComputedStyle(gd).display;\n",
       "        if (!display || display === 'none') {{\n",
       "            console.log([gd, 'removed!']);\n",
       "            Plotly.purge(gd);\n",
       "            observer.disconnect();\n",
       "        }}\n",
       "}});\n",
       "\n",
       "// Listen for the removal of the full notebook cells\n",
       "var notebookContainer = gd.closest('#notebook-container');\n",
       "if (notebookContainer) {{\n",
       "    x.observe(notebookContainer, {childList: true});\n",
       "}}\n",
       "\n",
       "// Listen for the clearing of the current output cell\n",
       "var outputEl = gd.closest('.output');\n",
       "if (outputEl) {{\n",
       "    x.observe(outputEl, {childList: true});\n",
       "}}\n",
       "\n",
       "                        })                };                });            </script>        </div>"
      ]
     },
     "metadata": {},
     "output_type": "display_data"
    }
   ],
   "source": [
    "fig = make_subplots(rows=2, cols=1)\n",
    "for ind, scoreMetric in enumerate(['f1','bal_acc']): \n",
    "    for frac in [5,10,15]:\n",
    "        fig.add_trace(go.Bar(\n",
    "            name=frac,\n",
    "            x=[model for model in mc.epochScore], \n",
    "            y=[np.mean(mc.epochScore[model][scoreMetric][frac]) for model in mc.epochScore],\n",
    "            error_y=dict(type='data', \n",
    "                         array =[np.std(mc.epochScore[model][scoreMetric][frac]) \n",
    "                                 for model in mc.epochScore])), row=ind+1, col=1)\n",
    "\n",
    "fig.update_layout(barmode='group')\n",
    "fig.show()"
   ]
  },
  {
   "cell_type": "code",
   "execution_count": null,
   "id": "47b30364",
   "metadata": {},
   "outputs": [],
   "source": []
  }
 ],
 "metadata": {
  "kernelspec": {
   "display_name": "Python 3 (ipykernel)",
   "language": "python",
   "name": "python3"
  },
  "language_info": {
   "codemirror_mode": {
    "name": "ipython",
    "version": 3
   },
   "file_extension": ".py",
   "mimetype": "text/x-python",
   "name": "python",
   "nbconvert_exporter": "python",
   "pygments_lexer": "ipython3",
   "version": "3.9.13"
  }
 },
 "nbformat": 4,
 "nbformat_minor": 5
}
