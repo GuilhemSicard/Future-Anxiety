{
 "cells": [
  {
   "cell_type": "code",
   "execution_count": null,
   "id": "e69f5080",
   "metadata": {},
   "outputs": [],
   "source": [
    "import tomotopy as tp\n",
    "import spacy\n",
    "from spacy.tokens import DocBin, Doc\n",
    "import pandas as pd \n",
    "\n",
    "from tqdm import tqdm\n",
    "import numpy as np\n",
    "import pandas as pd\n",
    "import regex as re\n",
    "re.DEFAULT_VERSION = re.VERSION1\n",
    "import plotly.express as px\n",
    "from IPython.display import Image\n",
    "\n",
    "import time\n",
    "import gc"
   ]
  },
  {
   "cell_type": "markdown",
   "id": "4f201c51",
   "metadata": {},
   "source": [
    "## Apply NLP pipeline for tokenization, lemmatization and other features for latter uses"
   ]
  },
  {
   "cell_type": "code",
   "execution_count": null,
   "id": "9b24343e",
   "metadata": {},
   "outputs": [],
   "source": [
    "doc_bin = DocBin(store_user_data=True)\n",
    "Doc.set_extension(\"ID\", default=None)\n",
    "nlp = spacy.load('fr_core_news_lg', exclude=[\"ner\"])\n",
    "texts = (text, ID for ID, text for textDf.content.iteritems())\n",
    "for doc, ID in nlp.pipe(texts,as_tuples = True, batch_size=512,n_process=24):\n",
    "    doc._.ID = ID\n",
    "    doc_bin.add(doc)\n",
    "    \n",
    "doc_bin.to_disk(\"data/le_figaro.spacy\")\n",
    "    "
   ]
  },
  {
   "cell_type": "markdown",
   "id": "488202d8",
   "metadata": {},
   "source": [
    "# Pachinko allocation"
   ]
  },
  {
   "cell_type": "code",
   "execution_count": null,
   "id": "191e37cc",
   "metadata": {},
   "outputs": [],
   "source": [
    "nlp = spacy.load('fr_core_news_lg', disable=[\"ner\"])\n",
    "\n",
    "Doc.set_extension(\"ID\", default=None)\n",
    "doc_bin = DocBin(store_user_data=True).from_disk(\"./data.spacy\")"
   ]
  },
  {
   "cell_type": "code",
   "execution_count": null,
   "id": "5a336f47",
   "metadata": {},
   "outputs": [],
   "source": [
    "def preprocess_text(doc):\n",
    "    ID = doc._.ID\n",
    "    doc = [doc.lemma_.lower() for word in doc \n",
    "           if word.is_alpha and (not word.is_stop) and (len(word.lemma_)>2) and (not word.is_oov)] \n",
    "    return ID, text"
   ]
  },
  {
   "cell_type": "code",
   "execution_count": null,
   "id": "5d2a31b3",
   "metadata": {},
   "outputs": [],
   "source": [
    "docs = ((ID,preprocess_text(doc)) for ID, doc \n",
    "        in tqdm(doc_bin.get_docs(nlp.vocab)))\n",
    "textDf = pd.DataFrame(docs, columns=['index','lemmatized'])\n"
   ]
  },
  {
   "cell_type": "code",
   "execution_count": 128,
   "id": "6a4249e1",
   "metadata": {},
   "outputs": [
    {
     "data": {
      "text/plain": [
       "60"
      ]
     },
     "execution_count": 128,
     "metadata": {},
     "output_type": "execute_result"
    }
   ],
   "source": [
    "a = 2\n",
    "(a*6)*5"
   ]
  },
  {
   "cell_type": "code",
   "execution_count": null,
   "id": "c7d53f9e",
   "metadata": {},
   "outputs": [],
   "source": [
    "bigram = Phrases(raw_articles, min_count=10, threshold=10)\n",
    "bigram_mod = Phraser(bigram)\n",
    "raw_articles = list(bigram_mod[raw_articles])\n",
    "trigram = Phrases(raw_articles, min_count=10, threshold=15)\n",
    "trigram_mod = Phraser(bigram)\n",
    "raw_articles = list(trigram_mod[raw_articles])\n",
    "textDf[\"nGram\"] = raw_articles\n",
    "textDf[\"nGram\"] = textDf[\"nGram\"].apply(' '.join)\n",
    "textDf[\"lemmatize\"] = textDf[\"lemmatize\"].apply(' '.join)\n",
    "textDf.to_csv('data/le_figaro_lemmatized_without_stop.csv',index=False)"
   ]
  },
  {
   "cell_type": "code",
   "execution_count": null,
   "id": "01be7a28",
   "metadata": {},
   "outputs": [],
   "source": [
    "textDf = pd.read_csv('data/le_figaro_lemmatized_without_stop.csv')\n",
    "raw_articles = textDf.nGram.str.split().to_list()"
   ]
  },
  {
   "cell_type": "code",
   "execution_count": null,
   "id": "df3cf4a3",
   "metadata": {},
   "outputs": [],
   "source": [
    "corpus = tp.utils.Corpus()\n",
    "for doc in raw_articles:\n",
    "    if doc:\n",
    "        corpus.add_doc(doc)"
   ]
  },
  {
   "cell_type": "code",
   "execution_count": null,
   "id": "4307dd1c",
   "metadata": {},
   "outputs": [],
   "source": [
    "k1_max = 8 \n",
    "k2_max = 20\n",
    "k2_min = 5\n",
    "params = []\n",
    "scores = []\n",
    "num_iter = 0\n",
    "max_iter = 0\n",
    "for k1 in range(1, k1_max):\n",
    "    for k2 in range(max(k1,k2_min),k2_max):\n",
    "        max_iter +=1\n",
    "        \n",
    "start = time.time()\n",
    "for k1 in range(1, k1_max):\n",
    "    for k2 in range(max(k1,k2_min),k2_max):\n",
    "        num_iter+=1\n",
    "        model = tp.PAModel(tw=tp.TermWeight.IDF, min_df=10, rm_top=25, k1=k1, k2=k2, corpus=corpus)\n",
    "        model.burn_in = 15\n",
    "        model.train(40, workers=24)\n",
    "        score = tp.coherence.Coherence(model, coherence=\"c_v\").get_score()\n",
    "        params.append((k1,k2))\n",
    "        scores.append(score)\n",
    "        print(\"Runtime: %.2f seconds\" %(time.time() - start), \"|| Number of Searches: %s out of  %s\" %(num_iter, max_iter), \"|| k1: %s & k2: %s || coherence : %.3f\" %(k1,k2,score))\n",
    "\n",
    "best_params = np.argmax(scores)\n",
    "print(\"(BEST MODEL) k1=%s k2=%s coherence=%.2f\"  %(params[best_params][0], params[best_params][1],  scores[best_params]))"
   ]
  },
  {
   "cell_type": "markdown",
   "id": "a7a3532a",
   "metadata": {},
   "source": [
    "# BERTopic"
   ]
  },
  {
   "cell_type": "code",
   "execution_count": 1,
   "id": "ed038ef5",
   "metadata": {},
   "outputs": [],
   "source": [
    "import os, json\n",
    "import pandas as pd\n",
    "import json \n",
    "import plotly.express as px\n",
    "from IPython.display import Image\n",
    "\n",
    "import regex as re\n",
    "re.DEFAULT_VERSION = re.VERSION1\n",
    "\n",
    "import gc\n",
    "import string\n",
    "import time\n",
    "from concurrent.futures import ProcessPoolExecutor\n",
    "from tqdm import tqdm\n",
    "from gensim.models import Word2Vec\n",
    "from gensim.models.phrases import Phraser, Phrases\n",
    "from gensim.models.callbacks import CallbackAny2Vec\n",
    "from polyleven import levenshtein\n",
    "import spacy\n",
    "import numpy as np\n",
    "import pickle\n",
    "\n",
    "text = []\n",
    "for root, dirs, files in os.walk('data/le_figaro'):\n",
    "    for name in files:\n",
    "        if name.endswith((\".json\")) and 'le_figaro' not in name:\n",
    "            with open(os.path.join(root, name)) as f: \n",
    "                text.append(json.load(f))\n"
   ]
  },
  {
   "cell_type": "code",
   "execution_count": 2,
   "id": "50a8f4bc",
   "metadata": {},
   "outputs": [
    {
     "name": "stdout",
     "output_type": "stream",
     "text": [
      "1.527505874633789\n"
     ]
    }
   ],
   "source": [
    "t = time.time()\n",
    "textDf = pd.DataFrame(text)\n",
    "gc.collect()\n",
    "textDf['date'] = textDf.date.apply(lambda x : x[0]) \n",
    "textDf['year'] = textDf.date.apply(lambda x : x.split('-')[0]) \n",
    "textDf['nPages'] = textDf.contentAsText.apply(len)\n",
    "textDf = textDf[['contentAsText','date','nPages']].rename(columns = {'contentAsText':'pages'})\n",
    "textDf = textDf.explode('pages')\n",
    "gc.collect()\n",
    "print(time.time()-t)"
   ]
  },
  {
   "cell_type": "code",
   "execution_count": 31,
   "id": "293a882a",
   "metadata": {},
   "outputs": [
    {
     "data": {
      "text/plain": [
       "set()"
      ]
     },
     "execution_count": 31,
     "metadata": {},
     "output_type": "execute_result"
    }
   ],
   "source": [
    "minimalSet = lambda s: {elem for elem in s if len(elem)>0 and not any(el in elem for el in s if el!=elem)} \n",
    "minimalSet({})"
   ]
  },
  {
   "cell_type": "code",
   "execution_count": 32,
   "id": "850ade54",
   "metadata": {},
   "outputs": [
    {
     "data": {
      "text/plain": [
       "False"
      ]
     },
     "execution_count": 32,
     "metadata": {},
     "output_type": "execute_result"
    }
   ],
   "source": [
    "any(())"
   ]
  },
  {
   "cell_type": "code",
   "execution_count": 38,
   "id": "9b8a61cc",
   "metadata": {},
   "outputs": [],
   "source": [
    "paragraphDf = textDf.copy()\n",
    "paragraphDf['pages'] = paragraphDf.pages.str.split('\\n')\n",
    "paragraphDf = paragraphDf.explode('pages')"
   ]
  },
  {
   "cell_type": "code",
   "execution_count": 39,
   "id": "6dea5180",
   "metadata": {},
   "outputs": [],
   "source": [
    "paragraphDf['len'] = paragraphDf['pages'].apply(len)"
   ]
  },
  {
   "cell_type": "code",
   "execution_count": 40,
   "id": "c6d9c6ef",
   "metadata": {},
   "outputs": [],
   "source": [
    "paragraphDf = paragraphDf[paragraphDf.len>=5].copy()\n",
    "keepLetter = lambda p : re.sub('[^\\p{L}]','',p).lower()\n",
    "paragraphDf['charBlock'] = paragraphDf.pages.apply(keepLetter)\n",
    "paragraphDf = paragraphDf[paragraphDf.charBlock.apply(len)>=5].copy()"
   ]
  },
  {
   "cell_type": "code",
   "execution_count": 42,
   "id": "b7149a0a",
   "metadata": {},
   "outputs": [
    {
     "data": {
      "text/html": [
       "<div>\n",
       "<style scoped>\n",
       "    .dataframe tbody tr th:only-of-type {\n",
       "        vertical-align: middle;\n",
       "    }\n",
       "\n",
       "    .dataframe tbody tr th {\n",
       "        vertical-align: top;\n",
       "    }\n",
       "\n",
       "    .dataframe thead th {\n",
       "        text-align: right;\n",
       "    }\n",
       "</style>\n",
       "<table border=\"1\" class=\"dataframe\">\n",
       "  <thead>\n",
       "    <tr style=\"text-align: right;\">\n",
       "      <th></th>\n",
       "      <th>pages</th>\n",
       "      <th>date</th>\n",
       "      <th>nPages</th>\n",
       "      <th>len</th>\n",
       "      <th>charBlock</th>\n",
       "    </tr>\n",
       "  </thead>\n",
       "  <tbody>\n",
       "    <tr>\n",
       "      <th>0</th>\n",
       "      <td>46' Année = 3 e Série = N° 284</td>\n",
       "      <td>1900-10-21</td>\n",
       "      <td>6</td>\n",
       "      <td>30</td>\n",
       "      <td>annéeesérien</td>\n",
       "    </tr>\n",
       "    <tr>\n",
       "      <th>0</th>\n",
       "      <td>Le Numéro — SEME &amp; SEINE-ET-OISE : is centimes...</td>\n",
       "      <td>1900-10-21</td>\n",
       "      <td>6</td>\n",
       "      <td>76</td>\n",
       "      <td>lenumérosemeseineetoiseiscentimesdepartementsc...</td>\n",
       "    </tr>\n",
       "    <tr>\n",
       "      <th>0</th>\n",
       "      <td>Dimanche 21 Octobre 1900</td>\n",
       "      <td>1900-10-21</td>\n",
       "      <td>6</td>\n",
       "      <td>24</td>\n",
       "      <td>dimancheoctobre</td>\n",
       "    </tr>\n",
       "    <tr>\n",
       "      <th>0</th>\n",
       "      <td>Directeurs-rGêranfs P.DE RODAYS J A. PÉRIVIEB ...</td>\n",
       "      <td>1900-10-21</td>\n",
       "      <td>6</td>\n",
       "      <td>82</td>\n",
       "      <td>directeursrgêranfspderodaysjapériviebrédacteur...</td>\n",
       "    </tr>\n",
       "    <tr>\n",
       "      <th>0</th>\n",
       "      <td>H. DE VILLEMESSANT Fondateur</td>\n",
       "      <td>1900-10-21</td>\n",
       "      <td>6</td>\n",
       "      <td>28</td>\n",
       "      <td>hdevillemessantfondateur</td>\n",
       "    </tr>\n",
       "    <tr>\n",
       "      <th>...</th>\n",
       "      <td>...</td>\n",
       "      <td>...</td>\n",
       "      <td>...</td>\n",
       "      <td>...</td>\n",
       "      <td>...</td>\n",
       "    </tr>\n",
       "    <tr>\n",
       "      <th>11800</th>\n",
       "      <td>PHARMACIE NORMALE, 19,r.Drouot,Paris.</td>\n",
       "      <td>1907-05-27</td>\n",
       "      <td>6</td>\n",
       "      <td>37</td>\n",
       "      <td>pharmacienormalerdrouotparis</td>\n",
       "    </tr>\n",
       "    <tr>\n",
       "      <th>11800</th>\n",
       "      <td>TYROL GLACIERS.</td>\n",
       "      <td>1907-05-27</td>\n",
       "      <td>6</td>\n",
       "      <td>15</td>\n",
       "      <td>tyrolglaciers</td>\n",
       "    </tr>\n",
       "    <tr>\n",
       "      <th>11800</th>\n",
       "      <td>Lé plus charmant pays des Alpes. Merveilles de...</td>\n",
       "      <td>1907-05-27</td>\n",
       "      <td>6</td>\n",
       "      <td>777</td>\n",
       "      <td>lépluscharmantpaysdesalpesmerveillesdesplusmag...</td>\n",
       "    </tr>\n",
       "    <tr>\n",
       "      <th>11800</th>\n",
       "      <td>âSTHRSEÊSStCSEESPIS Imprimeur-Gérant QUIN TA.R...</td>\n",
       "      <td>1907-05-27</td>\n",
       "      <td>6</td>\n",
       "      <td>95</td>\n",
       "      <td>âsthrseêsstcseespisimprimeurgérantquintardpari...</td>\n",
       "    </tr>\n",
       "    <tr>\n",
       "      <th>11800</th>\n",
       "      <td>En vente partout le « FIGARO ILLUSTRE v numéro...</td>\n",
       "      <td>1907-05-27</td>\n",
       "      <td>6</td>\n",
       "      <td>53</td>\n",
       "      <td>enventepartoutlefigaroillustrevnumérodelai</td>\n",
       "    </tr>\n",
       "  </tbody>\n",
       "</table>\n",
       "<p>4180230 rows × 5 columns</p>\n",
       "</div>"
      ],
      "text/plain": [
       "                                                   pages        date  nPages  \\\n",
       "0                         46' Année = 3 e Série = N° 284  1900-10-21       6   \n",
       "0      Le Numéro — SEME & SEINE-ET-OISE : is centimes...  1900-10-21       6   \n",
       "0                               Dimanche 21 Octobre 1900  1900-10-21       6   \n",
       "0      Directeurs-rGêranfs P.DE RODAYS J A. PÉRIVIEB ...  1900-10-21       6   \n",
       "0                           H. DE VILLEMESSANT Fondateur  1900-10-21       6   \n",
       "...                                                  ...         ...     ...   \n",
       "11800              PHARMACIE NORMALE, 19,r.Drouot,Paris.  1907-05-27       6   \n",
       "11800                                    TYROL GLACIERS.  1907-05-27       6   \n",
       "11800  Lé plus charmant pays des Alpes. Merveilles de...  1907-05-27       6   \n",
       "11800  âSTHRSEÊSStCSEESPIS Imprimeur-Gérant QUIN TA.R...  1907-05-27       6   \n",
       "11800  En vente partout le « FIGARO ILLUSTRE v numéro...  1907-05-27       6   \n",
       "\n",
       "       len                                          charBlock  \n",
       "0       30                                       annéeesérien  \n",
       "0       76  lenumérosemeseineetoiseiscentimesdepartementsc...  \n",
       "0       24                                    dimancheoctobre  \n",
       "0       82  directeursrgêranfspderodaysjapériviebrédacteur...  \n",
       "0       28                           hdevillemessantfondateur  \n",
       "...    ...                                                ...  \n",
       "11800   37                       pharmacienormalerdrouotparis  \n",
       "11800   15                                      tyrolglaciers  \n",
       "11800  777  lépluscharmantpaysdesalpesmerveillesdesplusmag...  \n",
       "11800   95  âsthrseêsstcseespisimprimeurgérantquintardpari...  \n",
       "11800   53         enventepartoutlefigaroillustrevnumérodelai  \n",
       "\n",
       "[4180230 rows x 5 columns]"
      ]
     },
     "execution_count": 42,
     "metadata": {},
     "output_type": "execute_result"
    }
   ],
   "source": [
    "paragraphDf"
   ]
  },
  {
   "cell_type": "code",
   "execution_count": 43,
   "id": "e78d45fa",
   "metadata": {},
   "outputs": [],
   "source": [
    "paragraphDf['headlines'] = paragraphDf.charBlock.apply(lambda cb : [cb[:i] for i in range(5,min(25,len(cb)))])"
   ]
  },
  {
   "cell_type": "code",
   "execution_count": 44,
   "id": "ce0d1040",
   "metadata": {},
   "outputs": [],
   "source": [
    "headlines = paragraphDf['headlines'].explode().value_counts()"
   ]
  },
  {
   "cell_type": "code",
   "execution_count": 36,
   "id": "4e84cad4",
   "metadata": {},
   "outputs": [
    {
     "data": {
      "text/plain": [
       "'aeiouyÿŷáàâéèêìíîïòóôöüûùúAEIOUYŸŶÁÀÂÉÈÊÌÍÎÏÒÓÔÖÜÛÙÚ'"
      ]
     },
     "execution_count": 36,
     "metadata": {},
     "output_type": "execute_result"
    }
   ],
   "source": [
    "vowel = 'aeiouyÿŷáàâéèêìíîïòóôöüûùú'\n",
    "vowel = vowel+vowel.upper()\n",
    "vowel"
   ]
  },
  {
   "cell_type": "code",
   "execution_count": 45,
   "id": "85663f37",
   "metadata": {},
   "outputs": [
    {
     "name": "stdout",
     "output_type": "stream",
     "text": [
      "33564241\n"
     ]
    },
    {
     "data": {
      "text/plain": [
       "71516"
      ]
     },
     "execution_count": 45,
     "metadata": {},
     "output_type": "execute_result"
    }
   ],
   "source": [
    "print(len(headlines))\n",
    "headlines = pd.DataFrame(headlines) \n",
    "headlines['count'] = headlines.headlines\n",
    "headlines = headlines[headlines['count']>50].copy()\n",
    "headlines['headlines'] = headlines.index\n",
    "len(headlines)"
   ]
  },
  {
   "cell_type": "code",
   "execution_count": 46,
   "id": "8dde9848",
   "metadata": {},
   "outputs": [
    {
     "ename": "KeyboardInterrupt",
     "evalue": "",
     "output_type": "error",
     "traceback": [
      "\u001b[0;31m---------------------------------------------------------------------------\u001b[0m",
      "\u001b[0;31mKeyboardInterrupt\u001b[0m                         Traceback (most recent call last)",
      "\u001b[0;32m/tmp/ipykernel_295236/3167001212.py\u001b[0m in \u001b[0;36m<module>\u001b[0;34m\u001b[0m\n\u001b[1;32m      6\u001b[0m     \u001b[0;32mreturn\u001b[0m \u001b[0;34m(\u001b[0m\u001b[0mheadCount\u001b[0m\u001b[0;34m/\u001b[0m\u001b[0mlen\u001b[0m\u001b[0;34m(\u001b[0m\u001b[0moccurences\u001b[0m\u001b[0;34m)\u001b[0m\u001b[0;34m,\u001b[0m \u001b[0mheadCountbis\u001b[0m\u001b[0;34m/\u001b[0m\u001b[0mlen\u001b[0m\u001b[0;34m(\u001b[0m\u001b[0moccurences\u001b[0m\u001b[0;34m)\u001b[0m\u001b[0;34m)\u001b[0m\u001b[0;34m\u001b[0m\u001b[0;34m\u001b[0m\u001b[0m\n\u001b[1;32m      7\u001b[0m \u001b[0;34m\u001b[0m\u001b[0m\n\u001b[0;32m----> 8\u001b[0;31m \u001b[0mheadlines\u001b[0m\u001b[0;34m[\u001b[0m\u001b[0;34m'ratio'\u001b[0m\u001b[0;34m]\u001b[0m \u001b[0;34m=\u001b[0m \u001b[0mheadlines\u001b[0m\u001b[0;34m.\u001b[0m\u001b[0mheadlines\u001b[0m\u001b[0;34m.\u001b[0m\u001b[0mapply\u001b[0m\u001b[0;34m(\u001b[0m\u001b[0;32mlambda\u001b[0m \u001b[0mx\u001b[0m \u001b[0;34m:\u001b[0m \u001b[0mgetRatio\u001b[0m\u001b[0;34m(\u001b[0m\u001b[0mx\u001b[0m\u001b[0;34m,\u001b[0m\u001b[0mparagraphDf\u001b[0m\u001b[0;34m.\u001b[0m\u001b[0mcharBlock\u001b[0m\u001b[0;34m)\u001b[0m\u001b[0;34m)\u001b[0m\u001b[0;34m\u001b[0m\u001b[0;34m\u001b[0m\u001b[0m\n\u001b[0m",
      "\u001b[0;32m/opt/anaconda/lib/python3.9/site-packages/pandas/core/series.py\u001b[0m in \u001b[0;36mapply\u001b[0;34m(self, func, convert_dtype, args, **kwargs)\u001b[0m\n\u001b[1;32m   4431\u001b[0m         \u001b[0mdtype\u001b[0m\u001b[0;34m:\u001b[0m \u001b[0mfloat64\u001b[0m\u001b[0;34m\u001b[0m\u001b[0;34m\u001b[0m\u001b[0m\n\u001b[1;32m   4432\u001b[0m         \"\"\"\n\u001b[0;32m-> 4433\u001b[0;31m         \u001b[0;32mreturn\u001b[0m \u001b[0mSeriesApply\u001b[0m\u001b[0;34m(\u001b[0m\u001b[0mself\u001b[0m\u001b[0;34m,\u001b[0m \u001b[0mfunc\u001b[0m\u001b[0;34m,\u001b[0m \u001b[0mconvert_dtype\u001b[0m\u001b[0;34m,\u001b[0m \u001b[0margs\u001b[0m\u001b[0;34m,\u001b[0m \u001b[0mkwargs\u001b[0m\u001b[0;34m)\u001b[0m\u001b[0;34m.\u001b[0m\u001b[0mapply\u001b[0m\u001b[0;34m(\u001b[0m\u001b[0;34m)\u001b[0m\u001b[0;34m\u001b[0m\u001b[0;34m\u001b[0m\u001b[0m\n\u001b[0m\u001b[1;32m   4434\u001b[0m \u001b[0;34m\u001b[0m\u001b[0m\n\u001b[1;32m   4435\u001b[0m     def _reduce(\n",
      "\u001b[0;32m/opt/anaconda/lib/python3.9/site-packages/pandas/core/apply.py\u001b[0m in \u001b[0;36mapply\u001b[0;34m(self)\u001b[0m\n\u001b[1;32m   1086\u001b[0m             \u001b[0;32mreturn\u001b[0m \u001b[0mself\u001b[0m\u001b[0;34m.\u001b[0m\u001b[0mapply_str\u001b[0m\u001b[0;34m(\u001b[0m\u001b[0;34m)\u001b[0m\u001b[0;34m\u001b[0m\u001b[0;34m\u001b[0m\u001b[0m\n\u001b[1;32m   1087\u001b[0m \u001b[0;34m\u001b[0m\u001b[0m\n\u001b[0;32m-> 1088\u001b[0;31m         \u001b[0;32mreturn\u001b[0m \u001b[0mself\u001b[0m\u001b[0;34m.\u001b[0m\u001b[0mapply_standard\u001b[0m\u001b[0;34m(\u001b[0m\u001b[0;34m)\u001b[0m\u001b[0;34m\u001b[0m\u001b[0;34m\u001b[0m\u001b[0m\n\u001b[0m\u001b[1;32m   1089\u001b[0m \u001b[0;34m\u001b[0m\u001b[0m\n\u001b[1;32m   1090\u001b[0m     \u001b[0;32mdef\u001b[0m \u001b[0magg\u001b[0m\u001b[0;34m(\u001b[0m\u001b[0mself\u001b[0m\u001b[0;34m)\u001b[0m\u001b[0;34m:\u001b[0m\u001b[0;34m\u001b[0m\u001b[0;34m\u001b[0m\u001b[0m\n",
      "\u001b[0;32m/opt/anaconda/lib/python3.9/site-packages/pandas/core/apply.py\u001b[0m in \u001b[0;36mapply_standard\u001b[0;34m(self)\u001b[0m\n\u001b[1;32m   1141\u001b[0m                 \u001b[0;31m# List[Union[Callable[..., Any], str]]]]]\"; expected\u001b[0m\u001b[0;34m\u001b[0m\u001b[0;34m\u001b[0m\u001b[0m\n\u001b[1;32m   1142\u001b[0m                 \u001b[0;31m# \"Callable[[Any], Any]\"\u001b[0m\u001b[0;34m\u001b[0m\u001b[0;34m\u001b[0m\u001b[0m\n\u001b[0;32m-> 1143\u001b[0;31m                 mapped = lib.map_infer(\n\u001b[0m\u001b[1;32m   1144\u001b[0m                     \u001b[0mvalues\u001b[0m\u001b[0;34m,\u001b[0m\u001b[0;34m\u001b[0m\u001b[0;34m\u001b[0m\u001b[0m\n\u001b[1;32m   1145\u001b[0m                     \u001b[0mf\u001b[0m\u001b[0;34m,\u001b[0m  \u001b[0;31m# type: ignore[arg-type]\u001b[0m\u001b[0;34m\u001b[0m\u001b[0;34m\u001b[0m\u001b[0m\n",
      "\u001b[0;32m/opt/anaconda/lib/python3.9/site-packages/pandas/_libs/lib.pyx\u001b[0m in \u001b[0;36mpandas._libs.lib.map_infer\u001b[0;34m()\u001b[0m\n",
      "\u001b[0;32m/tmp/ipykernel_295236/3167001212.py\u001b[0m in \u001b[0;36m<lambda>\u001b[0;34m(x)\u001b[0m\n\u001b[1;32m      6\u001b[0m     \u001b[0;32mreturn\u001b[0m \u001b[0;34m(\u001b[0m\u001b[0mheadCount\u001b[0m\u001b[0;34m/\u001b[0m\u001b[0mlen\u001b[0m\u001b[0;34m(\u001b[0m\u001b[0moccurences\u001b[0m\u001b[0;34m)\u001b[0m\u001b[0;34m,\u001b[0m \u001b[0mheadCountbis\u001b[0m\u001b[0;34m/\u001b[0m\u001b[0mlen\u001b[0m\u001b[0;34m(\u001b[0m\u001b[0moccurences\u001b[0m\u001b[0;34m)\u001b[0m\u001b[0;34m)\u001b[0m\u001b[0;34m\u001b[0m\u001b[0;34m\u001b[0m\u001b[0m\n\u001b[1;32m      7\u001b[0m \u001b[0;34m\u001b[0m\u001b[0m\n\u001b[0;32m----> 8\u001b[0;31m \u001b[0mheadlines\u001b[0m\u001b[0;34m[\u001b[0m\u001b[0;34m'ratio'\u001b[0m\u001b[0;34m]\u001b[0m \u001b[0;34m=\u001b[0m \u001b[0mheadlines\u001b[0m\u001b[0;34m.\u001b[0m\u001b[0mheadlines\u001b[0m\u001b[0;34m.\u001b[0m\u001b[0mapply\u001b[0m\u001b[0;34m(\u001b[0m\u001b[0;32mlambda\u001b[0m \u001b[0mx\u001b[0m \u001b[0;34m:\u001b[0m \u001b[0mgetRatio\u001b[0m\u001b[0;34m(\u001b[0m\u001b[0mx\u001b[0m\u001b[0;34m,\u001b[0m\u001b[0mparagraphDf\u001b[0m\u001b[0;34m.\u001b[0m\u001b[0mcharBlock\u001b[0m\u001b[0;34m)\u001b[0m\u001b[0;34m)\u001b[0m\u001b[0;34m\u001b[0m\u001b[0;34m\u001b[0m\u001b[0m\n\u001b[0m",
      "\u001b[0;32m/tmp/ipykernel_295236/3167001212.py\u001b[0m in \u001b[0;36mgetRatio\u001b[0;34m(headline, charBlock)\u001b[0m\n\u001b[1;32m      1\u001b[0m \u001b[0;32mdef\u001b[0m \u001b[0mgetRatio\u001b[0m\u001b[0;34m(\u001b[0m\u001b[0mheadline\u001b[0m\u001b[0;34m,\u001b[0m\u001b[0mcharBlock\u001b[0m\u001b[0;34m)\u001b[0m\u001b[0;34m:\u001b[0m\u001b[0;34m\u001b[0m\u001b[0;34m\u001b[0m\u001b[0m\n\u001b[1;32m      2\u001b[0m     \u001b[0mhlLen\u001b[0m \u001b[0;34m=\u001b[0m \u001b[0mlen\u001b[0m\u001b[0;34m(\u001b[0m\u001b[0mheadline\u001b[0m\u001b[0;34m)\u001b[0m\u001b[0;34m\u001b[0m\u001b[0;34m\u001b[0m\u001b[0m\n\u001b[0;32m----> 3\u001b[0;31m     \u001b[0moccurences\u001b[0m \u001b[0;34m=\u001b[0m \u001b[0mcharBlock\u001b[0m\u001b[0;34m[\u001b[0m\u001b[0mcharBlock\u001b[0m\u001b[0;34m.\u001b[0m\u001b[0mapply\u001b[0m\u001b[0;34m(\u001b[0m\u001b[0;32mlambda\u001b[0m \u001b[0mcb\u001b[0m \u001b[0;34m:\u001b[0m \u001b[0mheadline\u001b[0m \u001b[0;32min\u001b[0m \u001b[0mcb\u001b[0m\u001b[0;34m)\u001b[0m\u001b[0;34m]\u001b[0m\u001b[0;34m\u001b[0m\u001b[0;34m\u001b[0m\u001b[0m\n\u001b[0m\u001b[1;32m      4\u001b[0m     \u001b[0mheadCount\u001b[0m \u001b[0;34m=\u001b[0m \u001b[0moccurences\u001b[0m\u001b[0;34m.\u001b[0m\u001b[0mapply\u001b[0m\u001b[0;34m(\u001b[0m\u001b[0;32mlambda\u001b[0m \u001b[0mcb\u001b[0m \u001b[0;34m:\u001b[0m \u001b[0mheadline\u001b[0m \u001b[0;32min\u001b[0m \u001b[0mcb\u001b[0m\u001b[0;34m[\u001b[0m\u001b[0;34m:\u001b[0m\u001b[0mhlLen\u001b[0m\u001b[0;34m]\u001b[0m\u001b[0;34m)\u001b[0m\u001b[0;34m.\u001b[0m\u001b[0msum\u001b[0m\u001b[0;34m(\u001b[0m\u001b[0;34m)\u001b[0m\u001b[0;34m\u001b[0m\u001b[0;34m\u001b[0m\u001b[0m\n\u001b[1;32m      5\u001b[0m     \u001b[0mheadCountbis\u001b[0m \u001b[0;34m=\u001b[0m \u001b[0moccurences\u001b[0m\u001b[0;34m.\u001b[0m\u001b[0mapply\u001b[0m\u001b[0;34m(\u001b[0m\u001b[0;32mlambda\u001b[0m \u001b[0mcb\u001b[0m \u001b[0;34m:\u001b[0m \u001b[0mheadline\u001b[0m \u001b[0;32min\u001b[0m \u001b[0mcb\u001b[0m\u001b[0;34m[\u001b[0m\u001b[0;34m:\u001b[0m\u001b[0;36m30\u001b[0m\u001b[0;34m]\u001b[0m\u001b[0;34m)\u001b[0m\u001b[0;34m.\u001b[0m\u001b[0msum\u001b[0m\u001b[0;34m(\u001b[0m\u001b[0;34m)\u001b[0m\u001b[0;34m\u001b[0m\u001b[0;34m\u001b[0m\u001b[0m\n",
      "\u001b[0;32m/opt/anaconda/lib/python3.9/site-packages/pandas/core/series.py\u001b[0m in \u001b[0;36mapply\u001b[0;34m(self, func, convert_dtype, args, **kwargs)\u001b[0m\n\u001b[1;32m   4431\u001b[0m         \u001b[0mdtype\u001b[0m\u001b[0;34m:\u001b[0m \u001b[0mfloat64\u001b[0m\u001b[0;34m\u001b[0m\u001b[0;34m\u001b[0m\u001b[0m\n\u001b[1;32m   4432\u001b[0m         \"\"\"\n\u001b[0;32m-> 4433\u001b[0;31m         \u001b[0;32mreturn\u001b[0m \u001b[0mSeriesApply\u001b[0m\u001b[0;34m(\u001b[0m\u001b[0mself\u001b[0m\u001b[0;34m,\u001b[0m \u001b[0mfunc\u001b[0m\u001b[0;34m,\u001b[0m \u001b[0mconvert_dtype\u001b[0m\u001b[0;34m,\u001b[0m \u001b[0margs\u001b[0m\u001b[0;34m,\u001b[0m \u001b[0mkwargs\u001b[0m\u001b[0;34m)\u001b[0m\u001b[0;34m.\u001b[0m\u001b[0mapply\u001b[0m\u001b[0;34m(\u001b[0m\u001b[0;34m)\u001b[0m\u001b[0;34m\u001b[0m\u001b[0;34m\u001b[0m\u001b[0m\n\u001b[0m\u001b[1;32m   4434\u001b[0m \u001b[0;34m\u001b[0m\u001b[0m\n\u001b[1;32m   4435\u001b[0m     def _reduce(\n",
      "\u001b[0;32m/opt/anaconda/lib/python3.9/site-packages/pandas/core/apply.py\u001b[0m in \u001b[0;36mapply\u001b[0;34m(self)\u001b[0m\n\u001b[1;32m   1086\u001b[0m             \u001b[0;32mreturn\u001b[0m \u001b[0mself\u001b[0m\u001b[0;34m.\u001b[0m\u001b[0mapply_str\u001b[0m\u001b[0;34m(\u001b[0m\u001b[0;34m)\u001b[0m\u001b[0;34m\u001b[0m\u001b[0;34m\u001b[0m\u001b[0m\n\u001b[1;32m   1087\u001b[0m \u001b[0;34m\u001b[0m\u001b[0m\n\u001b[0;32m-> 1088\u001b[0;31m         \u001b[0;32mreturn\u001b[0m \u001b[0mself\u001b[0m\u001b[0;34m.\u001b[0m\u001b[0mapply_standard\u001b[0m\u001b[0;34m(\u001b[0m\u001b[0;34m)\u001b[0m\u001b[0;34m\u001b[0m\u001b[0;34m\u001b[0m\u001b[0m\n\u001b[0m\u001b[1;32m   1089\u001b[0m \u001b[0;34m\u001b[0m\u001b[0m\n\u001b[1;32m   1090\u001b[0m     \u001b[0;32mdef\u001b[0m \u001b[0magg\u001b[0m\u001b[0;34m(\u001b[0m\u001b[0mself\u001b[0m\u001b[0;34m)\u001b[0m\u001b[0;34m:\u001b[0m\u001b[0;34m\u001b[0m\u001b[0;34m\u001b[0m\u001b[0m\n",
      "\u001b[0;32m/opt/anaconda/lib/python3.9/site-packages/pandas/core/apply.py\u001b[0m in \u001b[0;36mapply_standard\u001b[0;34m(self)\u001b[0m\n\u001b[1;32m   1141\u001b[0m                 \u001b[0;31m# List[Union[Callable[..., Any], str]]]]]\"; expected\u001b[0m\u001b[0;34m\u001b[0m\u001b[0;34m\u001b[0m\u001b[0m\n\u001b[1;32m   1142\u001b[0m                 \u001b[0;31m# \"Callable[[Any], Any]\"\u001b[0m\u001b[0;34m\u001b[0m\u001b[0;34m\u001b[0m\u001b[0m\n\u001b[0;32m-> 1143\u001b[0;31m                 mapped = lib.map_infer(\n\u001b[0m\u001b[1;32m   1144\u001b[0m                     \u001b[0mvalues\u001b[0m\u001b[0;34m,\u001b[0m\u001b[0;34m\u001b[0m\u001b[0;34m\u001b[0m\u001b[0m\n\u001b[1;32m   1145\u001b[0m                     \u001b[0mf\u001b[0m\u001b[0;34m,\u001b[0m  \u001b[0;31m# type: ignore[arg-type]\u001b[0m\u001b[0;34m\u001b[0m\u001b[0;34m\u001b[0m\u001b[0m\n",
      "\u001b[0;32m/opt/anaconda/lib/python3.9/site-packages/pandas/_libs/lib.pyx\u001b[0m in \u001b[0;36mpandas._libs.lib.map_infer\u001b[0;34m()\u001b[0m\n",
      "\u001b[0;32m/tmp/ipykernel_295236/3167001212.py\u001b[0m in \u001b[0;36m<lambda>\u001b[0;34m(cb)\u001b[0m\n\u001b[1;32m      1\u001b[0m \u001b[0;32mdef\u001b[0m \u001b[0mgetRatio\u001b[0m\u001b[0;34m(\u001b[0m\u001b[0mheadline\u001b[0m\u001b[0;34m,\u001b[0m\u001b[0mcharBlock\u001b[0m\u001b[0;34m)\u001b[0m\u001b[0;34m:\u001b[0m\u001b[0;34m\u001b[0m\u001b[0;34m\u001b[0m\u001b[0m\n\u001b[1;32m      2\u001b[0m     \u001b[0mhlLen\u001b[0m \u001b[0;34m=\u001b[0m \u001b[0mlen\u001b[0m\u001b[0;34m(\u001b[0m\u001b[0mheadline\u001b[0m\u001b[0;34m)\u001b[0m\u001b[0;34m\u001b[0m\u001b[0;34m\u001b[0m\u001b[0m\n\u001b[0;32m----> 3\u001b[0;31m     \u001b[0moccurences\u001b[0m \u001b[0;34m=\u001b[0m \u001b[0mcharBlock\u001b[0m\u001b[0;34m[\u001b[0m\u001b[0mcharBlock\u001b[0m\u001b[0;34m.\u001b[0m\u001b[0mapply\u001b[0m\u001b[0;34m(\u001b[0m\u001b[0;32mlambda\u001b[0m \u001b[0mcb\u001b[0m \u001b[0;34m:\u001b[0m \u001b[0mheadline\u001b[0m \u001b[0;32min\u001b[0m \u001b[0mcb\u001b[0m\u001b[0;34m)\u001b[0m\u001b[0;34m]\u001b[0m\u001b[0;34m\u001b[0m\u001b[0;34m\u001b[0m\u001b[0m\n\u001b[0m\u001b[1;32m      4\u001b[0m     \u001b[0mheadCount\u001b[0m \u001b[0;34m=\u001b[0m \u001b[0moccurences\u001b[0m\u001b[0;34m.\u001b[0m\u001b[0mapply\u001b[0m\u001b[0;34m(\u001b[0m\u001b[0;32mlambda\u001b[0m \u001b[0mcb\u001b[0m \u001b[0;34m:\u001b[0m \u001b[0mheadline\u001b[0m \u001b[0;32min\u001b[0m \u001b[0mcb\u001b[0m\u001b[0;34m[\u001b[0m\u001b[0;34m:\u001b[0m\u001b[0mhlLen\u001b[0m\u001b[0;34m]\u001b[0m\u001b[0;34m)\u001b[0m\u001b[0;34m.\u001b[0m\u001b[0msum\u001b[0m\u001b[0;34m(\u001b[0m\u001b[0;34m)\u001b[0m\u001b[0;34m\u001b[0m\u001b[0;34m\u001b[0m\u001b[0m\n\u001b[1;32m      5\u001b[0m     \u001b[0mheadCountbis\u001b[0m \u001b[0;34m=\u001b[0m \u001b[0moccurences\u001b[0m\u001b[0;34m.\u001b[0m\u001b[0mapply\u001b[0m\u001b[0;34m(\u001b[0m\u001b[0;32mlambda\u001b[0m \u001b[0mcb\u001b[0m \u001b[0;34m:\u001b[0m \u001b[0mheadline\u001b[0m \u001b[0;32min\u001b[0m \u001b[0mcb\u001b[0m\u001b[0;34m[\u001b[0m\u001b[0;34m:\u001b[0m\u001b[0;36m30\u001b[0m\u001b[0;34m]\u001b[0m\u001b[0;34m)\u001b[0m\u001b[0;34m.\u001b[0m\u001b[0msum\u001b[0m\u001b[0;34m(\u001b[0m\u001b[0;34m)\u001b[0m\u001b[0;34m\u001b[0m\u001b[0;34m\u001b[0m\u001b[0m\n",
      "\u001b[0;31mKeyboardInterrupt\u001b[0m: "
     ]
    }
   ],
   "source": [
    "def getRatio(headline,charBlock):\n",
    "    hlLen = len(headline)\n",
    "    occurences = charBlock[charBlock.apply(lambda cb : headline in cb)]\n",
    "    headCount = occurences.apply(lambda cb : headline in cb[:hlLen]).sum()\n",
    "    headCountbis = occurences.apply(lambda cb : headline in cb[:30]).sum()\n",
    "    return (headCount/len(occurences), headCountbis/len(occurences))\n",
    "\n",
    "headlines['ratio'] = headlines.headlines.apply(lambda x : getRatio(x,paragraphDf.charBlock))"
   ]
  },
  {
   "cell_type": "code",
   "execution_count": null,
   "id": "5d9d9931",
   "metadata": {},
   "outputs": [],
   "source": [
    "headlines[headlines.ratio>0.8]"
   ]
  },
  {
   "cell_type": "code",
   "execution_count": null,
   "id": "bc33e23c",
   "metadata": {},
   "outputs": [],
   "source": []
  }
 ],
 "metadata": {
  "kernelspec": {
   "display_name": "Python 3 (ipykernel)",
   "language": "python",
   "name": "python3"
  },
  "language_info": {
   "codemirror_mode": {
    "name": "ipython",
    "version": 3
   },
   "file_extension": ".py",
   "mimetype": "text/x-python",
   "name": "python",
   "nbconvert_exporter": "python",
   "pygments_lexer": "ipython3",
   "version": "3.9.13"
  }
 },
 "nbformat": 4,
 "nbformat_minor": 5
}
