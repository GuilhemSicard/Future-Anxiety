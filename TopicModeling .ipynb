{
 "cells": [
  {
   "cell_type": "code",
   "execution_count": 4,
   "id": "e69f5080",
   "metadata": {},
   "outputs": [],
   "source": [
    "import tomotopy as tp\n",
    "import spacy\n",
    "from spacy.tokens import DocBin, Doc\n",
    "Doc.set_extension(\"ID\", default='')\n",
    "Doc.set_extension(\"headline\", default='')\n",
    "Doc.set_extension(\"label\", default='')\n",
    "import pandas as pd \n",
    "import os \n",
    "from tqdm import tqdm\n",
    "import numpy as np\n",
    "import pandas as pd\n",
    "import regex as re\n",
    "re.DEFAULT_VERSION = re.VERSION1\n",
    "import plotly.express as px\n",
    "from IPython.display import Image\n",
    "from gensim.models.phrases import Phraser, Phrases\n",
    "import time\n",
    "import gc\n",
    "from bertopic import BERTopic \n",
    "from sklearn.feature_extraction.text import CountVectorizer\n",
    "from sentence_transformers import SentenceTransformer"
   ]
  },
  {
   "cell_type": "markdown",
   "id": "4f201c51",
   "metadata": {},
   "source": [
    "## Apply NLP pipeline for tokenization, lemmatization and other features for latter uses"
   ]
  },
  {
   "cell_type": "code",
   "execution_count": 38,
   "id": "d747907e",
   "metadata": {},
   "outputs": [
    {
     "data": {
      "text/html": [
       "<div>\n",
       "<style scoped>\n",
       "    .dataframe tbody tr th:only-of-type {\n",
       "        vertical-align: middle;\n",
       "    }\n",
       "\n",
       "    .dataframe tbody tr th {\n",
       "        vertical-align: top;\n",
       "    }\n",
       "\n",
       "    .dataframe thead th {\n",
       "        text-align: right;\n",
       "    }\n",
       "</style>\n",
       "<table border=\"1\" class=\"dataframe\">\n",
       "  <thead>\n",
       "    <tr style=\"text-align: right;\">\n",
       "      <th></th>\n",
       "      <th>date</th>\n",
       "      <th>pageNum</th>\n",
       "      <th>paragraphNum</th>\n",
       "      <th>content</th>\n",
       "      <th>headline</th>\n",
       "      <th>label</th>\n",
       "    </tr>\n",
       "  </thead>\n",
       "  <tbody>\n",
       "    <tr>\n",
       "      <th>0</th>\n",
       "      <td>1870-01-01</td>\n",
       "      <td>0</td>\n",
       "      <td>9</td>\n",
       "      <td>Admbûstrateur . AUGUSTE DUNIONT ABOMMBHXins Pa...</td>\n",
       "      <td></td>\n",
       "      <td></td>\n",
       "    </tr>\n",
       "    <tr>\n",
       "      <th>1</th>\n",
       "      <td>1870-01-01</td>\n",
       "      <td>0</td>\n",
       "      <td>13</td>\n",
       "      <td>m part ri pas demain à l'occasion du jour de l...</td>\n",
       "      <td>Le Figaro</td>\n",
       "      <td></td>\n",
       "    </tr>\n",
       "    <tr>\n",
       "      <th>2</th>\n",
       "      <td>1870-01-01</td>\n",
       "      <td>0</td>\n",
       "      <td>20-21-22-23-24</td>\n",
       "      <td>Notre éclectisme en roli tique qui, pour être ...</td>\n",
       "      <td></td>\n",
       "      <td></td>\n",
       "    </tr>\n",
       "    <tr>\n",
       "      <th>3</th>\n",
       "      <td>1870-01-01</td>\n",
       "      <td>0</td>\n",
       "      <td>25-26</td>\n",
       "      <td>fœil bravement fixé sur le couteau, gravi les ...</td>\n",
       "      <td></td>\n",
       "      <td></td>\n",
       "    </tr>\n",
       "    <tr>\n",
       "      <th>4</th>\n",
       "      <td>1870-01-01</td>\n",
       "      <td>0</td>\n",
       "      <td>27-28</td>\n",
       "      <td>. Hier matii , lés gens dé Batignolles considé...</td>\n",
       "      <td></td>\n",
       "      <td></td>\n",
       "    </tr>\n",
       "    <tr>\n",
       "      <th>...</th>\n",
       "      <td>...</td>\n",
       "      <td>...</td>\n",
       "      <td>...</td>\n",
       "      <td>...</td>\n",
       "      <td>...</td>\n",
       "      <td>...</td>\n",
       "    </tr>\n",
       "    <tr>\n",
       "      <th>791868</th>\n",
       "      <td>1910-12-31</td>\n",
       "      <td>5</td>\n",
       "      <td>7</td>\n",
       "      <td>Le sujet imaginé par MM. Gheusi et Mé rane aur...</td>\n",
       "      <td>LA SOIRÉE LE MIRACLE A L'OPÉRA</td>\n",
       "      <td>culture</td>\n",
       "    </tr>\n",
       "    <tr>\n",
       "      <th>791869</th>\n",
       "      <td>1910-12-31</td>\n",
       "      <td>5</td>\n",
       "      <td>9-10-11-12-13-14-15</td>\n",
       "      <td>M lle Chenal M. Muratore si l'on en juge parla...</td>\n",
       "      <td>A L'OPÉRA Le Miracle</td>\n",
       "      <td>culture</td>\n",
       "    </tr>\n",
       "    <tr>\n",
       "      <th>791870</th>\n",
       "      <td>1910-12-31</td>\n",
       "      <td>5</td>\n",
       "      <td>16</td>\n",
       "      <td>à 8 heures pour les représentations de M. Gili...</td>\n",
       "      <td>Ce-soir : A l'Opéra,</td>\n",
       "      <td>culture</td>\n",
       "    </tr>\n",
       "    <tr>\n",
       "      <th>791871</th>\n",
       "      <td>1910-12-31</td>\n",
       "      <td>5</td>\n",
       "      <td>18-19</td>\n",
       "      <td>l'Habitation forcée SUITE derrière le vert ble...</td>\n",
       "      <td>Feuilleton du FIGARO du 31 Décembre</td>\n",
       "      <td>autres</td>\n",
       "    </tr>\n",
       "    <tr>\n",
       "      <th>791872</th>\n",
       "      <td>1910-12-31</td>\n",
       "      <td>5</td>\n",
       "      <td>20-21-22-23-24</td>\n",
       "      <td>montrer le chien, le nez tout blanc de lait so...</td>\n",
       "      <td></td>\n",
       "      <td></td>\n",
       "    </tr>\n",
       "  </tbody>\n",
       "</table>\n",
       "<p>791873 rows × 6 columns</p>\n",
       "</div>"
      ],
      "text/plain": [
       "              date  pageNum         paragraphNum  \\\n",
       "0       1870-01-01        0                    9   \n",
       "1       1870-01-01        0                   13   \n",
       "2       1870-01-01        0       20-21-22-23-24   \n",
       "3       1870-01-01        0                25-26   \n",
       "4       1870-01-01        0                27-28   \n",
       "...            ...      ...                  ...   \n",
       "791868  1910-12-31        5                    7   \n",
       "791869  1910-12-31        5  9-10-11-12-13-14-15   \n",
       "791870  1910-12-31        5                   16   \n",
       "791871  1910-12-31        5                18-19   \n",
       "791872  1910-12-31        5       20-21-22-23-24   \n",
       "\n",
       "                                                  content  \\\n",
       "0       Admbûstrateur . AUGUSTE DUNIONT ABOMMBHXins Pa...   \n",
       "1       m part ri pas demain à l'occasion du jour de l...   \n",
       "2       Notre éclectisme en roli tique qui, pour être ...   \n",
       "3       fœil bravement fixé sur le couteau, gravi les ...   \n",
       "4       . Hier matii , lés gens dé Batignolles considé...   \n",
       "...                                                   ...   \n",
       "791868  Le sujet imaginé par MM. Gheusi et Mé rane aur...   \n",
       "791869  M lle Chenal M. Muratore si l'on en juge parla...   \n",
       "791870  à 8 heures pour les représentations de M. Gili...   \n",
       "791871  l'Habitation forcée SUITE derrière le vert ble...   \n",
       "791872  montrer le chien, le nez tout blanc de lait so...   \n",
       "\n",
       "                                   headline    label  \n",
       "0                                                     \n",
       "1                                 Le Figaro           \n",
       "2                                                     \n",
       "3                                                     \n",
       "4                                                     \n",
       "...                                     ...      ...  \n",
       "791868       LA SOIRÉE LE MIRACLE A L'OPÉRA  culture  \n",
       "791869                 A L'OPÉRA Le Miracle  culture  \n",
       "791870                 Ce-soir : A l'Opéra,  culture  \n",
       "791871  Feuilleton du FIGARO du 31 Décembre   autres  \n",
       "791872                                                \n",
       "\n",
       "[791873 rows x 6 columns]"
      ]
     },
     "execution_count": 38,
     "metadata": {},
     "output_type": "execute_result"
    }
   ],
   "source": [
    "textDf = pd.read_csv('data/le_figaro.csv')\n",
    "textDf = textDf.fillna('')\n",
    "textDf"
   ]
  },
  {
   "cell_type": "code",
   "execution_count": 42,
   "id": "abc467f1",
   "metadata": {},
   "outputs": [
    {
     "data": {
      "text/plain": [
       "array([['1898-03-28', 0, '21-22',\n",
       "        \"LES TROUBLES D'ALGER C'est une question que de savoir si vingt années tantôt d'instruotion obligatoire et gratuite ont amélioré l'intelligence et le bon sens du peuple français. C'en est une autre que de savoir si là diffusion et le perfectionnement des moyens de transport et d'information nous permettent d'être mieux renseignés que ne l'étaient nos pères. Connaît-on mieus , les événements , aujourd'hui, qu'on ne les connaissait aux temps lointains où les Gaulois se les transmettaient par leurs cris de colline en colline ? Ainsi, j'avoue que les incidents dont Alger est le théâtre me rendent perplexe et que je n'y comprends rien. Le télégraphe nous apprend : 1 que le Conseil supérieur de l'Algérie prodigue à M: Lépine des marques de satisfaction et de solidarité ; 2 que la Chambre de commerce d'Alger lui exprime sa confiance et sa sympathie; 3 que les membres de la presse algérienne lui ont infligé la privation du titre de président d'honneur de leur Association qu'ils lui avaient décerné. L'élite de la grande colonie se presse dans les salons du gouverneur, pendant qu'un certain nombre de citoyens d'Alger le conspue dans une réunion publique, et les zouaves sont obligés d'intervenir pour maintenir l'ordre dans la rue. Tout cela est obscur et contradictoire. Obscurité et contradiction proviennent peut-être de ce que les partisans du gouverneur sont alléchés par ses, projets de mise en valeur de l'Algérie, à laquelle il est sérieusement question de fournir de l'eau, après soixante-huit ans d'occupation. Tandis que les journalistes et les citoyens manifestants sont préoccupés avant tout de protester contre l'arresta- tibrt du jeune M. Max Régis, qui elle-même manque de clarté. Max Régis a été arrêté, dit-on pour s'être vanté, dans une réunion publique, d'actes qu'il avait 'commis en plein soleil, qu'il nie, d'ailleurs, et qu'en tout cas le Parquet d'Alger, informé, n'aurait pas dû laisser-passer. Enfin, attendons avec patience. Quand les combattants seront les de s'injurier, ils finiront peut-être par nous expliquer pourquoi ils s'en veulent et ce qu'ils se reprochent les uns aux autres. J. Cornély. A Travers Paris Les nouveaux évêques ont-été convoqués à la nonciature pour faire leur profession de foi et prêter le serment d'usage entre les mains de S. Exc le nonce apostolique. Cérémonie tout intime, qui s'est terminée par l'envoi d'un télégramme collectif d'hommage auSaint-Père. En réponse à ce télégramme, le, Pape a envoyé, par l'intermédiaire de Mgr ; Clari, la bénédiction apostolique aux nouveaux prélats. Ajoutons que l'un d'entre eux, Mgr Meunier, évêque nommé d'Evreux, re tenu à Avignon par une maladie d'ailleurs sans gravité, n'a pas pris part à la cérémonie dont nous venons de parler. Pour la même raison, Mgr Meunier, vicaire général d'Avignon, n'a pu accompagner à Rome son archevêque, Mgr Sueur. Petit incident au ministère des affaires étrangères : Les courriers de cabinet se plaignent d'être condamnés à l'inaction depuis près d'un an et d'être remplacés par des attachés de cabinet et même des secrétaires d'ambassade. Les courriers de cabinet sont'des agents spéciaux chargés de porter à nos agents à l'étranger ou de rapporter à Paris, dans la traditionnelle valise, dite valise diplomatique, les documents importants qu'à raison de leur caractère confidentiel on ne veut pas confier à la poste, ni au télégraphe, même en langage chiffré. Ces agents ont un traitement fixe, et des frais de voyage sur lesquels il leur est permis de se réserver un boni, s'ils savent réduire leurs dépenses. Or, depuis plus d'une année, tous les voyages de cette sorte ont-été confiés à des fonctionnaires du service diplomatique proprement dit, secrétaires ou attachés, qui profitent de la facilité qui leur est ainsi accordée pour faire des excursions, à l'étranger. Les courriers de cabinet vont porter leurs doléances devant le ministre lui-même.\",\n",
       "        '', ''],\n",
       "       ['1898-03-28', 3, '21-22',\n",
       "        \"Les études de Thaïs sont toujours menées activement à l'Opéra, sous l'impulsion même de M. Massenet. C'est vers le 13 avril qu'on pense donner cette importante reprise, dont l'intérêt sera doublé, ainsi que nous l'avons dit déjà, par l'adjonction d'un nouveau ballet et de tout un tableau entièrement inédit. La Cloche du Rhin, de M. Rousseau, suivrait de près, vers la fin du même mois. A l'Opéra-Comique. Mme Saville, qui passa il y a quelques années à l'Opéra-Comique, dans Paul et Virginie et la Traviata, va donner quelques représentations sur le théâtre de ses premiers succès parisiens. Mme Saville est pour le moment pensionnaire del'Opéra impérial de Vienne. Elle arrivera à Paris dans quelques-jours, pour chanter la Traviata et Ma ion. A l'Odéon : 4 A titre de curiosité, voici les répétitions qui seront faites dans la seule journée d'aujourd'hui : 1. Les Faux Dieux, de J deMarthold, avec MM. A. Lambert, Darras, Ravet, Géalis, Caillard ; Mlles O de Fehl, Rabuteau et Man- froy, comme interprètes. 2. Mon Enfant, de Janvier de La Motte, avec MM. Coste, Siblot ; Mmes Henriot, du Gymnase. Grumbach, Béry, Mylo d'Arcylle. 3- Le Médecin malgré lui, avec MM. Darras, Siïjlot, Paul Franck, Prince, Garbagni, Val aient ; Mlles Chapelas, Dehon et Fromant h. Andromaque, avec MM. Ravet, Mon tées, Taldy; Mmes Segond-Weber, Page, Dehon, Béryl. 5. La Reine Fiamette, de M. Catulle Men- dép, avec MM. Rameau, Perny, Monteux, Géalis, Paul Franck, Prince, Le Marchand, Valmont; Mlles Thomsen, de la Renaissance ; Grumbach, Chapelas, Marcya, Page, Rabuteau, Samé, Manfroy, Fromant, Béryl. 6. Celle qu'il faut aimer, de MM. Grenet-Dancourt et Pollonnais, avec MM. Prince, Caillard ; Mmes Archainbaud et Chassaing. 7. Le Dépit amoureux, avec MM. Darras, Paul Franck, Prince, Taldy ; Mlles Kesly et Chapelas. Voilà un record !\",\n",
       "        '', '']], dtype=object)"
      ]
     },
     "execution_count": 42,
     "metadata": {},
     "output_type": "execute_result"
    }
   ],
   "source": [
    "textDf[(textDf.date == '1898-03-28') & (textDf.paragraphNum == '21-22')].values"
   ]
  },
  {
   "cell_type": "code",
   "execution_count": 8,
   "id": "9b24343e",
   "metadata": {},
   "outputs": [
    {
     "name": "stderr",
     "output_type": "stream",
     "text": [
      " 49%|███████████████▎               | 391872/791873 [1:42:38<1:44:46, 63.63it/s]\n"
     ]
    }
   ],
   "source": [
    "doc_bin = DocBin(store_user_data=True)\n",
    "\n",
    "nlp = spacy.load('fr_core_news_lg', exclude=[\"ner\"])\n",
    "texts = ((row.content, ('_'.join([str(row['date']),str(row['pageNum']),str(row['paragraphNum'])]), \n",
    "                        row['headline'], row['label']))\n",
    "         for _, row in textDf.iterrows())\n",
    "count = 0\n",
    "nDocs = len(textDf)\n",
    "with tqdm(total=len(textDf),mininterval = 5, miniters =1000) as pbar:\n",
    "    for doc, (ID, headline, label) in nlp.pipe(texts,as_tuples = True, batch_size=2048,n_process=16):\n",
    "        doc._.ID = ID\n",
    "        doc._.headline = headline\n",
    "        doc._.label = label\n",
    "        doc_bin.add(doc)\n",
    "        pbar.update(1)\n",
    "        #split data into several docbin\n",
    "        if (count%50_000 == 0) or (count == nDocs-1):\n",
    "            i = int(count/50_000)-4 if (count != nDocs-1) else int(count/50_000) -3\n",
    "            if count>0:\n",
    "                doc_bin.to_disk(f\"data/spacy/le_figaro{i}.spacy\")\n",
    "                del doc_bin\n",
    "                gc.collect()\n",
    "            doc_bin = DocBin(store_user_data=True)\n",
    "            \n",
    "        count+=1\n"
   ]
  },
  {
   "cell_type": "code",
   "execution_count": 9,
   "id": "76584a03",
   "metadata": {},
   "outputs": [
    {
     "data": {
      "text/plain": [
       "0"
      ]
     },
     "execution_count": 9,
     "metadata": {},
     "output_type": "execute_result"
    }
   ],
   "source": [
    "len(doc_bin)"
   ]
  },
  {
   "cell_type": "markdown",
   "id": "488202d8",
   "metadata": {},
   "source": [
    "# Pachinko allocation"
   ]
  },
  {
   "cell_type": "code",
   "execution_count": 6,
   "id": "191e37cc",
   "metadata": {},
   "outputs": [
    {
     "name": "stderr",
     "output_type": "stream",
     "text": [
      "100%|███████████████████████████████████████████| 12/12 [01:39<00:00,  8.28s/it]\n",
      "0it [00:00, ?it/s]\n"
     ]
    }
   ],
   "source": [
    "nlp = spacy.load('fr_core_news_lg', disable=[\"ner\"])\n",
    "\n",
    "doc_bin = DocBin(store_user_data=True)\n",
    "for root, dirs, files in os.walk('data/spacy'):\n",
    "    for name in tqdm(files):\n",
    "        if name.endswith((\".spacy\")):\n",
    "            doc_bin.merge(DocBin(store_user_data=True).from_disk(\"./data/spacy/\"+name))\n"
   ]
  },
  {
   "cell_type": "code",
   "execution_count": 47,
   "id": "5a336f47",
   "metadata": {},
   "outputs": [],
   "source": [
    "def preprocess_text(doc):\n",
    "    ID = doc._.ID\n",
    "    headline = doc._.headline\n",
    "    label = doc._.label\n",
    "    oovRatio = np.mean([1 if word.is_oov else 0 for word in doc if word.is_alpha])\n",
    "    lemmas = [word.lemma_.lower() for word in doc \n",
    "           if word.is_alpha and (not word.is_stop) and (len(word.lemma_)>2) and (not word.is_oov)] \n",
    "    \n",
    "    return ID, doc.text, lemmas, oovRatio, headline, label"
   ]
  },
  {
   "cell_type": "code",
   "execution_count": 55,
   "id": "5d2a31b3",
   "metadata": {},
   "outputs": [
    {
     "name": "stdout",
     "output_type": "stream",
     "text": [
      "709265\n"
     ]
    }
   ],
   "source": [
    "docs = [preprocess_text(doc) for doc in doc_bin.get_docs(nlp.vocab)]\n",
    "textDf = pd.DataFrame(docs, columns=['ID','content','lemmatized','oovRatio','headline','label'])\n",
    "textDf = textDf[(textDf.lemmatized.apply(len)>5) &\n",
    "                (textDf.oovRatio<0.6) &\n",
    "                (textDf.label=='')]\n",
    "print(len(textDf))"
   ]
  },
  {
   "cell_type": "code",
   "execution_count": 65,
   "id": "c7d53f9e",
   "metadata": {},
   "outputs": [],
   "source": [
    "raw_articles = textDf[\"lemmatized\"].tolist()\n",
    "bigram = Phrases(raw_articles, min_count=10, threshold=10)\n",
    "bigram_mod = Phraser(bigram)\n",
    "raw_articles = list(bigram_mod[raw_articles])\n",
    "trigram = Phrases(raw_articles, min_count=10, threshold=10)\n",
    "trigram_mod = Phraser(bigram)\n",
    "raw_articles = list(trigram_mod[raw_articles])\n",
    "textDf[\"nGram\"] = raw_articles\n",
    "textDf[\"nGram\"] = textDf[\"nGram\"].apply(' '.join)\n",
    "textDf[\"lemmatized\"] = textDf[\"lemmatized\"].apply(' '.join)\n",
    "textDf.to_csv('data/le_figaro_lemmatized_without_stop.csv',index=False)"
   ]
  },
  {
   "cell_type": "code",
   "execution_count": null,
   "id": "01be7a28",
   "metadata": {},
   "outputs": [],
   "source": [
    "textDf = pd.read_csv('data/le_figaro_lemmatized_without_stop.csv')\n",
    "raw_articles = textDf.nGram.str.split().to_list()"
   ]
  },
  {
   "cell_type": "code",
   "execution_count": 66,
   "id": "df3cf4a3",
   "metadata": {},
   "outputs": [],
   "source": [
    "corpus = tp.utils.Corpus()\n",
    "for doc in raw_articles:\n",
    "    if doc:\n",
    "        corpus.add_doc(doc)"
   ]
  },
  {
   "cell_type": "code",
   "execution_count": null,
   "id": "a53e8405",
   "metadata": {},
   "outputs": [],
   "source": [
    "k1_max = 7\n",
    "k1_min = 2 \n",
    "k2_max = 18\n",
    "k2_min = 8\n",
    "params = []\n",
    "scores = []\n",
    "num_iter = 0\n",
    "max_iter = 0\n",
    "for k1 in range(k1_min, k1_max):\n",
    "    for k2 in range(max(k1,k2_min),k2_max):\n",
    "        max_iter +=1\n",
    "        \n",
    "start = time.time()\n",
    "for k1 in range(k1_min, k1_max):\n",
    "    for k2 in range(max(k1,k2_min),k2_max):\n",
    "        num_iter+=1\n",
    "        model = tp.PAModel(tw=tp.TermWeight.IDF,min_cf = 10, min_df=5, rm_top=25, k1=k1, k2=k2, corpus=corpus)\n",
    "        model.burn_in = 20\n",
    "        model.train(40, workers=24)\n",
    "        score = tp.coherence.Coherence(model, coherence=\"c_v\").get_score()\n",
    "        params.append((k1,k2))\n",
    "        scores.append(score)\n",
    "        print(\"Runtime: %.2f seconds\" %(time.time() - start), \"|| Number of Searches: %s out of  %s\" %(num_iter, max_iter), \"|| k1: %s & k2: %s || coherence : %.3f\" %(k1,k2,score))"
   ]
  },
  {
   "cell_type": "code",
   "execution_count": 82,
   "id": "040f4b58",
   "metadata": {},
   "outputs": [
    {
     "name": "stdout",
     "output_type": "stream",
     "text": [
      "k1: 3 & k2: 9 || coherence : 0.659\n",
      "k1: 4 & k2: 11 || coherence : 0.685\n",
      "k1: 4 & k2: 14 || coherence : 0.694\n",
      "k1: 5 & k2: 15 || coherence : 0.668\n"
     ]
    }
   ],
   "source": [
    "for ind,score in enumerate(scores):\n",
    "    if score>max(scores)*0.95:\n",
    "        print(\"k1: %s & k2: %s || coherence : %.3f\" %(params[ind][0],params[ind][1],score))\n"
   ]
  },
  {
   "cell_type": "code",
   "execution_count": 91,
   "id": "d24aefa4",
   "metadata": {},
   "outputs": [
    {
     "name": "stdout",
     "output_type": "stream",
     "text": [
      "0.7261144071817398\n"
     ]
    }
   ],
   "source": [
    "k1 = 4\n",
    "k2 = 14\n",
    "model = tp.PAModel(tw=tp.TermWeight.IDF,min_cf = 10, min_df=5, rm_top=25, k1=k1, k2=k2, corpus=corpus)\n",
    "model.burn_in = 20\n",
    "model.train(100, workers=24)\n",
    "score = tp.coherence.Coherence(model, coherence=\"c_v\").get_score()\n",
    "print(score)"
   ]
  },
  {
   "cell_type": "code",
   "execution_count": 94,
   "id": "782566d7",
   "metadata": {},
   "outputs": [
    {
     "name": "stdout",
     "output_type": "stream",
     "text": [
      "Topic #0\n",
      "\t ['gouvernement', 'angleterre', 'anglais', 'allemagne', 'ministre', 'russie', 'france', 'français', 'allemand', 'empereur']\n",
      "Topic #1\n",
      "\t ['officier', 'armée', 'troupe', 'soldat', 'capitaine', 'militaire', 'navire', 'commandant', 'guerre', 'colonel']\n",
      "Topic #2\n",
      "\t ['comte', 'mlle', 'comtesse', 'comte_comtesse', 'marquis', 'baron', 'vicomte', 'baronne', 'paul', 'docteur']\n",
      "Topic #3\n",
      "\t ['politique', 'france', 'pays', 'république', 'peuple', 'chose', 'esprit', 'gouvernement', 'estper', 'idée']\n",
      "Topic #4\n",
      "\t ['monsieur', 'femme', 'aller', 'oeil', 'dire', 'rien', 'main', 'cœur', 'vie', 'jamais']\n",
      "Topic #5\n",
      "\t ['rue', 'maison', 'eau', 'vendre', 'prix', 'franc', 'blanc', 'vin', 'noir', 'gramme']\n",
      "Topic #6\n",
      "\t ['prix', 'roi', 'course', 'fête', 'prince', 'cheval', 'palais', 'voiture', 'empereur', 'majesté']\n",
      "Topic #7\n",
      "\t ['théâtre', 'représentation', 'pièce', 'artiste', 'opéra', 'jouer', 'mlle', 'soir', 'succès', 'rôle']\n",
      "Topic #8\n",
      "\t ['franc', 'chambre', 'commission', 'député', 'loi', 'séance', 'million', 'budget', 'voter', 'projet']\n",
      "Topic #9\n",
      "\t ['rue', 'arrêter', 'femme', 'hier', 'âgé', 'police', 'agent', 'individu', 'maison', 'ouvrier']\n",
      "Topic #10\n",
      "\t ['gouvernement', 'président', 'loi', 'chambre', 'journal', 'contre', 'lettre', 'ministre', 'affaire', 'droit']\n",
      "Topic #11\n",
      "\t ['président', 'église', 'abbé', 'société', 'lieu', 'mgr', 'maire', 'évêque', 'docteur', 'nommer']\n",
      "Topic #12\n",
      "\t ['art', 'œuvre', 'livre', 'artiste', 'tableau', 'portrait', 'exposition', 'peintre', 'roman', 'volume']\n",
      "Topic #13\n",
      "\t ['monsieur', 'femme', 'dire', 'enfant', 'aller', 'père', 'bon', 'rien', 'mari', 'ami']\n"
     ]
    }
   ],
   "source": [
    "for k in range(k2):\n",
    "    print('Topic #{}'.format(k))\n",
    "    print(\"\\t\", [w for w, p in model.get_topic_words(k)])"
   ]
  },
  {
   "cell_type": "markdown",
   "id": "a7a3532a",
   "metadata": {},
   "source": [
    "# BERTopic"
   ]
  },
  {
   "cell_type": "code",
   "execution_count": 314,
   "id": "5cebaea5",
   "metadata": {},
   "outputs": [],
   "source": [
    "'''## tokenizer ici meme, découper pour doc entre 256 et 512 bert token, en respectant les phrases et fournir embeddings + token + text\n",
    "def splitLongDoc(doc):\n",
    "    if len(doc._.label) != 0:\n",
    "        return '','', ''\n",
    "    length = len(doc)\n",
    "    if length>=800:\n",
    "        nSegment = int(length/800)+1\n",
    "        maxLen = length/nSegment\n",
    "        content = ['']\n",
    "        for sentence in doc.sents:\n",
    "            sentLen = len(sentence)\n",
    "            if (len(content[-1])+sentLen<maxLen) or (len(content[-1]) < 200):\n",
    "                content[-1] = content[-1] +' '+ sentence.text\n",
    "            else:\n",
    "                content.append(sentence.text)\n",
    "        if len(content[-1])<100:\n",
    "            content[-2] = content[-2] + ' ' +content[-1]\n",
    "            content = content[:-1]\n",
    "            \n",
    "    else:\n",
    "        text = doc.text\n",
    "        content = [text] if len(text)>100 else ''\n",
    "        \n",
    "    return doc._.ID, content, doc._.headline'''\n",
    "\n",
    "class DocSplitor:\n",
    "    def __init__(self, model = None, tokenizer = None, lim = 382):\n",
    "        self.model = model.to('cuda:0')\n",
    "        print(f'Computation on {model.device}')\n",
    "        self.tokenizer = tokenizer\n",
    "        self.lim = lim\n",
    "    \n",
    "    def mergeList(self, l1,l2):\n",
    "        return l1+l2\n",
    "    \n",
    "    def mergeStr(self, s1,s2):\n",
    "        return s1+' '+s2\n",
    "    \n",
    "    def merge(self, toks1, toks2):\n",
    "        return {'content':self.mergeStr(toks1['content'],toks2['content']), \n",
    "                'tokens':self.mergeList(toks1['tokens'],toks2['tokens']), \n",
    "                'lemmas':self.mergeList(toks1['lemmas'],toks2['lemmas']),\n",
    "                'nTokens':toks1['nTokens']+toks2['nTokens']}\n",
    "    \n",
    "    def mergeAll(self, tokenized):\n",
    "        if len(tokenized)>2:\n",
    "            return self.merge(tokenized[0],self.mergeAll(tokenized[1:]))\n",
    "        else:\n",
    "            return self.merge(*tokenized) if len(tokenized)>1 else tokenized[0]\n",
    "    \n",
    "    def checkLim(self, toks1,toks2):\n",
    "        return ((toks1['nTokens'] + toks2['nTokens']) <= self.lim)\n",
    "    \n",
    "    def sentenceProcessing(self, sentence):\n",
    "        lemmas = [word.lemma_.lower() for word in sentence \n",
    "                  if word.is_alpha and (not word.is_stop) and (len(word.lemma_)>2) and (not word.is_oov)] \n",
    "        tokens = self.tokenizer.encode(sentence.text)[1:-1]\n",
    "        return {'content': sentence.text,\n",
    "                'tokens': tokens,\n",
    "                'lemmas': lemmas,\n",
    "                'nTokens': len(tokens)}\n",
    "    \n",
    "    \n",
    "    def groupSentences(self, tokens, length):\n",
    "        # function to merge list such that it's stay smaller than lim and each block is approximatly the same size \n",
    "        if (length>=3):\n",
    "            if (tokens[0]['nTokens'] <= tokens[2]['nTokens']) and self.checkLim(tokens[0],tokens[1]):\n",
    "                return ([self.merge(tokens[0],tokens[1])] + \n",
    "                        self.groupSentences(tokens[2:],length-2 ))\n",
    "            \n",
    "            elif self.checkLim(tokens[1],tokens[2]):\n",
    "                return ([tokens[0], self.merge(tokens[1],tokens[2])] + \n",
    "                        self.groupSentences(tokens[3:],length-3 ))\n",
    "            \n",
    "            else: \n",
    "                return (tokens[:2] +\n",
    "                        self.groupSentences(tokens[2:],length-2 ))\n",
    "            \n",
    "        elif (length==2):\n",
    "            if self.checkLim(tokens[0],tokens[1]):\n",
    "                return [self.merge(tokens[0],tokens[1])] \n",
    "            \n",
    "            else:\n",
    "                return tokens\n",
    "            \n",
    "        else:\n",
    "            return tokens\n",
    "\n",
    "    def tokenize(self, doc):\n",
    "\n",
    "        if len(doc._.label) != 0 or (len(doc)<50):\n",
    "            return ('','', [], [], [])\n",
    "        # [1:-1] to remove delimiter\n",
    "        \n",
    "        tokenized = [self.sentenceProcessing(sentence) \n",
    "                     for sentence in doc.sents]\n",
    "        if sum([sentence['nTokens'] for sentence in tokenized])>self.lim:\n",
    "            \n",
    "            mergeable = True\n",
    "            while mergeable:\n",
    "                nBlock = len(tokenized)\n",
    "                tokenized = self.groupSentences(tokenized,nBlock)\n",
    "                mergeable = not (nBlock == len(tokenized))\n",
    "        else: \n",
    "            tokenized = [self.mergeAll(tokenized)]\n",
    "\n",
    "        return (doc._.ID, \n",
    "                doc._.headline, \n",
    "                [sentence['content'] for sentence in tokenized], \n",
    "                [sentence['lemmas'] for sentence in tokenized], \n",
    "                [[2]+sentence['tokens']+[3] for sentence in tokenized])\n",
    "    \n",
    "    def getAttentionMask(self, attentionLen): \n",
    "        return [1]*attentionLen + [0]*(self.lim+2-attentionLen)\n",
    "    \n",
    "    def embeds(self, tokens):\n",
    "        nToks= [len(toks) for toks in tokens]\n",
    "        attention_mask = torch.IntTensor([getAttentionMask(attentionLen) for attentionLen in nToks]).to('cuda:0')\n",
    "        input_ids = torch.nn.utils.rnn.pad_sequence(y, batch_first=True).to('cuda:0')\n",
    "        \n",
    "        with torch.no_grad():\n",
    "            output = model(input_ids=input_ids,\n",
    "                           attention_mask=attention_mask,\n",
    "                           output_hidden_states=True)\n",
    "        docEmbs = [docEmb.numpy() for docEmb in output.pooler_output]\n",
    "        tokEmbs = output.hidden_states[-4:,:,:,:].mean(dim = 0)\n",
    "        tokEmbs = [tokEmbs[i,:attentionLen,:].numpy() for i, attentionLen in enumerate(nToks)]\n",
    "        return docEmbs, tokEmbs\n",
    "        \n",
    "        \n",
    "        \n",
    "    "
   ]
  },
  {
   "cell_type": "code",
   "execution_count": null,
   "id": "054845e3",
   "metadata": {},
   "outputs": [],
   "source": [
    "tokenizer = AutoTokenizer.from_pretrained(\"dbmdz/electra-base-french-europeana-cased-discriminator\")\n",
    "model =  AutoModel.from_pretrained('dbmdz/bert-base-french-europeana-cased')"
   ]
  },
  {
   "cell_type": "code",
   "execution_count": 321,
   "id": "8f060443",
   "metadata": {},
   "outputs": [
    {
     "data": {
      "text/plain": [
       "array([\"-d'Auvergne, la comtesse de Plouet, la comtesse de Fayve, Mme de Poléon, la comtesse de Saulty, la comtesse des Isnards, la comtesse do Saint-Georges, la comtesse de Mdntreuil, la princesse Zurlo, la duchesse de Lorge, la vicomtesse de Yanssay, la comtesse do :Dreux-Brézé, la comtesse de Montozon, la comtesse de Mon- taigu, la comtesse de Montesquiou, la comtesse de Noinville, la comtesse de Saint-Légier,la duchesse do Bellune, la comtesse de Cossé-Brissac, la comtesse d'Aulan, la comtesse de Tanlay, la baronne de Coix, la baronne de Saint-Amand, la marquise d'Aligre, la marquise de Courcival, la baronne de L'Èspré, la marquise Dodun de Keroman, la comtesse de Bryas, 1a comtesse de Sercey, la comtesse de Ruillé, Mme Duringe, la Comtesse de Yilleneuve, la comtesse de Dam- Êierre, la marquise d'Espeuillcs, la comtesse ouglas, la comtesse de La Boutetière, la comtesse de Breuvery, la baronne La Caze' la comtesse de Vogué, Mme Daguilhon-Pujol, Mme Recopé, la comtesse de Mortemart, la marquise de Bàilteul, la comtesse de Bonneville, la comtesse de Chevriers, la comtesse de Ver gés, la comtesse de Bouteville, la comtesse d'Andigné, la comtesse de Keroiiai'tz, la baronne de Précourt, la comtesse Toulouse-Lautrec, l'a marquise de Panisse,la marquise de Broc,la comtesse de Sachs, la comtesse de Gasquet, la comtesse do Saint-Sauveur, la comtesse de Breuilpont, Mme Charles Faure-Biguet, Mme do Ferry, la comtesse de Solages, la oomtesse du Passage, la comtesse de Bourbon, la comtesse de Monteynard, la comtesse Yanville, la baronne de Montesquieu, Mme Desgenétais ;\",\n",
       "       \"Voici, avec les prix atteints, quelles étaient les pièces îesjplus importantes de ce médaillier: N 6, Lyon, Auguste, médaillon, 110 fr no 66, Tarente, drachme d'or, tête d'Hercule, Calabre , 120 fr n 100 : Lucanie , didrachme par Arjstippos, 185 fr n didrachme, tête laurée et barbue de Jupiter, 235 fr n 181 Gela , tête de la divinité tutélaire de la ville, les cheveux dans une sphen- doné brodée, 240 fr no 188 Messana , di drachme, le dauphin en relief dans un cercle perlé, et le revers même type en creux ané- pigraphe, très rare, 495 fr n 197 , panorme, monnaies frappées parles Carthaginois , double stalère d'éleclrum, 100 fr no 198, statère d'or pur, tête de Proserpine, 152 fr n 212, cinquante titras, tête d'Apollon, 115 fr no 213, drachme d'or, règne d'Aga- thoclès, 185 fr no 223, médaillon déca- drachme , type à la coquille d'Euainetos, tête d'Aréthuse,440fr no240, tétradrachme, tète voilée de Philistis, 124 fr no 251, tétra drachme de Lysimaque, roi de Thrace, 170 fr n 264, statère d'or ae Philippe III Thrace , 180 fr no 470, Galba, aureus, 250 fr n 479, Othon, Sepuritas, 220 fr no 483, Vitellius père, aureus, 960 fr n 487, Ves- pasien, aureus, 116 fr et n 490, 190 fr, no 491, quinaire, Vespasien, 30O fr n 537, Domitia, denier, 240 fr no 621, Alexandre Sévère;\",\n",
       "       \",Edouard André, le vicomte Frédéric de Beaumont, le comte Fernand de Beauvoir, le marquis Raymond de Bereager, le comte Al- béric de Bernis, le général vicomte de Bernis, le comte Amédée de Besenval, le marquis Charles de Biencourt, le comte Léon de Biencouit, la comte Etienne de Biron, H. Aston Blount, ie marquis de Boisgelin, Patters m, Henri de Breteuil, le comte de Cambis, le duc de Castries, Çhevandier de Valdrôme, le comte Horace de Choiseul, Francis P. Corbin, le vicomte Ernest de Courcy, le vicomte Paul Daru, le baron Eugène Daru, Adrien Delahante, le vicomte Hubert Delamarre, Jules de Saux, le comte Charles Dillon, Dupin des Lèzes, le duc de Fitz-James, le comte Charles de Fitz-James, Etienne Formon, Edouard Fould, le comte de Oanay, le comte Jacques de Gtanay, le vicomte E de Ganay, le comte Frédéric de Goltstein, le vicomte Antonin de Grancey, le comte Charles Greffulhe , le comte Henri Grefulhe, le vicomte Henri Greffulhe, le comte Halles-Claparède,Richard flennessy, le comte Hocquart de Tartot, Philippe Hottinguer, Rodolphe Hottia- gaer, Edmond Hamsnn, Georges d'Iris son, Maurice d'Irisson, Charles d'Iver- nois, Alphonse Juteau, le baron de Lareinty, le comte de Latoar-Maubourg, le marquis Armand du Lau d'AUemans, le vicomte du Lau d'AUemans, le comte Arthur de Louvencourt, le comte Camille de Louvencourt, le comte de Ludre, le vicomte Ernest de Magnieu, le vicomte Robert du Manoir, Alfred de Montgomery, Achille Moris eau, Hippolyte Mosselmana, le baron Nau de Champloùis, le comte Roger de Nicolay, le baron René du Pille, la comte F. Pillet-Will le duc de Plaisance, le marquis de Radepont, le vi- comie de Rainneville, le duc de Rivière, le baron Alphonse de Rothschild, le baron Gustave de Rothschild, le baron Edmond de Rothschild, le marquis de Rongé, le comte de Saint - Priest, le marquis de Saint-Vallier, le marquis de Scépeaux, le comte de Treveneuc, le vicomte de Tra- veneuc, de Valbesen, Alphée de Vatry, le vicomte Vigier, le comte de Villeneuve- Bargemont, et le comte Arthur de Vogué.\",\n",
       "       \", nous avons rétoarqué MM le général Theurey, le général de Brettevillers, le vicomte d'Origny, lo mar- quis d'Aaglade, le général Môquemann, Raoul Duva ,le comte de Boisgelin,le général de Broher, de Plahol, le général du Frettay, da 'Êoyér, le général de Montaigu, le comte tjrbaiu dé Maillet, Beulé, le général de Berny, le duc et le comte d'Arcourt, le ducd'Aumaie, lô prince de Joinville, le duc de Nemours, le prince Czartorislcy, de Forcade la Roquette, le vicomte de Périgny, le comte de Pourtalès avec la comtesge Lamberterie, Pagès Du port, Lowassy de Louinville, Van Zuylen, le général Verger, le comte de Bryas, le baron de Vin ois, le général d'Argenteuil, Descat, Dihirel, le comte Daru, le comte de Latour- Mauhourg, le baron de Plazanet, Amy, Gali- cher, le vicomte d'Haussonville le marquis des Roys, le- marquis de Dampierré, de Villeheuve-Bargeffiont, de Cissey, Vergé, Desseilligny, général,du Barrail, le colonel Merlin, de Latour-Maubourg, le général Bataille,Forgemol, le colonel Conolley de Sain- tenac, Vente, le ministre du Chili, le miniBtre de Suisse, le ministre de Colombie, de Rouillé, le comte de Tréville, le marquis de Fran clieu, Monnet, le baron de Lassus, le général Paté, le général Colin, Viard, le comte de Mérode, le marquis da la Rochejaquelein, Girau'd, Vitalis, le, comte de Gironde, le ministre de la justice, le général de la.\",\n",
       "       \"Nous pouvons citer comme ayant pris part aux réunions de la droite et du centre droit: MM. Rivaille, le général Ducrot, le : marquis de Valfons, Vëhte, Vaudier, lfe comte Jaubert, le marquis d'Andelarre, le duo d'Audiffrèt-Pasquier, de Larcy, Grivart, Blin de Bourdon, Savary, Dubreuil Sain t Germain, le vicomte d'Haussonville, Chabaud-Latour fils, le comte, Dam, le marquis DesRoys, Delsol, Martial Delpit, Chesnelông, le com e d'Harcourt, L'Ebraly, le comte de Ségur, le marquis dé Grammont, Clément Laurier, Courbet Poulard,Boreau-Lajanadie,Hulin, le comte de Rességuier, Lacave-Laplagne, Dupont, e comte deJujgné, le marquis de Jaigné, e marquis de Castellane, Plichon, de Saint-Victor, Ferdinand Boyer, le comte fie Douhet, Cornélis de Witt, le marquis ûe Wpgué, le comte de Kergorlay, le marquis d'Hespel, Pagès-Duport, Vingtain, Liesbach, de la Guiche, Baoul Duval, le duc de La Rochefouçauld-Bisaccia, Benoît- O'Àzy, Lestourgie, Galet, le marquis de Ploçuc, de Belcastel, deLimayrac, le comte de Maillé, Blavoyer, le marquis de La Rochethulon, le vicomte de Chabrol, La- tier, le vicomte de Haaux, le comte de ÏLérodé, de Tarteron, le cqmte Bouillet e Branche, Baragnon, Aubry, Joubert, le vicomte de Lorgeril, Ancel, le baron Chaurand, le marquis de Mornay, Coin- jbier, de Kermanguy, Mettetal, du Bodan de Saint-Pierre, Amédée Lefèvre-Pontalis, etc etc.\",\n",
       "       \"Me voici arrivé à la fin du feuillet réglementaire, et j'ai encore tant de notes sur mon calepin qui vous sont destinées, actualités du jour, primeurs même, guejô ne voudrais pas laisser moi sir ni deflorer par d'autres, et sur la crise ministérielle qui se prépare, et sur la partie de plaisir que les élégantes de la hauiû société organisent en secret pour la chute d'Iftiâtra, en Finlande avec l'ambassadeur d'Allemagne, prince de Reuss, grand amateur de pêche à la truite, avec,ou sans le jeune Abeille, de l'ambassade de France, qui vient de se pocher l'œil en épaulant mal son fusil, et surle baron Hubner, l'auteur de Chine et Japon, aussibon diplomate qu'écrivain touriste distingué, qui est attendu ici d'un moment à l'autre de Moscou, où il arrive en ligne droite dé l'Asie centrale, et sur le sémillant Arban, qui, avec ses quinze solistes français, fait fureur et l'a déjà emporté sur les Strauss, les Fliege et'lésFlague, les Resch et lesRache et autres chefs d'orchestre allemands qui seuls tenaient jusqu'ici la corde, et sur les débuts et le grand succès, au théâtre du Jardin Isler, de Mmes Nordet, del'Opéra-Comique etLucyAbel, la charmante pensionnaire de M. Delvil, des Galeries-Saint-Hubert de Bruxelles, où Judic laré- clamepourjoùeravecelle au mois d'août Bagatelle, la Jolie Parfumeuse et la Timbale, maisunM. Egâref, quiâait ce qu'il tient, ne vout pas lâcher : enfin sur le bénéfice de Kadoudja et le début au jardin concert\",\n",
       "       \"Déjà riche, mais enrichie, encore parles biens des couvents, après le triomphe du protestantisme, l'aristocratie anglaise ne voulut pas d'un roi qui ne fût pas protestant, du papiste Jacques II, et elle joignit à l'esprit de secte, populaire alors, dans la Grande-Bretagne, un autre esprit, celui de propriété, pour expulser les Stuarts catholiques et garder les terres des vieilles Abbayes pas besoin de dire ce que je pense de,la spoliation des mônastères dont avaient bénéficié les riches du protestantisme et que représente maintenant la taxe des pauvres, qui remplace les Secours, la charité des monastères, mais si la révolution protestante de 1688 a été une révolution d'en haut, sans bruit, sans émeute, si Jacques 11 a été un roi abandonné à peine suivi, en France par quelques familles catholiques, si, en Irlande, le catholicisme, l'origine écossaise des Stuarts, en Ecosse, leur ont seuls gardé quelques champs de bataille, la Révolution de 89 a été, pour nous, une révolution d'en bas, générale : faut-il rappeler comment les terres du clergé et de la noblesse ont-été con fisquées, alors, partagées, comment notre clergé, notre noblesse, au lieu de s'enrichir des biens qui, ne leur appartenaient as, ont-été spoliés de leurs propres iens, prescrits, massacrés en masse, comment, au lieu de faire une révolution dont ils pussent profiter, pour affermir et développer leur influence, ils ont eu à subir, avec la,France entière, avec les plus humbles victimes, avec les paysans vendéens et bretons fidèles à Dieu et au Roi, c'est-à-dire au pays lui-même que la religion et la royauté avaient fait, la plus sanglante, la plus anti sociale, la plus anti - chrétienne des révolutions, dont M. Saint-Genest a dit qu'elle avait tout anéanti, tout réduit en poussière.\",\n",
       "       \"Reconnu ces derniers jours aux différentes sources : M. Ruau, ministre de l'agriculture,général Lardenielle, caid Ben Gana, comtesse de V'o- gùé, comte d'Andigné, M de Gheest, comtesse de Lastours, R. S. Sharpe, docteur Chantemesse, de Jordana Reviroza, de Souza, comte et comtesse de La Ancina, marquis et marquise de la Liseda, comte R de la Barre, Jules A. Rosa, Mme do Souza Mcnezes de Amarac, comte et comtesse de Valons, de Saint-Germain, Magnin, M. Vassiliadi, Lam- berty, de la Brosse Ravade, général Vonder- scher, vice-amiral Manceron, chevalier et Mme de Egger-Molhvald, Bazin, MmePlacida Badisla de Saint-Palais, Delpeuch, de Meru, du Corail, vicomte de Maquillé, de Romanet, comte Berlier, comte d'Aubigneux, M et Mme Carré, Maury, Berthelot, Paul de Fabry, Arabchety et suite, colonel Lubet, de Casa- mayof, de la Garde, de Berc, vicomte et vicomtesse de Grille baron de Thoisy, de Mon- tagu, Marbot, comte de Laage de Meux, Silva Pinto, Panoff, Mme de la Barrière, baron de Croze, Rolland du Roquay, de Noriega, colonel- et Mme Katz, S. Hatsfefd, John Curtis, Lopez Dorriga, famille Wallace, baron F. Gérar'd, comte Guy de Chevigné, Ben Gana, comte et comtesse de Castéja, R. Willcox, Stanislas de Popiclavsky, vicomtesse Gay- koxvska, Alvarez, Petrowitch, Le Peton, Omar sultan bey, de Lorcin, des Prades de Fourellex, Lhermite, Ramos, colonel Krepers, Mendez de;\",\n",
       "       \"mwtev mmeik mmcg a Ducuing, Vavasseur, Dufraine, René Simon, Gontard, Paul Cresson, Yeatman, Marais, Jallu, Baudelot, Julien Lavollée, Poulain, Paul Champetier do Ribes, Auguste Martini, Louis Thiébaut, Eugène Crémieux, Ambc- louis, Antoine Mimorel, Jacques Mimercl, René Mercier, Henri Porel, Allart, Yallier, Boisnard, Claro, Gallicn, Georges Maillard, Michel Missofïe, Albert Clemenceau, Fernand Berton, Pournin, Groslard, Meurgé, Cassagnade, Seligman, Gondinet, Michel Pelletier, Aubépin, Lourtics, Démange, André Fallières, 1 élix Marchand, Vatin, Guy, Arrighi, Reverdy, Daniel Ollivier, Poignarcl, Allain, Jullcmicr, Labori, Hild, Clunet, Henry Bonnet, Gu'illaumin, Louis Théve- net, Jean de Chauveron, Pierre de Chau- veron, Josseau, Azoulay, P. Chaumié, Henri Coulon, Antoine Faure, Lalou, Lailler, Marreaux-Delavigne, Jules Fabre, Félix Liouvillo, Fraisso, Iung, Fabry, Tclier- noff, Ginisty, Bouclic, Grancollot, Demis, Albert Bérard, Décugis, Louiclie-Desfontai- nes, Léon Bérard, de Saint-Auban, Bonne- fous, Levisalles, Guérin, Albert Roux, Vi- rey, Lagrésille, Henry Geoffroy, F'eldmann, Mainié, Hugon, Marck, Glinel, Rollin, Pou- jaud, Gaillard, Lurgeon, Rodrigues, Del- houmeau, Flageul, Gounod, Léouzon Le Duc, Torau-Bayle, Taillefer, Masse, Paul Motel, Rodolphe Rousseau, Ulrich, Bordier, Pourquery de Boisserin, Drucker, Joseph do Ca- gny, Le Berquier, Paisant, Lautzenberg, Monnot, Louis Dernis, de Coene, Lémery, Touchard, Milliard, Delayen, Signorinb, Louis Mercier, Colrat, Albert'Richard, I ecocq, Simon-Juquin, Blanc,Dttroyaume, Ferdinand Dreyfus, Avigdor, Guigart, Oudarfc, Frémard, Georges Claretie, Tézenas, Rollet, Harmand, Vannier, Thorp, Heilbronner, Dusart, Dessaigne, Le Barazer, Droz, Dorville, Béret, Pcrrin, Guillemant, Le Hénaff, Cogniet, Brizard, Barthélemy Raynaud, Baulant, Jacobson, Charles Lyon-Caen, Lacaze, Paycn, Hesse, Jacques D ittc, Vaunois, Talon, Armand Olivier, Georges Dreyfous, Alhert Bureau, Go- vare, Foucault, Blondont, Leroy, Jacques Lyon, Cliapuis, Hollander, Fischer, Georges Berryor, Limet, Emile Strauss, Weisweiller, Miniconi, Prud'hon, Chresteil, Sabaticr, Houard, Desforges, Orgias, Lebée, Lcyma- rie, Travers, Mennesson, Chapron, de Com bles de Nayves, Viraut, Murgeaud-Larion, du Laurens de la Baire, Binoche, André Hallays, Emile Michon, Jafïoux, Ignace, Desjardins, Delondo, Fliche, Charles Mercier, Huard, Legrand, Pierre Goujon, Roba- glia, etc etc.\",\n",
       "       \"A e' La Rochefoucauld, comte et comtesse dé Sabran-Pontevès, commandant Dublaix, représentant le bureau politique de Mgr le duc d'Orléans, baronne du Houlley, baron Piérard, Comte Guy de Leusse, comte H de La Roclie-Aymon, colonel vicomte de Cour- son, comte et comtesse de Louvencourt, comtesse de Brissac, baron et baronne de Kertanguy, baron et baronne de Berthois, baron et baronne de Meyronnet Saint-Marc, comte Lanjuinais, comte de Castellane, comtesse Ch de Brissac, Comte Gardés, marquis et marquise de Malherbe, comte et comtesse de Carné Tré cesson, marquis et marquise do Castellane, marquis et marquise de L'Eglise, vicomte de Nantois, baronne do Vaux, comte do Guaqui f baron et baronne do Barante, Mme Saint-Marc-Girardin, comtesse de Sardelys, comte et comtesse A. Bruneel, comte d'Audiffret-Pasquier, Mlles s do Vasselot, vicomte et vicomtesse Perrot de Chazelles, comte et comtesse L de Rohan-Chabot, marquise d'Audiffret-Pasquier, marquis de Montaigu, comtesse et Mlle de Monchy, comte et comtesse Henry de Gaillard, M. Martin-Furth, baronne et Mlles de Cabriéres, comte et comtesse Ch de Montlivault, M et Mme Dufaur, vicomte do Bonnemans, comte René de Monti de jlézé, comte Henri de Monti de Rézé, marquis et marquise d'Ornano, comte et comtesse de Saint-Léon, marquis et marquise de Barral-Montferrat, comte de Barrai, comtesse M de Villeneuve-Bargemon, comte de Mirabel, marquis et marquise de Frays- seix-Bonnin, comte Sienkiewicz - Sieniuta, comte U de Rochendaél, etc etc.\",\n",
       "       \"M et Mme BartholomeuFerreira, M et Mme d'Arcnas de Lima, M et Mme de Séguier, M. Castanheira des Neves, comtesse d'Azevedo de Silva, M et Mme Batalha de Freitas, Mmes Maria de Garmo, docteur et Mme Deslandes, M et Mme de Moura, M et Mme Costa de Silva, MM. A. Martino, F de Lacerda, Salon Bensaude, comte de Feitosa, Eloy Gas tanha, Silva Lisboa, vicomte de Saritarem r Bramoainp de Mal- tos, Moutinlio, Carlos ' Santos, Luis Fernandes, docteur Gisneiros Ferreira, Pereira de Cunh'a, M. Monteiro, A de Souza, Aillaud, docteur Mello Vianna, baron d'Ormellas, Osborne Sampayo,CyprianoGil,Correada Silva, Furtado de Mendonça, Souza Ferreira, Souza Pinto, Aguilar, Placido de Souza, le conseiller Ferreira de Amaral, Mattozo Camara, P. Barros Lima, Saint Georges Armstrong, TI10- maz Costa, G. Sobral, comte d'Anadia, Almada Negreiros, Gouveia, D d'Oliveira, G. Domingues, comte de Val Flor, docteur Paul Bensaude, Xavier de Carvalho, Carlos dé Moura Cabrol, comte de Penhalonga, Jaymo de Séguier, colonel Paiva d'Andrade, comte de Saint Miguel, José Guedes de Queiroz, A. Raposo, baron de Sao Pedro, comte do Moser, Lima Mayer, etc.\",\n",
       "       \"Reconnu parmi les personnes présentes : Duc de Sabran-Pontevès, comte Jean de Sabran-Pontevès, prince de Radolin, baron Alphonse de Rothschild, comte de Berteux, duc de Montmorency, comte Lanjuinais, marquis de Villefranche, marquis de Jaucourt, marquis de Lubersac, comte de Lur-Saluces, marquis de Chasseloup-Laubat, prince Strozzi, général marquis d'Espeuilles, marquis de Pange, marquis de Maussa- oré, prince Oufoussoff, L. Deiamarrë, comte Hector de Béarn, comte de Sers, F de Witt-Guizot, comte de Merlemont, comte de Cossé, marquis de Beau- court, comte Hallez-Claparède, marquis de Lur-Saluces, prince C. Radziwill, prince Léon Radziwill, M. Jules Porgès, comte de Guerne, C. Na- riscbUine, vicomte de Pomereu, vicomte do Vauvineux, comte B de Gontaut-Biron, marquis de Saint-Marc, comte Fernand Le Gonidec, prince Brancaccio, marquis d'Aramon, prince d'Arsoli- Massimo, duc de Lustri, de Miquel, comte de La Bourdonnaye, comte Jean de Montebello, comte de Sainte-Aldegonde, comte Urbain de Maillé, marquis de La Mazelière, marquis de Miramon, comte de Pomereu, marquis de Nattes, comte A de Gontaut-Biron, marquis de Lespinay, marquis de Vesins, marquis de Massa, duc de Bisaccia, baron de Ravignan, marquis d'Imécourt, baron Tossizza, comte Ad do Chevigné, comte Louis de Turenne, comte de Lastours, marquis de Panisse, colonel comte de Sainte-Croix, comte de Gramont, comte de Castelli, prince de La Tour-d'Auvergne, de La Haye-jousselin, marquis des Réaulx, etc.\",\n",
       "       \"Le prince et la princesse de Ilohenlohe, le pïiiice Erculàno et son fils, la marquise Bcil- zoni, la comtesse Bacci, le marquis de Né- domchel, le comte Christian de Bertier de Sauvigny, le baron Chandon de Briailles, le comte de Nicolaï, le comte Louis d'Andigné, la baronne de Beauchamp, le vicomte de Gontaut-Biron, le duc d'Harcourt, le comte do Turenne, le comte Noyer de Chabral, le comte Zamoysky, Mme Edmond Luce, le prince Galitzine, le marquis Fioravanti, Mme do Wladimiroff, M. Bardaut de Berr, le comte de Saint Yictor, le comte Puslowski, la comtesse de Paradicci, M de Moresco, la comtesse de Pimodan, lo prince d'Essling, le marquis de Villalonga, le comte Val do Lagrana, M do La Garenne, M. Edmond de Molinari, le vicomte de Landrade, la princesse Myschezky, lo comte de Bari, lo duc de Dino, lady Word, M de Mourray, M d'Oultremont, la comtesse de Pourtalès, Mi de La Quintana, Mme de Loriello, le prince Lubomirsky,Mme de Rupert,le baron Arthur de Rothschild, le docteur Henri de Rothschild, M. Saint-Paul de Sinçay, le comte de Montigny, Mme de Kovaleslcy, le docteur Schaap, la baronne Andrian, Mme de Vonège, la comtesse de Meffray, le comte Galharis, Mme Herz, M. Scheff, M. Samuelsons, et, parmi les personnalités du monde artistique, M et Mme J. Mass'enet, M, Raoul Pugno, M. Fefnand Lé Borne, Mlle Emma Calvé, Mme Jeanne Granier, MAI.\",\n",
       "       \"Il était fils de T de Montesquiou qui était fort dans, la connaissance de mon père et dont j'ai parlé en son lieu, et l'homme le plus d'esprit que j'aie connu, avec un air de prince cdmine à pas un, la figure la plus noble, tantôt fort souriante et tantôt fort grave, à quarante ans la tournure d'un homme de vingt, le corps élancé, ce n'estpas assez dire, cambré et comme renversé en arrière, qui se penchait à vrai dire quand il lui en prenait fantaisie en grande aûabilité et révérences de toutes sortes, mais revenait assez vite à sa position naturelle qui était toute de fierté, de hauteur, d'intransigeance à ne plier devant personne et à ne céder sur rien, jusqu'à marcher droit devant soi sans s'occilper du passage, bousculant sans paraître le voir, ou s'il voulait fâcher, montrant qu'il le voyait, qui était sur le chemin, avec un grand empressement toujours entour de lui des gens des plus de qualité et d'esprit à qui parfois il faisait sa révérence de droite et de gauche, mais le plus souvent leur laissait, comme on dit, leur's frais pour compté, sans lés voir, les deux yeux devant soi, parlant fort haut et fort bien à ceux de sa familiarité qui riaient fort de toutes les drôleries qu'il disait, et avec grande raison, comme j'ai dit, car il était spirituel au-delà de ce qui se peut imaginer ll joignait à cela l'esprit le plus grave, lo plus singulier, le plus brillant, avec, des grâces qui n'étaientqu'à lui et que tous ceux-qui l'ont approché ont essayé, souvent sans le vouloir et parfois même sans s'en douter, de copier et de prendre, mais pas un jusqu'à y réussir, ou à autre chose qu'à laisser paraître en leurs pensées, en leurs discours et presque dans l'air de l'écriture et le bruit de la voix qu'il avait toutes deux fort singulières et fort belles, comme un vernis de lui qui se reconnaissait tout de suite et montrait par sa légère et indélébile surface, qu'il était aussi difficile de ne pas chercher à l'imiter que d'y parvenir.\",\n",
       "       \"le duc de Dino, M et Mme Paul Gillibert, le comte de Malleville, M et Mme Wicht, Mme Herz, le général Faure, le comte et la comtesse Bertora, la comtesse Kaveline, le marquis de Molken, le comte Stuck, ie- comte de Castellane, la comte Rohozenski, le vicomte de La Re- dorte, lord Russel, le général Rosen, le marquis de Nédonchel, le comte Schin- chin, la baronne Stocko, le comte Hen- drikoff, la comtesse Sambrino, la princesse Bathiany, M. Gonzalez Dreyfus, le baron de Nervo, Mme de Gubernatis, la comte de Mar, M, Hovelacque, l'éditeur Durand, le colonel eomte de Christen, la comte del'Espinasse, l'éditeur Sonzogno, le comte de Hautefeuille, M de Micklos- var, Mme Mae Adam, le comte Olisar, le comte d'Heursel, le baron de Boissieu, Mme de Miroy, Mme de Briant, M et Mme Marteau de La Mottè, M et Mme Gaston Moch, le baron et la baronne da Rolland, le capitaine de Cassagnac, etc. Parmi les nombreux critiques venus pour entendre Hélène : MM. Gabriel Fauré, Louis de Fourcaud, Auguste Germain et Mme Edmond Stoullig, Paul Milliet, Charles Formentin, Charles Jolly, Emmanuel Arène, Jean Lorrain, Fernand Bourgeat, de Woestyne, Astruc et nos confrères de lar'presse étrangère, Blackburne, Leytmann, le compositeur Giordano, Murphy, Pozza, Acolanti, Bi- rachini, Van den, Han, Neitzel, Marion, Bachour et de Koudenoff.\",\n",
       "       \"Bocher, comte de Beauf- forfc, comte Humbert de Marcieu, baron de Bussierre, comte G de Ganay,comte de Bryas comtes Gabriel, Guy, Xavier et Alfred do La Rochefoucauld, duc de Lorge, comte de Bagneux, comte Gaston de Contades, comte X de Chavagnae, vicomte A de Chezelles, comte André Pastré, comte A de La Rochefoucauld, prince A de Broglie, marquis des Réaulx, baron de Montesquieu, marquis de Nieuil, marquis et comte de Wigi acourt, comte de Blois, vicomte de Vaulogé, marquis de Malherbe, vicomte de Gaigne- ronj duc de Reggio, marquis d'Harcourt, comte de Massa, marquis de Saint-Genys, marquis de Chaponay, marquis de Castellane, comte Edouard de La Rochefoucauld, comte St de Castellane, duc de Trévise, comtes G de Bourbon-Chalus, de Wendel, comte Elie d'Avaray, marquis de Dreux-Brézé, duc de Bisaccia, marquis de Virieu, baron Hottinguer, comte Elzéar de Sabran, marquis de L'Aigle, comte Vladimir de Montesquiou, comte Th de Rohan-Chabot, marquis d'Argenson, comte de Sèze, marquis de Massa, marquis de Couron- nel, comte Florian'de Kergorlay, comte Louis de Turenne, marquis de Vibraye, princes Amédée et François de Broglie,vicomte de Durfort, comte Bertrand et Elie de'Durfort, baron de Carayon- LaTour,vicomte de Bourqueney,Roger Lambelin, marquis de Lillers, prince de Faucigny-Lucinge, comtes Th etA de Laubespin, comte L, de Luppé, vicomte de Montsaulnin duc des Cars,marquis de Vogué, général de Biré, Lambrecht, marquis et comte de La Ferronnays, comte de Guébriant, marquis d'Eyragues, baron de Fonscolombe,marquis de Croix, duc de DoudeauvHle, duc de Beaufort, comte d'Haussonville, etc.\",\n",
       "       \"MM. Van Blarenberghe, Army tage, Beh- rens, Delaunay-Belleville, Warchowsky, de Perl, Grison, Worms de Romilly, Urban, lord Stalbridge, do Pétroff, Almgren, Arnaud, de Bruyn, I-Ieurteau, Ghauncey Depew, lord Cawdoïy Barabant, Baume, Blagé, Etienne, Krueger, de Gortschakoff, Griolet, Harrison, sir Oakley, Hubbard, Dervillé, Charles P, Clark, Var den Wynckèle, Steel, Campbell, Ross, Frank Parish, Weissenbruch, Dutreux, Catnpiglio, Boischevalier, Bordet, de Burlet, Péroûse, Holtz, le commandant Galopin, Guichard, Luneau, Griolet, Bor guini, Boudenoot, sir Gourtnay, Boyle, Ra- maeokers, Holemans, Foulon, Carlier, Bley- nle, Brissé, de FoUrtou, Javary, Haton de La Goupillière, le baron Hély d'Oissel, sir An drew Fairbairn, Forestier, Ely, Popofï, Wentzel, Grciner, Pereire, Wilkinson, Dela- perrière, Bickersteth, Droùin, sir W. Laird, Mac Donald, Binay, Ruelle, Salmon, Me ta per, Camille Lyon, Aucoc, Picot, Weiss, Berquet, Vorgé, Hottinguor, Sartiaux, de Larniinat, de Lamolèro, Wiekersheimer, André Noblemaire, Ohandèze, Bouquet, An- sault, Fontaine, le général Frater, Saul- nier de Longchamps, Touzé, Mange, Margot, le colonel DelarUe, de Sousa Gomes, de Carvalho, Kridener, Engeringh, le baron, de Kronenberg, J de Bloch, Reynaud, Maurice Bauer, Rey, Nordstrom, Slattery, Foc- quet, Darbyshire, Oldham, Anderson Jeit- tens, Zehetner, Ziffer, Bombelles, le chevalier de ïaussig, de Laveleye, lord Cottesloë, le comte d'Aberdeen, Van derVliet, Mac Andrew, de Treese, etc etc.\",\n",
       "       \"Mme d'Çngelberg, M. J. Cousin, Mme et MÏÏe Aubry, M. Guillemot, Mlles Saffroy, Mme A. C. Mears, M et Mme Bellenger, M. Richard Béreng'er, Mme et Mlle A. Bernand, M et Mânes Février, Mme Delon, M: ét Mme Edmond Henri, M et Mme Louis Berr, Mme Goubault docteur et Mme Didsbury, Mme Luys, M. Jules Février, Mme de Loukanoff, M et Mme P. B. Lammin, Mlle -Lesbros-Bigillioh, Mme Mirault, Mme et Mlle Chevallier, M. Soullier, Mme Regnier Dietz, M et Mine Befnheim, Mme E. Benassit, Mlle Eisa lotis, M. F. Reusse, Mlles de Beccary, M. Mme et Mlle 'N. Pohl r ' Mme et Mlle Richard, M. Mme B. Francfort, Mme Ritt, M. A de Plotnikoff, M, et Mme Georges Millaud, Mmes Delmas, M et Mme P. Esclangon, M. Richard Vittolo, M. Albert Cané, Mme Premsel, M. Lesage, M et Mme Joanne, Mme Arnoudt, docteur et Mine Martha, Mme Baheux, M et Mme Lainieus- sens, Mi J. Haas, M. Devillers, M et Mme J. Allison Bowen, M. G. Schleier, docteur et Mme Nollet, Mme Cahen de Chatel, Mme L. Morhange, M: Wulvery, M. Jelowicki, M et Mme Paul Jamin, Mme Sewoll, M. Nicaud, docteur, Mme et Mlle A. Weill;\",\n",
       "       \"baron de Fonscolombe, duc de Reggio, marquis d'Eyragues, comte Aymer de La Che valerie, comte de Mortemart, duc de Trévise, comte Greffulhe, M. André de Fouquière, comte de Rochambeau, comte de Goltstein, comte Pierre, de Montalivet, vicomte de Merlemont, comte d'Hautpoul, comte de Briche, marquis de Bérulle, marquis de Fraguier, marquis de Sàyve, comte Hubert de Pourtalès, comte Louis de Montesquiou, comte A de La Roche-A ymôn, baron de Cou- lange, comte de Semallé, M, Fournier-Sarlo- vèze, M. Cibiol, comte H de Couvcy, marquis d'Audifl'ret-Pasquier, comte de Suzannet, comte Hermann de Mérode, marquis de Fiers, M. Cahen d'Anvers, comte de Nettancourt, baron F de Soubeyran, baron Girod de l'Ain, comte de Kergorlay, comte Jean de La Rochefoucauld, comte d'Andlau, comte de Forbin, comte René do Peyronnet, baron de Balorre, baron d'Avril, comte Louis de Bagneux, comte H de Bonvouloir, comte et vicomte de La Sizeranne, vicomte de Noiie, Paul Leturc, Aubry-Vitet, marquis de Lillèrs, comte Jeah de Sabran-Pon- tevès, vicomte de Lauriston, général de Maindreville, baron de Baulny, A. Delahante, comte Ludovic de Mieulle, Amédée Dufaure, marquis de Sesmaisons, baron do Schickler, vicomte de Montureux, comte de Méré, A du Bos, Henri de Lafaulotte, vicomte de Vaufreland, comte de I ambertye, Maurice Grimprel, comte Henri de Béarn, comte Xavier de La Rochefoucauld, baron Nivière marquis de Pange, comte de Mony- Çolchèn, H. Bamberger, comte de .\",\n",
       "       \"Cette dernière paroisse, à laquelle l'abbé Chesnelong avait fait la veille, à l'heure des vêpres, ses adieux, était d'ailleurs largement représentée dans l'assistance, où nous avons reconnu d'autre part, outre les membres de la famille Chesnelong: Comte et comtesse de Maillé, baron de Baulny, M et Mme de Vergés, M. Musmir de Pleignes, M et Mme Froment-Meurice, comte de Lanjuinais, MM. Louchet, Dufaure, comte et comtesse de Caraman, Mlle Roland-Gosselin, M et Mme Goiiin, marquis et marquise de Castéja, MM. Dehollain, Pageot, Roselli, M et Mme Le Guay, M et Mme François Roland-Gosselin, Mmes Hovelac- que, Deseilligny, M et Mme Naquet-Radiguet, Mme Saglio, duchesse de Glermont- Tonnerre, baron de ÎSÎervo, comte de Livois, M. Keller, M et Mme Le Conte, M et Mme Coppinger, comte de Kergorlay, comte de Francqueville, Mmes de Villers, Hébert, Allez, Cartier, Gourgaud, baron et baronne de Ravignan, comtesse Aubaret, M et Mme de Carvalho, M et Mme Camille Champetier de Ribes, Mme Poulain de Corbion, baron et baronne Léon de Nervo, Mme Gastinne-Renette, comtesse dé Chateaubriand, marquis et marquise do Mun, baron ' et iaronne de Nioac, M et Mme Camille Tollu, duc et duchesse de Plaisance, comte de Goyon, marquis du Douët de Graville, général marquis a'Espeuilles, M et Mme Manuel Fourcade, Mme Busson-Billault, baronne de Lassus, comte et comtesse de Montaigu, M. Etche- verry, comte Jean Chandon de Briailles, baron.\",\n",
       "       \"Desfarges, Caze , R. Leygue, Surcouf, Gauvin, Rauline, de Broglie, Chandiôux, Adam, Clémentel, Chaurnerlat, Bourrât, Pams, Cavaignac, Vaillant, Pierre Richard, Derveloy, Montfeuillard, Loup, Paulmier, Hémon, Aynard, dè BoUry, Le Gonidec de Traissan, Cloarec, comte d'Alsace, Doumergue, Viliers, Péronneau, de Lanessan, Chambon, Couyba, A. Bérard, Thierry, Authier, Delarue, Castillard, Thierry - Dela- noue, Gerakl, Pajot, Lachaud, Gras, Lho- piteau, Vigné, vicomte du Halgouet, Jour dan, comte de La Bourdonnais, Defontaine, Eliez-Evrard, abbé Lemire, Bersez, Plichon, Gaillard, Vallé, Chabert, Schneider, Du bief, Berteaux, Coache, Chabrié, Allard, Her bet, P. Baudin, Antide Boyer, Debussy, ïsain- bart, Decrais, Saint-Martin, Jacquey, Dulau, Dorian, de Chambrun, Arthur Legrand, Le brun, marquis de L'Estourbeillon, Baudon, Rose, Lebaudy, Trannoy, Daudé, Cuneo d'Ornano, Delmas, Xavier Reille, de Maussabré, Jonnart, G. Menier, Klotz, Gacon, baron de Mackau, Pradet Ballade, Colliard, Empereur , Dasque, Bischofl'sheim, Ermant, Jules Roche, Perrin, Delcassé, Pelletan, Ca- denat, Muteau, Jacquemin, Ruau, H. Leygues Constant, Chastenet, Alban David, Rivet, Sibille, G. Cochery, F. Bougère, duc de Rohan, Forest, Gévelot, Chambige, Gourd, Krauss, Simyan, Mercier, Cau vin, Delombre , Maruéjouls, F. Brun, Le Troadec, de Largentaye, docteur Bonie, Deschanel, Miossec, de Mun, Decker-David, Lef- fet, Cère, Trouillot, Mollaru, Vigouroux, Quil beuf, Vival, Rey, Mougeot, comte d'Elva, de Benoist, Basly, Lamendin, Guyot Des saigne, comte de Gontaut-Biron, xàndrieux, Deshayes, Ridouard, Tourgnol, Boucher, Krantz , Renault-Morlière, Sarrien, Pourteyron, Dubuisson, Lechevallier, Lauraine, Escanyé, Déribéré-Desgardes, Théron, G. Denis, Dumont, de Baudry-d'Asson, comte Boni de Castellane, G. Hubbard, Astier, Mas sabuau, Rabier, Cibiel, La Roche Joubert, Babaud-Laci-oze, Emmanuel Arène, Sarra- zin, Clament, marquis de Moustiers, Maurice Faure, Chabert, abbé Gayraud, Pastre, Chànoz, Claudinon, baron de Grandmaison, comte Lanjuinais, Jaluzot, Bony-Cisternes, Bouveri, Fernand David, baron Amédée Reille, Giaccobi.\",\n",
       "       \"La Béraudière, vicomtos e Gtouchy, de Varax, comtes d'Orglandes, Rochefoucauld, Maurice de Glieost, amij al Humannj' lieutenant-colonel de Mau- d'huy, Delarbve, A do Waru, Dulilleul, amiral do Maigret, barons A et V. Reille, comtes Henry des Nétumioros, d'Imécourt, Jacques du Luart, vicomte de Deservillevs, O. Boit- telie prince Pierre d'Arenberg, Camille Blanc, comtes d'Andigné, de Ségur, de Vanssay, barons du Toil du HaveLt, de Préçourt, marquis d'Albu- fora, de Cliambrun, de La Bourdonnaye, vicomte de Bourquëney, comtes Jacques de Yaulogé, dé Talhouct-Roy, Ant de Nicolay, de Guébriant, Alexis de Noailles, baron J de Witte, Edmond et Henri Béjot, H. Limbourg, G. Firmin-Didot, Maurice Davillier, Henry Delamarre, vicomtes de Noailles, de Dreux-Bréiê, duc de Mortemart, comte Élie d'Avaray, baron Emest Seillière, C. Demachy, comtes de Lévis-Mirepoix, Florian de Kergorlay, prince de Tarente, barons Le- jeune, ïh de Bèrcltheim,marquis de Saint-Seine, de Marescot, général Choquet, G. Noblemaire, Edgard Stern, E de Sinçay, L. Merino, baron de Neuftize, A du Bos, comtes Louis deL'Aiglo, Frédéric Pillet-Will, de Neverlé'e, baron ïhé- nard, comtes H de Colbert, Charles do Lousse, vicomte de Trédern comte\",\n",
       "       \"Parmi les inscrits d'hier : Baron et baronne de Nioae, comte et comtesse C de Laubcspin, comte et comtesse Albert de Nioac,baronneJarnes de Rothschild, comte et comtesse de Bruce, colonel et Mme Lamy, comtesse de Bonteville, M et Mme Cor- nèlis de Witt, Mme Guizot, M, et Mme de Vlassow, comte et comtesse de Massa, baron et baronne L. Pichon, marquis de Cad olle, marquis et marquise de Laguiche, M et M nie Brame, comte et comtesse Eugène Pereire,M et Mme Stand ish et Mlle de Montesquiou-Fezen- zac, vicomte et vicomtesse do Villeueuvc-Bargo- mon, M, et Mme Bourlon de Sarty, comte et comtesse Adrien de Lcvis-Mirepoix, princesse Edmond de Polignac Mme de Clercq, générale Bore-Verrier, prince 4e Beauvau, comte et comtesse de Kergorlay, marquis et marquise de Montaigu, marquis et marquise de Beaumont, comtesse Jacques de Ganay, comte et comtesse Melchior de Polignac, marquis et marquise de Juigné, marquis et marquise de Saint-Ghamans, marquise de Juignê douairière, baron de La Grange OTard, duc et duchesse de Broglie, baronne G de Rochetaillôe, comte et comtesse Théodore de Gontaut-Bi- ron, comtesse Fernand de Brissac, M. Emile Mercet, prince Aymon de Lucinge, M et Mme Germain Lefèvre-Pontabs, baronne de Lau- uay, Mme Amédée Lefèvre-Pontalis, comte et comtesse de Quelen, baron et baronne Louis de La Grange, comte de Jarnac, comte et comtesse Jean de Kergorlay, vicomtesse de Varesquiel, M et Mme Henri Cochin, Mme et Mlle de Miribel, comte et comtesse de Va resquiel, marquis et marquise de Broc, baron etbaronneCôVhede LaFerté, Marcel Haentjons, duchessedeTrévise,baron de Wattcville,comte et comtesse de la Rochefoucauld, comtesse de Sainte-Aldegonde, M et Mme Fabre-Luce, comtesse de Villeneuve-Guibert, baron Brin- card, M et Mme Adolphe Regnier, comte et comtesse Camille de Fautereau, marquis do Miramon-Fargues, comte et comtesse de Mi ramon-Pesteils, comte et comtesse Albert de Sinety, comte et comtesse do Merlemont, miss Agnès Blackwell, Mme Charles Floquet, baron et baronne E de Mandat-Grancey, M et Mme H. Ruthon Pratt, baron et baronne Eugène do Dorlodot, baron Mulot, comte L de Plas, comte et comtesse L- d'Humières,marquis deVilleneuve-Bargemon, comtesse Marthe de Villeneuve-Bargemon, vicomte Cornudet, M et Mme Raymond Poincaré, marquis de La Londe, baron de La Londe, J de Oliveira-Murinelly,\",\n",
       "       \"- Lafa ye, général et Mlle Poulléau, marquise do Valle-Flor, général, vicomtesse et Mlles de Vibraye, comte et comtesse de Chateaubriand, M. Mme et Mlle Lozé, le président Lefebvre de Viefville, ami ralo Berr yer amirale et Mlles Besnard, comtesse de Joybert, comtesse et Mlles de Faria, vicomte et vicomtesse de Faria, comtesse Greffulhe, comtesse de Champagny, comte Jacquos d'Arlincourt, comtesse de Hlanzay, comtesse de Boisbaudran, comtesse de Boisgelin, comtesse da Carvalhido, comtesse de Chevriers, Mme Luzarche d'Azay, Mme Martin - Leroy, comtpss e et Mlle de Pevroony, comtesse et Mlle de Matharel, Mme Maiinçon, comte de Beaufort, comte de Causans, comtesse de Damrémont, comte et Mlle de Goyon, comtesse de Sesmaisons, comte et comtesse Murât, comtesse d'Où nans de Clairvaux, baronne de Seganville, baronne et Mlles de Segonzac, baronne d'Aligny, baron et baronne de Châtaux, baron et baronne de Lormais, comte de La Sizeranne baronne d'Aboville, vicomtesse et Mlles d'Aboville vicomte et vicomtesse de La Sizeranne, comtesse et Mlle de Canisy, général et Mme Païva d'Andrada, comte de Montforrier miss Ware, Mme Hamilton Paine, Mme et, Mlle du Cha yla, M de Chevarrier, baronne de Puttlingen, comtesse de Vaucelles, Mme Court, vicomtesse d'Avènede Fontaine, comte do Chamboret, vicomtesse Le Bourdais des Touches, M et Mme Mon- tenard, Mme Le Borne, M. Mme et Mlle de La Ville Le Roulx, Mme et Mlle C. Labonret.\",\n",
       "       \"Moussac, de Biencourt, de Cossé, marquis de Lùr-Saluces, du Lau, vicomtes G d'Avenel, de Vaulogé, général comte de France, comtes II de Robien, G de Contades, Lanjuinais, marquis de Lauriston, Bourlon de Sarty, marquis de Malesseye, comtes de Vau- guion, de Buffières de Etarfort, général comte de Sesmaisons, César Caire, marquis de Çrunelé, prince Alexandre de Caraman-Chimay, baron Xavier Reille, de Coral, de Bony, comtes do Chardonnet, do Gassart, de Monteynard, prince Aymon do Lucinge, Jean, Maurice et Paul Hottinguer, général comte des Garets, marquis de Sayve, de Gasa-Fuerte, de Paris, comtes J de Nettancourt,d'Agoult, G de Chavagnac, Théodore de Gontaut-Biron, Arthur de Vogiié, vicomte de Fraguier, Albert Vandal, marquis d'Aubigny, Sté- phen Liégeard, comtes de Wignacourt, A d'Oultremont, de La Rochecantin, F d'Andigné, Xavier do La Rochefoucauld, de Tanlay, A de La j oche Aymon, barons de Waldner et de Barante, marquis de Grollier, vicomtes de La Tour du Pin, ueReiset et de Noailles, comte Eugène d'Hin- njsdal, marquis de Saint-ueorges, Robert Dar- biay, P de Monicault, marquis du Crozet, Edouard de Billy, baron J de Witte, Adolphe Brisson, Ernest Daudet, Edouard Rod, Henry Bordeaux, marquis d'Ornano, d'Harcourt, Dadvi- sard, de Wignacourt, vicomtes d'Harcourt, do Monchy,comtes Arthur de Castries de Bouthillier, Biadelli, vice-amiral Humann, princes de Faucigny\",\n",
       "       \"Vicence, marquis et marquise d'Ey- ragues, comte et comtesse G. Chandon de Briail- les, M et Mme L. Massieu de Clerval, duc et duchesse d'Estissac, M et Mme Louis de Seynes, comte et comtesse Bertrand d'Aramon, comte et comtesse Guy de Lubersac, vicomtesse de La Rochefoucauld, çomte ot comtesse Guy de Lévis-Mirepoix, comte et comtesse d'Astanièrés, baron ei baronne Henri de Rothschild, comte et comtesse A de Lévis-Mirepoix, comte et comtesse Henri de Ganay, comte et comtesse de Montault, comtesse Bertrand de Mun, comte et comtesse Georges de Moustier, prince et princesse Lucien Murât, marquis de La Baume Pluvinel, comte et comtesse Elie de Ganay, comte Gabriel d'Evry, M et Mme de Yturbe, comtesse Edmond de Pourtalès, Mme Henri de Wendel, M et Mme Gaston de Bonnechose, marquis de Pange, comte et comtesse de Galard, baron et baronne Henri de Langlade, MM. Hubert, Jacques, Bernard et François de Ganay, marquis et marquise de Bon- neval, marquis Calloghan, J du Breuil de Saint-Germain, Mlle Claire Wittgenstein, comte Gaston de Montesquiou, comtesse de Fitz-James, marquis et marquise de Lévis, coriite Jacques de Ganay, Olivier Taigny, duchesse d'Uzès douairière, comte et comtesse Pierre de Pange, M. A de Frileuse, comte et comtesse de Séguier, Humbert de Wendel, princesse Eugène Murât, duc e duchesse de Marmier, baronne Lambert, Mlle Alice de Frileuse, M et Mme G. Hersent, prince et princesse de Léon, comte de Girardin, comte et comtesse'de Montgomery, comte et comtesse de La Tour du Pin, marquis et marquise de Chaponay, Mlle Decazes, Mlle Antoinette de Mor temart, M et Mme Edg ard Stern, Mlles Marie et Agnès do Mortemart, yicouite et vicomtesse de Levis\",\n",
       "       \"La salle est naturellement fort grillante, J'y vois La princesse Mathilde, le prince de Sagan, le prince Galitzin, le baron et la baronne Legoux, le marquis de Massa, Mme de Béchevet, baron du Bourdieux, baron de Kœnigswarter, vicomte de Boisguilbert, Janvier de la Motte, le marquisdeFlers, Lupin, de laCharme, de Borda, Meilhac, Gondinet, Bélot, Bischofi'sheim, Blanchard, Alphonse Daudet, M et Mme Camille Doucet, Marie Vanzandt, Louise Abbéma, Gaston Boissier - Ranc, Weiss, le général Plttié, Lafontaine et Mme :Lafontaine, le docteur Thévenet, Paul Daroulède, Legouvé, Gounod, Céline Chaumont, Legault, Kolb, Maurice Bernhardt, Stevens, Clairin, de Bornie'r, Mme A deGirardin, Mme Charles Buloz, M et Mme Edouard Hervé, Gustave de Rostchild, marquise de Lambertye, Général de Galliti'et, MmeDebelleyme,LucienWorms,BlanchePierst n, Legouvé, baron Haussmann, marquis d'Osmond, Courette, Lia Félix, Bianca, Frédéricks, Lucy Tholer, Auguste Maquet, Camescasse, Lippmann, Mme Amodru, Halânzier, Costé, Fran chie Cellier, Mme de Piébois, Mme Théodore Barrière, Audran, Hennequin, Vacquerie, Perrin, le colonel Lichtensteiû, le baron Double, Liouville, Arnaud de l'Ariège, Deshorties de Beaulieu, Charles Yriarte, les deux Dupuis, celui du Vaudeville et celui des Variétés, Mlles Lesage, Gunsburg, Georgette Ollivier, Mme Anaïs Fargueil.\",\n",
       "       \"France 1 Ont signé : MM: Abrial, d'Aillières, Arnous, de Baudry-d'Asson, vicomte de Bélizal, Bénazet, Ber- ferot, de la Biliais, vicomte BUn de Bour- on, du Bodan, Bourgeois, Boyer, Brame, Brierre, Calla, de Cazenove de Pradines, Chevreau, Cibiel, Daynaud, Delafosse, comte Desson de Saint-Aignan, Dréolle, baron Dufour, baron Bschassériaux, comte d'Espeuil- les, Fauré, Gavini, baron Gérard, comte Gi- noux de Fermon, comte Le Gonidec da Traissan, Granier de Cassagnac, Grout, da Guilloutet, Jolibois, Jonglez, comte de Juigné, comte de Kergorlay, vicomte de Ker- menguy, de La Bassetièra, Labat, vicomte de La Bourdonnaye, baron Etienne de Ladoucette, comte Laniuinais, de Largentaye, de La Rochefoucauld duc de Bisaccia, marquis deLa Rochej acquelein, Laroehe-J oubert, de La Rochette, Lefebvre du Prey, prince de Léon, Le Provost de Launay, Paul Le Roux, Levert, Lorois, baron de Mackau, comte de Maillé, Malartre, Martin d'Auray , Maynard de la Claye, comte de Mun, comte Murât, Ollivier, Orn no fCuneo d' Pain, Pieyre, Plichon, Prax-Paris, baron Reille, baron des Rotours, Louis Roy de Loulay, de Saint-Martin, Sarette, Serph Gusman , de Soland, comte de Terves, Thirion-Montauban, Thoinnet de la Turmélière, de Yalon.\",\n",
       "       \"Barbentane, la comtesse de Galard, la princesse Woronzoff, la vicomtesse du Peyroux, la vicomtesse d'Esterno, la comtesse de Chabannes La Palice, la vicomtesse de Roquefeuil, la vicomtesse de Vaulogé, la duchesse de Bellune, la comtesse A de Grammont, la comtesse d'Espaigne, la baronne d'Ivry, Firino, la comtesse de Musard, la comtesse de Lévis-Mirepoix, la baronne de Bourgoing, la vicomtesse de Grollier, la comtesse de Panisse-Passis, G. Bocher, la duchesse de Gadagne, la marquise de Castellane, la comtesse d'Aubigny dAssy, la comtesse de Pienne, la vicomtesse de Chabrol, la marquise de Bérulle, la comtesse de Ruillé, la comtesse du Passage, la comtesse de Carcaradec, la comtesse de Tanlay, la comtesse d'Andlau, la comtesse G de Bonvouloir, la comtesse de La Rochefontenilles, de La Boissière, Thouvenel, la marquise d'Au lan, la baronne du Teil du Havelt,la comtesse F de Maillé, la baronne de Moracin, la baronne-B de Leumont, Sclieidecker, Pastré, la comtesse de Montreuil, la marquise des Isnards, la marquise de Miramon, la baronne de Langlade, la comtesse de Dreux-Brézé, la comtesse de Grammont d'Aster,Virieu,Pecoul, la comtesse de Durfort, la marquise de Sigy, Bailleul, la comtesse de La Ferronnays, la comtesse de Gontaut, Thirion Montauban, la princesse de Caraman-Chimay, la comtesse ae Monlebello, la baronne A de Fleury, Schneider, la comtesse Gicquel des Touches, la vicomtesse Vigier, la vicomtesse des Mou- tiers, Benardaki, la comtesse de Duhesme, la comtesse Costa de Beauregard, la princesse de Hotefield, la baronne de La Borde, la comtesse G de Paris, la comtesse de Mcrona, la comtesse de Les Cazes, la baronne Lefebvre, la vicomtesse de Brimont, la comtesse A de Vogué, la comtesse G. Costa dé Beauregard, la marquise de La Borde, la comtesse de Rolland Dalon, la baronne de Morogues, la comtesse de Montsaulnin, la comtesse de Montesquiou, Stern, de Gournay, la comtesse d'Aubigny d'Esmyards, la vicomtesse de Sa- vignac, la comtesse de Bonneville, la comtesse D de Beauregard, la marquise de Croix, la comtesse de Vilaines, II de Lafau- lotte, Georges Mallet, la comtesse de - Sainte-Marie, la comtesse G de Montgomery.\",\n",
       "       \"Elias, comte de Ganay, y Anisson-Duperron, marquis de Maussabré, R. Bischoffsheim, de Heyn, de Kptze- bue, Lavoignat, général de Castex, Pasteur, A. Hart, Coppens de Fontenay, Arthur Meyer, Gillibert, de Morlain- court, de Verneuil, Choppin d'Arnou- ville, A. Sciama, C. Harley Avril, Viellard, de Marivault, Picard, Paléologue, Desfontaines, Dormeuil, Ni- colopoulo, comte Potocki, S. Oppenheim, de Forgemol, E. Laveissière, Guastalla, comtes Pierre et Louis de Cossé-Brissac, Blumenthal, Ephrussi, baron Pierre, docteur Blanche, Ribot, de Prunières, le Jockey-Club et les Cercles de l'Union artistique et des Beaux-Arts, etc etc fauteuils de Balcon ' Mesdames labaronneVan Loo, Salamansky, Maupoil, Delville-Cordier, Wimphen, Vallet, Clerget Robin, Hentz, Spi zer, Lacroix, Vanderheym, Aunez, Arthus, Galand, Brag, Delval, etc etc. MM. F de Rodays, H. Cottin, Phi lippi, Bessand, Goudchaux, Gamburg, Cari Coppens, Malherbe, J. Labélonye, de Montcourt, Thierry, Delanoue, A de Rothschild, Rouff, Adler, Martin Baron, Hirsch, E. Legrand, A. Manuel, Decugis, Aucoc, Chéramy, Mahot-Delaquérantonnais, Carpentier, Nouette-Delorme, de Saint-André, Tron- quoy, A. Dreyfus, Georges Petit, Champetier de Ribes, etc etc.\",\n",
       "       \"La jumelle Flammarion à l'œil, je distingue Dans les loges et les baignoires : Mmes la princesse de Sagan, la duchesse de Luynes, la duchesse délia Torre, la vicomtesse Chandon de Briailles, Jules Porgès, la duchesse d'Uzès, la baronne de Saint-Didier, la comtesse de Mailly- Nesle, la baronne Hottinguer, Henry Say, Joes, Emile Strauss, Poulet, la comtesse de Jacque- mont, la duchesse de Bojano, la princesse Riis- poli,Citroën, Dupuis, Louis Stern, la comtesse L, Cahen d'Anvers, Aufm'Ordt, Madeleine Lemaire, Bischoffsheim, Albert Cahen, la princesse Brancovan, la comtesse Zamoyska, la duchesse de Gramont, la vicomtesse d'Harcourt,la duchesse de Fernan-Nunez, Morpurgo, Perrin, M et Mme Lucien Worms, M et Mme Francis Magnard, M. Albéric Magnard, M et Mme Robert 1 de Bonnières, M et Mme Constans, M et MmeLozé,M et Mme Poubelle, M et Mme Marinoni, M et Mme Armand Gou- zien, M etMmeRaoulToché,M et Mme Benardaky,M et Mme Lippmann, M et Mmed'Hau- terive, Mlles Eames, Marsy, Subra, etc. MM le duc d'Aumale, Féry d'Esclands, le baron Louis de La Redorte, Edouard de Reszké, le marquis de Les Marismas, Henry Meilhac, Ludovic Halévy, Chauchard, Nicolopoulo, Dugué de La Fauconnerie, Albert Wolff, Albert Ménier, El- lissen, B. Chan, Bourgeois, ministre des Beaux-Arts ;\",\n",
       "       \"Pendant que, dans l'église de l'Annonciation, toute tendue'de bôir, chacun pleure et prie, nous reconnaissons, au milieu d'une foule énorme : MM. Emile Augier, Camille Doucet, Albe- ric Second, Arthur de Beauplan, de Pêne, Emile de Girardin , Gondinet, Sardou v Meilhac, Halévy, d'Eïinery, Edouard Thierry, Tarbé, Blavet, Gustave Fould, îïostein, Des- baroUes, Alpjxonse Daudet, LafodtaîBe, de La- rounat, Eugène Bertrand, Haianzîer, Duquesnel, Koning, Ritt, Brêbawt, Peragallo , Alexandre Roger, Arnold Mortier, de Najac, Hennequi'n, Paul Ferrier, Albert MÏUaiad, de Lapommeraye, Jacques Normand, Arthur De- lavignç, Alfred Roger, Raymond Deslandes, Ernest Bertrand, Waîtei , Nazet, Mendel, de Saint-Arroman, Paul Bourdon, Hallays, de Forges, Georges Ohnot, Dclacowr, Grangé, Jules Barbier, Grévin, Mayer, Pobïllcaiont, Blandin, Henri Vacliot, Narcisse Fournier, Louis Ijeroy, Clairville, Jouas, Charles de Courcy, Belot, Cadol, Elzéar, Achille Denis, de Biéville, Cantin, Chavanne, Bonnesseur, Havoz, Eugène Nus, Delcroix, Jules Adenis, Georges Petit, Hippôlyte Raimond, Alphonse Defère, de Besselievre, Dignat, Hector Malot, Léon Carvalho, Heugel, Laurencin, Michel Masson, H. Becque, Pailleron, Brasseur, Victor Bernard, Decourcelle, Jules Guillemot, Crisafulli, Marguery, les frères Clerc, Couturier, Claretie Thuillier, Adrien Boïeldieu, Alphonse Baralle, Charles Bridault, Sirau- din, Henri M ira ut, Toussaint, Delaage, Brésil, G de Saint-Valry, Calmann-Lévy, Narrey, Toché, Béchard, Lavoix.\",\n",
       "       \"le comte de Gouy d'Arsy, A. Lupiu, Schickler, de Vogué, A. Hennessy, Louis de Turenne, baron Finot, prince d'Arenberg, comte de Juigné, duc de Castries, Mme Rousselle, Mme Jôubert, Mme de Dreux- Brèzé, Mme Pillet-Will, Jules Simon, la baronne Poisson, Madame de Bravery marquis du Lau, Rainbeaux, Ridaway, de la Redorte, comte de Berteux, de Castre, Emile Perrin, A de Rothschild, Gavini, E de Rothschild, Edouard André, de la Bourdonnais, le président Cartier, l'ex Mgr Bauer, Clairin, Gérôme, Meissonier, Poirson, comtesse Cahen d'Anvers, comtesse de Mailly, baronne de Saint-Martin, baronne Fincjt, Mme Laurent, Lefeb re de Viefville, de Nétunièrés, Baignières, de Cuadra, MaDriCe Richard, de Jonnuières, Mme Alboni, Mme Fiocre, Mme Oar vaîho, Koenigswarter, Legoùvé, A. Dumas, Camille Doucet, Gaston Boissier, Clémeaceau, de Montebello, Saint-Saëns, Du- quesnelj'Coçhery, docteur Blanche, Mlles Bàr- tet, Réichemberg, Bianca, Delphine Marquet, Léonide Leblanc, Alice Regnault, Dartaux, M et Mme Constans, Lockroy, duc de Nemours, princesse de Sagan, Ephrussi, Massenet, de Beyens, Desbarrolles, Ambroise Thomas, Jules Barbier, marquise de Pourtalès, duc et duchesse de Mouchy, marquise de Gai Met, Mme de Guadalmina, Mme Turquét, Hallez-Claparède, princesse d'Hénin, Ducîerc, de Divone, Binder, Jules-Ferry, Grieninger.\",\n",
       "       \"Aperçu dans les tribunes : Mmes Pastré, Laffltto de Causon, la comtesse de Bourbon-Lignières, la baronne de Langlade, la comtesse de Chevriers, la comtesse de Kermartin, la comtesse Rœderer, la marquise do Colbert, la marquise do Chargères, la comtesse de Bonvouloir, de Lestapis, la comtesse de Breuvery, Fournici' Sarlovèze, la comtesse de Chevi- gne, la marquise de Cliabannes, la comtesse du Lisooët, la vicomtesse de Trédern, la baronne de Sermet, Le Moigne, la marquise de L'Espinoy, la comtesse de Chocqueuse, la comtesse de Sachs, la comtesse de La Chaise, Poydras de La Lande, comtesse de La Bretonnière, Joffrey, la comtesse de Bouy, la baronne de Planeey, la marquise de Canolle, la comtesse de Dreux-Brézé, la comtesse de Maquillé, la comtesse de Thérouanne, Mallet, la comtesse do Virieu, Lambert- Champ v, la comtesse de Boulémont, la comtesse du Parc, la marquise de Sigy, de Lambertye, la marquise de Pothuau, la comtesse de Pracomtal la baronne Goury du Roslan, la marquise do Maillé, la comtesse de Rochambeau, Tanyé, la comtesse de Montreuil,la princesse de Luclnge, la comtesse de Lariboisière, la marquise de Solages, la comtesse de Largentaye, la baronne de Fonscolombe,d'Espaigne,Lee Scnillde, de Panne, la baronne Malouet, Chaix d'Est-Ange, la comtesse Roger de Barbentane, la comtesse de Chazelles, la marquise des Isnards, de Vau- gelas, comte et comtesse Féry d'Esclands et Mlle Féry d'Esclands, baronne de Sermet, comtesse de Rose, ainsi que les généraux Jaeque- min, de 'Kermartin, des G'arets, des Roys;\",\n",
       "       \"sac, carrefourdes boulevards Saint-Michel et Saint-Germain, place Saint-Germain-des-Prés, rues Sédillot,Dupont-des-Lo es etEd- mond Valentin, square des Ménages, place Clichy et abords, carrefour des rues de Rome, du Rocher et de la Pépinière, square Montholon, square et place de la Trinité, carrefour des rues Montmartre et de Provence, carrefour des boulevards Magenta et de Strasbourg, place de la République, place de la Bastille, terre-plein dé la rue d'Angoulême, place Voltaire, square Parmentier, carrefour du boulevard Ricliard-Lenoir et de l'avenue de la République, faubourg Saint-Antoine, rue de Reuilly, du faubourg Saint-Antoine à la rue Montgallet, placé et rue d'Ali- gre, carrefour des rues de Rambouillet, et de Charenton, place de la Nation, carrefour de l'avenue de Saint-Mandê et de la rue Michel-Bizot, carrefour de l'avenue des Gobelins et des boulevards Saint- Marcel et de Port-Royal, place Jeanne-d'Arc, carrefour dé l'avenue d'Italie et de la rue do Tolbiac, avenue du Maine, de la rue des Plantes à la rue de la Gaîté, place d'Italie, place Denfert-Rochereau, rues de la Convention, de Vouillé et d'Alésia, carrefour de l'avenue du Maine et du boulevard do Vaugirard, puits arté sien de Grenelle, place du Commerce, square et place de Vaugirard, rond-point de LongCjhamp, place et avenue Victor Hugo, frue Pergolése, carrefour des rues, do la Potapo et Mozart, place do Passy, place tlu Marché d'Auteuil, quartier de Chaillot, square desBatignolles, place et rue de Lévis, carrefour des avenues, des Ternes, Mac-Mahon et Niel, quartier des Epinettes, carrefour des rues de Mais tre, Lepic, Tholozé et des Abbesses, place\",\n",
       "       \"Le Marois, M et Mme Ridgway, baron et baronne Henri de Rothschild, Mme Thouvenel, M et Mme Bischoffsheim, vicomtesse de Leusse, comtesse Pillet-Will, comte et comtesse de Pracomtal, comte et comtesse Gonzague CuStadeBeauregard, lord et lady Carnarvon, comtesse de Tànlay, comte et comtesse de Montgomery, M et Mme Saint-Paul, baronne Alphonse de Rothschild, vicomte et vicomtesse Vigier, Mlle de Malakolî- d'Aguiar, M et Mme Munroë, M et Mme Albert Menier, M et Mme de Ribon, comtesse et Mlle de Saint-Roman, M et Mme Foacier, comte et confesse de Gontaut-Biron, baronne de Gunzbourg, M et Mme Gallice, M et Mme Godillot, M et Mme Holtzer, Mme Legrand, M et Mme Barton, conte et comtesse du Bourg de Bozas, M et MmeBoussod, comtesse Brocoeka,M et Mmt, Cuadra, baron et baronne Emile d'Erlanger, baron et baronne Rodolphe d'Erlanger, comte et comtesse de Fels, M et Mme Achille Fould, comte et comtesse de Reviers de Mony, M et Mme Léon André, Mme Cauvain, lord et lady Rossmore, comte et comtesse de Làurencin, M et Mme Louis Delamarre, marquis et Mlle de Tanlay, M et Mme Tardiveau, comt e et comtesse Wrangel, duc de Brissac, prince Pierre d'Arenberg, comte de Boisgelin, comte d'Havrincourt, comte Hallez-Claparède, prince Poniatowski, MM. Gaston Menier, Marghiloman, Martel, Men- dijola, Nicolopoulo, Félix Oppenheim, de Saint-Alary, Robert de Salverte, J. Stern, Louis Faider, Marcel Fouquier, comte Antoine de Gontaut-Biron, Galichon,Gaston-Dreyfus, Robert Henenssy.\",\n",
       "       \"Parmi les goûteuses, nous avons reconnu : Mme la duchesse d'Uzès douairière, M le prince Pierre d'Orléans, Mmes la vicomtesse de Naroillac, la comtesse de Rohan-Chabot, la vicomtesse de Kergariou, la baronne Tossizza, la vicomtesse de Déservillers, Mme Bourlon de Sarty, Mme Watel-Dehaynin, la comtesse de La Chapelle, la comtesse du;Luart, la comtesse de Last ic, la baronne, de Rothschild, la comtesse de Contades, la comtesse M de Thoury, Mmes Paul Blache, René Firino, la baronne de Barante, la comtesse de Langle, la comtesse de Danne, Mme Bouttier, la comtesse de Boncourt, la comtesse d'Yanville, la vicomtesse de Sainte-Croix, Mme Hainguferlot, la comtesse H. Houssaye, Mme Tiersonnier, la vicomtesse de Monchy, Mme Fa- bre Luce, Mirte de Chazelles, la comtesse Ch de Béthune-Sully, Mlle de Kermaingant, la comtesse do Breuilpont, Mme du Part, la marquise de La- font, Mme de Francqueville, la marquise de Preaux, la comtesse des Monstiers-Mérinville, la comtesse Cornet, la baronne de Rochebouët, Mme de La Pommeraye, la comtesse d'Argent, la marquise de Poyen, la vicomtesse Etienne de Brézé la vicomtesse de Chabot, la baronne Pigeard, la comtesse de Legge, la vicomtesse R de Chabot, la comtesse M de Vergennes, la marquise de Guer, la comtesse Merou - d'Aussy, la baronne d'Anchald, la comtesse de La Teillais, la comtesse de Vauguion, lavicomtesse de Doré, Mme Mottin, la vicomtesse du Jeu, la marquise d'Aligre, la comtesse Le Veneur, Mlle de Chazelles, la comtesse E de Maleissye, la marquise du Crozet, la comtesse de La Celle, la comtesse de Méré, Mlle S. Blache, Mlle de Kergariou, la comtesse Louis de Bagneux, la baronne de Tain, la comtesse de Champgrand, la comtesse de Roi land, la comtesse de Montfem, la comtesse de Murât, la vicomtesse Pierre de Bagneux, Mlle L. Blache, Mine Dubost de Clusor, la vicomtesse Dumasnoir, Mlle de Béthune-Sully, Mlle de Mon te ynard, la marquise de Broc, la baronne de Les-\",\n",
       "       \"Citons au hasard : Prince et princesse Strozzi, prince et princesse Borghese, comte Melzi d'Eril, comte Primoli, comte San-Martino di Valperga, marquis Vincent Sanfelice de Montel'orte, marquis de Castrone délia Rajata, prince et princesse de Vicovaco- Cenci, Antonio Baldelli, comtesse Polidori- Filose, M et Mme Gallegra, prince et princesse Brancaccio, baron Eduardo Franchetti, M. Frédéric Scalisi, prince Sciarra-Colonna, marquis Castelli di Gagliano, comte et comtesse de La Tour en Voivre, comte Cianelli, M. G. Pesce, ingénieur : marquis Dusmet, duc di Sasso-Ruffo, duc de Cirella, baron et baronne di Castelnuovo, marquise d'Adda-Salvâterra, Alessandro Rubini, prince et princesse Capece-Zurlo, marquis di Spi- nosa, M et Mme Adolfo délia Torre, comte E. Brunetta d'Usseaux, comte Isaac et Moïse de Camondo, comtesse Galli, princesse de Stigliano, duchesse Garacciolo di Brienza, baron et baronne Marochetti, M. Olimpio Zincone, délégué des finances italiennes à Paris, le célèbre caricaturiste Cappiello, le docteur Antonelli, marquis Vitelleschi, princesse, de Montléart née La Tromoïlle, comte Lovatelli, le docteur Guelpa, comte Trezza di Musella, Giuseppe di Gentili, Liebmann Penso, Modiano, Arditi, Romeo, Pala- dini, Cresta, Migliasso, Tàdeoni, Bardac, Grandi, Barbieri, Bianchi, Maseia, OreAce, Camerino, Maggi, Aimone, les professeurs Sbriglia delleSe- die, Ezio Giampi, Barbirolli, etc les pianistes compositeurs ,Cesare Galeotti, Casella, Mario Costa, etc.\",\n",
       "       \"Car tout cela est déjà bien lointain, et ces vieux et tristes souvenirs se brouillent un peu dans les mémoires. C'est le 26 mars 1871 M. Thiers et le gouvernement régulier étant déjà parti pour Versailles depuis le 17 mars qu'eut lieu, par quartiers, l'élection de l'Assemblée communale qui devait prendre ensuite le nom de Commune de Paris . Voici la liste de ses membres, cëux élus aux élections générales du 26 mars et ceux élus aux élections complémentaires du 16 avril, pour remplacer les démissionnaires, les morts et les optants par suite de double élection : MM. Adam, Jules Alix, Charles Amouroux, Jules Andrieu, Antoine Arnaud, Georges Arnold, Arthur Arnould, Assi, Avrial, Babick, Barré, Bergeret, Emile Brelay, Charles Beslay, Billiorav, Auguste Blartqui, Jehan de Bouteiller, Briosne, Brunei, Olialain, Champy, Chardon, Chéron, Clémence, Emile Clément, Jean-Baptiste Clément, Victor Clément, Cluseret, Gustave Courbet, Frédéric Cournet, Decamps, Delescluze, Demay, De- urc, Desmarets, Amynthe Dupont, Clovis Du pont, Jacques Durand, Emile Duval, Emile Eudes, Théophile Ferré, Emile Ferry, Gustave Flourens, Léo Frankel, Fruneau, Ferdinand Gam- bon, Charles Gérardin, Eugène Gérardin, Gé- resiïie, Goupil, Paschal Grous'set, Johannard, lourde, Langevin, Ledroit, Ernest Lofèvre, Albert Le Roy, Lefrançais, Loiseau-Pinson, Lon clas, Charles Longuet, Benoît Malon, Marmôttan, Martelet, Léo Meïliet, Méline, Jules Miot, Mortier, Nast, Ostyn, Ulysse Parent, Parisel, Philippe-, Pillot, Pindy, Eugène Pottier, Pourille dit Blanchet, Protôt, PU et,Félix Pyat,Arthur Ranc, Ranvier, Rastoul, Régère, Raoul Rigault,Robinet, Rochard, Rogeard, Serraiilier, Sicard, Theisî, Tirard, Gustave Tridon, Trinquet,Urbain, Edouard Vaillant, Jules Vallée, Varlin, Verdure, Verroorel, Vésinier, Viard.\",\n",
       "       \"Hubbard, Hubert, Hugon, d'Iriart d'Etchepare, Isnard, Janet, Jean Morel Loire , Jehannin, Judet, Jules Legrand, Jumel, Klotz, La Batut, Lachaud, Lacombe, Lanessan, Larquier, Lau- rençon, Laurent-Castelet, Laville, Le Bail, Lebaudv, Lebrun, Lefèvre, Leffet, Léglise, Le Hérissé, Lepelletier, Lepez, M. Leroy, Lesage, Le Troadec, Levet, Leygues, G. Lhopiteau, Lockrov, L. Dreyfus, Jacques, Lozo, de Mahy, Malizard, Maret, Maruéjouls, Mas, Slaujan, Maure, G. Menier, Mercier, Merlou, Messimy, îijl, Millerand, Millev oye, Minier, Mollard, Monfeuillard, Mérel, Moriot, Mougeôt, Muiac, Muteau, Nicolle, Noël, Pasqual, Paul Meunier, Pa- vie, Peret, Péronneau , Perroche, Petit jean, Peureux, Pichery, Plissonnier, Poullan, Pourteyron, Pradet-Balade, Puech, Par jade, Rabjer, Ragot, Raiberti, Régnier, Ré veillaud, Réville, Rey, Ridouara, Rigal, Robert Surcouf, Roch, J. Roche, Rose, Rou- gier, Rouland, Rousé, Ruau, Sabaterie, San driqué, S rrazin, Sarrien, Saumande, Schneider, Siegfried, Sireyjol, Steeg, Tavé, Tenting, Thomson,Tiphaine,Torchut,Tourgnol,Trouillot, Trouin, Vacherie, Vallée, Vazeille, Vialis, Videau, Vigouroux, Villejean, Violette, Vival, Vogeli.\",\n",
       "       \"Ambrosio Nouguès, M. Arturo G. Belgrano, M. Alexandre Madero,M et Mlle B. Noël, M. Carlos Martin Noël, M. Cicila Suarez de Perdriel, comte et comtesse de Liniburg-Stirum née Bullrich, M. Francisco Urruela, M, et Mme Alberto B. Jordan et leur fils, M. C. Savelli, M. G. P. Nebel, M. Jorge Péro, M et Mme Gaston Nicol, M. Rti- fino C de La Sema, M et Mme Adolfo G. Luro, M et Mme José Jauregui, M. Carlos Zemboraïn, M. Arocuna, M et Mme Alfredo L. Ayulo, M. Rodolfo Palacios, M. Evaristo Etchecôpar, M et Mme Emilio Pellet, M et Mme Otto Bemberg, M. J. Livingston, M et Mme J. Pero, M. Ramon Artagaveytia, M. José Blaguier, Eugenio Garzon, M. Julio Mo- liner, ctc, Au nombre de nos autres invités : Le ministre de'Roumanie et son fils, vicomte et vicomtesse de Beaufort, comtesse Lydie Rostoptchine, comtesse, de Failly, Mme Journault, baron et baronne Edmond de Rothschild, marquise et Mlle de Belabre, comte et comtesse Martinet, comte Bertrand de Durfort, comte et comtesse de Vanssay, M et Mme Gustave Lacan, marquis et marquise de Chasseloup-Laubat, M et Mme Jean Stern, M et Mme et MlleG de Saint-Quentin, comtesse d'Azincourt, marquise de Gasquet, M. Adolphe Haendler, Mme Emile Jubert, M et Mmefhors, comte et comtesse de Giierne, Mme et Mlle Back de Surany, vicomte Char les d'Hennezel de Francogney, comtesse Ré copé, M et Mme Alexandre Greger ; Comte , et comtesse de Bryas, comte et comtesse de Rochefort; baronne C de Rochetaillée ; princesse de Broglie;\",\n",
       "       \"Parmi les invités : Mlles de Bourqueney, de Noailles, de Partz, de Charnacé, de Bailleui, de Fonscolombe, do Beaumont, de Lestrange, de Grouchy, de Chazel- les, etc. Très brillant, le dernier dîner de vingt quatre couverts donné par Mme Chenevière qui, jeudi dernier, avait offert 4 ses amis un thé des plus élégants, Parmi les invités Comtesses et vicomtesse Murât, comtesses de Blanzay, do Milhau Saint Paul, de Cherisey, de Sjsmaisons, de Beaufort, de Sommyevre, d'Ouaous, Emery, de La Pastellière, de Job, do Calan, de Giron, de Saint-Genys, vicomtesse et Mlle do La Guère, duchesse dë Be lune, marquise de Rochemonteix, Mme de Prémesnil, marquise et Mlle de Belabrè, baroïine et Mlle de Kertanguy, baronne et Mlle de Camas, marquise de Grasse, baronnes des Graviers de Romeuf, Mmes de Saint-Cyran, de Royer, de Roig, de Cazotte, de Vautfrnoret, de La Prade, des Forêts, d'Anthenay, de Valroger, des Coustures, d'Arte- marre, Bechet, de Lépiniàie, duc de Pomar, vicomtes de La Guère et des Rieux, comtes Lau- zardiere et Pyrent de La Prade, bayons de Ber- wick et d'Avigneau, MM de Royer, de Saint- Cyran, Roze de Villereau, de Vilïenoisy, d'An thenay, de Montferrand, Harris Phelps, Le Thierry d'Enhequin, des Coustures, etc.\",\n",
       "       \"Les lots, d'une grande valeur artistique, sont offerts et signés parles maîtres les plus illustres : Mlle Abbema, MM. Emile Adan, Aman-Jean, Jeanne Avy, Mme Avog, MM. Marcel Baschet, G. Bergès, Bêdorez, Berne-Bellecour, Berton, Be- nois, Bouquières, Bigot, Blot, R. Boudier, Barbarin, Berton, Belleroche, Bonnard, Batagiia, Cauvy, J. Chéret, Coppée, Jacques Camoreyt, Ernest Carrière, Eugène Carrière, Lisbeth Carrière, Louis Carrier-Belleuse, Pierre Carrier-Belleuse, Suzanne Carrier-Beileuse, Paul Cha- ravel, Comerre, Couchy, Chigot, Cirou, Cottet, Cormon, Couturier, Charpentier, Dameron, Louis Dejean, Déziré, E. Daudet, Dalou, Derain, Du Gardier, Diriks, Delorne, Deltombe, D. Thomas, Debat-Ponsan, Deti'oy, Druet, Dubois, Drésa- Saglio, Durent, Denis Etcheverry, Victor Fournier, Gabriel Fabre, Abal Faivre, Fagel, Mmes Faux-Froidure, Marie Gautier, Georges, Doro thée Georges, MM. Guédy, Guérin, Jean Grave, Guillaumin, Génuys, Grandhomme, Iîa- weis, Herscher, Huturine, Iïorton, Stéphen Jacob, Jaurès, Lucien Jonas, Jeanes, miss Jack, MM. Jeanneney, Kafka, Kupka, William Laparre, Laugée, Laprade, Le Turcq, Lo- rolle, Lamourdedieu, Le Beau, Luce, Lopisgich, Lemaire, Lempereur, Lepeire, Albert Maignan, Georges Masson, Mlle Moria, MM. Malot, Moreau-Néret, Marquet, Mlles Macdonald, A. Marinier, MM. Mauguin, Marque, Marcolescot, Nozal, Naudin, Pimenta, Poilpot, Mlle Madeleine Popelin, MM. Prinet, Prééraance, Pêche, Piet, Piot, Quénioux, Raffaëili, Rodin, Mlle Ros- tembourg, MM. G. Redon, Roger, Roche, Ros- sert, Roumégpin, Paul Sieffert, Seïmy, Scott, Jacques Simon, Steinlen, Simon, Tardieu, Theuriet, Albert Thomas, Paul Thomas, Taquoy, Ta- bourier, Tissier, prince Troubetzkoy, Truchet, Pierre Vauthier, Varoquler, Verlet, Villon, Willette, Yarémitch, Zac, Henri Zo.\",\n",
       "       \"M. Edouard LocKrùy, Teig nTeraT'jangerMme'Tûng 4 , puis, disséminés aux tables voisines : Mme Séverine, M. Aurélien Scholl, M et Mme Ferdinand Fabre, M et Mme Hector Malot, M. Rodin, M et Mme Octave , Mirbeau, M. Mendès, M et Mme Yves Guyot, MM. Valentin et Henri Simond, M et Mme Emile Blavet, E. Blasco, Gaston Calmette, M et Mme Paul Ginisty, M et Mme Fernand Xau, M et Mme Ménard-Dorian, M et Mme Jacques Saint-Cère, MM. Ludovic et René Baschet, Guérin, Bruneau,Marcel Fouquier, Jules Jouy, Edouard Rod, Desmoulins, Flammarion, M et Mme Marc, Arsène Houssaye, M et Mme Paul Alexis, M et Mme Chéret, M et'Mme Clovis Hugues, MM. Paul Robert, Jules Lemaître de Blowitz, Courteline, Maurice Montaigut, Gallet, G. Toudouze, Campbell-Clarke, Paul Arène, Armand Dayot, Fxantz- îourdain, Armand Sil- yestre, Justaye Geffroy, Maizeroy, Marcel Lheureux, M et Mme Edmond Des chaumes, Robert Çharvav, Reibrach, Edgar Monteil, Ernest Leblanc, Mars, Roil, Albert Carré, Jules Perrin, Jean Ai- card, Chevassu, Aderer, Raymot, Hector Pessard, Stoullig, Maximé Paz, Albert Cim, Alexis Lauze, Victor Roger, Vidal, Collet, Marius Roux,Charles Leser, docteur Larat et Mme Larat, Tabarant, Li- vet, Siégler, F ormentin, Jacques Normand, Louis de Robert, M et Mme Qui- naud, Brûlât, Claude Couturier, Busnach, Sanson, Bouvet, Brémont, Dailly, Kam-Hill, Ivan Bouvier, Mayer, Mmes Henriette Bépoix, Inv ernizzi, Maria;\",\n",
       "       \"Aperçu dans les tribunes : Mmes la duchesse de Trévise, la baronne de Cugnaç, la comtesse de Sainte-Mafrie, la marquise de Bérulle, Mme Gravier, marquise de Choiséul, la comtesse de Muràrd, la vicomtesse de Ché- zelles, Mme Van den Brooke, Mme Mertian, Mme de Mieulle, la marquise de Panissé, la marquise de Barbentane, lu vicomtesse de Lambertye, la marquise de Quelen, la comtesse de Saint-Amand, là baronne Sipièrë, la comtesse de Ruillé,la comtesse de Kergariou, Mme de La Villesboisnet, Mme Duringe, la comtesse de Franclieù, la comtesse du Bourg, la baronne de Veauce, la comtesse de Mas-Latrie, la comtesse P de Bonvouloir, la baronne du Homme, la marquise d'Aubigny la comtesse Durand de Beauregard, Mme. J de Parseval, la baronne J de Dampierre, la bar ronne de Jouvenel, la vicomtesse de Luppé, la vicomtesse de Chasseval, la marquise G dePothuau la vicomtesse do Boisgelin, la vicomtesse E de Gouy, Mme Delarue de Beaumarchais, la vicomtesse d'Auberjon, Mme Kulp, Mme de Morgan de Maricourt, la baronne de Fonscolombë, la vicomtesse de Mont- laur, la comtessejde Sainte-Marie, la comtesse de La Teillais, Mme Laveyssièré, la baronne de Langlade, la vicomtesse de Narcillac, Mme Lambert-Champy la comtesse de Partz, la vicomtesse d'Arjuzon, la vicomtesse d'Yan- ville, la comtesse dç Vogué, la comtesse R de Pracomtal, la comtesse de Bonneval, la baronne Reille, marquise d'Aulan.\",\n",
       "       \"Remarqué dans les tribunes : Mmes la marquise L de Kéroman, Goldsmith, la comtesse de Beaussier, Salanson, la comtesse Péan de Saint-Gilles, là comtesse dé Boulémont, la comtesse de Sachs, la comtesse du Liscoët, la vicomtesse de Fréminville, la comtesse de Lestapis, la comtesse de Chevigné, la comtesse de Ruillê, la vicomtesse du Pontavice, Delàrue-Beaumarchais, Daguilhon-Pujol, la marquise d'Aligre, la vicomtesse de Vaufre land, la comtesse de Meffray, de Lamothe, la comtesse de Klopstein, Mertian, Lacaze, de Jessê, de Lignac, la baronne de Langlade, la marquise de Parseval, la baronne deBour- going, dé Saint-GeorgeSj la marquise de Rou- zey, de Lhomel, de Loynes, la comtesse de Chabannes, Qravier, la comtesse Mimerel, la comtesse de Sainte-Croix, Vilani, la marquise de Bassano, de Lagarenne, la comtesse de Canolle, Thirion-Montauban, la comtesse Durand de Bcauregard, la comtesse de Mon- tereàu, la baronne de Montigny la comtesse Vidali, de Gournay, la baronne dé Dampierre, la baronne Benoist de Laumont, de Précourt, la comtesse de Mieulle, la baronne de Partz, la comtesse de Partz la baronne Caruel de Saint-Martin, la baronne de Lisle, la comtesse de La Rochecantin, de Maulde, la comtesse de Treveneuc, Taidiveau, la comtesse des Moustiers, la comtesse de Villaines, la baronne de Mouyj de La Boissiére, de Li- gny, la vicomtesse de Cholet, la comtesse de Bridieu, la comteôse de Vergés d'Auffray, la marquise d'Espeuilles, ainsi que les généraux Loizillon, d'Espeuilles, Zurlinden, Billot.\",\n",
       "       \"Citons au hasard : Prince et princesse de Sagan, comte Boson de Talleyrand-Périgord, comte et comtesse de Talleyrand-Périgord, duc de Montmorency, comte et comtesse Louis de Périgord, duc et duchesse de Rohan, marquise de Talleyrand-Périgord, comte et comtesse François de Gontaut-Biron, comtes Raoul et Antoine de Gontaut-Biron, comtesse Fernand de La Ferronnays, comtesse de Belbeuf, comte et comtesse Gonzague Costa de Beauregard, marquise de GaÏÏiffet, due et duchesse de Luynes, marquise d'Hervey de Saint- iDenys, Mme Astor, comte et comtesse Guy de La Rochefoucauld, duc et duchesse de Beaufort, prince et princesse Ferdinand de Lucinge-Fauci- gny, baron et baronne Alphonse de Rothschild, Mme Maurice Eplirussi, Mme Lambert, Mme W. Moore, le ministre du Portugal, marquis et map quise d'Hautpoul, comte et comtesse de Bourgoing, Mme Legrand, marquis de Modêne comte des Monstiers-Mérinville, princesse Brancaccïo, née Field, dame d'honneur de la reine d'Italie, duc de Vallombrosa, comte et comtesse de Saint-Pierre, marquise de Lubersac, marquise de Massa, M et Mme Meredith Howland, comte et comtesse Lutzow, M et Mme Austin Lee, lord et lady Tcrence Blackwood, comte et comtesse Lafond, comtesse de Murard, comte et comtesse de Moustiers, duc et duchesse de Maillé,comte et comtesse Foulques de Maillé, comte et comtesse de Kersaint, Mme H. Schneider, marquis et marquise de Chafionay, Mme de Brantes, comte de Pontevès, marquis de Castellane, comte et comtesse de Castellane, comte et comtesse Rostaing de Pracomtal, comte et comtesse Jacques d'Aramon, vicomte et vicomtesse de Kergarion, général et comtesse Du- hesme;\",\n",
       "       'Healey, M. Berend, Miss Berend, Mistress Wagner, M. Wagner, M. Berend j r , M large, M. Chapman, M. Jàgin, Gen de Cespedes, M van der ICemp, M. Chandler, Mistress Chandler, M. G. J. Reed, Mistress Bernstein, M. Bernstein, Miss Seligman, M. Hellmann, Mistress Hollmann, Miss E. Seligman, M. Berend j p , M. Berend, M de Castro, M. J. Jenkins, M. Geo W. Vail, M. Schumacker, Miss E. Schumackêr, Miss Schumacker, M. Ilirmans, M. Ingersoll, Salle B Docteur Johnston M. Laboulaye, docteur E. A. Brane, docteur B. Howard, M. Winthrop, M. Lillie, M. Hessenbrùck, mistress Lillie, mistress Ked dington, mistress Scudder, docteur John W. Crâne, docteur Belvin, M. Marston, docteur I ingsley, M. R. J. Crâne, mistress S. J. Murphy, docteur Stearns, M. Kimber, mistress Burton, M. Burton, M i Siebert, M. Alfred Greenbaum, M. N. Ballin, M. B. F. Lévy, M. Adler, M. Nivert, mistress Nivert, M. Ouverard, mistress Patchin, mistress Johnston, docteur Warren, mistres Warren, M. Colman, miss Warren, mistress Eilia Docteur Cochran, M. Ellis, M. Bosworth, mistress Akin, mistress Bosworth, M. Wolte, M. S. J. Murphy, mis tress R. J. Brane, M. Bradstreet, M. Baker, mistress A. A. Spaulding, M. Baume, M. So har, M. W. Held, M. S. Steinhart, M. Ch.'],\n",
       "      dtype=object)"
      ]
     },
     "execution_count": 321,
     "metadata": {},
     "output_type": "execute_result"
    }
   ],
   "source": [
    "BERTDf[BERTDf.tokens.apply(len)>384].content.values"
   ]
  },
  {
   "cell_type": "code",
   "execution_count": 319,
   "id": "ec3ca42b",
   "metadata": {},
   "outputs": [
    {
     "name": "stdout",
     "output_type": "stream",
     "text": [
      "806\n"
     ]
    },
    {
     "data": {
      "text/plain": [
       "<AxesSubplot:ylabel='Frequency'>"
      ]
     },
     "execution_count": 319,
     "metadata": {},
     "output_type": "execute_result"
    },
    {
     "data": {
      "image/png": "[encoded data removed]",
      "text/plain": [
       "<Figure size 640x480 with 1 Axes>"
      ]
     },
     "metadata": {},
     "output_type": "display_data"
    }
   ],
   "source": [
    "print(BERTDf.tokens.apply(len).max())\n",
    "BERTDf.tokens.apply(len).plot.hist()"
   ]
  },
  {
   "cell_type": "code",
   "execution_count": 318,
   "id": "13375b50",
   "metadata": {},
   "outputs": [
    {
     "name": "stderr",
     "output_type": "stream",
     "text": [
      "\n",
      "0it [05:58, ?it/s].77it/s]\u001b[A\n"
     ]
    }
   ],
   "source": [
    "splitor = DocSplitor(model,tokenizer)\n",
    "            \n",
    "docs = [splitor.tokenize(doc) for doc in doc_bin.get_docs(nlp.vocab)]\n",
    "#docs  =[]\n",
    "#for i in range(20000):\n",
    "#    docs.append(DocSplitor().tokenize(next(a)))\n",
    "BERTDf = pd.DataFrame(docs, columns=['ID','headline','content','lemmas','tokens'])\n",
    "BERTDf = BERTDf.explode(['content','lemmas','tokens'])\n",
    "BERTDf  =BERTDf[~BERTDf.content.isna()].copy()\n"
   ]
  },
  {
   "cell_type": "code",
   "execution_count": 156,
   "id": "ed038ef5",
   "metadata": {},
   "outputs": [
    {
     "ename": "ValueError",
     "evalue": "Make sure to input embeddings as a numpy array or scipy.sparse.csr.csr_matrix. ",
     "output_type": "error",
     "traceback": [
      "\u001b[0;31m---------------------------------------------------------------------------\u001b[0m",
      "\u001b[0;31mValueError\u001b[0m                                Traceback (most recent call last)",
      "\u001b[0;32m/tmp/ipykernel_472616/4253425747.py\u001b[0m in \u001b[0;36m<module>\u001b[0;34m\u001b[0m\n\u001b[1;32m      8\u001b[0m                        \u001b[0mmin_topic_size\u001b[0m \u001b[0;34m=\u001b[0m \u001b[0;36m100\u001b[0m\u001b[0;34m,\u001b[0m\u001b[0;34m\u001b[0m\u001b[0;34m\u001b[0m\u001b[0m\n\u001b[1;32m      9\u001b[0m                        vectorizer_model = vectorizer_model)\n\u001b[0;32m---> 10\u001b[0;31m \u001b[0mtopics\u001b[0m\u001b[0;34m,\u001b[0m \u001b[0mprobs\u001b[0m \u001b[0;34m=\u001b[0m \u001b[0mtopic_model\u001b[0m\u001b[0;34m.\u001b[0m\u001b[0mfit_transform\u001b[0m\u001b[0;34m(\u001b[0m\u001b[0mtexts\u001b[0m\u001b[0;34m,\u001b[0m\u001b[0membeddings\u001b[0m\u001b[0;34m)\u001b[0m\u001b[0;34m\u001b[0m\u001b[0;34m\u001b[0m\u001b[0m\n\u001b[0m",
      "\u001b[0;32m~/.local/lib/python3.9/site-packages/bertopic/_bertopic.py\u001b[0m in \u001b[0;36mfit_transform\u001b[0;34m(self, documents, embeddings, y)\u001b[0m\n\u001b[1;32m    327\u001b[0m         \"\"\"\n\u001b[1;32m    328\u001b[0m         \u001b[0mcheck_documents_type\u001b[0m\u001b[0;34m(\u001b[0m\u001b[0mdocuments\u001b[0m\u001b[0;34m)\u001b[0m\u001b[0;34m\u001b[0m\u001b[0;34m\u001b[0m\u001b[0m\n\u001b[0;32m--> 329\u001b[0;31m         \u001b[0mcheck_embeddings_shape\u001b[0m\u001b[0;34m(\u001b[0m\u001b[0membeddings\u001b[0m\u001b[0;34m,\u001b[0m \u001b[0mdocuments\u001b[0m\u001b[0;34m)\u001b[0m\u001b[0;34m\u001b[0m\u001b[0;34m\u001b[0m\u001b[0m\n\u001b[0m\u001b[1;32m    330\u001b[0m \u001b[0;34m\u001b[0m\u001b[0m\n\u001b[1;32m    331\u001b[0m         documents = pd.DataFrame({\"Document\": documents,\n",
      "\u001b[0;32m~/.local/lib/python3.9/site-packages/bertopic/_utils.py\u001b[0m in \u001b[0;36mcheck_embeddings_shape\u001b[0;34m(embeddings, docs)\u001b[0m\n\u001b[1;32m     44\u001b[0m     \u001b[0;32mif\u001b[0m \u001b[0membeddings\u001b[0m \u001b[0;32mis\u001b[0m \u001b[0;32mnot\u001b[0m \u001b[0;32mNone\u001b[0m\u001b[0;34m:\u001b[0m\u001b[0;34m\u001b[0m\u001b[0;34m\u001b[0m\u001b[0m\n\u001b[1;32m     45\u001b[0m         \u001b[0;32mif\u001b[0m \u001b[0;32mnot\u001b[0m \u001b[0many\u001b[0m\u001b[0;34m(\u001b[0m\u001b[0;34m[\u001b[0m\u001b[0misinstance\u001b[0m\u001b[0;34m(\u001b[0m\u001b[0membeddings\u001b[0m\u001b[0;34m,\u001b[0m \u001b[0mnp\u001b[0m\u001b[0;34m.\u001b[0m\u001b[0mndarray\u001b[0m\u001b[0;34m)\u001b[0m\u001b[0;34m,\u001b[0m \u001b[0misinstance\u001b[0m\u001b[0;34m(\u001b[0m\u001b[0membeddings\u001b[0m\u001b[0;34m,\u001b[0m \u001b[0mcsr_matrix\u001b[0m\u001b[0;34m)\u001b[0m\u001b[0;34m]\u001b[0m\u001b[0;34m)\u001b[0m\u001b[0;34m:\u001b[0m\u001b[0;34m\u001b[0m\u001b[0;34m\u001b[0m\u001b[0m\n\u001b[0;32m---> 46\u001b[0;31m             \u001b[0;32mraise\u001b[0m \u001b[0mValueError\u001b[0m\u001b[0;34m(\u001b[0m\u001b[0;34m\"Make sure to input embeddings as a numpy array or scipy.sparse.csr.csr_matrix. \"\u001b[0m\u001b[0;34m)\u001b[0m\u001b[0;34m\u001b[0m\u001b[0;34m\u001b[0m\u001b[0m\n\u001b[0m\u001b[1;32m     47\u001b[0m         \u001b[0;32melse\u001b[0m\u001b[0;34m:\u001b[0m\u001b[0;34m\u001b[0m\u001b[0;34m\u001b[0m\u001b[0m\n\u001b[1;32m     48\u001b[0m             \u001b[0;32mif\u001b[0m \u001b[0membeddings\u001b[0m\u001b[0;34m.\u001b[0m\u001b[0mshape\u001b[0m\u001b[0;34m[\u001b[0m\u001b[0;36m0\u001b[0m\u001b[0;34m]\u001b[0m \u001b[0;34m!=\u001b[0m \u001b[0mlen\u001b[0m\u001b[0;34m(\u001b[0m\u001b[0mdocs\u001b[0m\u001b[0;34m)\u001b[0m\u001b[0;34m:\u001b[0m\u001b[0;34m\u001b[0m\u001b[0;34m\u001b[0m\u001b[0m\n",
      "\u001b[0;31mValueError\u001b[0m: Make sure to input embeddings as a numpy array or scipy.sparse.csr.csr_matrix. "
     ]
    }
   ],
   "source": [
    "vectorizer_model = CountVectorizer(ngram_range=(1, 3), \n",
    "                                   max_df = 0.6,\n",
    "                                   min_df = 5,\n",
    "                                   strip_accents = 'unicode')\n",
    "topic_model = BERTopic(verbose=True,\n",
    "                       #embedding_model=embedding_model,#'dbmdz/bert-base-french-europeana-cased',\n",
    "                       nr_topics = 'auto',\n",
    "                       min_topic_size = 100,\n",
    "                       vectorizer_model = vectorizer_model)\n",
    "topics, probs = topic_model.fit_transform(texts,embeddings)\n"
   ]
  },
  {
   "cell_type": "code",
   "execution_count": 181,
   "id": "78daffe1",
   "metadata": {},
   "outputs": [
    {
     "data": {
      "application/vnd.jupyter.widget-view+json": {
       "model_id": "dd2eb523dff4431f99619132d5c8780a",
       "version_major": 2,
       "version_minor": 0
      },
      "text/plain": [
       "Batches:   0%|          | 0/63 [00:00<?, ?it/s]"
      ]
     },
     "metadata": {},
     "output_type": "display_data"
    },
    {
     "data": {
      "text/plain": [
       "array([[-0.4239223 ,  0.02248213, -0.20564407, ..., -0.8670402 ,\n",
       "        -0.22687754, -0.03607981],\n",
       "       [-0.24473065, -0.05312259, -0.09280771, ..., -0.5015501 ,\n",
       "         0.09548544,  0.5582943 ],\n",
       "       [-0.5172163 , -0.2801716 , -0.24598305, ..., -0.21981826,\n",
       "         0.14662059, -0.07403921],\n",
       "       ...,\n",
       "       [-0.33199543, -0.01667139, -0.2851535 , ..., -0.7983566 ,\n",
       "        -0.14050919,  0.04579991],\n",
       "       [-0.37848774,  0.03212813, -0.37159485, ..., -0.7773362 ,\n",
       "         0.20419456, -0.01591571],\n",
       "       [-0.46303445,  0.16347334, -0.29598263, ..., -0.7773549 ,\n",
       "        -0.1193127 ,  0.17085151]], dtype=float32)"
      ]
     },
     "execution_count": 181,
     "metadata": {},
     "output_type": "execute_result"
    }
   ],
   "source": [
    "embedding_model.encode(texts[:2000],show_progress_bar=True)"
   ]
  },
  {
   "cell_type": "code",
   "execution_count": null,
   "id": "e46d393c",
   "metadata": {},
   "outputs": [],
   "source": [
    "t = time.time()\n",
    "a = tokenizer(texts[:20])\n",
    "print(time.time()-t)\n",
    "print(a)"
   ]
  },
  {
   "cell_type": "code",
   "execution_count": 13,
   "id": "7aef6742",
   "metadata": {},
   "outputs": [
    {
     "data": {
      "application/vnd.jupyter.widget-view+json": {
       "model_id": "bbb8da65352b4fbc86f5b063bb214ee2",
       "version_major": 2,
       "version_minor": 0
      },
      "text/plain": [
       "Downloading:   0%|          | 0.00/59.0 [00:00<?, ?B/s]"
      ]
     },
     "metadata": {},
     "output_type": "display_data"
    },
    {
     "data": {
      "application/vnd.jupyter.widget-view+json": {
       "model_id": "7cbc53ad74c0448dbdd46d218411683a",
       "version_major": 2,
       "version_minor": 0
      },
      "text/plain": [
       "Downloading:   0%|          | 0.00/610 [00:00<?, ?B/s]"
      ]
     },
     "metadata": {},
     "output_type": "display_data"
    },
    {
     "data": {
      "application/vnd.jupyter.widget-view+json": {
       "model_id": "39b3f4eef15847de8b674f808f84bafc",
       "version_major": 2,
       "version_minor": 0
      },
      "text/plain": [
       "Downloading:   0%|          | 0.00/222k [00:00<?, ?B/s]"
      ]
     },
     "metadata": {},
     "output_type": "display_data"
    },
    {
     "name": "stderr",
     "output_type": "stream",
     "text": [
      "Some weights of the model checkpoint at dbmdz/bert-base-french-europeana-cased were not used when initializing BertModel: ['cls.predictions.bias', 'cls.predictions.transform.dense.bias', 'cls.seq_relationship.bias', 'cls.predictions.transform.LayerNorm.bias', 'cls.predictions.decoder.bias', 'cls.predictions.transform.LayerNorm.weight', 'cls.seq_relationship.weight', 'cls.predictions.transform.dense.weight', 'cls.predictions.decoder.weight']\n",
      "- This IS expected if you are initializing BertModel from the checkpoint of a model trained on another task or with another architecture (e.g. initializing a BertForSequenceClassification model from a BertForPreTraining model).\n",
      "- This IS NOT expected if you are initializing BertModel from the checkpoint of a model that you expect to be exactly identical (initializing a BertForSequenceClassification model from a BertForSequenceClassification model).\n"
     ]
    }
   ],
   "source": [
    "\n"
   ]
  },
  {
   "cell_type": "code",
   "execution_count": 196,
   "id": "c1fa636f",
   "metadata": {},
   "outputs": [],
   "source": [
    "b = model(texts[:1])"
   ]
  },
  {
   "cell_type": "code",
   "execution_count": 204,
   "id": "7bb2d9e1",
   "metadata": {},
   "outputs": [
    {
     "data": {
      "text/plain": [
       "[{'input_ids': [2, 68, 751, 393, 348, 2609, 336, 79, 11, 2899, 353, 378, 9799, 378, 4835, 514, 3383, 336, 1785, 16, 586, 14600, 366, 4973, 3880, 18, 10568, 347, 11, 1013, 336, 2572, 16, 3880, 68, 15257, 16, 914, 488, 15014, 336, 6258, 366, 3008, 17, 29168, 16, 9593, 27729, 488, 3343, 336, 6954, 365, 12660, 390, 4924, 336, 3939, 5912, 353, 446, 7967, 1202, 130, 13052, 718, 354, 1531, 336, 348, 5386, 16, 630, 399, 79, 11, 584, 71, 11, 1799, 572, 366, 9799, 31772, 18, 6717, 3283, 20038, 15061, 13825, 5412, 542, 2439, 79, 11, 482, 414, 12854, 477, 347, 11, 482, 9575, 1640, 16, 8322, 21523, 4271, 353, 1342, 9587, 1640, 6788, 665, 19969, 718, 2431, 2930, 215, 37, 1177, 17, 405, 8133, 334, 370, 8709, 16, 6494, 16, 16809, 378, 1002, 361, 571, 525, 1118, 347, 11, 677, 361, 13513, 5252, 11, 8705, 506, 2415, 13534, 31, 336, 348, 2754, 336, 11, 10933, 16, 79, 11, 1998, 370, 21310, 7972, 414, 2733, 2382, 422, 671, 361, 1077, 378, 20875, 16, 353, 671, 361, 3096, 23956, 507, 370, 10933, 17, 21310, 7972, 365, 17, 2458, 14368, 18, 1064, 9708, 16614, 204, 10483, 14412, 30, 447, 6501, 336, 79, 11, 11992, 383, 79, 11, 9890, 16, 354, 4255, 353, 354, 12248, 68, 572, 11670, 422, 370, 11509, 7937, 79, 11, 3784, 336, 348, 1625, 3292, 31260, 1354, 420, 415, 361, 17642, 12752, 18, 1100, 16, 17657, 130, 914, 12457, 16, 79, 11, 4841, 441, 361, 31463, 565, 3033, 16, 365, 12229, 16, 390, 1863, 4518, 130, 1315, 336, 79, 11, 1533, 9310, 18, 1431, 565, 3033, 28, 16, 17834, 16, 7249, 842, 365, 12229, 16, 743, 142, 842, 365, 7505, 18, 5073, 3364, 130, 79, 11, 15094, 4067, 347, 11, 68, 1896, 348, 7700, 370, 31463, 353, 8380, 901, 71, 11, 3181, 18, 3516, 15094, 68, 11640, 415, 9563, 338, 353, 366, 17, 3285, 354, 11106, 8897, 370, 31463, 20172, 506, 17642, 12752, 18, 3], 'token_type_ids': [0, 0, 0, 0, 0, 0, 0, 0, 0, 0, 0, 0, 0, 0, 0, 0, 0, 0, 0, 0, 0, 0, 0, 0, 0, 0, 0, 0, 0, 0, 0, 0, 0, 0, 0, 0, 0, 0, 0, 0, 0, 0, 0, 0, 0, 0, 0, 0, 0, 0, 0, 0, 0, 0, 0, 0, 0, 0, 0, 0, 0, 0, 0, 0, 0, 0, 0, 0, 0, 0, 0, 0, 0, 0, 0, 0, 0, 0, 0, 0, 0, 0, 0, 0, 0, 0, 0, 0, 0, 0, 0, 0, 0, 0, 0, 0, 0, 0, 0, 0, 0, 0, 0, 0, 0, 0, 0, 0, 0, 0, 0, 0, 0, 0, 0, 0, 0, 0, 0, 0, 0, 0, 0, 0, 0, 0, 0, 0, 0, 0, 0, 0, 0, 0, 0, 0, 0, 0, 0, 0, 0, 0, 0, 0, 0, 0, 0, 0, 0, 0, 0, 0, 0, 0, 0, 0, 0, 0, 0, 0, 0, 0, 0, 0, 0, 0, 0, 0, 0, 0, 0, 0, 0, 0, 0, 0, 0, 0, 0, 0, 0, 0, 0, 0, 0, 0, 0, 0, 0, 0, 0, 0, 0, 0, 0, 0, 0, 0, 0, 0, 0, 0, 0, 0, 0, 0, 0, 0, 0, 0, 0, 0, 0, 0, 0, 0, 0, 0, 0, 0, 0, 0, 0, 0, 0, 0, 0, 0, 0, 0, 0, 0, 0, 0, 0, 0, 0, 0, 0, 0, 0, 0, 0, 0, 0, 0, 0, 0, 0, 0, 0, 0, 0, 0, 0, 0, 0, 0, 0, 0, 0, 0, 0, 0, 0, 0, 0, 0, 0, 0, 0, 0, 0, 0, 0, 0, 0, 0, 0, 0, 0, 0, 0, 0, 0, 0, 0, 0, 0, 0, 0, 0, 0, 0, 0, 0, 0, 0, 0, 0, 0, 0, 0, 0, 0, 0, 0, 0, 0, 0, 0, 0, 0, 0, 0, 0, 0, 0, 0, 0, 0, 0, 0, 0, 0, 0], 'attention_mask': [1, 1, 1, 1, 1, 1, 1, 1, 1, 1, 1, 1, 1, 1, 1, 1, 1, 1, 1, 1, 1, 1, 1, 1, 1, 1, 1, 1, 1, 1, 1, 1, 1, 1, 1, 1, 1, 1, 1, 1, 1, 1, 1, 1, 1, 1, 1, 1, 1, 1, 1, 1, 1, 1, 1, 1, 1, 1, 1, 1, 1, 1, 1, 1, 1, 1, 1, 1, 1, 1, 1, 1, 1, 1, 1, 1, 1, 1, 1, 1, 1, 1, 1, 1, 1, 1, 1, 1, 1, 1, 1, 1, 1, 1, 1, 1, 1, 1, 1, 1, 1, 1, 1, 1, 1, 1, 1, 1, 1, 1, 1, 1, 1, 1, 1, 1, 1, 1, 1, 1, 1, 1, 1, 1, 1, 1, 1, 1, 1, 1, 1, 1, 1, 1, 1, 1, 1, 1, 1, 1, 1, 1, 1, 1, 1, 1, 1, 1, 1, 1, 1, 1, 1, 1, 1, 1, 1, 1, 1, 1, 1, 1, 1, 1, 1, 1, 1, 1, 1, 1, 1, 1, 1, 1, 1, 1, 1, 1, 1, 1, 1, 1, 1, 1, 1, 1, 1, 1, 1, 1, 1, 1, 1, 1, 1, 1, 1, 1, 1, 1, 1, 1, 1, 1, 1, 1, 1, 1, 1, 1, 1, 1, 1, 1, 1, 1, 1, 1, 1, 1, 1, 1, 1, 1, 1, 1, 1, 1, 1, 1, 1, 1, 1, 1, 1, 1, 1, 1, 1, 1, 1, 1, 1, 1, 1, 1, 1, 1, 1, 1, 1, 1, 1, 1, 1, 1, 1, 1, 1, 1, 1, 1, 1, 1, 1, 1, 1, 1, 1, 1, 1, 1, 1, 1, 1, 1, 1, 1, 1, 1, 1, 1, 1, 1, 1, 1, 1, 1, 1, 1, 1, 1, 1, 1, 1, 1, 1, 1, 1, 1, 1, 1, 1, 1, 1, 1, 1, 1, 1, 1, 1, 1, 1, 1, 1, 1, 1, 1, 1, 1, 1, 1, 1, 1, 1, 1]}]"
      ]
     },
     "execution_count": 204,
     "metadata": {},
     "output_type": "execute_result"
    }
   ],
   "source": [
    "[tokenizer(texts[3])]"
   ]
  },
  {
   "cell_type": "code",
   "execution_count": 215,
   "id": "9552326e",
   "metadata": {},
   "outputs": [
    {
     "data": {
      "text/html": [
       "<div>\n",
       "<style scoped>\n",
       "    .dataframe tbody tr th:only-of-type {\n",
       "        vertical-align: middle;\n",
       "    }\n",
       "\n",
       "    .dataframe tbody tr th {\n",
       "        vertical-align: top;\n",
       "    }\n",
       "\n",
       "    .dataframe thead th {\n",
       "        text-align: right;\n",
       "    }\n",
       "</style>\n",
       "<table border=\"1\" class=\"dataframe\">\n",
       "  <thead>\n",
       "    <tr style=\"text-align: right;\">\n",
       "      <th></th>\n",
       "      <th>ID</th>\n",
       "      <th>headline</th>\n",
       "      <th>content</th>\n",
       "      <th>tokens</th>\n",
       "    </tr>\n",
       "  </thead>\n",
       "  <tbody>\n",
       "    <tr>\n",
       "      <th>44</th>\n",
       "      <td>1898-03-22_0_7</td>\n",
       "      <td>H. DE VILLEMESSANï? Fondateur ABONNEMENT ' Tro...</td>\n",
       "      <td>On t'abonne dans tous les Bureaux de Poste de ...</td>\n",
       "      <td>[2, 639, 87, 11, 8467, 422, 671, 361, 11881, 3...</td>\n",
       "    </tr>\n",
       "    <tr>\n",
       "      <th>45</th>\n",
       "      <td>1898-03-22_0_9</td>\n",
       "      <td>RÉDACTION ADMINISTRATION PUBUOTÏÎ 26, Rue Drou...</td>\n",
       "      <td>ré, i. UAIie 102.46 Rédaction TÉLÉPHONE 102.47...</td>\n",
       "      <td>[2, 437, 16, 76, 18, 57, 1913, 364, 3530, 18, ...</td>\n",
       "    </tr>\n",
       "    <tr>\n",
       "      <th>354</th>\n",
       "      <td>1898-03-26_1_31</td>\n",
       "      <td></td>\n",
       "      <td>Notre Service' de Librairie so chargé d'envoye...</td>\n",
       "      <td>[2, 2997, 9323, 11, 336, 14730, 573, 3252, 71,...</td>\n",
       "    </tr>\n",
       "    <tr>\n",
       "      <th>397</th>\n",
       "      <td>1898-03-26_3_95</td>\n",
       "      <td>pOLE j ORD pOLE j jORD</td>\n",
       "      <td>Ouvert de 8 h du matin à midi minuit. Salle en...</td>\n",
       "      <td>[2, 7760, 336, 28, 75, 378, 974, 130, 1486, 65...</td>\n",
       "    </tr>\n",
       "    <tr>\n",
       "      <th>777</th>\n",
       "      <td>1898-04-01_3_21</td>\n",
       "      <td>Ce-soir, au Gymnase,</td>\n",
       "      <td>neuvième spectacle d'abonnement, 4 série des v...</td>\n",
       "      <td>[2, 14855, 3953, 71, 11, 9769, 16, 24, 1567, 3...</td>\n",
       "    </tr>\n",
       "    <tr>\n",
       "      <th>...</th>\n",
       "      <td>...</td>\n",
       "      <td>...</td>\n",
       "      <td>...</td>\n",
       "      <td>...</td>\n",
       "    </tr>\n",
       "    <tr>\n",
       "      <th>733307</th>\n",
       "      <td>1878-05-11_2_56</td>\n",
       "      <td>A. DALIFOL, 172, quai Jemmapes, 172 FORGES et ...</td>\n",
       "      <td>Mach à vapeur ver tic' 1 et horizont 1 144, Fa...</td>\n",
       "      <td>[2, 19208, 130, 5283, 1127, 5239, 11, 21, 353,...</td>\n",
       "    </tr>\n",
       "    <tr>\n",
       "      <th>733326</th>\n",
       "      <td>1878-05-11_2_98</td>\n",
       "      <td>FARINE MORTON ,</td>\n",
       "      <td>Alimentation naturelle des Enfants. Se vend ch...</td>\n",
       "      <td>[2, 29816, 7697, 370, 14532, 18, 1083, 2733, 1...</td>\n",
       "    </tr>\n",
       "    <tr>\n",
       "      <th>733377</th>\n",
       "      <td>1878-05-11_2_196</td>\n",
       "      <td></td>\n",
       "      <td>Mme R désire trouver place de dame de compagni...</td>\n",
       "      <td>[2, 868, 54, 4735, 2061, 1087, 336, 4211, 336,...</td>\n",
       "    </tr>\n",
       "    <tr>\n",
       "      <th>733485</th>\n",
       "      <td>1878-05-12_2_100</td>\n",
       "      <td>APP grands et petits, chamb</td>\n",
       "      <td>cabin magas boutiq terrains il louer. Pris mod...</td>\n",
       "      <td>[2, 23585, 213, 4402, 2705, 18214, 9362, 399, ...</td>\n",
       "    </tr>\n",
       "    <tr>\n",
       "      <th>733511</th>\n",
       "      <td>1878-05-12_2_144</td>\n",
       "      <td>HOTELS RECOMMANDÉS MAISON E. LAUER, rue de Cho...</td>\n",
       "      <td>app meublés, Restaurant des Familles: déjeuner...</td>\n",
       "      <td>[2, 546, 23766, 16, 21206, 370, 18452, 212, 30...</td>\n",
       "    </tr>\n",
       "  </tbody>\n",
       "</table>\n",
       "<p>4509 rows × 4 columns</p>\n",
       "</div>"
      ],
      "text/plain": [
       "                      ID                                           headline  \\\n",
       "44        1898-03-22_0_7  H. DE VILLEMESSANï? Fondateur ABONNEMENT ' Tro...   \n",
       "45        1898-03-22_0_9  RÉDACTION ADMINISTRATION PUBUOTÏÎ 26, Rue Drou...   \n",
       "354      1898-03-26_1_31                                                      \n",
       "397      1898-03-26_3_95                             pOLE j ORD pOLE j jORD   \n",
       "777      1898-04-01_3_21                               Ce-soir, au Gymnase,   \n",
       "...                  ...                                                ...   \n",
       "733307   1878-05-11_2_56  A. DALIFOL, 172, quai Jemmapes, 172 FORGES et ...   \n",
       "733326   1878-05-11_2_98                                    FARINE MORTON ,   \n",
       "733377  1878-05-11_2_196                                                      \n",
       "733485  1878-05-12_2_100                        APP grands et petits, chamb   \n",
       "733511  1878-05-12_2_144  HOTELS RECOMMANDÉS MAISON E. LAUER, rue de Cho...   \n",
       "\n",
       "                                                  content  \\\n",
       "44      On t'abonne dans tous les Bureaux de Poste de ...   \n",
       "45      ré, i. UAIie 102.46 Rédaction TÉLÉPHONE 102.47...   \n",
       "354     Notre Service' de Librairie so chargé d'envoye...   \n",
       "397     Ouvert de 8 h du matin à midi minuit. Salle en...   \n",
       "777     neuvième spectacle d'abonnement, 4 série des v...   \n",
       "...                                                   ...   \n",
       "733307  Mach à vapeur ver tic' 1 et horizont 1 144, Fa...   \n",
       "733326  Alimentation naturelle des Enfants. Se vend ch...   \n",
       "733377  Mme R désire trouver place de dame de compagni...   \n",
       "733485  cabin magas boutiq terrains il louer. Pris mod...   \n",
       "733511  app meublés, Restaurant des Familles: déjeuner...   \n",
       "\n",
       "                                                   tokens  \n",
       "44      [2, 639, 87, 11, 8467, 422, 671, 361, 11881, 3...  \n",
       "45      [2, 437, 16, 76, 18, 57, 1913, 364, 3530, 18, ...  \n",
       "354     [2, 2997, 9323, 11, 336, 14730, 573, 3252, 71,...  \n",
       "397     [2, 7760, 336, 28, 75, 378, 974, 130, 1486, 65...  \n",
       "777     [2, 14855, 3953, 71, 11, 9769, 16, 24, 1567, 3...  \n",
       "...                                                   ...  \n",
       "733307  [2, 19208, 130, 5283, 1127, 5239, 11, 21, 353,...  \n",
       "733326  [2, 29816, 7697, 370, 14532, 18, 1083, 2733, 1...  \n",
       "733377  [2, 868, 54, 4735, 2061, 1087, 336, 4211, 336,...  \n",
       "733485  [2, 23585, 213, 4402, 2705, 18214, 9362, 399, ...  \n",
       "733511  [2, 546, 23766, 16, 21206, 370, 18452, 212, 30...  \n",
       "\n",
       "[4509 rows x 4 columns]"
      ]
     },
     "execution_count": 215,
     "metadata": {},
     "output_type": "execute_result"
    }
   ],
   "source": [
    "BERTDf[BERTDf.tokens.apply(len)<20]"
   ]
  },
  {
   "cell_type": "code",
   "execution_count": 207,
   "id": "5d9d9931",
   "metadata": {},
   "outputs": [
    {
     "ename": "ValueError",
     "evalue": "expected sequence of length 38 at dim 1 (got 325)",
     "output_type": "error",
     "traceback": [
      "\u001b[0;31m---------------------------------------------------------------------------\u001b[0m",
      "\u001b[0;31mValueError\u001b[0m                                Traceback (most recent call last)",
      "\u001b[0;32m/tmp/ipykernel_472616/684448306.py\u001b[0m in \u001b[0;36m<module>\u001b[0;34m\u001b[0m\n\u001b[1;32m      1\u001b[0m \u001b[0;32mimport\u001b[0m \u001b[0mtorch\u001b[0m\u001b[0;34m\u001b[0m\u001b[0;34m\u001b[0m\u001b[0m\n\u001b[0;32m----> 2\u001b[0;31m \u001b[0ma\u001b[0m \u001b[0;34m=\u001b[0m \u001b[0mmodel\u001b[0m\u001b[0;34m(\u001b[0m\u001b[0mtorch\u001b[0m\u001b[0;34m.\u001b[0m\u001b[0mtensor\u001b[0m\u001b[0;34m(\u001b[0m\u001b[0;34m[\u001b[0m\u001b[0mtokenizer\u001b[0m\u001b[0;34m.\u001b[0m\u001b[0mencode\u001b[0m\u001b[0;34m(\u001b[0m\u001b[0mt\u001b[0m\u001b[0;34m)\u001b[0m \u001b[0;32mfor\u001b[0m \u001b[0mt\u001b[0m \u001b[0;32min\u001b[0m \u001b[0mtexts\u001b[0m\u001b[0;34m[\u001b[0m\u001b[0;34m:\u001b[0m\u001b[0;36m3\u001b[0m\u001b[0;34m]\u001b[0m\u001b[0;34m]\u001b[0m\u001b[0;34m)\u001b[0m\u001b[0;34m)\u001b[0m\u001b[0;34m\u001b[0m\u001b[0;34m\u001b[0m\u001b[0m\n\u001b[0m",
      "\u001b[0;31mValueError\u001b[0m: expected sequence of length 38 at dim 1 (got 325)"
     ]
    }
   ],
   "source": [
    "import torch\n",
    "a = model(torch.tensor([tokenizer.encode(t) for t in texts[:3]]))"
   ]
  },
  {
   "cell_type": "code",
   "execution_count": 203,
   "id": "bc33e23c",
   "metadata": {},
   "outputs": [
    {
     "data": {
      "text/plain": [
       "tensor([[ 2.4733e-01,  1.6857e-01,  6.5338e-01,  1.7024e-01,  5.9312e-02,\n",
       "          2.0989e-02, -3.5540e-01,  3.5775e-01,  1.0148e+00,  6.4225e-01,\n",
       "         -1.5062e-01,  1.0290e+01, -2.5911e-01,  6.7702e-01, -1.9008e-01,\n",
       "         -6.8659e-02,  1.2729e+00,  1.0137e+00,  8.2785e-01, -4.8681e-01,\n",
       "          4.3917e-01,  3.0807e-01, -3.1741e-02, -1.6302e+00, -7.0986e-01,\n",
       "         -1.5057e-01,  3.5652e-01,  4.2652e-01, -1.2928e-01,  6.0701e-01,\n",
       "          1.6977e+00,  9.8092e-01, -4.3878e-01,  5.2851e-01, -1.0169e+00,\n",
       "         -1.4644e+00, -1.0988e+00,  4.5423e-01,  7.5249e-01,  1.4139e-01,\n",
       "          7.5322e-01, -1.3733e+00,  2.2834e-01,  1.5011e+00,  3.0981e-01,\n",
       "         -6.1100e-01,  8.8547e-01,  6.7765e-01,  1.3227e-01,  4.6886e-01,\n",
       "          1.1077e+00,  7.7351e-01,  2.5898e-01, -4.8556e-01,  5.0439e-01,\n",
       "         -9.4194e-01, -3.0323e-01,  2.6878e-01,  4.5885e-01, -1.0652e-01,\n",
       "         -3.8497e+00,  5.9461e-01,  6.5919e-01, -1.7917e-01,  3.8417e-01,\n",
       "         -3.3791e-01,  6.4720e-03,  1.3651e+00,  3.0746e-02, -6.8294e-01,\n",
       "         -1.3566e-02, -5.4125e-01,  1.0557e+00,  7.6070e-01, -9.5182e-01,\n",
       "         -1.7622e-01, -5.3862e-01,  7.2537e-01,  6.5018e-01, -4.8309e-01,\n",
       "          1.4612e+00,  3.4327e-01,  7.6196e-01, -1.1436e+00,  1.9382e-01,\n",
       "          5.8315e-01,  1.4030e-01,  9.9842e-01, -1.8908e-01,  1.4912e-01,\n",
       "         -1.2278e+00,  6.6154e-01, -3.1481e-01,  1.2873e+00,  2.3559e-01,\n",
       "          6.7026e-01,  4.3381e-01,  4.0306e-01,  5.3612e-01,  6.9303e-01,\n",
       "          1.0361e+00, -9.9359e-02,  3.5250e-04,  2.9944e-01, -1.8461e-01,\n",
       "         -1.1522e+00, -1.0399e+00,  6.3375e-01, -2.4813e-02, -1.0133e-01,\n",
       "          3.1047e-01, -8.4756e-01, -8.4701e-02, -1.9350e+00, -9.1229e-02,\n",
       "          1.0577e+00, -5.4043e-01, -2.2326e-01,  4.3882e-01,  4.1657e-01,\n",
       "          5.8048e-01, -1.4938e-01,  4.4916e-01,  3.5052e-01,  2.2111e-01,\n",
       "         -1.3802e+00,  9.6033e-02, -1.9509e-01,  1.1860e+00, -1.3745e-01,\n",
       "         -1.2132e-02, -4.0332e-01,  3.1923e-01,  3.5714e-01,  4.5496e-01,\n",
       "         -9.6581e-01, -9.9411e-02, -4.0692e-01, -1.1433e+00, -2.2485e-01,\n",
       "          3.3203e-01,  2.7777e-01,  1.6259e+00, -7.5806e-01, -3.2124e-01,\n",
       "          7.2341e-01,  2.0528e-01,  1.0726e-01,  8.3345e-01, -8.1179e-02,\n",
       "          9.7931e-01,  7.0208e-01,  1.4116e-01, -1.9627e-01,  1.5868e-01,\n",
       "         -9.8644e-02,  5.8408e-01,  2.7004e-01, -8.0131e-01, -7.5227e-01,\n",
       "          5.7379e-02, -2.1252e-01,  1.0427e-01,  3.3908e-01, -6.3522e-01,\n",
       "         -3.5222e-01, -1.0394e-01,  7.1927e-03,  4.2023e-03, -1.3591e+00,\n",
       "         -3.7302e-01, -1.1680e+00, -1.1018e-01, -5.9658e-01, -2.9350e-01,\n",
       "         -1.0681e+00,  4.5662e-01,  1.7298e+00,  5.8842e-01, -8.7433e-01,\n",
       "          6.9463e-01,  2.0422e-01, -6.6786e-01,  7.0236e-01,  1.9172e-01,\n",
       "         -4.5097e-01, -7.1265e-01,  2.6415e-01, -1.0371e+00,  1.3279e-01,\n",
       "          2.8252e-01,  3.2885e-01,  6.7851e-01,  1.0562e+00,  3.6012e-01,\n",
       "          5.0244e-02,  1.4662e-01,  7.5716e-01, -3.6018e-01, -6.7832e-01,\n",
       "         -1.2246e+00,  2.3437e-01, -4.8369e-01,  2.2953e-01, -1.1138e+00,\n",
       "          1.1515e+00, -6.7686e-01, -3.7936e-01,  5.2488e-01,  2.4225e+00,\n",
       "          1.8507e+00,  1.1342e-01, -2.9648e-01,  7.9256e-01, -9.3260e-01,\n",
       "          4.8398e-01,  1.8675e-01,  6.8801e-02, -2.1604e-01, -9.3685e-01,\n",
       "         -4.6786e-01, -2.0483e-02,  7.2053e-02,  1.0900e+00, -3.4552e-01,\n",
       "          5.0402e-02,  1.2981e-01,  6.2809e-02, -9.4105e-01, -2.4464e-01,\n",
       "          8.5299e-01, -1.1915e+00,  1.0297e+00,  1.1003e+00,  2.8839e-01,\n",
       "          1.6897e+00,  4.5872e-01,  3.2419e-02,  3.5318e-01,  8.7430e-02,\n",
       "         -7.0627e-01, -1.0985e+00,  5.3748e-01,  5.8227e-02,  8.1624e-01,\n",
       "         -6.8147e-01, -1.2445e+00, -3.6810e-01, -7.1400e-01, -5.3966e-01,\n",
       "          1.6322e+00, -3.2584e-01, -4.9958e-01, -1.5097e+00,  5.8764e-01,\n",
       "          1.6246e-01, -3.4531e-01, -2.7272e-01,  2.0642e-01, -1.4835e-01,\n",
       "          7.2707e-01,  8.3451e-01,  4.5215e-01, -7.2408e-01,  1.7248e-01,\n",
       "         -4.3210e-01,  1.1027e+00, -2.7408e-01,  5.6535e-01, -2.1323e-01,\n",
       "          5.8470e-01,  2.2688e-01,  1.2087e-01,  1.0691e+00, -6.1902e-01,\n",
       "         -1.7514e-01,  1.2218e-01, -2.3918e+00, -1.2194e-03, -3.9054e-01,\n",
       "         -1.3801e+00, -1.0042e+00,  3.1594e-02,  7.4759e-01,  3.9836e-01,\n",
       "         -2.8818e-02, -5.7981e-01,  4.0783e-01, -8.8581e-01, -5.5408e-01,\n",
       "          8.7851e-02,  1.2561e-01,  4.2856e-01, -1.3477e-01, -1.0726e+00,\n",
       "          6.1915e-02, -7.0112e-01, -4.7437e-01,  2.6966e-01, -4.0683e-01,\n",
       "          8.4228e-01, -2.5641e+00,  7.5123e-01,  1.1969e-01,  8.2133e-01,\n",
       "          8.9502e-01,  5.4424e-01,  2.0124e+00, -4.9357e-01, -6.5060e-01,\n",
       "          6.9401e-01,  4.4736e-01, -6.1623e-02,  1.8162e-01, -1.2759e-02,\n",
       "         -5.2508e-01, -3.4071e-02, -7.6099e-01,  1.4535e-01,  8.2336e-01,\n",
       "         -3.9117e-01, -2.1255e-01, -7.3382e-01, -6.5234e-01, -6.5237e-01,\n",
       "          1.6502e-01, -2.7592e-01, -4.7344e-01,  1.1719e+00,  5.0828e-01,\n",
       "         -3.2992e-01,  2.0190e-01,  7.5964e-02, -2.4656e-01, -1.0692e+00,\n",
       "         -4.4544e-01, -9.5336e-01, -8.5917e-01,  1.4447e+00, -2.5540e-01,\n",
       "         -1.2238e+00,  4.6005e-01,  4.3120e-01, -1.7096e-02,  7.6191e-01,\n",
       "         -8.2655e-02,  3.8263e-02, -8.7749e-01, -7.3483e-01,  1.6726e+00,\n",
       "         -1.4903e+00, -7.8243e-02, -3.3159e-01, -5.9660e-01, -1.1235e+00,\n",
       "         -4.8498e-01, -1.8859e-01,  3.0639e-01, -9.7295e-01, -5.4008e-02,\n",
       "         -2.6464e-01,  3.3122e-01, -1.2480e+00,  9.8152e-01,  2.4925e-01,\n",
       "          4.6922e-01,  8.2269e-01,  7.0853e-01, -5.7752e-01, -1.0435e-01,\n",
       "         -1.5462e-01,  1.5080e+00,  6.6541e-02,  3.0961e-01,  1.6619e+00,\n",
       "          4.7680e-01,  6.1117e-02,  1.0978e-01,  8.8454e-01,  3.0876e-01,\n",
       "         -5.2636e-01, -6.3948e-02, -3.3218e-01, -4.7034e-01,  5.5758e-01,\n",
       "          1.1485e+00,  7.8035e-01,  3.5178e-01,  3.5141e-01, -8.8916e-01,\n",
       "          4.3091e-02,  4.5638e-01, -1.3518e-01,  9.7333e-01,  3.2826e-01,\n",
       "         -4.0461e-01, -3.4033e-01, -3.6625e-01, -7.2640e-02, -5.1233e-02,\n",
       "          1.8449e-02, -1.4707e-01, -9.0732e-01,  5.0135e-01,  2.7283e-01,\n",
       "          1.7797e-01,  2.5583e-02,  2.9001e-02,  7.8632e-02,  3.0781e-01,\n",
       "         -4.9282e-02,  2.7540e-01,  1.3102e+00,  1.1154e+00,  4.6194e-01,\n",
       "         -9.4660e-01,  4.3617e-01, -5.6585e-01,  6.9297e-01,  4.3371e-01,\n",
       "          2.3293e-01,  9.7845e-02,  3.8767e-01,  8.8539e-01,  1.1568e-01,\n",
       "         -3.5664e-01,  4.1398e-01, -2.8043e-01, -4.8251e-01, -7.0285e-01,\n",
       "          4.7583e-01, -7.3421e-01, -7.3861e-02, -7.3823e-01, -2.1487e-01,\n",
       "          1.1358e-01,  7.1551e-01, -1.3740e-01,  8.9643e-02, -1.7859e-01,\n",
       "          3.7497e-01, -5.5601e-01,  1.1438e+00,  3.4984e-01,  3.2997e-01,\n",
       "          1.9199e+00, -5.6920e-01, -2.3912e-01,  4.1679e-01, -5.9505e-02,\n",
       "          1.1727e+00, -4.7290e-01,  9.6206e-01, -2.1011e-01,  5.1767e-02,\n",
       "         -2.9282e-01, -7.4351e-01, -4.4696e-01,  4.6786e-03, -1.1656e-01,\n",
       "         -8.4424e-01,  9.2403e-01, -9.5477e-01,  5.3429e-01, -1.8024e+00,\n",
       "         -2.7731e-01,  1.4221e-01, -2.5945e-01,  1.5508e+00,  1.1854e-02,\n",
       "         -2.4731e-03,  5.0989e-01, -1.1898e+00, -6.7230e-01,  1.4248e-01,\n",
       "          4.4392e-01, -2.6842e-01,  1.2849e-01, -1.6687e-01, -8.9063e-03,\n",
       "          1.1511e-02,  5.7928e-01, -7.9400e-02,  6.3430e-02, -1.7544e+00,\n",
       "          4.8020e-01,  3.2770e-01, -2.8784e-01,  5.8551e-01, -1.5439e+00,\n",
       "          1.7621e-01, -7.5941e-01, -3.2800e-02,  3.9727e-01, -1.0021e+00,\n",
       "          2.9242e-01,  7.4425e-01,  7.2250e-02, -4.3178e-02, -1.6224e-01,\n",
       "          9.8201e-01, -3.2882e-01,  1.2311e+00, -8.5904e-01, -9.9724e-02,\n",
       "         -2.2311e-01, -5.4871e-01,  2.0901e-02, -4.0401e-01, -3.6632e-01,\n",
       "          2.4051e-01, -2.8778e-01, -7.7238e-01,  4.8986e-01, -3.3492e-01,\n",
       "         -6.3014e-01,  5.5035e-01, -6.3238e-02,  8.3464e-01, -1.2838e+00,\n",
       "          1.0696e+00, -2.5362e-01,  5.4574e-02, -6.5876e-01, -1.5865e-01,\n",
       "         -2.6684e-02, -1.1846e+00, -1.0671e+00, -4.6253e-02,  6.7159e-01,\n",
       "          4.0318e-01, -7.0603e-01, -1.0807e+00,  2.6685e-01, -3.4085e-01,\n",
       "          7.6396e-01,  1.1115e-01, -4.5457e-02,  1.1628e+00, -2.3174e-01,\n",
       "         -3.1292e-02,  4.0122e-01,  8.1265e-01, -1.2599e+00, -3.4189e-01,\n",
       "          7.0385e-02, -9.1558e-01, -7.3630e-01,  6.4489e-01,  3.8275e-01,\n",
       "         -1.3202e-01, -2.0126e-02,  4.3461e-01,  1.8639e-01, -4.7580e-01,\n",
       "         -7.8056e-01, -7.6105e-01,  1.4139e-01,  1.9102e+00,  9.6066e-01,\n",
       "          8.1737e-01,  1.1612e+00,  1.5670e+00, -1.0549e+00, -6.2163e-02,\n",
       "         -3.7482e-01, -1.2209e-01,  2.6124e-01, -2.8383e-01,  6.5274e-01,\n",
       "          1.8056e+00,  4.9863e-01, -2.1568e-01, -1.0485e+00, -3.1742e-01,\n",
       "          8.0296e-01, -4.9856e-01, -3.5057e-01,  1.7652e-01,  1.8702e-01,\n",
       "         -1.7433e+00,  4.2791e-01, -5.3488e-02,  2.7068e-01, -4.8153e-01,\n",
       "         -4.8704e-02,  4.3360e-01, -1.1284e-01, -4.1310e-01,  8.4397e-01,\n",
       "         -4.9774e-01,  4.4864e-01, -3.1243e-01, -3.8142e-01,  7.3051e-01,\n",
       "         -1.2046e-01, -2.9051e-01, -9.9639e-01, -9.4109e-01,  2.4018e-01,\n",
       "         -2.3442e-02,  1.4337e+00,  1.0985e+00, -2.9353e-01,  1.5657e-01,\n",
       "         -1.5513e-01,  1.8167e+00, -6.3077e-01, -1.4371e+00, -2.6263e-01,\n",
       "          4.1983e-01,  1.2196e-01, -1.5802e-01,  1.0599e-01,  5.5723e-01,\n",
       "          4.4808e-01,  1.4131e+00,  7.8301e-01, -2.5851e-01, -4.4008e-01,\n",
       "         -1.2024e+00, -2.5321e-01,  2.2325e-01, -2.5295e-01,  2.1418e-01,\n",
       "          4.2256e-01, -1.1358e+00,  1.1895e-01, -4.8576e-01,  3.9331e-01,\n",
       "         -4.8658e-01,  7.2977e-01,  9.4750e-02,  1.7960e-01, -2.6666e-01,\n",
       "          8.1212e-01,  6.2561e-01,  1.7513e-01, -1.6294e-01,  2.9604e-01,\n",
       "          7.2869e-01, -2.7869e-01,  2.8107e-01,  1.6150e-01, -6.1578e-02,\n",
       "          1.0471e-01,  1.7592e-01,  5.6769e-01,  2.7749e-03, -1.3999e+00,\n",
       "          1.8404e-01, -6.7161e-01,  7.8181e-01,  4.2140e-01,  7.5353e-02,\n",
       "          1.4011e+00,  1.2287e-01,  4.7947e-01, -1.3361e-01,  1.4676e+00,\n",
       "         -1.7417e-01, -1.0354e+00, -2.8703e-01,  1.7474e-01,  2.6146e+00,\n",
       "          5.9831e-01,  4.1878e-01,  2.9461e-01,  1.1059e+00,  6.9503e-01,\n",
       "          4.6308e-01, -9.7399e-01,  8.6926e-02, -1.4387e+00, -1.7009e+00,\n",
       "          9.1589e-02, -7.2158e-01,  1.3908e+00, -3.0182e-01,  1.1405e+00,\n",
       "         -1.4967e-02,  8.4273e-02, -6.6411e-01,  2.5491e-01,  1.6888e+00,\n",
       "         -8.1042e-01, -3.6149e-01, -7.2188e-01, -5.2947e-01,  6.9994e-01,\n",
       "         -6.5983e-02,  9.8116e-01, -5.7392e-01,  4.8202e-01,  1.0063e+00,\n",
       "         -1.4472e-01, -2.0145e-01, -6.1907e-01,  5.5434e-02,  8.2694e-01,\n",
       "          7.2135e-01, -4.5967e-01,  2.5607e-01, -2.6761e-02,  1.0400e-01,\n",
       "         -4.1009e-01,  1.7160e-01,  3.4004e-01,  2.4915e+00,  3.3080e-01,\n",
       "         -1.3786e-01, -2.5761e-01, -4.2822e-01,  2.6949e-01,  9.6408e-03,\n",
       "          3.5802e-01, -2.6444e-01, -6.6891e-01, -1.5384e+00, -1.1359e-01,\n",
       "          2.5158e-01,  1.9122e-01,  2.4439e-01, -1.7134e+00,  1.4984e-01,\n",
       "          3.5242e-01,  1.6483e-01,  3.7138e-01, -4.6348e-01,  2.1692e-01,\n",
       "         -7.3519e-02,  3.8869e-01, -4.2166e-01, -5.9101e-01,  7.3236e-02,\n",
       "          4.1445e-01, -3.8036e-01,  4.1060e-01,  4.1485e-02,  5.3604e-01,\n",
       "          8.4443e-01, -8.5307e-01,  3.8064e-02, -6.8703e-02,  5.9325e-01,\n",
       "         -4.1067e-01, -2.4199e-01,  2.8542e-02,  3.2239e-01, -8.2968e-03,\n",
       "          8.4156e-01, -8.9558e-01, -6.9371e-01,  8.8933e-01, -6.4954e-01,\n",
       "         -2.3171e-01, -1.1262e+00, -5.4681e-01,  2.8653e-02,  3.6859e-01,\n",
       "          4.9379e-01, -8.1976e-01,  7.2943e-01,  1.9579e-01, -2.8676e-01,\n",
       "         -8.0873e-01,  1.2252e+00,  3.0236e-01]], grad_fn=<SubBackward0>)"
      ]
     },
     "execution_count": 203,
     "metadata": {},
     "output_type": "execute_result"
    }
   ],
   "source": [
    "a['last_hidden_state'][:,0,:]-a['pooler_output']"
   ]
  },
  {
   "cell_type": "code",
   "execution_count": 198,
   "id": "ddb560bb",
   "metadata": {},
   "outputs": [
    {
     "data": {
      "text/plain": [
       "['last_hidden_state', 'pooler_output']"
      ]
     },
     "execution_count": 198,
     "metadata": {},
     "output_type": "execute_result"
    }
   ],
   "source": [
    "[i for i in a]"
   ]
  },
  {
   "cell_type": "code",
   "execution_count": null,
   "id": "6bcd293a",
   "metadata": {},
   "outputs": [],
   "source": []
  }
 ],
 "metadata": {
  "kernelspec": {
   "display_name": "Python 3 (ipykernel)",
   "language": "python",
   "name": "python3"
  },
  "language_info": {
   "codemirror_mode": {
    "name": "ipython",
    "version": 3
   },
   "file_extension": ".py",
   "mimetype": "text/x-python",
   "name": "python",
   "nbconvert_exporter": "python",
   "pygments_lexer": "ipython3",
   "version": "3.9.13"
  }
 },
 "nbformat": 4,
 "nbformat_minor": 5
}
