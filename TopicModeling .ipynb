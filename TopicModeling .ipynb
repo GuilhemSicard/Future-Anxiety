{
 "cells": [
  {
   "cell_type": "code",
   "execution_count": null,
   "id": "e69f5080",
   "metadata": {},
   "outputs": [],
   "source": [
    "import tomotopy as tp\n",
    "import spacy\n",
    "from spacy.tokens import DocBin\n"
   ]
  },
  {
   "cell_type": "code",
   "execution_count": null,
   "id": "4a2ff9ac",
   "metadata": {},
   "outputs": [],
   "source": [
    "doc_bin = DocBin(store_user_data=True)\n",
    "Doc.set_extension(\"ID\", default=None)"
   ]
  },
  {
   "cell_type": "code",
   "execution_count": null,
   "id": "ef600858",
   "metadata": {},
   "outputs": [],
   "source": [
    "nlp = spacy.load('fr_core_news_ld', disable=[\"ner\"])\n",
    "texts = (text, ID for ID, text for textDf.content.iteritems())\n",
    "for doc, ID in nlp.pipe(texts,as_tuples = True, batch_size=512,n_process=24):\n",
    "    doc._.ID = ID\n",
    "    doc_bin.add(doc)\n",
    "    \n",
    "doc_bin.to_disk(\"data/le_figaro.spacy\")\n",
    "    "
   ]
  },
  {
   "cell_type": "code",
   "execution_count": null,
   "id": "7f6f4237",
   "metadata": {},
   "outputs": [],
   "source": []
  }
 ],
 "metadata": {
  "kernelspec": {
   "display_name": "Python 3 (ipykernel)",
   "language": "python",
   "name": "python3"
  },
  "language_info": {
   "codemirror_mode": {
    "name": "ipython",
    "version": 3
   },
   "file_extension": ".py",
   "mimetype": "text/x-python",
   "name": "python",
   "nbconvert_exporter": "python",
   "pygments_lexer": "ipython3",
   "version": "3.9.13"
  }
 },
 "nbformat": 4,
 "nbformat_minor": 5
}
