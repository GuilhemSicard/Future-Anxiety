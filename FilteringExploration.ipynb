{
 "cells": [
  {
   "cell_type": "code",
   "execution_count": 212,
   "id": "f91294b3",
   "metadata": {},
   "outputs": [],
   "source": [
    "import pandas as pd\n",
    "import regex as re\n",
    "re.DEFAULT_VERSION = re.VERSION1\n",
    "from unidecode import unidecode\n",
    "import tomotopy as tp\n",
    "from gensim.models.phrases import Phraser, Phrases\n",
    "import time\n",
    "from bertopic import BERTopic \n",
    "from bertopic.vectorizers import ClassTfidfTransformer\n",
    "from sklearn.feature_extraction.text import CountVectorizer\n",
    "import spacy\n",
    "nlp = spacy.load('fr_core_news_lg', disable=[\"ner\"])"
   ]
  },
  {
   "cell_type": "code",
   "execution_count": 2,
   "id": "5b6116ec",
   "metadata": {},
   "outputs": [],
   "source": [
    "BERTDf = pd.read_pickle('data/le_figaro_BERT.bz')\n"
   ]
  },
  {
   "cell_type": "code",
   "execution_count": 223,
   "id": "ab088354",
   "metadata": {},
   "outputs": [],
   "source": [
    "topic = {'science':['découverte','scienti','science','techni',\n",
    "                    'savant','érudit','invention'],\n",
    "         'futur': ['avenir','futur','destin',' sort '],#'futur' introduce too much noise\n",
    "         'progrès' : ['progrès','perfectionnement','developpement','innovation','modernité','évolution','amélioration'],\n",
    "         'société' : ['humanité', 'civilisation','peuple','population','génération','déclin','décaden',\n",
    "                      'prospér'],\n",
    "         'émotion':['crainte','anxiété','sérenité',' peur','enthousias','angoisse','esper','esper']}\n",
    "ignorePattern = re.compile('(?:(?:academi\\W*.{,6}\\W*|faculte\\W*.{,6}\\W*|chronique{,3}'+\n",
    "                           'institu{,6}|poly.{,3}\\W?|comite.{,6}\\W?|\\w)'+\n",
    "                           '(?:scien.{,3}|techni.{,3})|progres\\w{2,4}|scien\\W*.{,3}(?:socia|politi)|'+\n",
    "                           'clandestin|destina)')"
   ]
  },
  {
   "cell_type": "code",
   "execution_count": 224,
   "id": "a47ac945",
   "metadata": {},
   "outputs": [],
   "source": [
    "\n",
    "yearRegex = re.compile('(?:jusqu.{,4})?(?:\\W|^)(?:pendant|\\Wen|\\Wa|dans|pour|\\Wde|d\\Wici|au\\Wcours|^)'+\n",
    "                       '\\W*.{,4}(?:(?:l|les|des|d)\\W+an(?:nee?s?)?)?\\W*[123]\\d{3}'+\n",
    "                       '(?:\\W*(?:a|et|ou)?\\W*[123]\\d{3})*')\n",
    "timeMentionRegex = re.compile('(?:dans|pendant(?:\\Wencore)?|jusqu|d\\Wici|au\\Wcours|^)\\W*.{,2}'+\n",
    "                              '(?:.{,6}\\W*prochaine?s?|.{,6}\\W*quelques?|.{,6}\\W*plusieurs)?\\W*'+\n",
    "                              '.{,6}\\W+(?:an(?:nee)?s?|decennies?|siecles?|millenaires?|temps\\Wa\\W?venir|'+\n",
    "                              'futurs? lointains?)\\W+(?:.{,3}venir|proch(?:es?|aine?s?))?(?:\\W|$)')\n",
    "nextGenRegex = re.compile('(?:(?:(?:nos|vos)(?:\\W*future?s?|\\W*arrieres?|\\W*petite?s?|\\W*lointains|grands)*\\W+'+\n",
    "                          '(?:filleul|niece|neveu|enfant|fils|fille|descendant|gendre|petite?\\Wcousine?|cadet)[sx]?)|'+\n",
    "                          '(?:(?:future?s?|prochaine?s?|suivantes?)\\W*.{3}\\W*(?:generations?|epoques?|temps|periodes?))|'+\n",
    "                          '(?:(?:generations?|epoques?|temps|periodes?)\\W*.{4}\\W*(?:venir|future?s?|prochaine?s?|suivante?s)))')"
   ]
  },
  {
   "cell_type": "code",
   "execution_count": 111,
   "id": "2247419e",
   "metadata": {},
   "outputs": [],
   "source": [
    "#BERTDf['preprocessed'] = BERTDf.content.str.lower().apply(unidecode)\n",
    "BERTDf['preprocessed'] = BERTDf['preprocessed'].apply(lambda pp: ignorePattern.sub('',pp))"
   ]
  },
  {
   "cell_type": "code",
   "execution_count": 112,
   "id": "5f04d211",
   "metadata": {},
   "outputs": [],
   "source": [
    "getTimeMention = lambda preprocessed : [mention for mention \n",
    "                                        in timeMentionRegex.findall(preprocessed)\n",
    "                                        if not 'dernier' in mention and not 'passe' in mention and not 'ancien' in mention]\n",
    "getYearMention = lambda preprocessed : yearRegex.findall(preprocessed)\n",
    "getMaxYear = lambda yearPatterns : max([int(year) for pattern in yearPatterns for year in re.findall('[123]\\d{3}',pattern)]) if len(yearPatterns) else None\n",
    "getNextGen = lambda preprocessed : nextGenRegex.findall(preprocessed)\n",
    "BERTDf['yearMention'] = BERTDf.preprocessed.apply(getYearMention)\n",
    "BERTDf['timeMention'] = BERTDf.preprocessed.apply(getTimeMention)\n",
    "BERTDf['nextGen'] = BERTDf.preprocessed.apply(getNextGen)\n",
    "BERTDf['year'] = BERTDf['yearMention'].apply(getMaxYear)\n",
    "BERTDf['yearDif'] = BERTDf['year']-BERTDf.ID.str.split('-').apply(lambda y : int(y[0]))"
   ]
  },
  {
   "cell_type": "code",
   "execution_count": 225,
   "id": "b61742d5",
   "metadata": {},
   "outputs": [],
   "source": [
    "def getCounter(kws):\n",
    "    kws = {kw:[unidecode(w) for w in kws[kw]] for kw in kws}\n",
    "    return lambda kw : lambda preprocessed : sum(w in preprocessed for w in kws[kw])\n",
    "\n",
    "BERTDf['science'] = BERTDf.preprocessed.apply(getCounter(topic)('science'))\n",
    "BERTDf['futur'] = BERTDf.preprocessed.apply(getCounter(topic)('futur'))\n",
    "BERTDf['progrès'] =  BERTDf.preprocessed.apply(getCounter(topic)('progrès'))\n",
    "BERTDf['société'] = BERTDf.preprocessed.apply(getCounter(topic)('société'))\n",
    "BERTDf['émotion'] = BERTDf.preprocessed.apply(getCounter(topic)('émotion'))"
   ]
  },
  {
   "cell_type": "code",
   "execution_count": 266,
   "id": "fc644dc8",
   "metadata": {},
   "outputs": [],
   "source": [
    "BERTDfFiltered = BERTDf[(((BERTDf.science+BERTDf.société*BERTDf.futur)>1).astype(int)+\n",
    "                         ((BERTDf.futur+BERTDf['progrès']*BERTDf.futur)>0).astype(int)+\n",
    "                         (BERTDf.timeMention.apply(len)>0).astype(int)+\n",
    "                         (BERTDf.nextGen.apply(len)>0).astype(int)+\n",
    "                         (BERTDf.yearDif>2).astype(int)+((BERTDf.futVerb>5)|\n",
    "                         (BERTDf.futVerb*BERTDf.cndVerb>4)).astype(int)+\n",
    "                         (BERTDf.futVerb>1).astype(int))>2]"
   ]
  },
  {
   "cell_type": "code",
   "execution_count": 267,
   "id": "452e34a3",
   "metadata": {},
   "outputs": [
    {
     "data": {
      "text/html": [
       "<div>\n",
       "<style scoped>\n",
       "    .dataframe tbody tr th:only-of-type {\n",
       "        vertical-align: middle;\n",
       "    }\n",
       "\n",
       "    .dataframe tbody tr th {\n",
       "        vertical-align: top;\n",
       "    }\n",
       "\n",
       "    .dataframe thead th {\n",
       "        text-align: right;\n",
       "    }\n",
       "</style>\n",
       "<table border=\"1\" class=\"dataframe\">\n",
       "  <thead>\n",
       "    <tr style=\"text-align: right;\">\n",
       "      <th></th>\n",
       "      <th>ID</th>\n",
       "      <th>headline</th>\n",
       "      <th>segmentID</th>\n",
       "      <th>content</th>\n",
       "      <th>lemmas</th>\n",
       "      <th>cndVerb</th>\n",
       "      <th>futVerb</th>\n",
       "      <th>tokens</th>\n",
       "      <th>preprocessed</th>\n",
       "      <th>yearMention</th>\n",
       "      <th>timeMention</th>\n",
       "      <th>nextGen</th>\n",
       "      <th>year</th>\n",
       "      <th>yearDif</th>\n",
       "      <th>science</th>\n",
       "      <th>futur</th>\n",
       "      <th>société</th>\n",
       "      <th>émotion</th>\n",
       "      <th>progrès</th>\n",
       "    </tr>\n",
       "  </thead>\n",
       "  <tbody>\n",
       "    <tr>\n",
       "      <th>394</th>\n",
       "      <td>1898-03-26_1_32_0</td>\n",
       "      <td>LA CHAMBRE Vendredi 25</td>\n",
       "      <td>0</td>\n",
       "      <td>mars . DU HAVRE A NEW YORK Que d'eau que d'eau...</td>\n",
       "      <td>[mars, havre, new, york, eau, eau, poincaré, p...</td>\n",
       "      <td>0</td>\n",
       "      <td>7</td>\n",
       "      <td>[2, 1556, 18, 1637, 18166, 37, 17970, 21154, 2...</td>\n",
       "      <td>mars . du havre a new york que d'eau que d'eau...</td>\n",
       "      <td>[]</td>\n",
       "      <td>[]</td>\n",
       "      <td>[]</td>\n",
       "      <td>NaN</td>\n",
       "      <td>NaN</td>\n",
       "      <td>1</td>\n",
       "      <td>2</td>\n",
       "      <td>0</td>\n",
       "      <td>2</td>\n",
       "      <td>1</td>\n",
       "    </tr>\n",
       "    <tr>\n",
       "      <th>1052</th>\n",
       "      <td>1898-04-04_1_22_0</td>\n",
       "      <td></td>\n",
       "      <td>0</td>\n",
       "      <td>M. Ranc écrit dans le Radical que l'attitude d...</td>\n",
       "      <td>[ranc, écrire, radical, attitude, méline, estp...</td>\n",
       "      <td>2</td>\n",
       "      <td>7</td>\n",
       "      <td>[2, 49, 18, 19128, 223, 2087, 422, 354, 30351,...</td>\n",
       "      <td>m. ranc ecrit dans le radical que l'attitude d...</td>\n",
       "      <td>[]</td>\n",
       "      <td>[dans le siecle : ]</td>\n",
       "      <td>[]</td>\n",
       "      <td>NaN</td>\n",
       "      <td>NaN</td>\n",
       "      <td>0</td>\n",
       "      <td>0</td>\n",
       "      <td>0</td>\n",
       "      <td>0</td>\n",
       "      <td>0</td>\n",
       "    </tr>\n",
       "    <tr>\n",
       "      <th>1268</th>\n",
       "      <td>1898-04-07_0_21_1</td>\n",
       "      <td></td>\n",
       "      <td>1</td>\n",
       "      <td>- une école dentaire. Mais elles sont encore ;...</td>\n",
       "      <td>[école, dentaire, trop, jeune, exercer, action...</td>\n",
       "      <td>0</td>\n",
       "      <td>4</td>\n",
       "      <td>[2, 17, 408, 3119, 2880, 450, 18, 811, 1306, 5...</td>\n",
       "      <td>- une ecole dentaire. mais elles sont encore ;...</td>\n",
       "      <td>[]</td>\n",
       "      <td>[]</td>\n",
       "      <td>[]</td>\n",
       "      <td>NaN</td>\n",
       "      <td>NaN</td>\n",
       "      <td>2</td>\n",
       "      <td>1</td>\n",
       "      <td>0</td>\n",
       "      <td>2</td>\n",
       "      <td>0</td>\n",
       "    </tr>\n",
       "    <tr>\n",
       "      <th>1423</th>\n",
       "      <td>1898-04-09_1_3_0</td>\n",
       "      <td></td>\n",
       "      <td>0</td>\n",
       "      <td>Le commencement du vingtième siècle verra sanê...</td>\n",
       "      <td>[commencement, vingtième, siècle, voir, doute,...</td>\n",
       "      <td>0</td>\n",
       "      <td>4</td>\n",
       "      <td>[2, 447, 7363, 378, 25124, 3757, 9714, 5036, 2...</td>\n",
       "      <td>le commencement du vingtieme siecle verra sane...</td>\n",
       "      <td>[]</td>\n",
       "      <td>[dans quelques annees, ]</td>\n",
       "      <td>[]</td>\n",
       "      <td>NaN</td>\n",
       "      <td>NaN</td>\n",
       "      <td>0</td>\n",
       "      <td>1</td>\n",
       "      <td>0</td>\n",
       "      <td>2</td>\n",
       "      <td>0</td>\n",
       "    </tr>\n",
       "    <tr>\n",
       "      <th>1502</th>\n",
       "      <td>1898-04-10_2_7-8-9_4</td>\n",
       "      <td>REVDE DES JOURNAUX</td>\n",
       "      <td>4</td>\n",
       "      <td>Cette conclusion s'imposait. Les politiques, c...</td>\n",
       "      <td>[conclusion, imposer, politique, comprendre, n...</td>\n",
       "      <td>0</td>\n",
       "      <td>6</td>\n",
       "      <td>[2, 1336, 8176, 86, 11, 25439, 18, 519, 3750, ...</td>\n",
       "      <td>cette conclusion s'imposait. les politiques, c...</td>\n",
       "      <td>[]</td>\n",
       "      <td>[dans le siecle : ]</td>\n",
       "      <td>[]</td>\n",
       "      <td>NaN</td>\n",
       "      <td>NaN</td>\n",
       "      <td>0</td>\n",
       "      <td>1</td>\n",
       "      <td>0</td>\n",
       "      <td>0</td>\n",
       "      <td>0</td>\n",
       "    </tr>\n",
       "    <tr>\n",
       "      <th>...</th>\n",
       "      <td>...</td>\n",
       "      <td>...</td>\n",
       "      <td>...</td>\n",
       "      <td>...</td>\n",
       "      <td>...</td>\n",
       "      <td>...</td>\n",
       "      <td>...</td>\n",
       "      <td>...</td>\n",
       "      <td>...</td>\n",
       "      <td>...</td>\n",
       "      <td>...</td>\n",
       "      <td>...</td>\n",
       "      <td>...</td>\n",
       "      <td>...</td>\n",
       "      <td>...</td>\n",
       "      <td>...</td>\n",
       "      <td>...</td>\n",
       "      <td>...</td>\n",
       "      <td>...</td>\n",
       "    </tr>\n",
       "    <tr>\n",
       "      <th>789701</th>\n",
       "      <td>1878-04-21_0_23_1</td>\n",
       "      <td>LE BARYTON-SOLEIL</td>\n",
       "      <td>1</td>\n",
       "      <td>On ne verra pas sa majestueuse personnalité, l...</td>\n",
       "      <td>[voir, majestueux, personnalité, jour, lumière...</td>\n",
       "      <td>3</td>\n",
       "      <td>6</td>\n",
       "      <td>[2, 639, 446, 9714, 435, 488, 1696, 1161, 7112...</td>\n",
       "      <td>on ne verra pas sa majestueuse personnalite, l...</td>\n",
       "      <td>[]</td>\n",
       "      <td>[]</td>\n",
       "      <td>[]</td>\n",
       "      <td>NaN</td>\n",
       "      <td>NaN</td>\n",
       "      <td>0</td>\n",
       "      <td>1</td>\n",
       "      <td>0</td>\n",
       "      <td>0</td>\n",
       "      <td>0</td>\n",
       "    </tr>\n",
       "    <tr>\n",
       "      <th>789914</th>\n",
       "      <td>1878-04-24_2_1-2_2</td>\n",
       "      <td></td>\n",
       "      <td>2</td>\n",
       "      <td>Je vous prie donc d'inviter les chefs de légio...</td>\n",
       "      <td>[prier, inviter, chef, légion, placer, étendue...</td>\n",
       "      <td>0</td>\n",
       "      <td>7</td>\n",
       "      <td>[2, 667, 578, 5929, 1190, 71, 11, 16884, 361, ...</td>\n",
       "      <td>je vous prie donc d'inviter les chefs de legio...</td>\n",
       "      <td>[]</td>\n",
       "      <td>[]</td>\n",
       "      <td>[]</td>\n",
       "      <td>NaN</td>\n",
       "      <td>NaN</td>\n",
       "      <td>0</td>\n",
       "      <td>1</td>\n",
       "      <td>1</td>\n",
       "      <td>0</td>\n",
       "      <td>0</td>\n",
       "    </tr>\n",
       "    <tr>\n",
       "      <th>790127</th>\n",
       "      <td>1878-04-27_0_34-35-36-37_4</td>\n",
       "      <td>Première Partie LE MASQUE DE VELOURS</td>\n",
       "      <td>4</td>\n",
       "      <td>Il consent à vous l'accorder et, à voire retou...</td>\n",
       "      <td>[consentir, accorder, voire, demander, être, a...</td>\n",
       "      <td>2</td>\n",
       "      <td>3</td>\n",
       "      <td>[2, 528, 6861, 130, 578, 79, 11, 7884, 353, 16...</td>\n",
       "      <td>il consent a vous l'accorder et, a voire retou...</td>\n",
       "      <td>[]</td>\n",
       "      <td>[]</td>\n",
       "      <td>[]</td>\n",
       "      <td>NaN</td>\n",
       "      <td>NaN</td>\n",
       "      <td>0</td>\n",
       "      <td>1</td>\n",
       "      <td>0</td>\n",
       "      <td>0</td>\n",
       "      <td>0</td>\n",
       "    </tr>\n",
       "    <tr>\n",
       "      <th>791523</th>\n",
       "      <td>1878-05-10_2_16_3</td>\n",
       "      <td>PETITE GAZETTE</td>\n",
       "      <td>3</td>\n",
       "      <td>Une sueur froide perla tout à coup sur les tem...</td>\n",
       "      <td>[sueur, froid, perla, coup, tempe, vieux, dire...</td>\n",
       "      <td>7</td>\n",
       "      <td>2</td>\n",
       "      <td>[2, 1064, 25595, 14395, 703, 1122, 521, 130, 9...</td>\n",
       "      <td>une sueur froide perla tout a coup sur les tem...</td>\n",
       "      <td>[]</td>\n",
       "      <td>[]</td>\n",
       "      <td>[]</td>\n",
       "      <td>NaN</td>\n",
       "      <td>NaN</td>\n",
       "      <td>0</td>\n",
       "      <td>1</td>\n",
       "      <td>1</td>\n",
       "      <td>0</td>\n",
       "      <td>0</td>\n",
       "    </tr>\n",
       "    <tr>\n",
       "      <th>791711</th>\n",
       "      <td>1878-05-12_0_26-27_1</td>\n",
       "      <td>FIGARO A L'EXPOSITION</td>\n",
       "      <td>1</td>\n",
       "      <td>Mais si, depuis dix jours, les exposants ne s'...</td>\n",
       "      <td>[jour, exposant, déterminer, travailler, propr...</td>\n",
       "      <td>2</td>\n",
       "      <td>2</td>\n",
       "      <td>[2, 811, 485, 16, 1065, 1523, 1005, 16, 361, 2...</td>\n",
       "      <td>mais si, depuis dix jours, les exposants ne s'...</td>\n",
       "      <td>[]</td>\n",
       "      <td>[dans vingt ans, ]</td>\n",
       "      <td>[nos enfants]</td>\n",
       "      <td>NaN</td>\n",
       "      <td>NaN</td>\n",
       "      <td>0</td>\n",
       "      <td>0</td>\n",
       "      <td>0</td>\n",
       "      <td>0</td>\n",
       "      <td>0</td>\n",
       "    </tr>\n",
       "  </tbody>\n",
       "</table>\n",
       "<p>2992 rows × 19 columns</p>\n",
       "</div>"
      ],
      "text/plain": [
       "                                ID                              headline  \\\n",
       "394              1898-03-26_1_32_0                LA CHAMBRE Vendredi 25   \n",
       "1052             1898-04-04_1_22_0                                         \n",
       "1268             1898-04-07_0_21_1                                         \n",
       "1423              1898-04-09_1_3_0                                         \n",
       "1502          1898-04-10_2_7-8-9_4                    REVDE DES JOURNAUX   \n",
       "...                            ...                                   ...   \n",
       "789701           1878-04-21_0_23_1                     LE BARYTON-SOLEIL   \n",
       "789914          1878-04-24_2_1-2_2                                         \n",
       "790127  1878-04-27_0_34-35-36-37_4  Première Partie LE MASQUE DE VELOURS   \n",
       "791523           1878-05-10_2_16_3                        PETITE GAZETTE   \n",
       "791711        1878-05-12_0_26-27_1                 FIGARO A L'EXPOSITION   \n",
       "\n",
       "       segmentID                                            content  \\\n",
       "394            0  mars . DU HAVRE A NEW YORK Que d'eau que d'eau...   \n",
       "1052           0  M. Ranc écrit dans le Radical que l'attitude d...   \n",
       "1268           1  - une école dentaire. Mais elles sont encore ;...   \n",
       "1423           0  Le commencement du vingtième siècle verra sanê...   \n",
       "1502           4  Cette conclusion s'imposait. Les politiques, c...   \n",
       "...          ...                                                ...   \n",
       "789701         1  On ne verra pas sa majestueuse personnalité, l...   \n",
       "789914         2  Je vous prie donc d'inviter les chefs de légio...   \n",
       "790127         4  Il consent à vous l'accorder et, à voire retou...   \n",
       "791523         3  Une sueur froide perla tout à coup sur les tem...   \n",
       "791711         1  Mais si, depuis dix jours, les exposants ne s'...   \n",
       "\n",
       "                                                   lemmas cndVerb futVerb  \\\n",
       "394     [mars, havre, new, york, eau, eau, poincaré, p...       0       7   \n",
       "1052    [ranc, écrire, radical, attitude, méline, estp...       2       7   \n",
       "1268    [école, dentaire, trop, jeune, exercer, action...       0       4   \n",
       "1423    [commencement, vingtième, siècle, voir, doute,...       0       4   \n",
       "1502    [conclusion, imposer, politique, comprendre, n...       0       6   \n",
       "...                                                   ...     ...     ...   \n",
       "789701  [voir, majestueux, personnalité, jour, lumière...       3       6   \n",
       "789914  [prier, inviter, chef, légion, placer, étendue...       0       7   \n",
       "790127  [consentir, accorder, voire, demander, être, a...       2       3   \n",
       "791523  [sueur, froid, perla, coup, tempe, vieux, dire...       7       2   \n",
       "791711  [jour, exposant, déterminer, travailler, propr...       2       2   \n",
       "\n",
       "                                                   tokens  \\\n",
       "394     [2, 1556, 18, 1637, 18166, 37, 17970, 21154, 2...   \n",
       "1052    [2, 49, 18, 19128, 223, 2087, 422, 354, 30351,...   \n",
       "1268    [2, 17, 408, 3119, 2880, 450, 18, 811, 1306, 5...   \n",
       "1423    [2, 447, 7363, 378, 25124, 3757, 9714, 5036, 2...   \n",
       "1502    [2, 1336, 8176, 86, 11, 25439, 18, 519, 3750, ...   \n",
       "...                                                   ...   \n",
       "789701  [2, 639, 446, 9714, 435, 488, 1696, 1161, 7112...   \n",
       "789914  [2, 667, 578, 5929, 1190, 71, 11, 16884, 361, ...   \n",
       "790127  [2, 528, 6861, 130, 578, 79, 11, 7884, 353, 16...   \n",
       "791523  [2, 1064, 25595, 14395, 703, 1122, 521, 130, 9...   \n",
       "791711  [2, 811, 485, 16, 1065, 1523, 1005, 16, 361, 2...   \n",
       "\n",
       "                                             preprocessed yearMention  \\\n",
       "394     mars . du havre a new york que d'eau que d'eau...          []   \n",
       "1052    m. ranc ecrit dans le radical que l'attitude d...          []   \n",
       "1268    - une ecole dentaire. mais elles sont encore ;...          []   \n",
       "1423    le commencement du vingtieme siecle verra sane...          []   \n",
       "1502    cette conclusion s'imposait. les politiques, c...          []   \n",
       "...                                                   ...         ...   \n",
       "789701  on ne verra pas sa majestueuse personnalite, l...          []   \n",
       "789914  je vous prie donc d'inviter les chefs de legio...          []   \n",
       "790127  il consent a vous l'accorder et, a voire retou...          []   \n",
       "791523  une sueur froide perla tout a coup sur les tem...          []   \n",
       "791711  mais si, depuis dix jours, les exposants ne s'...          []   \n",
       "\n",
       "                     timeMention        nextGen  year  yearDif  science  \\\n",
       "394                           []             []   NaN      NaN        1   \n",
       "1052         [dans le siecle : ]             []   NaN      NaN        0   \n",
       "1268                          []             []   NaN      NaN        2   \n",
       "1423    [dans quelques annees, ]             []   NaN      NaN        0   \n",
       "1502         [dans le siecle : ]             []   NaN      NaN        0   \n",
       "...                          ...            ...   ...      ...      ...   \n",
       "789701                        []             []   NaN      NaN        0   \n",
       "789914                        []             []   NaN      NaN        0   \n",
       "790127                        []             []   NaN      NaN        0   \n",
       "791523                        []             []   NaN      NaN        0   \n",
       "791711        [dans vingt ans, ]  [nos enfants]   NaN      NaN        0   \n",
       "\n",
       "        futur  société  émotion  progrès  \n",
       "394         2        0        2        1  \n",
       "1052        0        0        0        0  \n",
       "1268        1        0        2        0  \n",
       "1423        1        0        2        0  \n",
       "1502        1        0        0        0  \n",
       "...       ...      ...      ...      ...  \n",
       "789701      1        0        0        0  \n",
       "789914      1        1        0        0  \n",
       "790127      1        0        0        0  \n",
       "791523      1        1        0        0  \n",
       "791711      0        0        0        0  \n",
       "\n",
       "[2992 rows x 19 columns]"
      ]
     },
     "execution_count": 267,
     "metadata": {},
     "output_type": "execute_result"
    }
   ],
   "source": [
    "BERTDfFiltered"
   ]
  },
  {
   "cell_type": "code",
   "execution_count": 154,
   "id": "a91567cb",
   "metadata": {},
   "outputs": [],
   "source": [
    "yCount = BERTDf.ID.str.split('-').apply(lambda y : int(y[0])).value_counts()"
   ]
  },
  {
   "cell_type": "code",
   "execution_count": 163,
   "id": "57906fb4",
   "metadata": {},
   "outputs": [
    {
     "data": {
      "text/plain": [
       "<AxesSubplot:>"
      ]
     },
     "execution_count": 163,
     "metadata": {},
     "output_type": "execute_result"
    },
    {
     "data": {
      "image/png": "[encoded data removed]",
      "text/plain": [
       "<Figure size 640x480 with 1 Axes>"
      ]
     },
     "metadata": {},
     "output_type": "display_data"
    }
   ],
   "source": [
    "test = (BERTDfFiltered.ID.str.split('-').apply(lambda y : int(y[0])).value_counts())/yCount\n",
    "test = test.sort_index()\n",
    "yCount = yCount.sort_index()\n",
    "test.plot.bar()"
   ]
  },
  {
   "cell_type": "markdown",
   "id": "11bd4d5f",
   "metadata": {},
   "source": [
    "## Topic modelling for evalutation"
   ]
  },
  {
   "cell_type": "markdown",
   "id": "bcf5f7d0",
   "metadata": {},
   "source": [
    "### BERTopic"
   ]
  },
  {
   "cell_type": "code",
   "execution_count": 190,
   "id": "89dc42a9",
   "metadata": {},
   "outputs": [
    {
     "name": "stderr",
     "output_type": "stream",
     "text": [
      "2023-01-26 12:34:06,810 - BERTopic - Transformed documents to Embeddings\n",
      "2023-01-26 12:34:15,373 - BERTopic - Reduced dimensionality\n",
      "2023-01-26 12:34:15,563 - BERTopic - Clustered reduced embeddings\n"
     ]
    }
   ],
   "source": [
    "topic_model = BERTopic(verbose=True, min_topic_size = 10, language=None,\n",
    "                       embedding_model='dbmdz/bert-base-french-europeana-cased')\n",
    "topics, probs = topic_model.fit_transform(BERTDfFiltered.content.tolist())\n",
    "topic_model.save('models/BERTopicFiltered.bin')\n",
    "topic_model.get_topic_info()"
   ]
  },
  {
   "cell_type": "code",
   "execution_count": 188,
   "id": "1531ffae",
   "metadata": {},
   "outputs": [],
   "source": [
    "topic_model = BERTopic.load('models/BERTopicFiltered.bin')"
   ]
  },
  {
   "cell_type": "code",
   "execution_count": 206,
   "id": "2d3cd0f9",
   "metadata": {},
   "outputs": [
    {
     "name": "stderr",
     "output_type": "stream",
     "text": [
      "100%|█████████████████████████████████████████████| 2/2 [00:04<00:00,  2.23s/it]\n"
     ]
    }
   ],
   "source": [
    "new_topics = topic_model.reduce_outliers(BERTDfFiltered.content.tolist(),topics,threshold=0.2)"
   ]
  },
  {
   "cell_type": "code",
   "execution_count": 216,
   "id": "a6e791b8",
   "metadata": {},
   "outputs": [
    {
     "data": {
      "text/plain": [
       " 0     583\n",
       "-1     457\n",
       " 2     456\n",
       " 1     289\n",
       " 3     286\n",
       " 17    179\n",
       " 20    119\n",
       " 27    119\n",
       " 5     115\n",
       " 4     115\n",
       " 6     110\n",
       " 36    109\n",
       " 9      96\n",
       " 7      95\n",
       " 15     87\n",
       " 32     71\n",
       " 8      67\n",
       " 13     65\n",
       " 10     61\n",
       " 26     59\n",
       "dtype: int64"
      ]
     },
     "execution_count": 216,
     "metadata": {},
     "output_type": "execute_result"
    }
   ],
   "source": [
    "pd.Series(new_topics).value_counts().head(20)"
   ]
  },
  {
   "cell_type": "code",
   "execution_count": 220,
   "id": "ea81613d",
   "metadata": {},
   "outputs": [],
   "source": [
    "vectorizer_model = CountVectorizer(ngram_range=(1,3), \n",
    "                                   max_df = 0.75,\n",
    "                                   min_df = 5,\n",
    "                                   strip_accents = 'unicode',\n",
    "                                   lowercase = True,\n",
    "                                   stop_words = [unidecode(stop) for stop in nlp.Defaults.stop_words])\n",
    "ctfidf_model = ClassTfidfTransformer(reduce_frequent_words=True,bm25_weighting=True)\n",
    "topic_model.update_topics(BERTDfFiltered.content.tolist(),new_topics, diversity = 0.2,\n",
    "                          vectorizer_model=vectorizer_model,\n",
    "                          ctfidf_model = ctfidf_model)"
   ]
  },
  {
   "cell_type": "code",
   "execution_count": 221,
   "id": "2f45a3bb",
   "metadata": {},
   "outputs": [
    {
     "name": "stderr",
     "output_type": "stream",
     "text": [
      "8it [00:16,  2.12s/it]\n"
     ]
    }
   ],
   "source": [
    "getHalfDecadeString = lambda halfDecade : str(halfDecade) +'-'+str(halfDecade+5)\n",
    "getHalfDecade = lambda year : int(int(year)/5)*5\n",
    "topics_over_time = topic_model.topics_over_time(BERTDfFiltered.content.tolist(), \n",
    "                                                [getHalfDecade(ID.split('-')[0]) for ID in BERTDfFiltered.ID],\n",
    "                                                nr_bins = 8,\n",
    "                                                global_tuning=True)"
   ]
  },
  {
   "cell_type": "code",
   "execution_count": 222,
   "id": "09bbe996",
   "metadata": {},
   "outputs": [
    {
     "data": {
      "application/vnd.plotly.v1+json": {
       "config": {
        "plotlyServerURL": "https://plot.ly"
       },
       "data": [
        {
         "hoverinfo": "text",
         "hovertext": [
          "<b>Topic 0</b><br>Words: armee, russie, allemagne, europe, depeche",
          "<b>Topic 0</b><br>Words: tunisie, vallees, egypte, algerie, afrique",
          "<b>Topic 0</b><br>Words: gladstone, bulgarie, frontiere, toulon, allemagne",
          "<b>Topic 0</b><br>Words: allemagne, bismarck, rome, egypte, reichstag",
          "<b>Topic 0</b><br>Words: russie, etats unis, europe, allemagne, espagne",
          "<b>Topic 0</b><br>Words: boers, russie, angleterre, armee, afrique",
          "<b>Topic 0</b><br>Words: allemagne, douma, petersbourg, russie, saint petersbourg",
          "<b>Topic 0</b><br>Words: fallieres, savoie, assemblee, bulgarie, corps armee"
         ],
         "marker": {
          "color": "#E69F00"
         },
         "mode": "lines",
         "name": "0_allemagne_russie_armee_europe",
         "type": "scatter",
         "x": [
          "1870-1875",
          "1875-1880",
          "1880-1885",
          "1885-1890",
          "1890-1895",
          "1895-1900",
          "1900-1905",
          "1905-1910"
         ],
         "y": [
          76,
          29,
          37,
          85,
          118,
          93,
          125,
          20
         ]
        },
        {
         "hoverinfo": "text",
         "hovertext": [
          "<b>Topic 1</b><br>Words: siecles, lumiere, liberte, pensee, triomphera",
          "<b>Topic 1</b><br>Words: democratie, cube, penseur, egalite, michelet",
          "<b>Topic 1</b><br>Words: bruxelles, verites, foyer, progres sciences, moderne",
          "<b>Topic 1</b><br>Words: jeunesse, humanite, idees, ames, intelligences",
          "<b>Topic 1</b><br>Words: egoisme, generation, vehicules, eternel, actualite",
          "<b>Topic 1</b><br>Words: humanite, locomotion, eloquence, humaine, ideal",
          "<b>Topic 1</b><br>Words: bonte, humanite, etres, generations, sens",
          "<b>Topic 1</b><br>Words: poetes, greves, tour tour, tradition, greve"
         ],
         "marker": {
          "color": "#56B4E9"
         },
         "mode": "lines",
         "name": "1_humanite_ames_lumiere_siecles",
         "type": "scatter",
         "x": [
          "1870-1875",
          "1875-1880",
          "1880-1885",
          "1885-1890",
          "1890-1895",
          "1895-1900",
          "1900-1905",
          "1905-1910"
         ],
         "y": [
          60,
          30,
          5,
          37,
          36,
          48,
          64,
          9
         ]
        },
        {
         "hoverinfo": "text",
         "hovertext": [
          "<b>Topic 2</b><br>Words: etes, voulez, vois, bonheur, main",
          "<b>Topic 2</b><br>Words: etes, veux, mere, aime, notaire",
          "<b>Topic 2</b><br>Words: ferry, christophe colomb, lady, paul bert, christophe",
          "<b>Topic 2</b><br>Words: etes, aime, mere, ferry, pole nord",
          "<b>Topic 2</b><br>Words: vois, mere, felix faure, depute, cœur",
          "<b>Topic 2</b><br>Words: veux, etes, repondit, laissez, alle",
          "<b>Topic 2</b><br>Words: revoir, aime, helene, etes, madame",
          "<b>Topic 2</b><br>Words: protegera, competentes, temperature, empechera, autorites"
         ],
         "marker": {
          "color": "#009E73"
         },
         "mode": "lines",
         "name": "2_etes_veux_voulez_aime",
         "type": "scatter",
         "x": [
          "1870-1875",
          "1875-1880",
          "1880-1885",
          "1885-1890",
          "1890-1895",
          "1895-1900",
          "1900-1905",
          "1905-1910"
         ],
         "y": [
          138,
          69,
          12,
          37,
          65,
          68,
          61,
          6
         ]
        },
        {
         "hoverinfo": "text",
         "hovertext": [
          "<b>Topic 3</b><br>Words: centre gauche, dufaure, assemblee, republicaine, jules simon",
          "<b>Topic 3</b><br>Words: grevy, ferry, freycinet, ministere, jules ferry",
          "<b>Topic 3</b><br>Words: elections, republicains, grevy, freycinet, republicaine",
          "<b>Topic 3</b><br>Words: koch, sieges, clemenceau, hopital, republicains",
          "<b>Topic 3</b><br>Words: ministere, dreyfus, senateurs, evite, moderes",
          "<b>Topic 3</b><br>Words: cents millions, detail, penseurs, majorite, resolues",
          "<b>Topic 3</b><br>Words: delegation, buisson, scrutin liste, elevage, scrutin arrondissement",
          "<b>Topic 3</b><br>Words: berenger, barthou, jaures, renouvelee, vient mourir"
         ],
         "marker": {
          "color": "#F0E442"
         },
         "mode": "lines",
         "name": "3_ministere_grevy_centre gauche_republic...",
         "type": "scatter",
         "x": [
          "1870-1875",
          "1875-1880",
          "1880-1885",
          "1885-1890",
          "1890-1895",
          "1895-1900",
          "1900-1905",
          "1905-1910"
         ],
         "y": [
          106,
          48,
          21,
          23,
          31,
          25,
          23,
          9
         ]
        },
        {
         "hoverinfo": "text",
         "hovertext": [
          "<b>Topic 4</b><br>Words: predecesseur, qu juge, patronage, musicale, trocadero",
          "<b>Topic 4</b><br>Words: gymnase, henri iv, montigny, toilette, amitie",
          "<b>Topic 4</b><br>Words: levy, academie, milne edwards, edwards, armee marine",
          "<b>Topic 4</b><br>Words: societaires, grand amphitheatre, federation, gare saint lazare, gare saint",
          "<b>Topic 4</b><br>Words: academie, societes savantes, beaux arts, societes, presidee",
          "<b>Topic 4</b><br>Words: academie, conference, conferences, eveque, institut france",
          "<b>Topic 4</b><br>Words: academie, universite, faculte sciences, aero, beaux arts",
          "<b>Topic 4</b><br>Words: prudhomme, academie, sully, faculte sciences, saint honore"
         ],
         "marker": {
          "color": "#D55E00"
         },
         "mode": "lines",
         "name": "4_academie_beaux arts_institut france_ac...",
         "type": "scatter",
         "x": [
          "1870-1875",
          "1875-1880",
          "1880-1885",
          "1885-1890",
          "1890-1895",
          "1895-1900",
          "1900-1905",
          "1905-1910"
         ],
         "y": [
          5,
          6,
          2,
          9,
          26,
          27,
          32,
          8
         ]
        },
        {
         "hoverinfo": "text",
         "hovertext": [
          "<b>Topic 5</b><br>Words: prusse, marechal, recolte, stabilite, paris ville",
          "<b>Topic 5</b><br>Words: chretienne, bonne volonte, federation, clerge, pole",
          "<b>Topic 5</b><br>Words: cherchera, dresde, jurys, trainer, siegeront",
          "<b>Topic 5</b><br>Words: lesseps, societe lettres, russie, libertes, supreme",
          "<b>Topic 5</b><br>Words: conquetes, genie, generations, glorieuses, lumiere",
          "<b>Topic 5</b><br>Words: auvergne, combes, republicaines, republique, generations",
          "<b>Topic 5</b><br>Words: republique francaise, progres justice, voie progres, hospitalite, abime",
          "<b>Topic 5</b><br>Words: deroulede, developpant, nouvelles generations, continents, navigation aerienne"
         ],
         "marker": {
          "color": "#0072B2"
         },
         "mode": "lines",
         "name": "5_grandeur_reconnaissance_humanite_appla...",
         "type": "scatter",
         "x": [
          "1870-1875",
          "1875-1880",
          "1880-1885",
          "1885-1890",
          "1890-1895",
          "1895-1900",
          "1900-1905",
          "1905-1910"
         ],
         "y": [
          22,
          7,
          4,
          13,
          22,
          26,
          17,
          4
         ]
        },
        {
         "hoverinfo": "text",
         "hovertext": [
          "<b>Topic 6</b><br>Words: president republique, monsieur president, assemblee, paris ville, republique",
          "<b>Topic 6</b><br>Words: evolution, tranquillite, qu compter, solidite, grands progres",
          "<b>Topic 6</b><br>Words: resident general, grand pere, majeste, president republique, resident",
          "<b>Topic 6</b><br>Words: prospere, president republique, carnot, recompense, russie",
          "<b>Topic 6</b><br>Words: president republique, republique, rambouillet, monsieur president, repondu",
          "<b>Topic 6</b><br>Words: president republique, majeste, republique, gouvernement republique, prosperite",
          "<b>Topic 6</b><br>Words: monsieur president, majeste, president republique, prosperite, amitie",
          "<b>Topic 6</b><br>Words: sahara, saint georges, place saint, rambouillet, president republique"
         ],
         "marker": {
          "color": "#CC79A7"
         },
         "mode": "lines",
         "name": "6_president republique_monsieur presiden...",
         "type": "scatter",
         "x": [
          "1870-1875",
          "1875-1880",
          "1880-1885",
          "1885-1890",
          "1890-1895",
          "1895-1900",
          "1900-1905",
          "1905-1910"
         ],
         "y": [
          17,
          3,
          4,
          6,
          20,
          24,
          32,
          4
         ]
        },
        {
         "hoverinfo": "text",
         "hovertext": [
          "<b>Topic 7</b><br>Words: deliberation, rapporteur, assemblee, projet, bancs",
          "<b>Topic 7</b><br>Words: grandes compagnies, waddington, epidemie, refusera, voulez",
          "<b>Topic 7</b><br>Words: fondamentales, espagne, octroyer, epique, intitulee",
          "<b>Topic 7</b><br>Words: batie, jures, faut donner, avenir dira, bancs",
          "<b>Topic 7</b><br>Words: jaures, extreme gauche, cochery, corse, brest",
          "<b>Topic 7</b><br>Words: leroy, reponse, remedier, ecole normale, prefet seine",
          "<b>Topic 7</b><br>Words: viviani, ribot, barthou, extreme gauche, strauss",
          "<b>Topic 7</b><br>Words: discours ete, vie parisienne, societes secours, societes secours mutuels, repercussion"
         ],
         "marker": {
          "color": "#E69F00"
         },
         "mode": "lines",
         "name": "7_bancs_amendement_rapporteur_extreme ga...",
         "type": "scatter",
         "x": [
          "1870-1875",
          "1875-1880",
          "1880-1885",
          "1885-1890",
          "1890-1895",
          "1895-1900",
          "1900-1905",
          "1905-1910"
         ],
         "y": [
          23,
          9,
          4,
          8,
          19,
          7,
          21,
          4
         ]
        },
        {
         "hoverinfo": "text",
         "hovertext": [
          "<b>Topic 8</b><br>Words: jury, jouiront, agriculture commerce, categories, ministre agriculture",
          "<b>Topic 8</b><br>Words: denombrement, telegrammes, medaille, bureau, masculin",
          "<b>Topic 8</b><br>Words: entrees, decret, conseil ordre, deliberations, legion",
          "<b>Topic 8</b><br>Words: numeros, eleves, universitaire, concours, tirage sort",
          "<b>Topic 8</b><br>Words: classement, examens, eleves, temoins, concours",
          "<b>Topic 8</b><br>Words: edifices, castellane, communes, defaut, departements",
          "<b>Topic 8</b><br>Words: telephones, professorat, privee, superieures, capacite"
         ],
         "marker": {
          "color": "#56B4E9"
         },
         "mode": "lines",
         "name": "8_jury_decret_etablissements_jouiront",
         "type": "scatter",
         "x": [
          "1870-1875",
          "1875-1880",
          "1885-1890",
          "1890-1895",
          "1895-1900",
          "1900-1905",
          "1905-1910"
         ],
         "y": [
          21,
          10,
          5,
          10,
          6,
          11,
          4
         ]
        },
        {
         "hoverinfo": "text",
         "hovertext": [
          "<b>Topic 9</b><br>Words: chemins fer, chemins, chemin fer, navigation, reliera",
          "<b>Topic 9</b><br>Words: republique argentine, jesuites, tunisie, abandonnee, chemins fer",
          "<b>Topic 9</b><br>Words: procedes, combine, eiffel, etages, entrainerait",
          "<b>Topic 9</b><br>Words: chemins fer, anvers, chemin fer, ports, courbevoie",
          "<b>Topic 9</b><br>Words: chemins fer, chemins, tonkin, chemin fer, routes",
          "<b>Topic 9</b><br>Words: chemins fer, chemin fer, tananarive, algerie, voies ferrees",
          "<b>Topic 9</b><br>Words: chemin fer, chemins, chemins fer, aires, ports",
          "<b>Topic 9</b><br>Words: chemins fer, chemins, chemin fer, jeanne, voies ferrees"
         ],
         "marker": {
          "color": "#009E73"
         },
         "mode": "lines",
         "name": "9_chemins fer_chemins_chemin fer_ports",
         "type": "scatter",
         "x": [
          "1870-1875",
          "1875-1880",
          "1880-1885",
          "1885-1890",
          "1890-1895",
          "1895-1900",
          "1900-1905",
          "1905-1910"
         ],
         "y": [
          16,
          4,
          1,
          8,
          12,
          15,
          31,
          9
         ]
        },
        {
         "hoverinfo": "text",
         "hovertext": [
          "<b>Topic 10</b><br>Words: theatre, sarah, opera comique, opera, mme",
          "<b>Topic 10</b><br>Words: matinees, sarah, gymnase, theatre, the",
          "<b>Topic 10</b><br>Words: mise scene, repetition, sardou, sarah, comedie francaise",
          "<b>Topic 10</b><br>Words: comedie, editeur, chatelet, biere, societaires",
          "<b>Topic 10</b><br>Words: creations, mme, mlle, cesar, fetes",
          "<b>Topic 10</b><br>Words: theatre, comedie, tournee, comediens, opera comique",
          "<b>Topic 10</b><br>Words: comedie, theatre, carlo, mmes, prince monaco",
          "<b>Topic 10</b><br>Words: alfred capus, porte saint, chatelet, capus, theatre"
         ],
         "marker": {
          "color": "#F0E442"
         },
         "mode": "lines",
         "name": "10_theatre_comedie_sarah_opera comique",
         "type": "scatter",
         "x": [
          "1870-1875",
          "1875-1880",
          "1880-1885",
          "1885-1890",
          "1890-1895",
          "1895-1900",
          "1900-1905",
          "1905-1910"
         ],
         "y": [
          17,
          5,
          4,
          6,
          5,
          10,
          12,
          2
         ]
        },
        {
         "hoverinfo": "text",
         "hovertext": [
          "<b>Topic 13</b><br>Words: appel peuple, mm jules, protege, temoigne, fenetres",
          "<b>Topic 13</b><br>Words: depute, echelle, eleves, deputes, qu soient",
          "<b>Topic 13</b><br>Words: qu prise, depenses qu, collegiens, materielles, tombee",
          "<b>Topic 13</b><br>Words: millions hommes, lepine, diametre, cesar, fin siecle",
          "<b>Topic 13</b><br>Words: baton, pole nord, banque france, sceptre, cuir",
          "<b>Topic 13</b><br>Words: martinique, imprime, caracteres, coquelin, publicite",
          "<b>Topic 13</b><br>Words: antin, aeriennes, legumes, pensera, impot revenu",
          "<b>Topic 13</b><br>Words: libertes, employe, indiscretion, assurerait, prealablement"
         ],
         "marker": {
          "color": "#D55E00"
         },
         "mode": "lines",
         "name": "13_baton_cafe_decors_qu fera",
         "type": "scatter",
         "x": [
          "1870-1875",
          "1875-1880",
          "1880-1885",
          "1885-1890",
          "1890-1895",
          "1895-1900",
          "1900-1905",
          "1905-1910"
         ],
         "y": [
          14,
          7,
          3,
          7,
          12,
          9,
          11,
          2
         ]
        },
        {
         "hoverinfo": "text",
         "hovertext": [
          "<b>Topic 15</b><br>Words: saintete, suffrage universel, cri, mac mahon, libertes",
          "<b>Topic 15</b><br>Words: modere, sauvera, resister, revolutionnaires, decheance",
          "<b>Topic 15</b><br>Words: qu laisse, entraine, vie parlementaire, moment exposition, jeunes generations",
          "<b>Topic 15</b><br>Words: menages, avez bien, desordre, assurement, faire rentrer",
          "<b>Topic 15</b><br>Words: temoins, connaitront, jaures, bien donner, chimeres",
          "<b>Topic 15</b><br>Words: energie, present avenir, consequence, habilete, jaures",
          "<b>Topic 15</b><br>Words: bois boulogne, boulogne, musset, methodique, collegiens",
          "<b>Topic 15</b><br>Words: heroique, guillaume ii, paul cassagnac, impunement, probite"
         ],
         "marker": {
          "color": "#0072B2"
         },
         "mode": "lines",
         "name": "15_jaures_suffrage universel_temoins_lib...",
         "type": "scatter",
         "x": [
          "1870-1875",
          "1875-1880",
          "1880-1885",
          "1885-1890",
          "1890-1895",
          "1895-1900",
          "1900-1905",
          "1905-1910"
         ],
         "y": [
          22,
          7,
          6,
          6,
          14,
          12,
          17,
          3
         ]
        },
        {
         "hoverinfo": "text",
         "hovertext": [
          "<b>Topic 17</b><br>Words: numero, negociant, mettrons, edition, publicite",
          "<b>Topic 17</b><br>Words: edition, mlles, forum, desole, assistance publique",
          "<b>Topic 17</b><br>Words: grandes compagnies, alpes, sieges, chimere, lockroy",
          "<b>Topic 17</b><br>Words: jouet, liberes, henry, mise valeur, armee marine",
          "<b>Topic 17</b><br>Words: voyage, couronner, vois, celibataire, faut oublier",
          "<b>Topic 17</b><br>Words: conquise, peres, maitresses, beaute, gironde",
          "<b>Topic 17</b><br>Words: beaucoup argent, ideal, garcons, cœur, docteur cook",
          "<b>Topic 17</b><br>Words: laurent, aeroplanes, aeroplane, defile, mlle"
         ],
         "marker": {
          "color": "#CC79A7"
         },
         "mode": "lines",
         "name": "17_victor_petites_peres_numero",
         "type": "scatter",
         "x": [
          "1870-1875",
          "1875-1880",
          "1880-1885",
          "1885-1890",
          "1890-1895",
          "1895-1900",
          "1900-1905",
          "1905-1910"
         ],
         "y": [
          45,
          15,
          9,
          25,
          27,
          26,
          24,
          8
         ]
        },
        {
         "hoverinfo": "text",
         "hovertext": [
          "<b>Topic 20</b><br>Words: majorite, commission budget, legende, deputes, membre institut",
          "<b>Topic 20</b><br>Words: mathematiques, pantheon, paul bert, archeveque, eveques",
          "<b>Topic 20</b><br>Words: doute fort, coute cher, chambre projet, faut resigner, qu coute",
          "<b>Topic 20</b><br>Words: bureaux, 000 hommes, jules roche, meline, centraliser",
          "<b>Topic 20</b><br>Words: loi finances, lockroy, deputes, decret, projet",
          "<b>Topic 20</b><br>Words: commission budget, saint cyr, commission enquete, debat, hemery",
          "<b>Topic 20</b><br>Words: commission budget, separation, ministre marine, ministre finances, credits",
          "<b>Topic 20</b><br>Words: selves, realisee, ministere interieur, reforme, bien pays"
         ],
         "marker": {
          "color": "#E69F00"
         },
         "mode": "lines",
         "name": "20_projet_commission budget_projet loi_f...",
         "type": "scatter",
         "x": [
          "1870-1875",
          "1875-1880",
          "1880-1885",
          "1885-1890",
          "1890-1895",
          "1895-1900",
          "1900-1905",
          "1905-1910"
         ],
         "y": [
          23,
          7,
          3,
          11,
          20,
          23,
          28,
          4
         ]
        },
        {
         "hoverinfo": "text",
         "hovertext": [
          "<b>Topic 26</b><br>Words: laiques, colleges, laique, charite, question point",
          "<b>Topic 26</b><br>Words: economie temps, garcons filles, quia besoin, bossuet, manier",
          "<b>Topic 26</b><br>Words: qu ici, ministere instruction publique, ministere instruction, grand honneur, avenir present",
          "<b>Topic 26</b><br>Words: cas guerre, ecoles, ingenieurs, developpe, siegfried",
          "<b>Topic 26</b><br>Words: lycees, dernieres annees, ecoles, eleves, education",
          "<b>Topic 26</b><br>Words: leygues, baccalaureat, ecoles, education, latin",
          "<b>Topic 26</b><br>Words: enseignement, ecoles, education, facultes, jamais trop",
          "<b>Topic 26</b><br>Words: etudieront, large mesure, breslau, prononce discours, elevant"
         ],
         "marker": {
          "color": "#56B4E9"
         },
         "mode": "lines",
         "name": "26_enseignement_ecoles_education_college...",
         "type": "scatter",
         "x": [
          "1870-1875",
          "1875-1880",
          "1880-1885",
          "1885-1890",
          "1890-1895",
          "1895-1900",
          "1900-1905",
          "1905-1910"
         ],
         "y": [
          3,
          4,
          1,
          4,
          14,
          20,
          12,
          1
         ]
        },
        {
         "hoverinfo": "text",
         "hovertext": [
          "<b>Topic 27</b><br>Words: obligation, tramways, capital, 000 fr, francs an",
          "<b>Topic 27</b><br>Words: 000 fr, 000 francs, assurance, assurances, 10 000",
          "<b>Topic 27</b><br>Words: 20 millions, millions, 600 000, edison, millions francs",
          "<b>Topic 27</b><br>Words: depense, album, carnaval, complementaire, repetition",
          "<b>Topic 27</b><br>Words: 000 francs, depenses, voiture, millions, millions francs",
          "<b>Topic 27</b><br>Words: 000 francs, 100 000 francs, assurances, equitable, revenu",
          "<b>Topic 27</b><br>Words: 000 francs, millions, francs somme, depense, duval",
          "<b>Topic 27</b><br>Words: credit foncier, francs qu, feminine, moitie, reparation"
         ],
         "marker": {
          "color": "#009E73"
         },
         "mode": "lines",
         "name": "27_000 francs_000 fr_millions_100 000 fr...",
         "type": "scatter",
         "x": [
          "1870-1875",
          "1875-1880",
          "1880-1885",
          "1885-1890",
          "1890-1895",
          "1895-1900",
          "1900-1905",
          "1905-1910"
         ],
         "y": [
          21,
          13,
          6,
          7,
          17,
          24,
          27,
          4
         ]
        },
        {
         "hoverinfo": "text",
         "hovertext": [
          "<b>Topic 32</b><br>Words: maintenu, obligatoire, ans ans, service obligatoire, alsaciens",
          "<b>Topic 32</b><br>Words: carrieres, service ans, instruction, appelons, regiment",
          "<b>Topic 32</b><br>Words: alphand, mecaniques, qu dise, tonkin, paris faire",
          "<b>Topic 32</b><br>Words: compagnie gaz, of, rhetorique, mathematiques, comite",
          "<b>Topic 32</b><br>Words: major general, spencer, galerie machines, artistes francais, vice amiral",
          "<b>Topic 32</b><br>Words: ans mois, considere, actif, classe, regiments",
          "<b>Topic 32</b><br>Words: prophetes, egypte, fin monde, photographiques, becquerel",
          "<b>Topic 32</b><br>Words: dion, echafaudages, jacques, arreter, voiture"
         ],
         "marker": {
          "color": "#F0E442"
         },
         "mode": "lines",
         "name": "32_major general_ans ans_obligatoire_ser...",
         "type": "scatter",
         "x": [
          "1870-1875",
          "1875-1880",
          "1880-1885",
          "1885-1890",
          "1890-1895",
          "1895-1900",
          "1900-1905",
          "1905-1910"
         ],
         "y": [
          10,
          11,
          4,
          7,
          14,
          11,
          10,
          4
         ]
        },
        {
         "hoverinfo": "text",
         "hovertext": [
          "<b>Topic 36</b><br>Words: boulet, republicains, theatres, reveler, murmures",
          "<b>Topic 36</b><br>Words: gabrielle, telephonique, persecution, situee, soirees",
          "<b>Topic 36</b><br>Words: nombre membres, qu venait, lustre, grand jour, adopteront",
          "<b>Topic 36</b><br>Words: varietes, execution, annuites, financiere, congo",
          "<b>Topic 36</b><br>Words: orleans, chomage, qu rende, humanites, creanciers",
          "<b>Topic 36</b><br>Words: mortalite, progres materiel, conseil ordre, berne, andre beaunier",
          "<b>Topic 36</b><br>Words: eclipse, grevistes, traversee, progres materiel, miss",
          "<b>Topic 36</b><br>Words: desert, adeptes, attirera, navigation aerienne, imprevue"
         ],
         "marker": {
          "color": "#D55E00"
         },
         "mode": "lines",
         "name": "36_eclipse_orleans_progres materiel_exec...",
         "type": "scatter",
         "x": [
          "1870-1875",
          "1875-1880",
          "1880-1885",
          "1885-1890",
          "1890-1895",
          "1895-1900",
          "1900-1905",
          "1905-1910"
         ],
         "y": [
          18,
          13,
          3,
          8,
          21,
          19,
          23,
          4
         ]
        },
        {
         "hoverinfo": "text",
         "hovertext": [
          "<b>Topic 38</b><br>Words: plebiscitaire, feu, precieuses, vive, rapidite",
          "<b>Topic 38</b><br>Words: couleur, declarations, appelee, municipalites, estpas trop",
          "<b>Topic 38</b><br>Words: americain, funerailles, voit bien, succombera, qu fin",
          "<b>Topic 38</b><br>Words: koch, docteur koch, cholera, docteur, medical",
          "<b>Topic 38</b><br>Words: microbe, sevres, prejuge, medecin, therapeutique",
          "<b>Topic 38</b><br>Words: serum, ministre marine, detruire, dument, docteur koch",
          "<b>Topic 38</b><br>Words: vallee, remede, ete donne, methode, perfectionne",
          "<b>Topic 38</b><br>Words: typhoide, dument, etudier question, moyen faire, temps faire"
         ],
         "marker": {
          "color": "#0072B2"
         },
         "mode": "lines",
         "name": "38_remede_docteur koch_microbe_typhoide",
         "type": "scatter",
         "x": [
          "1870-1875",
          "1875-1880",
          "1880-1885",
          "1885-1890",
          "1890-1895",
          "1895-1900",
          "1900-1905",
          "1905-1910"
         ],
         "y": [
          6,
          6,
          4,
          7,
          10,
          6,
          10,
          3
         ]
        }
       ],
       "layout": {
        "height": 450,
        "hoverlabel": {
         "bgcolor": "white",
         "font": {
          "family": "Rockwell",
          "size": 16
         }
        },
        "legend": {
         "title": {
          "text": "<b>Global Topic Representation"
         }
        },
        "template": {
         "data": {
          "bar": [
           {
            "error_x": {
             "color": "rgb(36,36,36)"
            },
            "error_y": {
             "color": "rgb(36,36,36)"
            },
            "marker": {
             "line": {
              "color": "white",
              "width": 0.5
             },
             "pattern": {
              "fillmode": "overlay",
              "size": 10,
              "solidity": 0.2
             }
            },
            "type": "bar"
           }
          ],
          "barpolar": [
           {
            "marker": {
             "line": {
              "color": "white",
              "width": 0.5
             },
             "pattern": {
              "fillmode": "overlay",
              "size": 10,
              "solidity": 0.2
             }
            },
            "type": "barpolar"
           }
          ],
          "carpet": [
           {
            "aaxis": {
             "endlinecolor": "rgb(36,36,36)",
             "gridcolor": "white",
             "linecolor": "white",
             "minorgridcolor": "white",
             "startlinecolor": "rgb(36,36,36)"
            },
            "baxis": {
             "endlinecolor": "rgb(36,36,36)",
             "gridcolor": "white",
             "linecolor": "white",
             "minorgridcolor": "white",
             "startlinecolor": "rgb(36,36,36)"
            },
            "type": "carpet"
           }
          ],
          "choropleth": [
           {
            "colorbar": {
             "outlinewidth": 1,
             "tickcolor": "rgb(36,36,36)",
             "ticks": "outside"
            },
            "type": "choropleth"
           }
          ],
          "contour": [
           {
            "colorbar": {
             "outlinewidth": 1,
             "tickcolor": "rgb(36,36,36)",
             "ticks": "outside"
            },
            "colorscale": [
             [
              0,
              "#440154"
             ],
             [
              0.1111111111111111,
              "#482878"
             ],
             [
              0.2222222222222222,
              "#3e4989"
             ],
             [
              0.3333333333333333,
              "#31688e"
             ],
             [
              0.4444444444444444,
              "#26828e"
             ],
             [
              0.5555555555555556,
              "#1f9e89"
             ],
             [
              0.6666666666666666,
              "#35b779"
             ],
             [
              0.7777777777777778,
              "#6ece58"
             ],
             [
              0.8888888888888888,
              "#b5de2b"
             ],
             [
              1,
              "#fde725"
             ]
            ],
            "type": "contour"
           }
          ],
          "contourcarpet": [
           {
            "colorbar": {
             "outlinewidth": 1,
             "tickcolor": "rgb(36,36,36)",
             "ticks": "outside"
            },
            "type": "contourcarpet"
           }
          ],
          "heatmap": [
           {
            "colorbar": {
             "outlinewidth": 1,
             "tickcolor": "rgb(36,36,36)",
             "ticks": "outside"
            },
            "colorscale": [
             [
              0,
              "#440154"
             ],
             [
              0.1111111111111111,
              "#482878"
             ],
             [
              0.2222222222222222,
              "#3e4989"
             ],
             [
              0.3333333333333333,
              "#31688e"
             ],
             [
              0.4444444444444444,
              "#26828e"
             ],
             [
              0.5555555555555556,
              "#1f9e89"
             ],
             [
              0.6666666666666666,
              "#35b779"
             ],
             [
              0.7777777777777778,
              "#6ece58"
             ],
             [
              0.8888888888888888,
              "#b5de2b"
             ],
             [
              1,
              "#fde725"
             ]
            ],
            "type": "heatmap"
           }
          ],
          "heatmapgl": [
           {
            "colorbar": {
             "outlinewidth": 1,
             "tickcolor": "rgb(36,36,36)",
             "ticks": "outside"
            },
            "colorscale": [
             [
              0,
              "#440154"
             ],
             [
              0.1111111111111111,
              "#482878"
             ],
             [
              0.2222222222222222,
              "#3e4989"
             ],
             [
              0.3333333333333333,
              "#31688e"
             ],
             [
              0.4444444444444444,
              "#26828e"
             ],
             [
              0.5555555555555556,
              "#1f9e89"
             ],
             [
              0.6666666666666666,
              "#35b779"
             ],
             [
              0.7777777777777778,
              "#6ece58"
             ],
             [
              0.8888888888888888,
              "#b5de2b"
             ],
             [
              1,
              "#fde725"
             ]
            ],
            "type": "heatmapgl"
           }
          ],
          "histogram": [
           {
            "marker": {
             "line": {
              "color": "white",
              "width": 0.6
             }
            },
            "type": "histogram"
           }
          ],
          "histogram2d": [
           {
            "colorbar": {
             "outlinewidth": 1,
             "tickcolor": "rgb(36,36,36)",
             "ticks": "outside"
            },
            "colorscale": [
             [
              0,
              "#440154"
             ],
             [
              0.1111111111111111,
              "#482878"
             ],
             [
              0.2222222222222222,
              "#3e4989"
             ],
             [
              0.3333333333333333,
              "#31688e"
             ],
             [
              0.4444444444444444,
              "#26828e"
             ],
             [
              0.5555555555555556,
              "#1f9e89"
             ],
             [
              0.6666666666666666,
              "#35b779"
             ],
             [
              0.7777777777777778,
              "#6ece58"
             ],
             [
              0.8888888888888888,
              "#b5de2b"
             ],
             [
              1,
              "#fde725"
             ]
            ],
            "type": "histogram2d"
           }
          ],
          "histogram2dcontour": [
           {
            "colorbar": {
             "outlinewidth": 1,
             "tickcolor": "rgb(36,36,36)",
             "ticks": "outside"
            },
            "colorscale": [
             [
              0,
              "#440154"
             ],
             [
              0.1111111111111111,
              "#482878"
             ],
             [
              0.2222222222222222,
              "#3e4989"
             ],
             [
              0.3333333333333333,
              "#31688e"
             ],
             [
              0.4444444444444444,
              "#26828e"
             ],
             [
              0.5555555555555556,
              "#1f9e89"
             ],
             [
              0.6666666666666666,
              "#35b779"
             ],
             [
              0.7777777777777778,
              "#6ece58"
             ],
             [
              0.8888888888888888,
              "#b5de2b"
             ],
             [
              1,
              "#fde725"
             ]
            ],
            "type": "histogram2dcontour"
           }
          ],
          "mesh3d": [
           {
            "colorbar": {
             "outlinewidth": 1,
             "tickcolor": "rgb(36,36,36)",
             "ticks": "outside"
            },
            "type": "mesh3d"
           }
          ],
          "parcoords": [
           {
            "line": {
             "colorbar": {
              "outlinewidth": 1,
              "tickcolor": "rgb(36,36,36)",
              "ticks": "outside"
             }
            },
            "type": "parcoords"
           }
          ],
          "pie": [
           {
            "automargin": true,
            "type": "pie"
           }
          ],
          "scatter": [
           {
            "fillpattern": {
             "fillmode": "overlay",
             "size": 10,
             "solidity": 0.2
            },
            "type": "scatter"
           }
          ],
          "scatter3d": [
           {
            "line": {
             "colorbar": {
              "outlinewidth": 1,
              "tickcolor": "rgb(36,36,36)",
              "ticks": "outside"
             }
            },
            "marker": {
             "colorbar": {
              "outlinewidth": 1,
              "tickcolor": "rgb(36,36,36)",
              "ticks": "outside"
             }
            },
            "type": "scatter3d"
           }
          ],
          "scattercarpet": [
           {
            "marker": {
             "colorbar": {
              "outlinewidth": 1,
              "tickcolor": "rgb(36,36,36)",
              "ticks": "outside"
             }
            },
            "type": "scattercarpet"
           }
          ],
          "scattergeo": [
           {
            "marker": {
             "colorbar": {
              "outlinewidth": 1,
              "tickcolor": "rgb(36,36,36)",
              "ticks": "outside"
             }
            },
            "type": "scattergeo"
           }
          ],
          "scattergl": [
           {
            "marker": {
             "colorbar": {
              "outlinewidth": 1,
              "tickcolor": "rgb(36,36,36)",
              "ticks": "outside"
             }
            },
            "type": "scattergl"
           }
          ],
          "scattermapbox": [
           {
            "marker": {
             "colorbar": {
              "outlinewidth": 1,
              "tickcolor": "rgb(36,36,36)",
              "ticks": "outside"
             }
            },
            "type": "scattermapbox"
           }
          ],
          "scatterpolar": [
           {
            "marker": {
             "colorbar": {
              "outlinewidth": 1,
              "tickcolor": "rgb(36,36,36)",
              "ticks": "outside"
             }
            },
            "type": "scatterpolar"
           }
          ],
          "scatterpolargl": [
           {
            "marker": {
             "colorbar": {
              "outlinewidth": 1,
              "tickcolor": "rgb(36,36,36)",
              "ticks": "outside"
             }
            },
            "type": "scatterpolargl"
           }
          ],
          "scatterternary": [
           {
            "marker": {
             "colorbar": {
              "outlinewidth": 1,
              "tickcolor": "rgb(36,36,36)",
              "ticks": "outside"
             }
            },
            "type": "scatterternary"
           }
          ],
          "surface": [
           {
            "colorbar": {
             "outlinewidth": 1,
             "tickcolor": "rgb(36,36,36)",
             "ticks": "outside"
            },
            "colorscale": [
             [
              0,
              "#440154"
             ],
             [
              0.1111111111111111,
              "#482878"
             ],
             [
              0.2222222222222222,
              "#3e4989"
             ],
             [
              0.3333333333333333,
              "#31688e"
             ],
             [
              0.4444444444444444,
              "#26828e"
             ],
             [
              0.5555555555555556,
              "#1f9e89"
             ],
             [
              0.6666666666666666,
              "#35b779"
             ],
             [
              0.7777777777777778,
              "#6ece58"
             ],
             [
              0.8888888888888888,
              "#b5de2b"
             ],
             [
              1,
              "#fde725"
             ]
            ],
            "type": "surface"
           }
          ],
          "table": [
           {
            "cells": {
             "fill": {
              "color": "rgb(237,237,237)"
             },
             "line": {
              "color": "white"
             }
            },
            "header": {
             "fill": {
              "color": "rgb(217,217,217)"
             },
             "line": {
              "color": "white"
             }
            },
            "type": "table"
           }
          ]
         },
         "layout": {
          "annotationdefaults": {
           "arrowhead": 0,
           "arrowwidth": 1
          },
          "autotypenumbers": "strict",
          "coloraxis": {
           "colorbar": {
            "outlinewidth": 1,
            "tickcolor": "rgb(36,36,36)",
            "ticks": "outside"
           }
          },
          "colorscale": {
           "diverging": [
            [
             0,
             "rgb(103,0,31)"
            ],
            [
             0.1,
             "rgb(178,24,43)"
            ],
            [
             0.2,
             "rgb(214,96,77)"
            ],
            [
             0.3,
             "rgb(244,165,130)"
            ],
            [
             0.4,
             "rgb(253,219,199)"
            ],
            [
             0.5,
             "rgb(247,247,247)"
            ],
            [
             0.6,
             "rgb(209,229,240)"
            ],
            [
             0.7,
             "rgb(146,197,222)"
            ],
            [
             0.8,
             "rgb(67,147,195)"
            ],
            [
             0.9,
             "rgb(33,102,172)"
            ],
            [
             1,
             "rgb(5,48,97)"
            ]
           ],
           "sequential": [
            [
             0,
             "#440154"
            ],
            [
             0.1111111111111111,
             "#482878"
            ],
            [
             0.2222222222222222,
             "#3e4989"
            ],
            [
             0.3333333333333333,
             "#31688e"
            ],
            [
             0.4444444444444444,
             "#26828e"
            ],
            [
             0.5555555555555556,
             "#1f9e89"
            ],
            [
             0.6666666666666666,
             "#35b779"
            ],
            [
             0.7777777777777778,
             "#6ece58"
            ],
            [
             0.8888888888888888,
             "#b5de2b"
            ],
            [
             1,
             "#fde725"
            ]
           ],
           "sequentialminus": [
            [
             0,
             "#440154"
            ],
            [
             0.1111111111111111,
             "#482878"
            ],
            [
             0.2222222222222222,
             "#3e4989"
            ],
            [
             0.3333333333333333,
             "#31688e"
            ],
            [
             0.4444444444444444,
             "#26828e"
            ],
            [
             0.5555555555555556,
             "#1f9e89"
            ],
            [
             0.6666666666666666,
             "#35b779"
            ],
            [
             0.7777777777777778,
             "#6ece58"
            ],
            [
             0.8888888888888888,
             "#b5de2b"
            ],
            [
             1,
             "#fde725"
            ]
           ]
          },
          "colorway": [
           "#1F77B4",
           "#FF7F0E",
           "#2CA02C",
           "#D62728",
           "#9467BD",
           "#8C564B",
           "#E377C2",
           "#7F7F7F",
           "#BCBD22",
           "#17BECF"
          ],
          "font": {
           "color": "rgb(36,36,36)"
          },
          "geo": {
           "bgcolor": "white",
           "lakecolor": "white",
           "landcolor": "white",
           "showlakes": true,
           "showland": true,
           "subunitcolor": "white"
          },
          "hoverlabel": {
           "align": "left"
          },
          "hovermode": "closest",
          "mapbox": {
           "style": "light"
          },
          "paper_bgcolor": "white",
          "plot_bgcolor": "white",
          "polar": {
           "angularaxis": {
            "gridcolor": "rgb(232,232,232)",
            "linecolor": "rgb(36,36,36)",
            "showgrid": false,
            "showline": true,
            "ticks": "outside"
           },
           "bgcolor": "white",
           "radialaxis": {
            "gridcolor": "rgb(232,232,232)",
            "linecolor": "rgb(36,36,36)",
            "showgrid": false,
            "showline": true,
            "ticks": "outside"
           }
          },
          "scene": {
           "xaxis": {
            "backgroundcolor": "white",
            "gridcolor": "rgb(232,232,232)",
            "gridwidth": 2,
            "linecolor": "rgb(36,36,36)",
            "showbackground": true,
            "showgrid": false,
            "showline": true,
            "ticks": "outside",
            "zeroline": false,
            "zerolinecolor": "rgb(36,36,36)"
           },
           "yaxis": {
            "backgroundcolor": "white",
            "gridcolor": "rgb(232,232,232)",
            "gridwidth": 2,
            "linecolor": "rgb(36,36,36)",
            "showbackground": true,
            "showgrid": false,
            "showline": true,
            "ticks": "outside",
            "zeroline": false,
            "zerolinecolor": "rgb(36,36,36)"
           },
           "zaxis": {
            "backgroundcolor": "white",
            "gridcolor": "rgb(232,232,232)",
            "gridwidth": 2,
            "linecolor": "rgb(36,36,36)",
            "showbackground": true,
            "showgrid": false,
            "showline": true,
            "ticks": "outside",
            "zeroline": false,
            "zerolinecolor": "rgb(36,36,36)"
           }
          },
          "shapedefaults": {
           "fillcolor": "black",
           "line": {
            "width": 0
           },
           "opacity": 0.3
          },
          "ternary": {
           "aaxis": {
            "gridcolor": "rgb(232,232,232)",
            "linecolor": "rgb(36,36,36)",
            "showgrid": false,
            "showline": true,
            "ticks": "outside"
           },
           "baxis": {
            "gridcolor": "rgb(232,232,232)",
            "linecolor": "rgb(36,36,36)",
            "showgrid": false,
            "showline": true,
            "ticks": "outside"
           },
           "bgcolor": "white",
           "caxis": {
            "gridcolor": "rgb(232,232,232)",
            "linecolor": "rgb(36,36,36)",
            "showgrid": false,
            "showline": true,
            "ticks": "outside"
           }
          },
          "title": {
           "x": 0.05
          },
          "xaxis": {
           "automargin": true,
           "gridcolor": "rgb(232,232,232)",
           "linecolor": "rgb(36,36,36)",
           "showgrid": false,
           "showline": true,
           "ticks": "outside",
           "title": {
            "standoff": 15
           },
           "zeroline": false,
           "zerolinecolor": "rgb(36,36,36)"
          },
          "yaxis": {
           "automargin": true,
           "gridcolor": "rgb(232,232,232)",
           "linecolor": "rgb(36,36,36)",
           "showgrid": false,
           "showline": true,
           "ticks": "outside",
           "title": {
            "standoff": 15
           },
           "zeroline": false,
           "zerolinecolor": "rgb(36,36,36)"
          }
         }
        },
        "title": {
         "font": {
          "color": "Black",
          "size": 22
         },
         "text": "<b>Topics over Time",
         "x": 0.4,
         "xanchor": "center",
         "y": 0.95,
         "yanchor": "top"
        },
        "width": 1250,
        "xaxis": {
         "showgrid": true
        },
        "yaxis": {
         "showgrid": true,
         "title": {
          "text": "Frequency"
         }
        }
       }
      },
      "text/html": [
       "<div>                            <div id=\"812b63aa-8de6-48a9-ac23-bd5769274e68\" class=\"plotly-graph-div\" style=\"height:450px; width:1250px;\"></div>            <script type=\"text/javascript\">                require([\"plotly\"], function(Plotly) {                    window.PLOTLYENV=window.PLOTLYENV || {};                                    if (document.getElementById(\"812b63aa-8de6-48a9-ac23-bd5769274e68\")) {                    Plotly.newPlot(                        \"812b63aa-8de6-48a9-ac23-bd5769274e68\",                        [{\"hoverinfo\":\"text\",\"hovertext\":[\"<b>Topic 0</b><br>Words: armee, russie, allemagne, europe, depeche\",\"<b>Topic 0</b><br>Words: tunisie, vallees, egypte, algerie, afrique\",\"<b>Topic 0</b><br>Words: gladstone, bulgarie, frontiere, toulon, allemagne\",\"<b>Topic 0</b><br>Words: allemagne, bismarck, rome, egypte, reichstag\",\"<b>Topic 0</b><br>Words: russie, etats unis, europe, allemagne, espagne\",\"<b>Topic 0</b><br>Words: boers, russie, angleterre, armee, afrique\",\"<b>Topic 0</b><br>Words: allemagne, douma, petersbourg, russie, saint petersbourg\",\"<b>Topic 0</b><br>Words: fallieres, savoie, assemblee, bulgarie, corps armee\"],\"marker\":{\"color\":\"#E69F00\"},\"mode\":\"lines\",\"name\":\"0_allemagne_russie_armee_europe\",\"x\":[\"1870-1875\",\"1875-1880\",\"1880-1885\",\"1885-1890\",\"1890-1895\",\"1895-1900\",\"1900-1905\",\"1905-1910\"],\"y\":[76,29,37,85,118,93,125,20],\"type\":\"scatter\"},{\"hoverinfo\":\"text\",\"hovertext\":[\"<b>Topic 1</b><br>Words: siecles, lumiere, liberte, pensee, triomphera\",\"<b>Topic 1</b><br>Words: democratie, cube, penseur, egalite, michelet\",\"<b>Topic 1</b><br>Words: bruxelles, verites, foyer, progres sciences, moderne\",\"<b>Topic 1</b><br>Words: jeunesse, humanite, idees, ames, intelligences\",\"<b>Topic 1</b><br>Words: egoisme, generation, vehicules, eternel, actualite\",\"<b>Topic 1</b><br>Words: humanite, locomotion, eloquence, humaine, ideal\",\"<b>Topic 1</b><br>Words: bonte, humanite, etres, generations, sens\",\"<b>Topic 1</b><br>Words: poetes, greves, tour tour, tradition, greve\"],\"marker\":{\"color\":\"#56B4E9\"},\"mode\":\"lines\",\"name\":\"1_humanite_ames_lumiere_siecles\",\"x\":[\"1870-1875\",\"1875-1880\",\"1880-1885\",\"1885-1890\",\"1890-1895\",\"1895-1900\",\"1900-1905\",\"1905-1910\"],\"y\":[60,30,5,37,36,48,64,9],\"type\":\"scatter\"},{\"hoverinfo\":\"text\",\"hovertext\":[\"<b>Topic 2</b><br>Words: etes, voulez, vois, bonheur, main\",\"<b>Topic 2</b><br>Words: etes, veux, mere, aime, notaire\",\"<b>Topic 2</b><br>Words: ferry, christophe colomb, lady, paul bert, christophe\",\"<b>Topic 2</b><br>Words: etes, aime, mere, ferry, pole nord\",\"<b>Topic 2</b><br>Words: vois, mere, felix faure, depute, c\\u0153ur\",\"<b>Topic 2</b><br>Words: veux, etes, repondit, laissez, alle\",\"<b>Topic 2</b><br>Words: revoir, aime, helene, etes, madame\",\"<b>Topic 2</b><br>Words: protegera, competentes, temperature, empechera, autorites\"],\"marker\":{\"color\":\"#009E73\"},\"mode\":\"lines\",\"name\":\"2_etes_veux_voulez_aime\",\"x\":[\"1870-1875\",\"1875-1880\",\"1880-1885\",\"1885-1890\",\"1890-1895\",\"1895-1900\",\"1900-1905\",\"1905-1910\"],\"y\":[138,69,12,37,65,68,61,6],\"type\":\"scatter\"},{\"hoverinfo\":\"text\",\"hovertext\":[\"<b>Topic 3</b><br>Words: centre gauche, dufaure, assemblee, republicaine, jules simon\",\"<b>Topic 3</b><br>Words: grevy, ferry, freycinet, ministere, jules ferry\",\"<b>Topic 3</b><br>Words: elections, republicains, grevy, freycinet, republicaine\",\"<b>Topic 3</b><br>Words: koch, sieges, clemenceau, hopital, republicains\",\"<b>Topic 3</b><br>Words: ministere, dreyfus, senateurs, evite, moderes\",\"<b>Topic 3</b><br>Words: cents millions, detail, penseurs, majorite, resolues\",\"<b>Topic 3</b><br>Words: delegation, buisson, scrutin liste, elevage, scrutin arrondissement\",\"<b>Topic 3</b><br>Words: berenger, barthou, jaures, renouvelee, vient mourir\"],\"marker\":{\"color\":\"#F0E442\"},\"mode\":\"lines\",\"name\":\"3_ministere_grevy_centre gauche_republic...\",\"x\":[\"1870-1875\",\"1875-1880\",\"1880-1885\",\"1885-1890\",\"1890-1895\",\"1895-1900\",\"1900-1905\",\"1905-1910\"],\"y\":[106,48,21,23,31,25,23,9],\"type\":\"scatter\"},{\"hoverinfo\":\"text\",\"hovertext\":[\"<b>Topic 4</b><br>Words: predecesseur, qu juge, patronage, musicale, trocadero\",\"<b>Topic 4</b><br>Words: gymnase, henri iv, montigny, toilette, amitie\",\"<b>Topic 4</b><br>Words: levy, academie, milne edwards, edwards, armee marine\",\"<b>Topic 4</b><br>Words: societaires, grand amphitheatre, federation, gare saint lazare, gare saint\",\"<b>Topic 4</b><br>Words: academie, societes savantes, beaux arts, societes, presidee\",\"<b>Topic 4</b><br>Words: academie, conference, conferences, eveque, institut france\",\"<b>Topic 4</b><br>Words: academie, universite, faculte sciences, aero, beaux arts\",\"<b>Topic 4</b><br>Words: prudhomme, academie, sully, faculte sciences, saint honore\"],\"marker\":{\"color\":\"#D55E00\"},\"mode\":\"lines\",\"name\":\"4_academie_beaux arts_institut france_ac...\",\"x\":[\"1870-1875\",\"1875-1880\",\"1880-1885\",\"1885-1890\",\"1890-1895\",\"1895-1900\",\"1900-1905\",\"1905-1910\"],\"y\":[5,6,2,9,26,27,32,8],\"type\":\"scatter\"},{\"hoverinfo\":\"text\",\"hovertext\":[\"<b>Topic 5</b><br>Words: prusse, marechal, recolte, stabilite, paris ville\",\"<b>Topic 5</b><br>Words: chretienne, bonne volonte, federation, clerge, pole\",\"<b>Topic 5</b><br>Words: cherchera, dresde, jurys, trainer, siegeront\",\"<b>Topic 5</b><br>Words: lesseps, societe lettres, russie, libertes, supreme\",\"<b>Topic 5</b><br>Words: conquetes, genie, generations, glorieuses, lumiere\",\"<b>Topic 5</b><br>Words: auvergne, combes, republicaines, republique, generations\",\"<b>Topic 5</b><br>Words: republique francaise, progres justice, voie progres, hospitalite, abime\",\"<b>Topic 5</b><br>Words: deroulede, developpant, nouvelles generations, continents, navigation aerienne\"],\"marker\":{\"color\":\"#0072B2\"},\"mode\":\"lines\",\"name\":\"5_grandeur_reconnaissance_humanite_appla...\",\"x\":[\"1870-1875\",\"1875-1880\",\"1880-1885\",\"1885-1890\",\"1890-1895\",\"1895-1900\",\"1900-1905\",\"1905-1910\"],\"y\":[22,7,4,13,22,26,17,4],\"type\":\"scatter\"},{\"hoverinfo\":\"text\",\"hovertext\":[\"<b>Topic 6</b><br>Words: president republique, monsieur president, assemblee, paris ville, republique\",\"<b>Topic 6</b><br>Words: evolution, tranquillite, qu compter, solidite, grands progres\",\"<b>Topic 6</b><br>Words: resident general, grand pere, majeste, president republique, resident\",\"<b>Topic 6</b><br>Words: prospere, president republique, carnot, recompense, russie\",\"<b>Topic 6</b><br>Words: president republique, republique, rambouillet, monsieur president, repondu\",\"<b>Topic 6</b><br>Words: president republique, majeste, republique, gouvernement republique, prosperite\",\"<b>Topic 6</b><br>Words: monsieur president, majeste, president republique, prosperite, amitie\",\"<b>Topic 6</b><br>Words: sahara, saint georges, place saint, rambouillet, president republique\"],\"marker\":{\"color\":\"#CC79A7\"},\"mode\":\"lines\",\"name\":\"6_president republique_monsieur presiden...\",\"x\":[\"1870-1875\",\"1875-1880\",\"1880-1885\",\"1885-1890\",\"1890-1895\",\"1895-1900\",\"1900-1905\",\"1905-1910\"],\"y\":[17,3,4,6,20,24,32,4],\"type\":\"scatter\"},{\"hoverinfo\":\"text\",\"hovertext\":[\"<b>Topic 7</b><br>Words: deliberation, rapporteur, assemblee, projet, bancs\",\"<b>Topic 7</b><br>Words: grandes compagnies, waddington, epidemie, refusera, voulez\",\"<b>Topic 7</b><br>Words: fondamentales, espagne, octroyer, epique, intitulee\",\"<b>Topic 7</b><br>Words: batie, jures, faut donner, avenir dira, bancs\",\"<b>Topic 7</b><br>Words: jaures, extreme gauche, cochery, corse, brest\",\"<b>Topic 7</b><br>Words: leroy, reponse, remedier, ecole normale, prefet seine\",\"<b>Topic 7</b><br>Words: viviani, ribot, barthou, extreme gauche, strauss\",\"<b>Topic 7</b><br>Words: discours ete, vie parisienne, societes secours, societes secours mutuels, repercussion\"],\"marker\":{\"color\":\"#E69F00\"},\"mode\":\"lines\",\"name\":\"7_bancs_amendement_rapporteur_extreme ga...\",\"x\":[\"1870-1875\",\"1875-1880\",\"1880-1885\",\"1885-1890\",\"1890-1895\",\"1895-1900\",\"1900-1905\",\"1905-1910\"],\"y\":[23,9,4,8,19,7,21,4],\"type\":\"scatter\"},{\"hoverinfo\":\"text\",\"hovertext\":[\"<b>Topic 8</b><br>Words: jury, jouiront, agriculture commerce, categories, ministre agriculture\",\"<b>Topic 8</b><br>Words: denombrement, telegrammes, medaille, bureau, masculin\",\"<b>Topic 8</b><br>Words: entrees, decret, conseil ordre, deliberations, legion\",\"<b>Topic 8</b><br>Words: numeros, eleves, universitaire, concours, tirage sort\",\"<b>Topic 8</b><br>Words: classement, examens, eleves, temoins, concours\",\"<b>Topic 8</b><br>Words: edifices, castellane, communes, defaut, departements\",\"<b>Topic 8</b><br>Words: telephones, professorat, privee, superieures, capacite\"],\"marker\":{\"color\":\"#56B4E9\"},\"mode\":\"lines\",\"name\":\"8_jury_decret_etablissements_jouiront\",\"x\":[\"1870-1875\",\"1875-1880\",\"1885-1890\",\"1890-1895\",\"1895-1900\",\"1900-1905\",\"1905-1910\"],\"y\":[21,10,5,10,6,11,4],\"type\":\"scatter\"},{\"hoverinfo\":\"text\",\"hovertext\":[\"<b>Topic 9</b><br>Words: chemins fer, chemins, chemin fer, navigation, reliera\",\"<b>Topic 9</b><br>Words: republique argentine, jesuites, tunisie, abandonnee, chemins fer\",\"<b>Topic 9</b><br>Words: procedes, combine, eiffel, etages, entrainerait\",\"<b>Topic 9</b><br>Words: chemins fer, anvers, chemin fer, ports, courbevoie\",\"<b>Topic 9</b><br>Words: chemins fer, chemins, tonkin, chemin fer, routes\",\"<b>Topic 9</b><br>Words: chemins fer, chemin fer, tananarive, algerie, voies ferrees\",\"<b>Topic 9</b><br>Words: chemin fer, chemins, chemins fer, aires, ports\",\"<b>Topic 9</b><br>Words: chemins fer, chemins, chemin fer, jeanne, voies ferrees\"],\"marker\":{\"color\":\"#009E73\"},\"mode\":\"lines\",\"name\":\"9_chemins fer_chemins_chemin fer_ports\",\"x\":[\"1870-1875\",\"1875-1880\",\"1880-1885\",\"1885-1890\",\"1890-1895\",\"1895-1900\",\"1900-1905\",\"1905-1910\"],\"y\":[16,4,1,8,12,15,31,9],\"type\":\"scatter\"},{\"hoverinfo\":\"text\",\"hovertext\":[\"<b>Topic 10</b><br>Words: theatre, sarah, opera comique, opera, mme\",\"<b>Topic 10</b><br>Words: matinees, sarah, gymnase, theatre, the\",\"<b>Topic 10</b><br>Words: mise scene, repetition, sardou, sarah, comedie francaise\",\"<b>Topic 10</b><br>Words: comedie, editeur, chatelet, biere, societaires\",\"<b>Topic 10</b><br>Words: creations, mme, mlle, cesar, fetes\",\"<b>Topic 10</b><br>Words: theatre, comedie, tournee, comediens, opera comique\",\"<b>Topic 10</b><br>Words: comedie, theatre, carlo, mmes, prince monaco\",\"<b>Topic 10</b><br>Words: alfred capus, porte saint, chatelet, capus, theatre\"],\"marker\":{\"color\":\"#F0E442\"},\"mode\":\"lines\",\"name\":\"10_theatre_comedie_sarah_opera comique\",\"x\":[\"1870-1875\",\"1875-1880\",\"1880-1885\",\"1885-1890\",\"1890-1895\",\"1895-1900\",\"1900-1905\",\"1905-1910\"],\"y\":[17,5,4,6,5,10,12,2],\"type\":\"scatter\"},{\"hoverinfo\":\"text\",\"hovertext\":[\"<b>Topic 13</b><br>Words: appel peuple, mm jules, protege, temoigne, fenetres\",\"<b>Topic 13</b><br>Words: depute, echelle, eleves, deputes, qu soient\",\"<b>Topic 13</b><br>Words: qu prise, depenses qu, collegiens, materielles, tombee\",\"<b>Topic 13</b><br>Words: millions hommes, lepine, diametre, cesar, fin siecle\",\"<b>Topic 13</b><br>Words: baton, pole nord, banque france, sceptre, cuir\",\"<b>Topic 13</b><br>Words: martinique, imprime, caracteres, coquelin, publicite\",\"<b>Topic 13</b><br>Words: antin, aeriennes, legumes, pensera, impot revenu\",\"<b>Topic 13</b><br>Words: libertes, employe, indiscretion, assurerait, prealablement\"],\"marker\":{\"color\":\"#D55E00\"},\"mode\":\"lines\",\"name\":\"13_baton_cafe_decors_qu fera\",\"x\":[\"1870-1875\",\"1875-1880\",\"1880-1885\",\"1885-1890\",\"1890-1895\",\"1895-1900\",\"1900-1905\",\"1905-1910\"],\"y\":[14,7,3,7,12,9,11,2],\"type\":\"scatter\"},{\"hoverinfo\":\"text\",\"hovertext\":[\"<b>Topic 15</b><br>Words: saintete, suffrage universel, cri, mac mahon, libertes\",\"<b>Topic 15</b><br>Words: modere, sauvera, resister, revolutionnaires, decheance\",\"<b>Topic 15</b><br>Words: qu laisse, entraine, vie parlementaire, moment exposition, jeunes generations\",\"<b>Topic 15</b><br>Words: menages, avez bien, desordre, assurement, faire rentrer\",\"<b>Topic 15</b><br>Words: temoins, connaitront, jaures, bien donner, chimeres\",\"<b>Topic 15</b><br>Words: energie, present avenir, consequence, habilete, jaures\",\"<b>Topic 15</b><br>Words: bois boulogne, boulogne, musset, methodique, collegiens\",\"<b>Topic 15</b><br>Words: heroique, guillaume ii, paul cassagnac, impunement, probite\"],\"marker\":{\"color\":\"#0072B2\"},\"mode\":\"lines\",\"name\":\"15_jaures_suffrage universel_temoins_lib...\",\"x\":[\"1870-1875\",\"1875-1880\",\"1880-1885\",\"1885-1890\",\"1890-1895\",\"1895-1900\",\"1900-1905\",\"1905-1910\"],\"y\":[22,7,6,6,14,12,17,3],\"type\":\"scatter\"},{\"hoverinfo\":\"text\",\"hovertext\":[\"<b>Topic 17</b><br>Words: numero, negociant, mettrons, edition, publicite\",\"<b>Topic 17</b><br>Words: edition, mlles, forum, desole, assistance publique\",\"<b>Topic 17</b><br>Words: grandes compagnies, alpes, sieges, chimere, lockroy\",\"<b>Topic 17</b><br>Words: jouet, liberes, henry, mise valeur, armee marine\",\"<b>Topic 17</b><br>Words: voyage, couronner, vois, celibataire, faut oublier\",\"<b>Topic 17</b><br>Words: conquise, peres, maitresses, beaute, gironde\",\"<b>Topic 17</b><br>Words: beaucoup argent, ideal, garcons, c\\u0153ur, docteur cook\",\"<b>Topic 17</b><br>Words: laurent, aeroplanes, aeroplane, defile, mlle\"],\"marker\":{\"color\":\"#CC79A7\"},\"mode\":\"lines\",\"name\":\"17_victor_petites_peres_numero\",\"x\":[\"1870-1875\",\"1875-1880\",\"1880-1885\",\"1885-1890\",\"1890-1895\",\"1895-1900\",\"1900-1905\",\"1905-1910\"],\"y\":[45,15,9,25,27,26,24,8],\"type\":\"scatter\"},{\"hoverinfo\":\"text\",\"hovertext\":[\"<b>Topic 20</b><br>Words: majorite, commission budget, legende, deputes, membre institut\",\"<b>Topic 20</b><br>Words: mathematiques, pantheon, paul bert, archeveque, eveques\",\"<b>Topic 20</b><br>Words: doute fort, coute cher, chambre projet, faut resigner, qu coute\",\"<b>Topic 20</b><br>Words: bureaux, 000 hommes, jules roche, meline, centraliser\",\"<b>Topic 20</b><br>Words: loi finances, lockroy, deputes, decret, projet\",\"<b>Topic 20</b><br>Words: commission budget, saint cyr, commission enquete, debat, hemery\",\"<b>Topic 20</b><br>Words: commission budget, separation, ministre marine, ministre finances, credits\",\"<b>Topic 20</b><br>Words: selves, realisee, ministere interieur, reforme, bien pays\"],\"marker\":{\"color\":\"#E69F00\"},\"mode\":\"lines\",\"name\":\"20_projet_commission budget_projet loi_f...\",\"x\":[\"1870-1875\",\"1875-1880\",\"1880-1885\",\"1885-1890\",\"1890-1895\",\"1895-1900\",\"1900-1905\",\"1905-1910\"],\"y\":[23,7,3,11,20,23,28,4],\"type\":\"scatter\"},{\"hoverinfo\":\"text\",\"hovertext\":[\"<b>Topic 26</b><br>Words: laiques, colleges, laique, charite, question point\",\"<b>Topic 26</b><br>Words: economie temps, garcons filles, quia besoin, bossuet, manier\",\"<b>Topic 26</b><br>Words: qu ici, ministere instruction publique, ministere instruction, grand honneur, avenir present\",\"<b>Topic 26</b><br>Words: cas guerre, ecoles, ingenieurs, developpe, siegfried\",\"<b>Topic 26</b><br>Words: lycees, dernieres annees, ecoles, eleves, education\",\"<b>Topic 26</b><br>Words: leygues, baccalaureat, ecoles, education, latin\",\"<b>Topic 26</b><br>Words: enseignement, ecoles, education, facultes, jamais trop\",\"<b>Topic 26</b><br>Words: etudieront, large mesure, breslau, prononce discours, elevant\"],\"marker\":{\"color\":\"#56B4E9\"},\"mode\":\"lines\",\"name\":\"26_enseignement_ecoles_education_college...\",\"x\":[\"1870-1875\",\"1875-1880\",\"1880-1885\",\"1885-1890\",\"1890-1895\",\"1895-1900\",\"1900-1905\",\"1905-1910\"],\"y\":[3,4,1,4,14,20,12,1],\"type\":\"scatter\"},{\"hoverinfo\":\"text\",\"hovertext\":[\"<b>Topic 27</b><br>Words: obligation, tramways, capital, 000 fr, francs an\",\"<b>Topic 27</b><br>Words: 000 fr, 000 francs, assurance, assurances, 10 000\",\"<b>Topic 27</b><br>Words: 20 millions, millions, 600 000, edison, millions francs\",\"<b>Topic 27</b><br>Words: depense, album, carnaval, complementaire, repetition\",\"<b>Topic 27</b><br>Words: 000 francs, depenses, voiture, millions, millions francs\",\"<b>Topic 27</b><br>Words: 000 francs, 100 000 francs, assurances, equitable, revenu\",\"<b>Topic 27</b><br>Words: 000 francs, millions, francs somme, depense, duval\",\"<b>Topic 27</b><br>Words: credit foncier, francs qu, feminine, moitie, reparation\"],\"marker\":{\"color\":\"#009E73\"},\"mode\":\"lines\",\"name\":\"27_000 francs_000 fr_millions_100 000 fr...\",\"x\":[\"1870-1875\",\"1875-1880\",\"1880-1885\",\"1885-1890\",\"1890-1895\",\"1895-1900\",\"1900-1905\",\"1905-1910\"],\"y\":[21,13,6,7,17,24,27,4],\"type\":\"scatter\"},{\"hoverinfo\":\"text\",\"hovertext\":[\"<b>Topic 32</b><br>Words: maintenu, obligatoire, ans ans, service obligatoire, alsaciens\",\"<b>Topic 32</b><br>Words: carrieres, service ans, instruction, appelons, regiment\",\"<b>Topic 32</b><br>Words: alphand, mecaniques, qu dise, tonkin, paris faire\",\"<b>Topic 32</b><br>Words: compagnie gaz, of, rhetorique, mathematiques, comite\",\"<b>Topic 32</b><br>Words: major general, spencer, galerie machines, artistes francais, vice amiral\",\"<b>Topic 32</b><br>Words: ans mois, considere, actif, classe, regiments\",\"<b>Topic 32</b><br>Words: prophetes, egypte, fin monde, photographiques, becquerel\",\"<b>Topic 32</b><br>Words: dion, echafaudages, jacques, arreter, voiture\"],\"marker\":{\"color\":\"#F0E442\"},\"mode\":\"lines\",\"name\":\"32_major general_ans ans_obligatoire_ser...\",\"x\":[\"1870-1875\",\"1875-1880\",\"1880-1885\",\"1885-1890\",\"1890-1895\",\"1895-1900\",\"1900-1905\",\"1905-1910\"],\"y\":[10,11,4,7,14,11,10,4],\"type\":\"scatter\"},{\"hoverinfo\":\"text\",\"hovertext\":[\"<b>Topic 36</b><br>Words: boulet, republicains, theatres, reveler, murmures\",\"<b>Topic 36</b><br>Words: gabrielle, telephonique, persecution, situee, soirees\",\"<b>Topic 36</b><br>Words: nombre membres, qu venait, lustre, grand jour, adopteront\",\"<b>Topic 36</b><br>Words: varietes, execution, annuites, financiere, congo\",\"<b>Topic 36</b><br>Words: orleans, chomage, qu rende, humanites, creanciers\",\"<b>Topic 36</b><br>Words: mortalite, progres materiel, conseil ordre, berne, andre beaunier\",\"<b>Topic 36</b><br>Words: eclipse, grevistes, traversee, progres materiel, miss\",\"<b>Topic 36</b><br>Words: desert, adeptes, attirera, navigation aerienne, imprevue\"],\"marker\":{\"color\":\"#D55E00\"},\"mode\":\"lines\",\"name\":\"36_eclipse_orleans_progres materiel_exec...\",\"x\":[\"1870-1875\",\"1875-1880\",\"1880-1885\",\"1885-1890\",\"1890-1895\",\"1895-1900\",\"1900-1905\",\"1905-1910\"],\"y\":[18,13,3,8,21,19,23,4],\"type\":\"scatter\"},{\"hoverinfo\":\"text\",\"hovertext\":[\"<b>Topic 38</b><br>Words: plebiscitaire, feu, precieuses, vive, rapidite\",\"<b>Topic 38</b><br>Words: couleur, declarations, appelee, municipalites, estpas trop\",\"<b>Topic 38</b><br>Words: americain, funerailles, voit bien, succombera, qu fin\",\"<b>Topic 38</b><br>Words: koch, docteur koch, cholera, docteur, medical\",\"<b>Topic 38</b><br>Words: microbe, sevres, prejuge, medecin, therapeutique\",\"<b>Topic 38</b><br>Words: serum, ministre marine, detruire, dument, docteur koch\",\"<b>Topic 38</b><br>Words: vallee, remede, ete donne, methode, perfectionne\",\"<b>Topic 38</b><br>Words: typhoide, dument, etudier question, moyen faire, temps faire\"],\"marker\":{\"color\":\"#0072B2\"},\"mode\":\"lines\",\"name\":\"38_remede_docteur koch_microbe_typhoide\",\"x\":[\"1870-1875\",\"1875-1880\",\"1880-1885\",\"1885-1890\",\"1890-1895\",\"1895-1900\",\"1900-1905\",\"1905-1910\"],\"y\":[6,6,4,7,10,6,10,3],\"type\":\"scatter\"}],                        {\"template\":{\"data\":{\"barpolar\":[{\"marker\":{\"line\":{\"color\":\"white\",\"width\":0.5},\"pattern\":{\"fillmode\":\"overlay\",\"size\":10,\"solidity\":0.2}},\"type\":\"barpolar\"}],\"bar\":[{\"error_x\":{\"color\":\"rgb(36,36,36)\"},\"error_y\":{\"color\":\"rgb(36,36,36)\"},\"marker\":{\"line\":{\"color\":\"white\",\"width\":0.5},\"pattern\":{\"fillmode\":\"overlay\",\"size\":10,\"solidity\":0.2}},\"type\":\"bar\"}],\"carpet\":[{\"aaxis\":{\"endlinecolor\":\"rgb(36,36,36)\",\"gridcolor\":\"white\",\"linecolor\":\"white\",\"minorgridcolor\":\"white\",\"startlinecolor\":\"rgb(36,36,36)\"},\"baxis\":{\"endlinecolor\":\"rgb(36,36,36)\",\"gridcolor\":\"white\",\"linecolor\":\"white\",\"minorgridcolor\":\"white\",\"startlinecolor\":\"rgb(36,36,36)\"},\"type\":\"carpet\"}],\"choropleth\":[{\"colorbar\":{\"outlinewidth\":1,\"tickcolor\":\"rgb(36,36,36)\",\"ticks\":\"outside\"},\"type\":\"choropleth\"}],\"contourcarpet\":[{\"colorbar\":{\"outlinewidth\":1,\"tickcolor\":\"rgb(36,36,36)\",\"ticks\":\"outside\"},\"type\":\"contourcarpet\"}],\"contour\":[{\"colorbar\":{\"outlinewidth\":1,\"tickcolor\":\"rgb(36,36,36)\",\"ticks\":\"outside\"},\"colorscale\":[[0.0,\"#440154\"],[0.1111111111111111,\"#482878\"],[0.2222222222222222,\"#3e4989\"],[0.3333333333333333,\"#31688e\"],[0.4444444444444444,\"#26828e\"],[0.5555555555555556,\"#1f9e89\"],[0.6666666666666666,\"#35b779\"],[0.7777777777777778,\"#6ece58\"],[0.8888888888888888,\"#b5de2b\"],[1.0,\"#fde725\"]],\"type\":\"contour\"}],\"heatmapgl\":[{\"colorbar\":{\"outlinewidth\":1,\"tickcolor\":\"rgb(36,36,36)\",\"ticks\":\"outside\"},\"colorscale\":[[0.0,\"#440154\"],[0.1111111111111111,\"#482878\"],[0.2222222222222222,\"#3e4989\"],[0.3333333333333333,\"#31688e\"],[0.4444444444444444,\"#26828e\"],[0.5555555555555556,\"#1f9e89\"],[0.6666666666666666,\"#35b779\"],[0.7777777777777778,\"#6ece58\"],[0.8888888888888888,\"#b5de2b\"],[1.0,\"#fde725\"]],\"type\":\"heatmapgl\"}],\"heatmap\":[{\"colorbar\":{\"outlinewidth\":1,\"tickcolor\":\"rgb(36,36,36)\",\"ticks\":\"outside\"},\"colorscale\":[[0.0,\"#440154\"],[0.1111111111111111,\"#482878\"],[0.2222222222222222,\"#3e4989\"],[0.3333333333333333,\"#31688e\"],[0.4444444444444444,\"#26828e\"],[0.5555555555555556,\"#1f9e89\"],[0.6666666666666666,\"#35b779\"],[0.7777777777777778,\"#6ece58\"],[0.8888888888888888,\"#b5de2b\"],[1.0,\"#fde725\"]],\"type\":\"heatmap\"}],\"histogram2dcontour\":[{\"colorbar\":{\"outlinewidth\":1,\"tickcolor\":\"rgb(36,36,36)\",\"ticks\":\"outside\"},\"colorscale\":[[0.0,\"#440154\"],[0.1111111111111111,\"#482878\"],[0.2222222222222222,\"#3e4989\"],[0.3333333333333333,\"#31688e\"],[0.4444444444444444,\"#26828e\"],[0.5555555555555556,\"#1f9e89\"],[0.6666666666666666,\"#35b779\"],[0.7777777777777778,\"#6ece58\"],[0.8888888888888888,\"#b5de2b\"],[1.0,\"#fde725\"]],\"type\":\"histogram2dcontour\"}],\"histogram2d\":[{\"colorbar\":{\"outlinewidth\":1,\"tickcolor\":\"rgb(36,36,36)\",\"ticks\":\"outside\"},\"colorscale\":[[0.0,\"#440154\"],[0.1111111111111111,\"#482878\"],[0.2222222222222222,\"#3e4989\"],[0.3333333333333333,\"#31688e\"],[0.4444444444444444,\"#26828e\"],[0.5555555555555556,\"#1f9e89\"],[0.6666666666666666,\"#35b779\"],[0.7777777777777778,\"#6ece58\"],[0.8888888888888888,\"#b5de2b\"],[1.0,\"#fde725\"]],\"type\":\"histogram2d\"}],\"histogram\":[{\"marker\":{\"line\":{\"color\":\"white\",\"width\":0.6}},\"type\":\"histogram\"}],\"mesh3d\":[{\"colorbar\":{\"outlinewidth\":1,\"tickcolor\":\"rgb(36,36,36)\",\"ticks\":\"outside\"},\"type\":\"mesh3d\"}],\"parcoords\":[{\"line\":{\"colorbar\":{\"outlinewidth\":1,\"tickcolor\":\"rgb(36,36,36)\",\"ticks\":\"outside\"}},\"type\":\"parcoords\"}],\"pie\":[{\"automargin\":true,\"type\":\"pie\"}],\"scatter3d\":[{\"line\":{\"colorbar\":{\"outlinewidth\":1,\"tickcolor\":\"rgb(36,36,36)\",\"ticks\":\"outside\"}},\"marker\":{\"colorbar\":{\"outlinewidth\":1,\"tickcolor\":\"rgb(36,36,36)\",\"ticks\":\"outside\"}},\"type\":\"scatter3d\"}],\"scattercarpet\":[{\"marker\":{\"colorbar\":{\"outlinewidth\":1,\"tickcolor\":\"rgb(36,36,36)\",\"ticks\":\"outside\"}},\"type\":\"scattercarpet\"}],\"scattergeo\":[{\"marker\":{\"colorbar\":{\"outlinewidth\":1,\"tickcolor\":\"rgb(36,36,36)\",\"ticks\":\"outside\"}},\"type\":\"scattergeo\"}],\"scattergl\":[{\"marker\":{\"colorbar\":{\"outlinewidth\":1,\"tickcolor\":\"rgb(36,36,36)\",\"ticks\":\"outside\"}},\"type\":\"scattergl\"}],\"scattermapbox\":[{\"marker\":{\"colorbar\":{\"outlinewidth\":1,\"tickcolor\":\"rgb(36,36,36)\",\"ticks\":\"outside\"}},\"type\":\"scattermapbox\"}],\"scatterpolargl\":[{\"marker\":{\"colorbar\":{\"outlinewidth\":1,\"tickcolor\":\"rgb(36,36,36)\",\"ticks\":\"outside\"}},\"type\":\"scatterpolargl\"}],\"scatterpolar\":[{\"marker\":{\"colorbar\":{\"outlinewidth\":1,\"tickcolor\":\"rgb(36,36,36)\",\"ticks\":\"outside\"}},\"type\":\"scatterpolar\"}],\"scatter\":[{\"fillpattern\":{\"fillmode\":\"overlay\",\"size\":10,\"solidity\":0.2},\"type\":\"scatter\"}],\"scatterternary\":[{\"marker\":{\"colorbar\":{\"outlinewidth\":1,\"tickcolor\":\"rgb(36,36,36)\",\"ticks\":\"outside\"}},\"type\":\"scatterternary\"}],\"surface\":[{\"colorbar\":{\"outlinewidth\":1,\"tickcolor\":\"rgb(36,36,36)\",\"ticks\":\"outside\"},\"colorscale\":[[0.0,\"#440154\"],[0.1111111111111111,\"#482878\"],[0.2222222222222222,\"#3e4989\"],[0.3333333333333333,\"#31688e\"],[0.4444444444444444,\"#26828e\"],[0.5555555555555556,\"#1f9e89\"],[0.6666666666666666,\"#35b779\"],[0.7777777777777778,\"#6ece58\"],[0.8888888888888888,\"#b5de2b\"],[1.0,\"#fde725\"]],\"type\":\"surface\"}],\"table\":[{\"cells\":{\"fill\":{\"color\":\"rgb(237,237,237)\"},\"line\":{\"color\":\"white\"}},\"header\":{\"fill\":{\"color\":\"rgb(217,217,217)\"},\"line\":{\"color\":\"white\"}},\"type\":\"table\"}]},\"layout\":{\"annotationdefaults\":{\"arrowhead\":0,\"arrowwidth\":1},\"autotypenumbers\":\"strict\",\"coloraxis\":{\"colorbar\":{\"outlinewidth\":1,\"tickcolor\":\"rgb(36,36,36)\",\"ticks\":\"outside\"}},\"colorscale\":{\"diverging\":[[0.0,\"rgb(103,0,31)\"],[0.1,\"rgb(178,24,43)\"],[0.2,\"rgb(214,96,77)\"],[0.3,\"rgb(244,165,130)\"],[0.4,\"rgb(253,219,199)\"],[0.5,\"rgb(247,247,247)\"],[0.6,\"rgb(209,229,240)\"],[0.7,\"rgb(146,197,222)\"],[0.8,\"rgb(67,147,195)\"],[0.9,\"rgb(33,102,172)\"],[1.0,\"rgb(5,48,97)\"]],\"sequential\":[[0.0,\"#440154\"],[0.1111111111111111,\"#482878\"],[0.2222222222222222,\"#3e4989\"],[0.3333333333333333,\"#31688e\"],[0.4444444444444444,\"#26828e\"],[0.5555555555555556,\"#1f9e89\"],[0.6666666666666666,\"#35b779\"],[0.7777777777777778,\"#6ece58\"],[0.8888888888888888,\"#b5de2b\"],[1.0,\"#fde725\"]],\"sequentialminus\":[[0.0,\"#440154\"],[0.1111111111111111,\"#482878\"],[0.2222222222222222,\"#3e4989\"],[0.3333333333333333,\"#31688e\"],[0.4444444444444444,\"#26828e\"],[0.5555555555555556,\"#1f9e89\"],[0.6666666666666666,\"#35b779\"],[0.7777777777777778,\"#6ece58\"],[0.8888888888888888,\"#b5de2b\"],[1.0,\"#fde725\"]]},\"colorway\":[\"#1F77B4\",\"#FF7F0E\",\"#2CA02C\",\"#D62728\",\"#9467BD\",\"#8C564B\",\"#E377C2\",\"#7F7F7F\",\"#BCBD22\",\"#17BECF\"],\"font\":{\"color\":\"rgb(36,36,36)\"},\"geo\":{\"bgcolor\":\"white\",\"lakecolor\":\"white\",\"landcolor\":\"white\",\"showlakes\":true,\"showland\":true,\"subunitcolor\":\"white\"},\"hoverlabel\":{\"align\":\"left\"},\"hovermode\":\"closest\",\"mapbox\":{\"style\":\"light\"},\"paper_bgcolor\":\"white\",\"plot_bgcolor\":\"white\",\"polar\":{\"angularaxis\":{\"gridcolor\":\"rgb(232,232,232)\",\"linecolor\":\"rgb(36,36,36)\",\"showgrid\":false,\"showline\":true,\"ticks\":\"outside\"},\"bgcolor\":\"white\",\"radialaxis\":{\"gridcolor\":\"rgb(232,232,232)\",\"linecolor\":\"rgb(36,36,36)\",\"showgrid\":false,\"showline\":true,\"ticks\":\"outside\"}},\"scene\":{\"xaxis\":{\"backgroundcolor\":\"white\",\"gridcolor\":\"rgb(232,232,232)\",\"gridwidth\":2,\"linecolor\":\"rgb(36,36,36)\",\"showbackground\":true,\"showgrid\":false,\"showline\":true,\"ticks\":\"outside\",\"zeroline\":false,\"zerolinecolor\":\"rgb(36,36,36)\"},\"yaxis\":{\"backgroundcolor\":\"white\",\"gridcolor\":\"rgb(232,232,232)\",\"gridwidth\":2,\"linecolor\":\"rgb(36,36,36)\",\"showbackground\":true,\"showgrid\":false,\"showline\":true,\"ticks\":\"outside\",\"zeroline\":false,\"zerolinecolor\":\"rgb(36,36,36)\"},\"zaxis\":{\"backgroundcolor\":\"white\",\"gridcolor\":\"rgb(232,232,232)\",\"gridwidth\":2,\"linecolor\":\"rgb(36,36,36)\",\"showbackground\":true,\"showgrid\":false,\"showline\":true,\"ticks\":\"outside\",\"zeroline\":false,\"zerolinecolor\":\"rgb(36,36,36)\"}},\"shapedefaults\":{\"fillcolor\":\"black\",\"line\":{\"width\":0},\"opacity\":0.3},\"ternary\":{\"aaxis\":{\"gridcolor\":\"rgb(232,232,232)\",\"linecolor\":\"rgb(36,36,36)\",\"showgrid\":false,\"showline\":true,\"ticks\":\"outside\"},\"baxis\":{\"gridcolor\":\"rgb(232,232,232)\",\"linecolor\":\"rgb(36,36,36)\",\"showgrid\":false,\"showline\":true,\"ticks\":\"outside\"},\"bgcolor\":\"white\",\"caxis\":{\"gridcolor\":\"rgb(232,232,232)\",\"linecolor\":\"rgb(36,36,36)\",\"showgrid\":false,\"showline\":true,\"ticks\":\"outside\"}},\"title\":{\"x\":0.05},\"xaxis\":{\"automargin\":true,\"gridcolor\":\"rgb(232,232,232)\",\"linecolor\":\"rgb(36,36,36)\",\"showgrid\":false,\"showline\":true,\"ticks\":\"outside\",\"title\":{\"standoff\":15},\"zeroline\":false,\"zerolinecolor\":\"rgb(36,36,36)\"},\"yaxis\":{\"automargin\":true,\"gridcolor\":\"rgb(232,232,232)\",\"linecolor\":\"rgb(36,36,36)\",\"showgrid\":false,\"showline\":true,\"ticks\":\"outside\",\"title\":{\"standoff\":15},\"zeroline\":false,\"zerolinecolor\":\"rgb(36,36,36)\"}}},\"xaxis\":{\"showgrid\":true},\"yaxis\":{\"showgrid\":true,\"title\":{\"text\":\"Frequency\"}},\"title\":{\"font\":{\"size\":22,\"color\":\"Black\"},\"text\":\"<b>Topics over Time\",\"y\":0.95,\"x\":0.4,\"xanchor\":\"center\",\"yanchor\":\"top\"},\"hoverlabel\":{\"font\":{\"size\":16,\"family\":\"Rockwell\"},\"bgcolor\":\"white\"},\"width\":1250,\"height\":450,\"legend\":{\"title\":{\"text\":\"<b>Global Topic Representation\"}}},                        {\"responsive\": true}                    ).then(function(){\n",
       "                            \n",
       "var gd = document.getElementById('812b63aa-8de6-48a9-ac23-bd5769274e68');\n",
       "var x = new MutationObserver(function (mutations, observer) {{\n",
       "        var display = window.getComputedStyle(gd).display;\n",
       "        if (!display || display === 'none') {{\n",
       "            console.log([gd, 'removed!']);\n",
       "            Plotly.purge(gd);\n",
       "            observer.disconnect();\n",
       "        }}\n",
       "}});\n",
       "\n",
       "// Listen for the removal of the full notebook cells\n",
       "var notebookContainer = gd.closest('#notebook-container');\n",
       "if (notebookContainer) {{\n",
       "    x.observe(notebookContainer, {childList: true});\n",
       "}}\n",
       "\n",
       "// Listen for the clearing of the current output cell\n",
       "var outputEl = gd.closest('.output');\n",
       "if (outputEl) {{\n",
       "    x.observe(outputEl, {childList: true});\n",
       "}}\n",
       "\n",
       "                        })                };                });            </script>        </div>"
      ]
     },
     "metadata": {},
     "output_type": "display_data"
    }
   ],
   "source": [
    "topics_over_time.Timestamp=topics_over_time.Timestamp.apply(round).apply(getHalfDecadeString)\n",
    "topic_model.visualize_topics_over_time(topics_over_time,normalize_frequency=False,top_n_topics=20)"
   ]
  },
  {
   "cell_type": "markdown",
   "id": "b989ac73",
   "metadata": {},
   "source": [
    "### Pachinko allocation"
   ]
  },
  {
   "cell_type": "code",
   "execution_count": null,
   "id": "5946296f",
   "metadata": {},
   "outputs": [],
   "source": [
    "raw_articles = BERTDfFiltered[\"lemmas\"].tolist()\n",
    "bigram = Phrases(raw_articles, min_count=5, threshold=10)\n",
    "bigram_mod = Phraser(bigram)\n",
    "raw_articles = list(bigram_mod[raw_articles])\n",
    "trigram = Phrases(raw_articles, min_count=5, threshold=10)\n",
    "trigram_mod = Phraser(bigram)\n",
    "raw_articles = list(trigram_mod[raw_articles])\n",
    "#BERTDfFiltered[\"nGram\"] = raw_articles\n",
    "#BERTDfFiltered[\"nGram\"] = BERTDfFiltered[\"nGram\"].apply(' '.join)\n",
    "#BERTDfFiltered[\"lemmatized\"] = BERTDfFiltered[\"lemmatized\"].apply(' '.join)"
   ]
  },
  {
   "cell_type": "code",
   "execution_count": 118,
   "id": "cbd55fa7",
   "metadata": {},
   "outputs": [],
   "source": [
    "corpus = tp.utils.Corpus()\n",
    "for doc in raw_articles:\n",
    "    if len(doc)>5:\n",
    "        corpus.add_doc(doc)"
   ]
  },
  {
   "cell_type": "code",
   "execution_count": 122,
   "id": "abde74b8",
   "metadata": {},
   "outputs": [
    {
     "data": {
      "text/plain": [
       "1788"
      ]
     },
     "execution_count": 122,
     "metadata": {},
     "output_type": "execute_result"
    }
   ],
   "source": [
    "len(corpus)"
   ]
  },
  {
   "cell_type": "code",
   "execution_count": 140,
   "id": "0970e2f3",
   "metadata": {},
   "outputs": [
    {
     "data": {
      "text/plain": [
       "faire      1273\n",
       "être       1159\n",
       "bien        963\n",
       "grand       830\n",
       "pouvoir     815\n",
       "vouloir     672\n",
       "venir       600\n",
       "jour        581\n",
       "voir        575\n",
       "falloir     563\n",
       "dtype: int64"
      ]
     },
     "execution_count": 140,
     "metadata": {},
     "output_type": "execute_result"
    }
   ],
   "source": [
    "pd.Series(raw_articles).explode().value_counts().head(10)"
   ]
  },
  {
   "cell_type": "code",
   "execution_count": 124,
   "id": "6a254c27",
   "metadata": {},
   "outputs": [
    {
     "name": "stdout",
     "output_type": "stream",
     "text": [
      "Runtime: 7.77 seconds || Number of Searches: 1 out of  84 || k1: 1 & k2: 6 || coherence : 0.293\n",
      "Runtime: 17.00 seconds || Number of Searches: 2 out of  84 || k1: 1 & k2: 7 || coherence : 0.132\n",
      "Runtime: 25.88 seconds || Number of Searches: 3 out of  84 || k1: 1 & k2: 8 || coherence : 0.373\n",
      "Runtime: 34.98 seconds || Number of Searches: 4 out of  84 || k1: 1 & k2: 9 || coherence : 0.339\n",
      "Runtime: 44.77 seconds || Number of Searches: 5 out of  84 || k1: 1 & k2: 10 || coherence : 0.232\n",
      "Runtime: 56.20 seconds || Number of Searches: 6 out of  84 || k1: 1 & k2: 11 || coherence : 0.259\n",
      "Runtime: 68.20 seconds || Number of Searches: 7 out of  84 || k1: 1 & k2: 12 || coherence : 0.312\n",
      "Runtime: 81.50 seconds || Number of Searches: 8 out of  84 || k1: 1 & k2: 13 || coherence : 0.132\n",
      "Runtime: 95.31 seconds || Number of Searches: 9 out of  84 || k1: 1 & k2: 14 || coherence : 0.180\n",
      "Runtime: 109.64 seconds || Number of Searches: 10 out of  84 || k1: 1 & k2: 15 || coherence : 0.160\n",
      "Runtime: 117.87 seconds || Number of Searches: 11 out of  84 || k1: 2 & k2: 6 || coherence : 0.522\n",
      "Runtime: 127.99 seconds || Number of Searches: 12 out of  84 || k1: 2 & k2: 7 || coherence : 0.464\n",
      "Runtime: 138.10 seconds || Number of Searches: 13 out of  84 || k1: 2 & k2: 8 || coherence : 0.568\n",
      "Runtime: 148.17 seconds || Number of Searches: 14 out of  84 || k1: 2 & k2: 9 || coherence : 0.405\n",
      "Runtime: 158.99 seconds || Number of Searches: 15 out of  84 || k1: 2 & k2: 10 || coherence : 0.462\n",
      "Runtime: 171.19 seconds || Number of Searches: 16 out of  84 || k1: 2 & k2: 11 || coherence : 0.479\n",
      "Runtime: 183.71 seconds || Number of Searches: 17 out of  84 || k1: 2 & k2: 12 || coherence : 0.431\n",
      "Runtime: 197.56 seconds || Number of Searches: 18 out of  84 || k1: 2 & k2: 13 || coherence : 0.542\n",
      "Runtime: 211.85 seconds || Number of Searches: 19 out of  84 || k1: 2 & k2: 14 || coherence : 0.489\n",
      "Runtime: 227.34 seconds || Number of Searches: 20 out of  84 || k1: 2 & k2: 15 || coherence : 0.531\n",
      "Runtime: 237.46 seconds || Number of Searches: 21 out of  84 || k1: 3 & k2: 6 || coherence : 0.460\n",
      "Runtime: 247.97 seconds || Number of Searches: 22 out of  84 || k1: 3 & k2: 7 || coherence : 0.545\n",
      "Runtime: 258.18 seconds || Number of Searches: 23 out of  84 || k1: 3 & k2: 8 || coherence : 0.501\n",
      "Runtime: 269.24 seconds || Number of Searches: 24 out of  84 || k1: 3 & k2: 9 || coherence : 0.564\n",
      "Runtime: 281.12 seconds || Number of Searches: 25 out of  84 || k1: 3 & k2: 10 || coherence : 0.689\n",
      "Runtime: 294.16 seconds || Number of Searches: 26 out of  84 || k1: 3 & k2: 11 || coherence : 0.554\n",
      "Runtime: 308.04 seconds || Number of Searches: 27 out of  84 || k1: 3 & k2: 12 || coherence : 0.493\n",
      "Runtime: 322.38 seconds || Number of Searches: 28 out of  84 || k1: 3 & k2: 13 || coherence : 0.538\n",
      "Runtime: 337.85 seconds || Number of Searches: 29 out of  84 || k1: 3 & k2: 14 || coherence : 0.589\n",
      "Runtime: 354.35 seconds || Number of Searches: 30 out of  84 || k1: 3 & k2: 15 || coherence : 0.510\n",
      "Runtime: 363.99 seconds || Number of Searches: 31 out of  84 || k1: 4 & k2: 6 || coherence : 0.551\n",
      "Runtime: 377.09 seconds || Number of Searches: 32 out of  84 || k1: 4 & k2: 7 || coherence : 0.611\n",
      "Runtime: 387.49 seconds || Number of Searches: 33 out of  84 || k1: 4 & k2: 8 || coherence : 0.586\n",
      "Runtime: 398.98 seconds || Number of Searches: 34 out of  84 || k1: 4 & k2: 9 || coherence : 0.583\n",
      "Runtime: 410.58 seconds || Number of Searches: 35 out of  84 || k1: 4 & k2: 10 || coherence : 0.664\n",
      "Runtime: 423.00 seconds || Number of Searches: 36 out of  84 || k1: 4 & k2: 11 || coherence : 0.608\n",
      "Runtime: 436.80 seconds || Number of Searches: 37 out of  84 || k1: 4 & k2: 12 || coherence : 0.542\n",
      "Runtime: 453.95 seconds || Number of Searches: 38 out of  84 || k1: 4 & k2: 13 || coherence : 0.613\n",
      "Runtime: 469.51 seconds || Number of Searches: 39 out of  84 || k1: 4 & k2: 14 || coherence : 0.475\n",
      "Runtime: 485.86 seconds || Number of Searches: 40 out of  84 || k1: 4 & k2: 15 || coherence : 0.434\n",
      "Runtime: 495.80 seconds || Number of Searches: 41 out of  84 || k1: 5 & k2: 6 || coherence : 0.502\n",
      "Runtime: 507.29 seconds || Number of Searches: 42 out of  84 || k1: 5 & k2: 7 || coherence : 0.581\n",
      "Runtime: 520.36 seconds || Number of Searches: 43 out of  84 || k1: 5 & k2: 8 || coherence : 0.591\n",
      "Runtime: 532.45 seconds || Number of Searches: 44 out of  84 || k1: 5 & k2: 9 || coherence : 0.649\n",
      "Runtime: 546.09 seconds || Number of Searches: 45 out of  84 || k1: 5 & k2: 10 || coherence : 0.622\n",
      "Runtime: 559.79 seconds || Number of Searches: 46 out of  84 || k1: 5 & k2: 11 || coherence : 0.624\n",
      "Runtime: 574.53 seconds || Number of Searches: 47 out of  84 || k1: 5 & k2: 12 || coherence : 0.520\n",
      "Runtime: 591.87 seconds || Number of Searches: 48 out of  84 || k1: 5 & k2: 13 || coherence : 0.605\n",
      "Runtime: 609.22 seconds || Number of Searches: 49 out of  84 || k1: 5 & k2: 14 || coherence : 0.582\n",
      "Runtime: 625.84 seconds || Number of Searches: 50 out of  84 || k1: 5 & k2: 15 || coherence : 0.601\n",
      "Runtime: 636.46 seconds || Number of Searches: 51 out of  84 || k1: 6 & k2: 6 || coherence : 0.528\n",
      "Runtime: 647.72 seconds || Number of Searches: 52 out of  84 || k1: 6 & k2: 7 || coherence : 0.582\n",
      "Runtime: 659.42 seconds || Number of Searches: 53 out of  84 || k1: 6 & k2: 8 || coherence : 0.568\n",
      "Runtime: 675.37 seconds || Number of Searches: 54 out of  84 || k1: 6 & k2: 9 || coherence : 0.549\n",
      "Runtime: 689.28 seconds || Number of Searches: 55 out of  84 || k1: 6 & k2: 10 || coherence : 0.636\n",
      "Runtime: 703.96 seconds || Number of Searches: 56 out of  84 || k1: 6 & k2: 11 || coherence : 0.570\n",
      "Runtime: 719.01 seconds || Number of Searches: 57 out of  84 || k1: 6 & k2: 12 || coherence : 0.552\n",
      "Runtime: 735.21 seconds || Number of Searches: 58 out of  84 || k1: 6 & k2: 13 || coherence : 0.636\n",
      "Runtime: 755.59 seconds || Number of Searches: 59 out of  84 || k1: 6 & k2: 14 || coherence : 0.566\n",
      "Runtime: 773.33 seconds || Number of Searches: 60 out of  84 || k1: 6 & k2: 15 || coherence : 0.609\n",
      "Runtime: 785.54 seconds || Number of Searches: 61 out of  84 || k1: 7 & k2: 7 || coherence : 0.545\n",
      "Runtime: 798.56 seconds || Number of Searches: 62 out of  84 || k1: 7 & k2: 8 || coherence : 0.587\n",
      "Runtime: 812.28 seconds || Number of Searches: 63 out of  84 || k1: 7 & k2: 9 || coherence : 0.648\n",
      "Runtime: 826.82 seconds || Number of Searches: 64 out of  84 || k1: 7 & k2: 10 || coherence : 0.586\n",
      "Runtime: 846.04 seconds || Number of Searches: 65 out of  84 || k1: 7 & k2: 11 || coherence : 0.631\n",
      "Runtime: 862.17 seconds || Number of Searches: 66 out of  84 || k1: 7 & k2: 12 || coherence : 0.599\n",
      "Runtime: 878.73 seconds || Number of Searches: 67 out of  84 || k1: 7 & k2: 13 || coherence : 0.590\n",
      "Runtime: 896.20 seconds || Number of Searches: 68 out of  84 || k1: 7 & k2: 14 || coherence : 0.611\n",
      "Runtime: 914.55 seconds || Number of Searches: 69 out of  84 || k1: 7 & k2: 15 || coherence : 0.610\n",
      "Runtime: 928.00 seconds || Number of Searches: 70 out of  84 || k1: 8 & k2: 8 || coherence : 0.585\n",
      "Runtime: 944.97 seconds || Number of Searches: 71 out of  84 || k1: 8 & k2: 9 || coherence : 0.599\n",
      "Runtime: 960.31 seconds || Number of Searches: 72 out of  84 || k1: 8 & k2: 10 || coherence : 0.657\n",
      "Runtime: 976.37 seconds || Number of Searches: 73 out of  84 || k1: 8 & k2: 11 || coherence : 0.579\n",
      "Runtime: 993.21 seconds || Number of Searches: 74 out of  84 || k1: 8 & k2: 12 || coherence : 0.629\n",
      "Runtime: 1010.77 seconds || Number of Searches: 75 out of  84 || k1: 8 & k2: 13 || coherence : 0.584\n",
      "Runtime: 1029.26 seconds || Number of Searches: 76 out of  84 || k1: 8 & k2: 14 || coherence : 0.621\n",
      "Runtime: 1051.85 seconds || Number of Searches: 77 out of  84 || k1: 8 & k2: 15 || coherence : 0.578\n",
      "Runtime: 1067.09 seconds || Number of Searches: 78 out of  84 || k1: 9 & k2: 9 || coherence : 0.571\n",
      "Runtime: 1083.54 seconds || Number of Searches: 79 out of  84 || k1: 9 & k2: 10 || coherence : 0.602\n",
      "Runtime: 1100.67 seconds || Number of Searches: 80 out of  84 || k1: 9 & k2: 11 || coherence : 0.573\n",
      "Runtime: 1118.44 seconds || Number of Searches: 81 out of  84 || k1: 9 & k2: 12 || coherence : 0.559\n",
      "Runtime: 1136.98 seconds || Number of Searches: 82 out of  84 || k1: 9 & k2: 13 || coherence : 0.590\n",
      "Runtime: 1157.56 seconds || Number of Searches: 83 out of  84 || k1: 9 & k2: 14 || coherence : 0.635\n"
     ]
    },
    {
     "name": "stdout",
     "output_type": "stream",
     "text": [
      "Runtime: 1179.11 seconds || Number of Searches: 84 out of  84 || k1: 9 & k2: 15 || coherence : 0.608\n"
     ]
    }
   ],
   "source": [
    "k1_max = 10\n",
    "k1_min = 1 \n",
    "k2_max = 16\n",
    "k2_min = 6\n",
    "params = []\n",
    "scores = []\n",
    "num_iter = 0\n",
    "max_iter = 0\n",
    "for k1 in range(k1_min, k1_max):\n",
    "    for k2 in range(max(k1,k2_min),k2_max):\n",
    "        max_iter +=1\n",
    "        \n",
    "start = time.time()\n",
    "for k1 in range(k1_min, k1_max):\n",
    "    for k2 in range(max(k1,k2_min),k2_max):\n",
    "        num_iter+=1\n",
    "        model = tp.PAModel(tw=tp.TermWeight.IDF,min_cf = 5, min_df=1, rm_top=10, k1=k1, k2=k2, corpus=corpus)\n",
    "        model.burn_in = 200\n",
    "        model.train(800, workers=20)\n",
    "        score = tp.coherence.Coherence(model, coherence=\"c_v\").get_score()\n",
    "        params.append((k1,k2))\n",
    "        scores.append(score)\n",
    "        print(\"Runtime: %.2f seconds\" %(time.time() - start), \"|| Number of Searches: %s out of  %s\" %(num_iter, max_iter), \"|| k1: %s & k2: %s || coherence : %.3f\" %(k1,k2,score))"
   ]
  },
  {
   "cell_type": "code",
   "execution_count": 126,
   "id": "d4d15bb6",
   "metadata": {},
   "outputs": [
    {
     "name": "stdout",
     "output_type": "stream",
     "text": [
      "k1: 3 & k2: 10 || coherence : 0.689\n",
      "k1: 4 & k2: 10 || coherence : 0.664\n",
      "k1: 8 & k2: 10 || coherence : 0.657\n"
     ]
    }
   ],
   "source": [
    "for ind,score in enumerate(scores):\n",
    "    if score>max(scores)*0.95:\n",
    "        print(\"k1: %s & k2: %s || coherence : %.3f\" %(params[ind][0],params[ind][1],score))\n"
   ]
  },
  {
   "cell_type": "code",
   "execution_count": 131,
   "id": "b7c75699",
   "metadata": {},
   "outputs": [
    {
     "name": "stdout",
     "output_type": "stream",
     "text": [
      "0.5561943851411343\n"
     ]
    }
   ],
   "source": [
    "model = tp.PAModel(tw=tp.TermWeight.IDF,min_cf = 5, min_df=1, rm_top=10, k1=3, k2=10, corpus=corpus)\n",
    "model.train(1200, workers=15)\n",
    "print(tp.coherence.Coherence(model, coherence=\"c_v\").get_score())"
   ]
  },
  {
   "cell_type": "code",
   "execution_count": 134,
   "id": "ca3e0352",
   "metadata": {},
   "outputs": [
    {
     "name": "stdout",
     "output_type": "stream",
     "text": [
      "Topic #0\n",
      "\t ['industrie', 'cuirassé', 'navire', 'chemin_fer', 'automobile', 'machine', 'mer', 'kilomètre', 'marine', 'flotte']\n",
      "Topic #1\n",
      "\t ['franc', 'gouvernement', 'allemand', 'guerre', 'angleterre', 'allemagne', 'intérêt', 'russie', 'pays', 'français']\n",
      "Topic #2\n",
      "\t ['science', 'peuple', 'humanité', 'homme', 'esprit', 'humain', 'progrès', 'civilisation', 'génie', 'savant']\n",
      "Topic #3\n",
      "\t ['prince', 'mme', 'famille', 'monsieur', 'dame', 'princesse', 'poindre', 'femme', 'reine', 'joli']\n",
      "Topic #4\n",
      "\t ['exposition', 'théâtre', 'paris', 'salle', 'rue', 'artiste', 'concours', 'lieu', 'salon', 'fête']\n",
      "Topic #5\n",
      "\t ['service', 'commission', 'budget', 'général', 'militaire', 'conseil', 'million', 'officier', 'ouvrier', 'ministre']\n",
      "Topic #6\n",
      "\t ['enfant', 'avoir', 'homme', 'jamais', 'petit', 'savoir', 'chose', 'bon', 'dire', 'rien']\n",
      "Topic #7\n",
      "\t ['droit', 'cas', 'loi', 'aucun', 'question', 'intérêt', 'gaz', 'temps', 'difficulté', 'devoir']\n",
      "Topic #8\n",
      "\t ['savant', 'découverte', 'pasteur', 'science', 'professeur', 'scientifique', 'institut', 'médecine', 'laboratoire', 'tuberculose']\n",
      "Topic #9\n",
      "\t ['république', 'chambre', 'politique', 'républicain', 'gouvernement', 'sénat', 'élection', 'parti', 'député', 'ministère']\n"
     ]
    }
   ],
   "source": [
    "for k in range(10):\n",
    "    print('Topic #{}'.format(k))\n",
    "    print(\"\\t\", [w for w, p in model.get_topic_words(k)])"
   ]
  },
  {
   "cell_type": "code",
   "execution_count": 407,
   "id": "5dc166fa",
   "metadata": {},
   "outputs": [
    {
     "name": "stdout",
     "output_type": "stream",
     "text": [
      "Topic #0\n",
      "\t avenir:  7840.588\n",
      "\t progrès:  30368.375\n"
     ]
    },
    {
     "ename": "IndexError",
     "evalue": "index 104 is out of bounds for axis 0 with size 9",
     "output_type": "error",
     "traceback": [
      "\u001b[0;31m---------------------------------------------------------------------------\u001b[0m",
      "\u001b[0;31mIndexError\u001b[0m                                Traceback (most recent call last)",
      "\u001b[0;32m/tmp/ipykernel_560281/2445153213.py\u001b[0m in \u001b[0;36m<module>\u001b[0;34m\u001b[0m\n\u001b[1;32m      2\u001b[0m     \u001b[0mprint\u001b[0m\u001b[0;34m(\u001b[0m\u001b[0;34m'Topic #{}'\u001b[0m\u001b[0;34m.\u001b[0m\u001b[0mformat\u001b[0m\u001b[0;34m(\u001b[0m\u001b[0mk\u001b[0m\u001b[0;34m)\u001b[0m\u001b[0;34m)\u001b[0m\u001b[0;34m\u001b[0m\u001b[0;34m\u001b[0m\u001b[0m\n\u001b[1;32m      3\u001b[0m     \u001b[0;32mfor\u001b[0m \u001b[0mword\u001b[0m \u001b[0;32min\u001b[0m \u001b[0;34m[\u001b[0m\u001b[0;34m'avenir'\u001b[0m\u001b[0;34m,\u001b[0m\u001b[0;34m'progrès'\u001b[0m\u001b[0;34m,\u001b[0m\u001b[0;34m'science'\u001b[0m\u001b[0;34m]\u001b[0m\u001b[0;34m:\u001b[0m\u001b[0;34m\u001b[0m\u001b[0;34m\u001b[0m\u001b[0m\n\u001b[0;32m----> 4\u001b[0;31m         \u001b[0mprint\u001b[0m\u001b[0;34m(\u001b[0m\u001b[0;34m\"\\t\"\u001b[0m\u001b[0;34m,\u001b[0m \u001b[0;34mf'{word}: '\u001b[0m\u001b[0;34m,\u001b[0m \u001b[0mmodel\u001b[0m\u001b[0;34m.\u001b[0m\u001b[0mget_sub_topic_dist\u001b[0m\u001b[0;34m(\u001b[0m\u001b[0mk\u001b[0m\u001b[0;34m,\u001b[0m\u001b[0mnormalize\u001b[0m\u001b[0;34m=\u001b[0m\u001b[0;32mFalse\u001b[0m\u001b[0;34m)\u001b[0m\u001b[0;34m[\u001b[0m\u001b[0mlist\u001b[0m\u001b[0;34m(\u001b[0m\u001b[0mmodel\u001b[0m\u001b[0;34m.\u001b[0m\u001b[0mused_vocabs\u001b[0m\u001b[0;34m)\u001b[0m\u001b[0;34m.\u001b[0m\u001b[0mindex\u001b[0m\u001b[0;34m(\u001b[0m\u001b[0mword\u001b[0m\u001b[0;34m)\u001b[0m\u001b[0;34m]\u001b[0m\u001b[0;34m)\u001b[0m\u001b[0;34m\u001b[0m\u001b[0;34m\u001b[0m\u001b[0m\n\u001b[0m",
      "\u001b[0;31mIndexError\u001b[0m: index 104 is out of bounds for axis 0 with size 9"
     ]
    }
   ],
   "source": [
    "for k in range(3):\n",
    "    print('Topic #{}'.format(k))\n",
    "    for word in ['avenir','progrès','science']:\n",
    "        print(\"\\t\", f'{word}: ', model.get_sub_topic_dist(k,normalize=False)[list(model.used_vocabs).index(word)])"
   ]
  },
  {
   "cell_type": "code",
   "execution_count": 133,
   "id": "7967c4b1",
   "metadata": {},
   "outputs": [
    {
     "name": "stdout",
     "output_type": "stream",
     "text": [
      "Topic #0\n",
      "\t avenir:  51.174107\n",
      "\t progrès:  158.5753\n",
      "\t science:  57.09332\n",
      "\t futur:  45.595802\n",
      "Topic #1\n",
      "\t avenir:  42.145065\n",
      "\t progrès:  57.670887\n",
      "\t science:  0.0100038145\n",
      "\t futur:  0.01\n",
      "Topic #2\n",
      "\t avenir:  112.87647\n",
      "\t progrès:  209.02797\n",
      "\t science:  294.21765\n",
      "\t futur:  60.790752\n",
      "Topic #3\n",
      "\t avenir:  0.01\n",
      "\t progrès:  0.010141859\n",
      "\t science:  0.01\n",
      "\t futur:  45.593903\n",
      "Topic #4\n",
      "\t avenir:  0.010001907\n",
      "\t progrès:  14.425056\n",
      "\t science:  0.01004673\n",
      "\t futur:  0.010345707\n",
      "Topic #5\n",
      "\t avenir:  16.563898\n",
      "\t progrès:  37.849304\n",
      "\t science:  0.01\n",
      "\t futur:  52.10477\n",
      "Topic #6\n",
      "\t avenir:  279.9235\n",
      "\t progrès:  82.89712\n",
      "\t science:  28.552141\n",
      "\t futur:  95.52155\n",
      "Topic #7\n",
      "\t avenir:  84.28402\n",
      "\t progrès:  23.434423\n",
      "\t science:  0.01\n",
      "\t futur:  115.05687\n",
      "Topic #8\n",
      "\t avenir:  0.01\n",
      "\t progrès:  9.019371\n",
      "\t science:  182.23938\n",
      "\t futur:  0.01\n"
     ]
    },
    {
     "data": {
      "text/plain": [
       "array([10437, 12122, 10743,  5804, 12030, 13477, 37457, 14528,  2419,\n",
       "       13579], dtype=uint64)"
      ]
     },
     "execution_count": 133,
     "metadata": {},
     "output_type": "execute_result"
    }
   ],
   "source": [
    "for k in range(9):\n",
    "    print('Topic #{}'.format(k))\n",
    "    for word in ['avenir','progrès','science','futur']:\n",
    "        print(\"\\t\", f'{word}: ', model.get_topic_word_dist(k,normalize=False)[list(model.used_vocabs).index(word)])\n",
    "model.get_count_by_topics()"
   ]
  },
  {
   "cell_type": "code",
   "execution_count": 491,
   "id": "67b89468",
   "metadata": {},
   "outputs": [
    {
     "data": {
      "text/plain": [
       "array([1.4804439e-03, 2.6846319e-03, 1.1442521e-04, ..., 5.7579484e-07,\n",
       "       5.7579484e-07, 5.7579484e-07], dtype=float32)"
      ]
     },
     "execution_count": 491,
     "metadata": {},
     "output_type": "execute_result"
    }
   ],
   "source": [
    "\n",
    "model.get_topic_word_dist(k,normalize=True)"
   ]
  },
  {
   "cell_type": "code",
   "execution_count": 410,
   "id": "4adb33da",
   "metadata": {},
   "outputs": [
    {
     "name": "stderr",
     "output_type": "stream",
     "text": [
      "/tmp/ipykernel_560281/2581417065.py:1: SettingWithCopyWarning: \n",
      "A value is trying to be set on a copy of a slice from a DataFrame.\n",
      "Try using .loc[row_indexer,col_indexer] = value instead\n",
      "\n",
      "See the caveats in the documentation: https://pandas.pydata.org/pandas-docs/stable/user_guide/indexing.html#returning-a-view-versus-a-copy\n",
      "  BERTDfFiltered.loc[:,'docs'] = model.docs\n"
     ]
    }
   ],
   "source": [
    "BERTDfFiltered.loc[:,'docs'] = model.docs"
   ]
  },
  {
   "cell_type": "code",
   "execution_count": 414,
   "id": "197def4c",
   "metadata": {},
   "outputs": [
    {
     "name": "stderr",
     "output_type": "stream",
     "text": [
      "/tmp/ipykernel_560281/1049310590.py:1: SettingWithCopyWarning: \n",
      "A value is trying to be set on a copy of a slice from a DataFrame.\n",
      "Try using .loc[row_indexer,col_indexer] = value instead\n",
      "\n",
      "See the caveats in the documentation: https://pandas.pydata.org/pandas-docs/stable/user_guide/indexing.html#returning-a-view-versus-a-copy\n",
      "  BERTDfFiltered.loc[:,'topics'] = BERTDfFiltered['docs'].apply(lambda x : x.get_sub_topics()).apply(dict)\n"
     ]
    }
   ],
   "source": [
    "BERTDfFiltered.loc[:,'topics'] = BERTDfFiltered['docs'].apply(lambda x : x.get_sub_topics()).apply(dict)"
   ]
  },
  {
   "cell_type": "code",
   "execution_count": 422,
   "id": "0ecfa182",
   "metadata": {},
   "outputs": [
    {
     "data": {
      "text/html": [
       "<div>\n",
       "<style scoped>\n",
       "    .dataframe tbody tr th:only-of-type {\n",
       "        vertical-align: middle;\n",
       "    }\n",
       "\n",
       "    .dataframe tbody tr th {\n",
       "        vertical-align: top;\n",
       "    }\n",
       "\n",
       "    .dataframe thead th {\n",
       "        text-align: right;\n",
       "    }\n",
       "</style>\n",
       "<table border=\"1\" class=\"dataframe\">\n",
       "  <thead>\n",
       "    <tr style=\"text-align: right;\">\n",
       "      <th></th>\n",
       "      <th>ID</th>\n",
       "      <th>headline</th>\n",
       "      <th>segmentID</th>\n",
       "      <th>content</th>\n",
       "      <th>lemmas</th>\n",
       "      <th>cndVerb</th>\n",
       "      <th>futVerb</th>\n",
       "      <th>tokens</th>\n",
       "      <th>preprocessed</th>\n",
       "      <th>yearMention</th>\n",
       "      <th>timeMention</th>\n",
       "      <th>year</th>\n",
       "      <th>nextGen</th>\n",
       "      <th>yearDif</th>\n",
       "      <th>science</th>\n",
       "      <th>futur</th>\n",
       "      <th>société</th>\n",
       "      <th>émotion</th>\n",
       "      <th>docs</th>\n",
       "      <th>topics</th>\n",
       "    </tr>\n",
       "  </thead>\n",
       "  <tbody>\n",
       "    <tr>\n",
       "      <th>1220</th>\n",
       "      <td>1898-04-06_2_22_1</td>\n",
       "      <td>; ÉLECTION A L'ACADÉMIE DE MÉDECINE LE PROFESS...</td>\n",
       "      <td>1</td>\n",
       "      <td>Nous possédons de lui, un beau volume de Leçon...</td>\n",
       "      <td>[posséder, beau, volume, leçon, physiologie, m...</td>\n",
       "      <td>0</td>\n",
       "      <td>1</td>\n",
       "      <td>[2, 970, 7696, 406, 336, 558, 16, 390, 1060, 5...</td>\n",
       "      <td>nous possedons de lui, un beau volume de lecon...</td>\n",
       "      <td>[ des 1888,  en l'an 2000]</td>\n",
       "      <td>[]</td>\n",
       "      <td>2000.0</td>\n",
       "      <td>[]</td>\n",
       "      <td>102.0</td>\n",
       "      <td>2</td>\n",
       "      <td>0</td>\n",
       "      <td>0</td>\n",
       "      <td>0</td>\n",
       "      <td>(posséder, beau, volume, leçon, physiologie, m...</td>\n",
       "      <td>{6: 0.40202274918556213, 7: 0.3177270889282226...</td>\n",
       "    </tr>\n",
       "    <tr>\n",
       "      <th>7208</th>\n",
       "      <td>1898-07-09_0_15-16-17_5</td>\n",
       "      <td>i A. KT3Sr03Sr0ES ET BÉOLAMB. S Agence P. DOLU...</td>\n",
       "      <td>5</td>\n",
       "      <td>Et ils avaient eu bien plus de plaisir. Leurs ...</td>\n",
       "      <td>[bien, plaisir, demande, rayer, mieux, imiter,...</td>\n",
       "      <td>0</td>\n",
       "      <td>5</td>\n",
       "      <td>[2, 646, 677, 1291, 925, 617, 467, 336, 3906, ...</td>\n",
       "      <td>et ils avaient eu bien plus de plaisir. leurs ...</td>\n",
       "      <td>[]</td>\n",
       "      <td>[pendant les annees de college et d'universite...</td>\n",
       "      <td>NaN</td>\n",
       "      <td>[]</td>\n",
       "      <td>NaN</td>\n",
       "      <td>1</td>\n",
       "      <td>1</td>\n",
       "      <td>0</td>\n",
       "      <td>0</td>\n",
       "      <td>(bien, plaisir, demande, rayer, mieux, imiter,...</td>\n",
       "      <td>{7: 0.5765165686607361, 6: 0.419906347990036, ...</td>\n",
       "    </tr>\n",
       "    <tr>\n",
       "      <th>7780</th>\n",
       "      <td>1898-07-19_0_10-11-12_4</td>\n",
       "      <td>LE LATIN ET L'HISTOIRE ;</td>\n",
       "      <td>4</td>\n",
       "      <td>Le Moloch exige maintenant la richesse capital...</td>\n",
       "      <td>[moloch, exiger, richesse, capitaliser, dévore...</td>\n",
       "      <td>0</td>\n",
       "      <td>4</td>\n",
       "      <td>[2, 447, 11319, 6430, 6327, 2382, 348, 11498, ...</td>\n",
       "      <td>le moloch exige maintenant la richesse capital...</td>\n",
       "      <td>[]</td>\n",
       "      <td>[]</td>\n",
       "      <td>NaN</td>\n",
       "      <td>[]</td>\n",
       "      <td>NaN</td>\n",
       "      <td>0</td>\n",
       "      <td>2</td>\n",
       "      <td>1</td>\n",
       "      <td>0</td>\n",
       "      <td>(moloch, exiger, richesse, capitaliser, dévore...</td>\n",
       "      <td>{7: 0.42123547196388245, 6: 0.2074756771326065...</td>\n",
       "    </tr>\n",
       "    <tr>\n",
       "      <th>11708</th>\n",
       "      <td>1898-09-25_3_18_2</td>\n",
       "      <td></td>\n",
       "      <td>2</td>\n",
       "      <td>L'èsprit d'irréligion et de scepticisme est de...</td>\n",
       "      <td>[irréligion, scepticisme, descendre, haut, voi...</td>\n",
       "      <td>1</td>\n",
       "      <td>3</td>\n",
       "      <td>[2, 48, 11, 10330, 1705, 71, 11, 4667, 9862, 4...</td>\n",
       "      <td>l'esprit d'irreligion et de scepticisme est de...</td>\n",
       "      <td>[]</td>\n",
       "      <td>[]</td>\n",
       "      <td>NaN</td>\n",
       "      <td>[]</td>\n",
       "      <td>NaN</td>\n",
       "      <td>0</td>\n",
       "      <td>2</td>\n",
       "      <td>0</td>\n",
       "      <td>0</td>\n",
       "      <td>(irréligion, scepticisme, descendre, haut, voi...</td>\n",
       "      <td>{0: 0.33924973011016846, 7: 0.3085785806179046...</td>\n",
       "    </tr>\n",
       "    <tr>\n",
       "      <th>23266</th>\n",
       "      <td>1899-03-16_3_41-42_0</td>\n",
       "      <td></td>\n",
       "      <td>0</td>\n",
       "      <td>qui annule un acte de l'état-civil dans, leque...</td>\n",
       "      <td>[annule, acte, état, civil, femme, déclarer, e...</td>\n",
       "      <td>1</td>\n",
       "      <td>1</td>\n",
       "      <td>[2, 405, 736, 2792, 390, 2557, 336, 79, 11, 13...</td>\n",
       "      <td>qui annule un acte de l'etat-civil dans, leque...</td>\n",
       "      <td>[]</td>\n",
       "      <td>[]</td>\n",
       "      <td>NaN</td>\n",
       "      <td>[mes enfants]</td>\n",
       "      <td>NaN</td>\n",
       "      <td>2</td>\n",
       "      <td>0</td>\n",
       "      <td>0</td>\n",
       "      <td>0</td>\n",
       "      <td>(annule, acte, état, civil, femme, déclarer, e...</td>\n",
       "      <td>{7: 0.47355887293815613, 6: 0.2495788335800171...</td>\n",
       "    </tr>\n",
       "    <tr>\n",
       "      <th>...</th>\n",
       "      <td>...</td>\n",
       "      <td>...</td>\n",
       "      <td>...</td>\n",
       "      <td>...</td>\n",
       "      <td>...</td>\n",
       "      <td>...</td>\n",
       "      <td>...</td>\n",
       "      <td>...</td>\n",
       "      <td>...</td>\n",
       "      <td>...</td>\n",
       "      <td>...</td>\n",
       "      <td>...</td>\n",
       "      <td>...</td>\n",
       "      <td>...</td>\n",
       "      <td>...</td>\n",
       "      <td>...</td>\n",
       "      <td>...</td>\n",
       "      <td>...</td>\n",
       "      <td>...</td>\n",
       "      <td>...</td>\n",
       "    </tr>\n",
       "    <tr>\n",
       "      <th>717340</th>\n",
       "      <td>1875-09-19_0_15-16_0</td>\n",
       "      <td></td>\n",
       "      <td>0</td>\n",
       "      <td>feesjsoldats à l'européenne , se défait dè-laH...</td>\n",
       "      <td>[européen, défaire, milice, publier, moniteur,...</td>\n",
       "      <td>0</td>\n",
       "      <td>2</td>\n",
       "      <td>[2, 3007, 333, 6345, 3688, 800, 130, 79, 11, 1...</td>\n",
       "      <td>feesjsoldats a l'europeenne , se defait de-lah...</td>\n",
       "      <td>[]</td>\n",
       "      <td>[]</td>\n",
       "      <td>NaN</td>\n",
       "      <td>[]</td>\n",
       "      <td>NaN</td>\n",
       "      <td>0</td>\n",
       "      <td>2</td>\n",
       "      <td>0</td>\n",
       "      <td>0</td>\n",
       "      <td>(européen, défaire, milice, publier, moniteur,...</td>\n",
       "      <td>{7: 0.5001457333564758, 6: 0.22253844141960144...</td>\n",
       "    </tr>\n",
       "    <tr>\n",
       "      <th>743007</th>\n",
       "      <td>1876-07-11_0_23_0</td>\n",
       "      <td>GRAINS DE BON SENS</td>\n",
       "      <td>0</td>\n",
       "      <td>Dn ancienpion demande la parole : Je ne parler...</td>\n",
       "      <td>[demande, parole, parler, scandale, venir, lie...</td>\n",
       "      <td>2</td>\n",
       "      <td>3</td>\n",
       "      <td>[2, 17020, 1447, 2176, 335, 1260, 348, 3287, 3...</td>\n",
       "      <td>dn ancienpion demande la parole : je ne parler...</td>\n",
       "      <td>[]</td>\n",
       "      <td>[]</td>\n",
       "      <td>NaN</td>\n",
       "      <td>[]</td>\n",
       "      <td>NaN</td>\n",
       "      <td>0</td>\n",
       "      <td>2</td>\n",
       "      <td>0</td>\n",
       "      <td>0</td>\n",
       "      <td>(demande, parole, parler, scandale, venir, lie...</td>\n",
       "      <td>{6: 0.5023974180221558, 7: 0.20796357095241547...</td>\n",
       "    </tr>\n",
       "    <tr>\n",
       "      <th>754423</th>\n",
       "      <td>1876-12-25_1_9-10-11_6</td>\n",
       "      <td></td>\n",
       "      <td>6</td>\n",
       "      <td>Quoi lorsque tant d'objets merveilleux et util...</td>\n",
       "      <td>[objet, merveilleux, utile, solliciter, curios...</td>\n",
       "      <td>3</td>\n",
       "      <td>2</td>\n",
       "      <td>[2, 7270, 3068, 1286, 71, 11, 4720, 9057, 353,...</td>\n",
       "      <td>quoi lorsque tant d'objets merveilleux et util...</td>\n",
       "      <td>[]</td>\n",
       "      <td>[]</td>\n",
       "      <td>NaN</td>\n",
       "      <td>[nos enfants]</td>\n",
       "      <td>NaN</td>\n",
       "      <td>1</td>\n",
       "      <td>0</td>\n",
       "      <td>1</td>\n",
       "      <td>0</td>\n",
       "      <td>(objet, merveilleux, utile, solliciter, curios...</td>\n",
       "      <td>{7: 0.595535159111023, 6: 0.3659076690673828, ...</td>\n",
       "    </tr>\n",
       "    <tr>\n",
       "      <th>759005</th>\n",
       "      <td>1877-03-04_0_15-16-17-18_1</td>\n",
       "      <td></td>\n",
       "      <td>1</td>\n",
       "      <td>Déjà, chez les Beni-Mozab, on fait griller les...</td>\n",
       "      <td>[beni, griller, cuisse, sauterelle, grignote, ...</td>\n",
       "      <td>1</td>\n",
       "      <td>1</td>\n",
       "      <td>[2, 9274, 16, 1099, 361, 28778, 17, 9365, 443,...</td>\n",
       "      <td>deja, chez les beni-mozab, on fait griller les...</td>\n",
       "      <td>[]</td>\n",
       "      <td>[]</td>\n",
       "      <td>NaN</td>\n",
       "      <td>[]</td>\n",
       "      <td>NaN</td>\n",
       "      <td>0</td>\n",
       "      <td>2</td>\n",
       "      <td>0</td>\n",
       "      <td>0</td>\n",
       "      <td>(beni, griller, cuisse, sauterelle, grignote, ...</td>\n",
       "      <td>{2: 0.44976237416267395, 6: 0.2220492511987686...</td>\n",
       "    </tr>\n",
       "    <tr>\n",
       "      <th>783030</th>\n",
       "      <td>1878-02-09_1_9_1</td>\n",
       "      <td></td>\n",
       "      <td>1</td>\n",
       "      <td>L'Italie morcelée est venue à bout du bout voi...</td>\n",
       "      <td>[italie, morceler, venir, bout, bout, voir, te...</td>\n",
       "      <td>1</td>\n",
       "      <td>2</td>\n",
       "      <td>[2, 48, 11, 2921, 1880, 2520, 410, 401, 5596, ...</td>\n",
       "      <td>l'italie morcelee est venue a bout du bout voi...</td>\n",
       "      <td>[]</td>\n",
       "      <td>[dans lo xix siecle m. about s'occupe sui'lout...</td>\n",
       "      <td>NaN</td>\n",
       "      <td>[]</td>\n",
       "      <td>NaN</td>\n",
       "      <td>0</td>\n",
       "      <td>1</td>\n",
       "      <td>0</td>\n",
       "      <td>0</td>\n",
       "      <td>(italie, morceler, venir, bout, bout, voir, te...</td>\n",
       "      <td>{6: 0.4808861315250397, 7: 0.23660340905189514...</td>\n",
       "    </tr>\n",
       "  </tbody>\n",
       "</table>\n",
       "<p>175 rows × 20 columns</p>\n",
       "</div>"
      ],
      "text/plain": [
       "                                ID  \\\n",
       "1220             1898-04-06_2_22_1   \n",
       "7208       1898-07-09_0_15-16-17_5   \n",
       "7780       1898-07-19_0_10-11-12_4   \n",
       "11708            1898-09-25_3_18_2   \n",
       "23266         1899-03-16_3_41-42_0   \n",
       "...                            ...   \n",
       "717340        1875-09-19_0_15-16_0   \n",
       "743007           1876-07-11_0_23_0   \n",
       "754423      1876-12-25_1_9-10-11_6   \n",
       "759005  1877-03-04_0_15-16-17-18_1   \n",
       "783030            1878-02-09_1_9_1   \n",
       "\n",
       "                                                 headline segmentID  \\\n",
       "1220    ; ÉLECTION A L'ACADÉMIE DE MÉDECINE LE PROFESS...         1   \n",
       "7208    i A. KT3Sr03Sr0ES ET BÉOLAMB. S Agence P. DOLU...         5   \n",
       "7780                             LE LATIN ET L'HISTOIRE ;         4   \n",
       "11708                                                             2   \n",
       "23266                                                             0   \n",
       "...                                                   ...       ...   \n",
       "717340                                                            0   \n",
       "743007                                 GRAINS DE BON SENS         0   \n",
       "754423                                                            6   \n",
       "759005                                                            1   \n",
       "783030                                                            1   \n",
       "\n",
       "                                                  content  \\\n",
       "1220    Nous possédons de lui, un beau volume de Leçon...   \n",
       "7208    Et ils avaient eu bien plus de plaisir. Leurs ...   \n",
       "7780    Le Moloch exige maintenant la richesse capital...   \n",
       "11708   L'èsprit d'irréligion et de scepticisme est de...   \n",
       "23266   qui annule un acte de l'état-civil dans, leque...   \n",
       "...                                                   ...   \n",
       "717340  feesjsoldats à l'européenne , se défait dè-laH...   \n",
       "743007  Dn ancienpion demande la parole : Je ne parler...   \n",
       "754423  Quoi lorsque tant d'objets merveilleux et util...   \n",
       "759005  Déjà, chez les Beni-Mozab, on fait griller les...   \n",
       "783030  L'Italie morcelée est venue à bout du bout voi...   \n",
       "\n",
       "                                                   lemmas cndVerb futVerb  \\\n",
       "1220    [posséder, beau, volume, leçon, physiologie, m...       0       1   \n",
       "7208    [bien, plaisir, demande, rayer, mieux, imiter,...       0       5   \n",
       "7780    [moloch, exiger, richesse, capitaliser, dévore...       0       4   \n",
       "11708   [irréligion, scepticisme, descendre, haut, voi...       1       3   \n",
       "23266   [annule, acte, état, civil, femme, déclarer, e...       1       1   \n",
       "...                                                   ...     ...     ...   \n",
       "717340  [européen, défaire, milice, publier, moniteur,...       0       2   \n",
       "743007  [demande, parole, parler, scandale, venir, lie...       2       3   \n",
       "754423  [objet, merveilleux, utile, solliciter, curios...       3       2   \n",
       "759005  [beni, griller, cuisse, sauterelle, grignote, ...       1       1   \n",
       "783030  [italie, morceler, venir, bout, bout, voir, te...       1       2   \n",
       "\n",
       "                                                   tokens  \\\n",
       "1220    [2, 970, 7696, 406, 336, 558, 16, 390, 1060, 5...   \n",
       "7208    [2, 646, 677, 1291, 925, 617, 467, 336, 3906, ...   \n",
       "7780    [2, 447, 11319, 6430, 6327, 2382, 348, 11498, ...   \n",
       "11708   [2, 48, 11, 10330, 1705, 71, 11, 4667, 9862, 4...   \n",
       "23266   [2, 405, 736, 2792, 390, 2557, 336, 79, 11, 13...   \n",
       "...                                                   ...   \n",
       "717340  [2, 3007, 333, 6345, 3688, 800, 130, 79, 11, 1...   \n",
       "743007  [2, 17020, 1447, 2176, 335, 1260, 348, 3287, 3...   \n",
       "754423  [2, 7270, 3068, 1286, 71, 11, 4720, 9057, 353,...   \n",
       "759005  [2, 9274, 16, 1099, 361, 28778, 17, 9365, 443,...   \n",
       "783030  [2, 48, 11, 2921, 1880, 2520, 410, 401, 5596, ...   \n",
       "\n",
       "                                             preprocessed  \\\n",
       "1220    nous possedons de lui, un beau volume de lecon...   \n",
       "7208    et ils avaient eu bien plus de plaisir. leurs ...   \n",
       "7780    le moloch exige maintenant la richesse capital...   \n",
       "11708   l'esprit d'irreligion et de scepticisme est de...   \n",
       "23266   qui annule un acte de l'etat-civil dans, leque...   \n",
       "...                                                   ...   \n",
       "717340  feesjsoldats a l'europeenne , se defait de-lah...   \n",
       "743007  dn ancienpion demande la parole : je ne parler...   \n",
       "754423  quoi lorsque tant d'objets merveilleux et util...   \n",
       "759005  deja, chez les beni-mozab, on fait griller les...   \n",
       "783030  l'italie morcelee est venue a bout du bout voi...   \n",
       "\n",
       "                       yearMention  \\\n",
       "1220    [ des 1888,  en l'an 2000]   \n",
       "7208                            []   \n",
       "7780                            []   \n",
       "11708                           []   \n",
       "23266                           []   \n",
       "...                            ...   \n",
       "717340                          []   \n",
       "743007                          []   \n",
       "754423                          []   \n",
       "759005                          []   \n",
       "783030                          []   \n",
       "\n",
       "                                              timeMention    year  \\\n",
       "1220                                                   []  2000.0   \n",
       "7208    [pendant les annees de college et d'universite...     NaN   \n",
       "7780                                                   []     NaN   \n",
       "11708                                                  []     NaN   \n",
       "23266                                                  []     NaN   \n",
       "...                                                   ...     ...   \n",
       "717340                                                 []     NaN   \n",
       "743007                                                 []     NaN   \n",
       "754423                                                 []     NaN   \n",
       "759005                                                 []     NaN   \n",
       "783030  [dans lo xix siecle m. about s'occupe sui'lout...     NaN   \n",
       "\n",
       "              nextGen  yearDif  science  futur  société  émotion  \\\n",
       "1220               []    102.0        2      0        0        0   \n",
       "7208               []      NaN        1      1        0        0   \n",
       "7780               []      NaN        0      2        1        0   \n",
       "11708              []      NaN        0      2        0        0   \n",
       "23266   [mes enfants]      NaN        2      0        0        0   \n",
       "...               ...      ...      ...    ...      ...      ...   \n",
       "717340             []      NaN        0      2        0        0   \n",
       "743007             []      NaN        0      2        0        0   \n",
       "754423  [nos enfants]      NaN        1      0        1        0   \n",
       "759005             []      NaN        0      2        0        0   \n",
       "783030             []      NaN        0      1        0        0   \n",
       "\n",
       "                                                     docs  \\\n",
       "1220    (posséder, beau, volume, leçon, physiologie, m...   \n",
       "7208    (bien, plaisir, demande, rayer, mieux, imiter,...   \n",
       "7780    (moloch, exiger, richesse, capitaliser, dévore...   \n",
       "11708   (irréligion, scepticisme, descendre, haut, voi...   \n",
       "23266   (annule, acte, état, civil, femme, déclarer, e...   \n",
       "...                                                   ...   \n",
       "717340  (européen, défaire, milice, publier, moniteur,...   \n",
       "743007  (demande, parole, parler, scandale, venir, lie...   \n",
       "754423  (objet, merveilleux, utile, solliciter, curios...   \n",
       "759005  (beni, griller, cuisse, sauterelle, grignote, ...   \n",
       "783030  (italie, morceler, venir, bout, bout, voir, te...   \n",
       "\n",
       "                                                   topics  \n",
       "1220    {6: 0.40202274918556213, 7: 0.3177270889282226...  \n",
       "7208    {7: 0.5765165686607361, 6: 0.419906347990036, ...  \n",
       "7780    {7: 0.42123547196388245, 6: 0.2074756771326065...  \n",
       "11708   {0: 0.33924973011016846, 7: 0.3085785806179046...  \n",
       "23266   {7: 0.47355887293815613, 6: 0.2495788335800171...  \n",
       "...                                                   ...  \n",
       "717340  {7: 0.5001457333564758, 6: 0.22253844141960144...  \n",
       "743007  {6: 0.5023974180221558, 7: 0.20796357095241547...  \n",
       "754423  {7: 0.595535159111023, 6: 0.3659076690673828, ...  \n",
       "759005  {2: 0.44976237416267395, 6: 0.2220492511987686...  \n",
       "783030  {6: 0.4808861315250397, 7: 0.23660340905189514...  \n",
       "\n",
       "[175 rows x 20 columns]"
      ]
     },
     "execution_count": 422,
     "metadata": {},
     "output_type": "execute_result"
    }
   ],
   "source": [
    "BERTDfFiltered[BERTDfFiltered.topics.apply(lambda x : x.get(6)>0.2)]"
   ]
  },
  {
   "cell_type": "code",
   "execution_count": 286,
   "id": "9f93b977",
   "metadata": {},
   "outputs": [
    {
     "data": {
      "text/plain": [
       "<AxesSubplot:ylabel='Frequency'>"
      ]
     },
     "execution_count": 286,
     "metadata": {},
     "output_type": "execute_result"
    },
    {
     "data": {
      "image/png": "[encoded data removed]",
      "text/plain": [
       "<Figure size 640x480 with 1 Axes>"
      ]
     },
     "metadata": {},
     "output_type": "display_data"
    }
   ],
   "source": [
    "BERTDf[(BERTDf.timeMention.apply(len)>0)&(BERTDf.futVerb>0)].futVerb.plot.hist(logy=True,bins=13)"
   ]
  },
  {
   "cell_type": "code",
   "execution_count": 465,
   "id": "a918b466",
   "metadata": {},
   "outputs": [
    {
     "data": {
      "text/plain": [
       "1869"
      ]
     },
     "execution_count": 465,
     "metadata": {},
     "output_type": "execute_result"
    }
   ],
   "source": [
    "len(corpus)"
   ]
  },
  {
   "cell_type": "code",
   "execution_count": null,
   "id": "7bf4e62d",
   "metadata": {},
   "outputs": [],
   "source": []
  }
 ],
 "metadata": {
  "kernelspec": {
   "display_name": "Python 3 (ipykernel)",
   "language": "python",
   "name": "python3"
  },
  "language_info": {
   "codemirror_mode": {
    "name": "ipython",
    "version": 3
   },
   "file_extension": ".py",
   "mimetype": "text/x-python",
   "name": "python",
   "nbconvert_exporter": "python",
   "pygments_lexer": "ipython3",
   "version": "3.9.13"
  }
 },
 "nbformat": 4,
 "nbformat_minor": 5
}
